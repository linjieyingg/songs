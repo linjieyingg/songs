{
 "cells": [
  {
   "cell_type": "code",
   "execution_count": 1,
   "metadata": {},
   "outputs": [],
   "source": [
    "import os\n",
    "os.chdir(\"..\")"
   ]
  },
  {
   "cell_type": "code",
   "execution_count": 2,
   "metadata": {},
   "outputs": [],
   "source": [
    "import django\n",
    "# In case that we need it later\n",
    "# from django.conf import settings\n",
    "os.environ.setdefault('DJANGO_SETTINGS_MODULE',\n",
    "'mimuse.settings')\n",
    "# This is for async, in case we will see it later (maybe)\n",
    "os.environ[\"DJANGO_ALLOW_ASYNC_UNSAFE\"] = \"true\"\n",
    "django.setup()\n"
   ]
  },
  {
   "cell_type": "code",
   "execution_count": 3,
   "metadata": {},
   "outputs": [],
   "source": [
    "import json\n",
    "import http.client\n",
    "from songs.models import Song, Album\n",
    "from artists.models import Artist\n",
    "from datetime import datetime"
   ]
  },
  {
   "cell_type": "code",
   "execution_count": 14,
   "metadata": {},
   "outputs": [],
   "source": [
    "import http.client\n",
    "\n",
    "conn = http.client.HTTPSConnection(\"spotify23.p.rapidapi.com\")\n",
    "\n",
    "headers = {\n",
    "    'X-RapidAPI-Key': \"2173464f0bmsh087f6a414d24270p11a1f5jsn1ae2008c92ce\",\n",
    "    'X-RapidAPI-Host': \"spotify23.p.rapidapi.com\"\n",
    "}\n",
    "\n",
    "conn.request(\"GET\", \"/artists/?ids=2AfmfGFbe0A0WsTYm0SDTx\", headers=headers)\n",
    "\n",
    "res = conn.getresponse()\n",
    "data = json.loads(res.read().decode('utf-8'))\n",
    "\n",
    "# print(data)"
   ]
  },
  {
   "cell_type": "code",
   "execution_count": 17,
   "metadata": {},
   "outputs": [
    {
     "name": "stdout",
     "output_type": "stream",
     "text": [
      "{'external_urls': {'spotify': 'https://open.spotify.com/artist/2AfmfGFbe0A0WsTYm0SDTx'}, 'followers': {'href': None, 'total': 8267304}, 'genres': ['k-pop girl group'], 'id': '2AfmfGFbe0A0WsTYm0SDTx', 'images': [{'height': 640, 'url': 'https://i.scdn.co/image/ab6761610000e5eb8abd5f97fc52561939ebbc89', 'width': 640}, {'height': 320, 'url': 'https://i.scdn.co/image/ab676161000051748abd5f97fc52561939ebbc89', 'width': 320}, {'height': 160, 'url': 'https://i.scdn.co/image/ab6761610000f1788abd5f97fc52561939ebbc89', 'width': 160}], 'name': '(G)I-DLE', 'popularity': 74, 'type': 'artist', 'uri': 'spotify:artist:2AfmfGFbe0A0WsTYm0SDTx'}\n"
     ]
    }
   ],
   "source": [
    "\n",
    "print(data['artists'][0])\n",
    "data = data['artists'][0]\n",
    "print(data)\n",
    "reference = Artist(api_id=data['id'], name=data['name'], followers=data['followers']['total'], popularity=data['popularity'], )"
   ]
  }
 ],
 "metadata": {
  "kernelspec": {
   "display_name": "Python 3",
   "language": "python",
   "name": "python3"
  },
  "language_info": {
   "codemirror_mode": {
    "name": "ipython",
    "version": 3
   },
   "file_extension": ".py",
   "mimetype": "text/x-python",
   "name": "python",
   "nbconvert_exporter": "python",
   "pygments_lexer": "ipython3",
   "version": "3.11.5"
  }
 },
 "nbformat": 4,
 "nbformat_minor": 2
}
