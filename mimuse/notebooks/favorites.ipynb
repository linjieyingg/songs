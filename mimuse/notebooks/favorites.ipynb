{
 "cells": [
  {
   "cell_type": "code",
   "execution_count": 2,
   "metadata": {},
   "outputs": [],
   "source": [
    "import os\n",
    "os.chdir(\"..\")"
   ]
  },
  {
   "cell_type": "code",
   "execution_count": 3,
   "metadata": {},
   "outputs": [],
   "source": [
    "import django\n",
    "from django.conf import settings\n",
    "os.environ.setdefault('DJANGO_SETTINGS_MODULE', 'mimuse.settings')\n",
    "os.environ[\"DJANGO_ALLOW_ASYNC_UNSAFE\"] = \"true\"\n",
    "django.setup()"
   ]
  },
  {
   "cell_type": "code",
   "execution_count": 4,
   "metadata": {},
   "outputs": [],
   "source": [
    "import json\n",
    "import http.client\n",
    "\n",
    "from songs.models import Song"
   ]
  },
  {
   "cell_type": "code",
   "execution_count": 5,
   "metadata": {},
   "outputs": [
    {
     "name": "stdout",
     "output_type": "stream",
     "text": [
      "{\"tracks\":[{\"album\":{\"album_type\":\"single\",\"artists\":[{\"external_urls\":{\"spotify\":\"https:\\/\\/open.spotify.com\\/artist\\/3t8WiyalpvnB9AObcMufiE\"},\"id\":\"3t8WiyalpvnB9AObcMufiE\",\"name\":\"Mahmut Orhan\",\"type\":\"artist\",\"uri\":\"spotify:artist:3t8WiyalpvnB9AObcMufiE\"},{\"external_urls\":{\"spotify\":\"https:\\/\\/open.spotify.com\\/artist\\/40Hr91B6wn9pO83Gj0JMrP\"},\"id\":\"40Hr91B6wn9pO83Gj0JMrP\",\"name\":\"Ali Arutan\",\"type\":\"artist\",\"uri\":\"spotify:artist:40Hr91B6wn9pO83Gj0JMrP\"},{\"external_urls\":{\"spotify\":\"https:\\/\\/open.spotify.com\\/artist\\/5xkqotsRPu6KQ4PiWjSGQf\"},\"id\":\"5xkqotsRPu6KQ4PiWjSGQf\",\"name\":\"Selin\",\"type\":\"artist\",\"uri\":\"spotify:artist:5xkqotsRPu6KQ4PiWjSGQf\"}],\"external_urls\":{\"spotify\":\"https:\\/\\/open.spotify.com\\/album\\/1B68g8b4wpedNDvvQLAoCe\"},\"id\":\"1B68g8b4wpedNDvvQLAoCe\",\"images\":[{\"height\":640,\"url\":\"https:\\/\\/i.scdn.co\\/image\\/ab67616d0000b273fa258529452f4ed34cc961b1\",\"width\":640},{\"height\":300,\"url\":\"https:\\/\\/i.scdn.co\\/image\\/ab67616d00001e02fa258529452f4ed34cc961b1\",\"width\":300},{\"height\":64,\"url\":\"https:\\/\\/i.scdn.co\\/image\\/ab67616d00004851fa258529452f4ed34cc961b1\",\"width\":64}],\"is_playable\":true,\"name\":\"In Control (feat. Selin)\",\"release_date\":\"2020-10-30\",\"release_date_precision\":\"day\",\"total_tracks\":1,\"type\":\"album\",\"uri\":\"spotify:album:1B68g8b4wpedNDvvQLAoCe\"},\"artists\":[{\"external_urls\":{\"spotify\":\"https:\\/\\/open.spotify.com\\/artist\\/3t8WiyalpvnB9AObcMufiE\"},\"id\":\"3t8WiyalpvnB9AObcMufiE\",\"name\":\"Mahmut Orhan\",\"type\":\"artist\",\"uri\":\"spotify:artist:3t8WiyalpvnB9AObcMufiE\"},{\"external_urls\":{\"spotify\":\"https:\\/\\/open.spotify.com\\/artist\\/40Hr91B6wn9pO83Gj0JMrP\"},\"id\":\"40Hr91B6wn9pO83Gj0JMrP\",\"name\":\"Ali Arutan\",\"type\":\"artist\",\"uri\":\"spotify:artist:40Hr91B6wn9pO83Gj0JMrP\"},{\"external_urls\":{\"spotify\":\"https:\\/\\/open.spotify.com\\/artist\\/5xkqotsRPu6KQ4PiWjSGQf\"},\"id\":\"5xkqotsRPu6KQ4PiWjSGQf\",\"name\":\"Selin\",\"type\":\"artist\",\"uri\":\"spotify:artist:5xkqotsRPu6KQ4PiWjSGQf\"}],\"disc_number\":1,\"duration_ms\":179232,\"explicit\":false,\"external_ids\":{\"isrc\":\"USUS12000579\"},\"external_urls\":{\"spotify\":\"https:\\/\\/open.spotify.com\\/track\\/1JDwfM6fzE7HtRukcJSZDd\"},\"id\":\"1JDwfM6fzE7HtRukcJSZDd\",\"is_local\":false,\"is_playable\":true,\"linked_from\":{\"external_urls\":{\"spotify\":\"https:\\/\\/open.spotify.com\\/track\\/4WNcduiCmDNfmTEz7JvmLv\"},\"id\":\"4WNcduiCmDNfmTEz7JvmLv\",\"type\":\"track\",\"uri\":\"spotify:track:4WNcduiCmDNfmTEz7JvmLv\"},\"name\":\"In Control (feat. Selin)\",\"popularity\":55,\"preview_url\":\"https:\\/\\/p.scdn.co\\/mp3-preview\\/1d53b96abb564f9ba08427c3c5361dd8fbe72f7d?cid=d8a5ed958d274c2e8ee717e6a4b0971d\",\"track_number\":1,\"type\":\"track\",\"uri\":\"spotify:track:1JDwfM6fzE7HtRukcJSZDd\"}]}\n"
     ]
    }
   ],
   "source": [
    "conn = http.client.HTTPSConnection(\"spotify23.p.rapidapi.com\")\n",
    "\n",
    "headers = {\n",
    "    'X-RapidAPI-Key': \"6e75800c20msh1e3b52b20821a7dp1194edjsn5afc9a2de8d4\",\n",
    "    'X-RapidAPI-Host': \"spotify23.p.rapidapi.com\"\n",
    "}\n",
    "\n",
    "conn.request(\"GET\", \"/tracks/?ids=4WNcduiCmDNfmTEz7JvmLv\", headers=headers)\n",
    "\n",
    "res = conn.getresponse()\n",
    "data = res.read()\n",
    "\n",
    "print(data.decode(\"utf-8\"))"
   ]
  },
  {
   "cell_type": "code",
   "execution_count": 6,
   "metadata": {},
   "outputs": [
    {
     "name": "stdout",
     "output_type": "stream",
     "text": [
      "[]\n"
     ]
    }
   ],
   "source": [
    "favorites_list = []\n",
    "data = Song.objects.all()\n",
    "\n",
    "for i in data:\n",
    "    id = str(i)\n",
    "    song = Song.objects.get(api_id=id)\n",
    "    if song.favorite == True:\n",
    "        favorites_list.append(song.api_id)\n",
    "\n",
    "print(favorites_list)"
   ]
  }
 ],
 "metadata": {
  "kernelspec": {
   "display_name": "env_3.11.5",
   "language": "python",
   "name": "python3"
  },
  "language_info": {
   "codemirror_mode": {
    "name": "ipython",
    "version": 3
   },
   "file_extension": ".py",
   "mimetype": "text/x-python",
   "name": "python",
   "nbconvert_exporter": "python",
   "pygments_lexer": "ipython3",
   "version": "3.9.6"
  }
 },
 "nbformat": 4,
 "nbformat_minor": 2
}
