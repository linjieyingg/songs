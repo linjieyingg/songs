{
 "cells": [
  {
   "cell_type": "code",
   "execution_count": 1,
   "metadata": {},
   "outputs": [],
   "source": [
    "import os\n",
    "os.chdir(\"..\")"
   ]
  },
  {
   "cell_type": "code",
   "execution_count": 2,
   "metadata": {},
   "outputs": [],
   "source": [
    "import django\n",
    "# In case that we need it later\n",
    "# from django.conf import settings\n",
    "os.environ.setdefault('DJANGO_SETTINGS_MODULE',\n",
    "'mimuse.settings')\n",
    "# This is for async, in case we will see it later (maybe)\n",
    "os.environ[\"DJANGO_ALLOW_ASYNC_UNSAFE\"] = \"true\"\n",
    "django.setup()\n"
   ]
  },
  {
   "cell_type": "code",
   "execution_count": 3,
   "metadata": {},
   "outputs": [],
   "source": [
    "import json\n",
    "import http.client\n",
    "from songs.models import Song, Album\n",
    "from artists.models import Artist\n",
    "from datetime import datetime"
   ]
  },
  {
   "cell_type": "code",
   "execution_count": 4,
   "metadata": {},
   "outputs": [
    {
     "data": {
      "text/plain": [
       "(0, {})"
      ]
     },
     "execution_count": 4,
     "metadata": {},
     "output_type": "execute_result"
    }
   ],
   "source": [
    "Song.objects.all().delete()"
   ]
  },
  {
   "cell_type": "code",
   "execution_count": 71,
   "metadata": {},
   "outputs": [],
   "source": [
    "import http.client\n",
    "\n",
    "conn = http.client.HTTPSConnection(\"spotify23.p.rapidapi.com\")\n",
    "\n",
    "headers = {\n",
    "    'X-RapidAPI-Key': \"82ce6fe0f2msh1b1cfd285dbcc80p1b3260jsn6c515c923b86\",\n",
    "    'X-RapidAPI-Host': \"spotify23.p.rapidapi.com\"\n",
    "}\n",
    "\n",
    "conn.request(\"GET\", \"/recommendations/?limit=20&seed_tracks=38MKW2tQHtyO8djIOKlEFF\", headers=headers)\n",
    "\n",
    "res = conn.getresponse()\n",
    "data = json.loads(res.read().decode(\"utf-8\"))\n",
    "\n",
    "# print(data.decode(\"utf-8\"))"
   ]
  },
  {
   "cell_type": "code",
   "execution_count": 72,
   "metadata": {},
   "outputs": [],
   "source": [
    "song_list = list()\n",
    "\n",
    "track = data['tracks']\n",
    "for song in data['tracks']:\n",
    "    # print(song['album']['release_date'])\n",
    "    if(song['album']['release_date_precision']==\"day\"):\n",
    "        song_list.append(Song(api_id=song['id'], title = song['name'], preview_url= song['preview_url'], release_date= song['album']['release_date'], popularity=song['popularity']))\n",
    "    else:\n",
    "        song_list.append(Song(api_id=song['id'], title = song['name'], preview_url= song['preview_url'], popularity=song['popularity']))\n",
    "    # print (song)\n",
    "# print(song_list)\n",
    "bulk = Song.objects.bulk_create(song_list)"
   ]
  },
  {
   "cell_type": "code",
   "execution_count": null,
   "metadata": {},
   "outputs": [],
   "source": [
    "for song in data['tracks']:\n",
    "    print(song)\n",
    "    id = str(song['artists'][0]['id'])\n",
    "    song_id = song['id']\n",
    "    print(song_id)\n",
    "    if Artist.objects.filter(api_id=id).exists():\n",
    "        print('Developer msg: data already exists in database')\n",
    "        continue\n",
    "    else:\n",
    "        conn.request(\"GET\", \"/artists/?ids={id}\".format(\n",
    "                        id=id), headers=headers)\n",
    "        res = conn.getresponse()\n",
    "        datas = json.loads(res.read().decode('utf-8'))['artists'][0]\n",
    "        artist = Artist(api_id=id, name = datas['name'], popularity=datas['popularity'], image=datas['images'][0]['url'], followers=datas['followers']['total'])\n",
    "        artist.save()\n",
    "        song_id = song['id']\n",
    "        this_song = Song.objects.get(api_id=song_id)\n",
    "        print(this_song)\n",
    "        artist.songs.add(this_song)\n",
    "        artist.save()\n",
    "\n"
   ]
  },
  {
   "cell_type": "code",
   "execution_count": 75,
   "metadata": {},
   "outputs": [
    {
     "data": {
      "text/plain": [
       "<Song: Song object (51)>"
      ]
     },
     "execution_count": 75,
     "metadata": {},
     "output_type": "execute_result"
    }
   ],
   "source": [
    "Song.objects.get(api_id='2CxgY4VvTNA0bG2nVtmgPg')\n"
   ]
  },
  {
   "cell_type": "code",
   "execution_count": null,
   "metadata": {},
   "outputs": [],
   "source": [
    "for artist in Artist.objects.all():\n",
    "    print(artist.songs)"
   ]
  },
  {
   "cell_type": "code",
   "execution_count": null,
   "metadata": {},
   "outputs": [],
   "source": [
    "## get artist singles\n",
    "for artist in Artist.objects.all():\n",
    "    api_id = artist.api_id\n",
    "\n",
    "    conn = http.client.HTTPSConnection(\"spotify23.p.rapidapi.com\")\n",
    "\n",
    "    headers = {\n",
    "        'X-RapidAPI-Key': \"82ce6fe0f2msh1b1cfd285dbcc80p1b3260jsn6c515c923b86\",\n",
    "        'X-RapidAPI-Host': \"spotify23.p.rapidapi.com\"\n",
    "    }\n",
    "\n",
    "    conn.request(\"GET\", \"/artist_singles/?id={api_id}\".format(api_id=api_id), headers=headers)\n",
    "\n",
    "    res = conn.getresponse()\n",
    "    singles = json.loads(res.read().decode('utf-8'))['data']['artist']['discography']['singles']['items']\n",
    "    for single in singles \n",
    "        id = single['releases']['items'][0]['id']\n",
    "        if Song.objects.filter(api_id=id).exists():\n",
    "            continue\n",
    "        else:\n",
    "            song_record = Song(api_id=id)\n",
    "            conn.request(\"GET\", \"/tracks/?ids=id\".format(id=id), headers=headers)\n",
    "\n",
    "            res = conn.getresponse()\n",
    "            song_info = json.loads(res.read().decode(\"utf-8\"))['tracks'][0]\n",
    "            song_record.save()\n",
    "            song_artist = Artist.objects.get(api_id=api_id)\n",
    "            song_artist.songs.add(song_record)\n",
    "            song_artist.save()\n"
   ]
  }
 ],
 "metadata": {
  "kernelspec": {
   "display_name": "Python 3 (ipykernel)",
   "language": "python",
   "name": "python3"
  },
  "language_info": {
   "codemirror_mode": {
    "name": "ipython",
    "version": 3
   },
   "file_extension": ".py",
   "mimetype": "text/x-python",
   "name": "python",
   "nbconvert_exporter": "python",
   "pygments_lexer": "ipython3",
   "version": "3.11.5"
  }
 },
 "nbformat": 4,
 "nbformat_minor": 4
}
