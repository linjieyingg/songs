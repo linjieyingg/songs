{
 "cells": [
  {
   "cell_type": "code",
   "execution_count": 1,
   "metadata": {},
   "outputs": [],
   "source": [
    "import os\n",
    "os.chdir(\"..\")"
   ]
  },
  {
   "cell_type": "code",
   "execution_count": 2,
   "metadata": {},
   "outputs": [],
   "source": [
    "import django\n",
    "# In case that we need it later\n",
    "# from django.conf import settings\n",
    "os.environ.setdefault('DJANGO_SETTINGS_MODULE',\n",
    "'mimuse.settings')\n",
    "# This is for async, in case we will see it later (maybe)\n",
    "os.environ[\"DJANGO_ALLOW_ASYNC_UNSAFE\"] = \"true\"\n",
    "django.setup()\n"
   ]
  },
  {
   "cell_type": "code",
   "execution_count": 3,
   "metadata": {},
   "outputs": [],
   "source": [
    "import json\n",
    "import http.client\n",
    "from songs.models import Song, Album\n",
    "from artists.models import Artist\n",
    "from datetime import datetime"
   ]
  },
  {
   "cell_type": "code",
   "execution_count": 4,
   "metadata": {},
   "outputs": [],
   "source": [
    "import http.client\n",
    "\n",
    "conn = http.client.HTTPSConnection(\"spotify23.p.rapidapi.com\")\n",
    "\n",
    "headers = {\n",
    "    'X-RapidAPI-Key': \"208491c007msh75bd41f34ef037fp1815aejsn15b1bb64cbfe\",\n",
    "    'X-RapidAPI-Host': \"spotify23.p.rapidapi.com\"\n",
    "}\n",
    "\n",
    "conn.request(\"GET\", \"/recommendations/?limit=5&seed_tracks=38MKW2tQHtyO8djIOKlEFF\", headers=headers)\n",
    "\n",
    "res = conn.getresponse()\n",
    "data = json.loads(res.read().decode(\"utf-8\"))\n",
    "\n",
    "# print(data.decode(\"utf-8\"))"
   ]
  },
  {
   "cell_type": "code",
   "execution_count": 5,
   "metadata": {},
   "outputs": [],
   "source": [
    "song_list = list()\n",
    "\n",
    "track = data['tracks']\n",
    "for song in data['tracks']:\n",
    "    # print(song['album']['release_date'])\n",
    "    if(song['album']['release_date_precision']==\"day\"):\n",
    "        song_list.append(Song(api_id=song['id'], title = song['name'], preview_url= song['preview_url'], release_date= song['album']['release_date'], popularity=song['popularity']))\n",
    "    else:\n",
    "        song_list.append(Song(api_id=song['id'], title = song['name'], preview_url= song['preview_url'], popularity=song['popularity']))\n",
    "    # print (song)\n",
    "# print(song_list)\n",
    "bulk = Song.objects.bulk_create(song_list)"
   ]
  },
  {
   "cell_type": "code",
   "execution_count": 6,
   "metadata": {},
   "outputs": [
    {
     "name": "stdout",
     "output_type": "stream",
     "text": [
      "{'album': {'album_type': 'SINGLE', 'artists': [{'external_urls': {'spotify': 'https://open.spotify.com/artist/0XATRDCYuuGhk0oE7C0o5G'}, 'id': '0XATRDCYuuGhk0oE7C0o5G', 'name': 'MAMAMOO', 'type': 'artist', 'uri': 'spotify:artist:0XATRDCYuuGhk0oE7C0o5G'}], 'available_markets': ['AR', 'AU', 'AT', 'BE', 'BO', 'BR', 'BG', 'CA', 'CL', 'CO', 'CR', 'CY', 'CZ', 'DK', 'DO', 'DE', 'EC', 'EE', 'SV', 'FI', 'FR', 'GR', 'GT', 'HN', 'HK', 'HU', 'IS', 'IE', 'IT', 'LV', 'LT', 'LU', 'MY', 'MT', 'MX', 'NL', 'NZ', 'NI', 'NO', 'PA', 'PY', 'PE', 'PH', 'PL', 'PT', 'SG', 'SK', 'ES', 'SE', 'CH', 'TW', 'TR', 'UY', 'US', 'GB', 'AD', 'LI', 'MC', 'ID', 'TH', 'VN', 'RO', 'IL', 'ZA', 'SA', 'AE', 'BH', 'QA', 'OM', 'KW', 'EG', 'MA', 'DZ', 'TN', 'LB', 'JO', 'PS', 'IN', 'BY', 'KZ', 'MD', 'UA', 'AL', 'BA', 'HR', 'ME', 'MK', 'RS', 'SI', 'KR', 'BD', 'PK', 'LK', 'GH', 'KE', 'NG', 'TZ', 'UG', 'AG', 'AM', 'BS', 'BB', 'BZ', 'BT', 'BW', 'BF', 'CV', 'CW', 'DM', 'FJ', 'GM', 'GE', 'GD', 'GW', 'GY', 'HT', 'JM', 'KI', 'LS', 'LR', 'MW', 'MV', 'ML', 'MH', 'FM', 'NA', 'NR', 'NE', 'PW', 'PG', 'WS', 'SM', 'ST', 'SN', 'SC', 'SL', 'SB', 'KN', 'LC', 'VC', 'SR', 'TL', 'TO', 'TT', 'TV', 'VU', 'AZ', 'BN', 'BI', 'KH', 'CM', 'TD', 'KM', 'GQ', 'SZ', 'GA', 'GN', 'KG', 'LA', 'MO', 'MR', 'MN', 'NP', 'RW', 'TG', 'UZ', 'ZW', 'BJ', 'MG', 'MU', 'MZ', 'AO', 'CI', 'DJ', 'ZM', 'CD', 'CG', 'IQ', 'LY', 'TJ', 'VE', 'ET', 'XK'], 'external_urls': {'spotify': 'https://open.spotify.com/album/3xje7wSW2xwQx2GNJ5cfNu'}, 'id': '3xje7wSW2xwQx2GNJ5cfNu', 'images': [{'height': 640, 'url': 'https://i.scdn.co/image/ab67616d0000b2731cc469da4da1bccfa16867be', 'width': 640}, {'height': 300, 'url': 'https://i.scdn.co/image/ab67616d00001e021cc469da4da1bccfa16867be', 'width': 300}, {'height': 64, 'url': 'https://i.scdn.co/image/ab67616d000048511cc469da4da1bccfa16867be', 'width': 64}], 'name': 'TRAVEL', 'release_date': '2020-11-03', 'release_date_precision': 'day', 'total_tracks': 5, 'type': 'album', 'uri': 'spotify:album:3xje7wSW2xwQx2GNJ5cfNu'}, 'artists': [{'external_urls': {'spotify': 'https://open.spotify.com/artist/0XATRDCYuuGhk0oE7C0o5G'}, 'id': '0XATRDCYuuGhk0oE7C0o5G', 'name': 'MAMAMOO', 'type': 'artist', 'uri': 'spotify:artist:0XATRDCYuuGhk0oE7C0o5G'}], 'available_markets': ['AR', 'AU', 'AT', 'BE', 'BO', 'BR', 'BG', 'CA', 'CL', 'CO', 'CR', 'CY', 'CZ', 'DK', 'DO', 'DE', 'EC', 'EE', 'SV', 'FI', 'FR', 'GR', 'GT', 'HN', 'HK', 'HU', 'IS', 'IE', 'IT', 'LV', 'LT', 'LU', 'MY', 'MT', 'MX', 'NL', 'NZ', 'NI', 'NO', 'PA', 'PY', 'PE', 'PH', 'PL', 'PT', 'SG', 'SK', 'ES', 'SE', 'CH', 'TW', 'TR', 'UY', 'US', 'GB', 'AD', 'LI', 'MC', 'ID', 'TH', 'VN', 'RO', 'IL', 'ZA', 'SA', 'AE', 'BH', 'QA', 'OM', 'KW', 'EG', 'MA', 'DZ', 'TN', 'LB', 'JO', 'PS', 'IN', 'BY', 'KZ', 'MD', 'UA', 'AL', 'BA', 'HR', 'ME', 'MK', 'RS', 'SI', 'KR', 'BD', 'PK', 'LK', 'GH', 'KE', 'NG', 'TZ', 'UG', 'AG', 'AM', 'BS', 'BB', 'BZ', 'BT', 'BW', 'BF', 'CV', 'CW', 'DM', 'FJ', 'GM', 'GE', 'GD', 'GW', 'GY', 'HT', 'JM', 'KI', 'LS', 'LR', 'MW', 'MV', 'ML', 'MH', 'FM', 'NA', 'NR', 'NE', 'PW', 'PG', 'WS', 'SM', 'ST', 'SN', 'SC', 'SL', 'SB', 'KN', 'LC', 'VC', 'SR', 'TL', 'TO', 'TT', 'TV', 'VU', 'AZ', 'BN', 'BI', 'KH', 'CM', 'TD', 'KM', 'GQ', 'SZ', 'GA', 'GN', 'KG', 'LA', 'MO', 'MR', 'MN', 'NP', 'RW', 'TG', 'UZ', 'ZW', 'BJ', 'MG', 'MU', 'MZ', 'AO', 'CI', 'DJ', 'ZM', 'CD', 'CG', 'IQ', 'LY', 'TJ', 'VE', 'ET', 'XK'], 'disc_number': 1, 'duration_ms': 211280, 'explicit': False, 'external_ids': {'isrc': 'KRA382006215'}, 'external_urls': {'spotify': 'https://open.spotify.com/track/4BZXVFYCb76Q0Klojq4piV'}, 'id': '4BZXVFYCb76Q0Klojq4piV', 'is_local': False, 'name': 'AYA', 'popularity': 62, 'preview_url': 'https://p.scdn.co/mp3-preview/f535eb7f572e8c602e77713d5c9383cb9dbf0012?cid=d8a5ed958d274c2e8ee717e6a4b0971d', 'track_number': 2, 'type': 'track', 'uri': 'spotify:track:4BZXVFYCb76Q0Klojq4piV'}\n",
      "4BZXVFYCb76Q0Klojq4piV\n",
      "Song object (512)\n",
      "{'album': {'album_type': 'SINGLE', 'artists': [{'external_urls': {'spotify': 'https://open.spotify.com/artist/0qr7Rhj0yU7BPySYecNUlm'}, 'id': '0qr7Rhj0yU7BPySYecNUlm', 'name': 'KWON EUNBI', 'type': 'artist', 'uri': 'spotify:artist:0qr7Rhj0yU7BPySYecNUlm'}], 'available_markets': ['AR', 'AU', 'AT', 'BE', 'BO', 'BR', 'BG', 'CA', 'CL', 'CO', 'CR', 'CY', 'CZ', 'DK', 'DO', 'DE', 'EC', 'EE', 'SV', 'FI', 'FR', 'GR', 'GT', 'HN', 'HK', 'HU', 'IS', 'IE', 'IT', 'LV', 'LT', 'LU', 'MY', 'MT', 'MX', 'NL', 'NZ', 'NI', 'NO', 'PA', 'PY', 'PE', 'PH', 'PL', 'PT', 'SG', 'SK', 'ES', 'SE', 'CH', 'TW', 'TR', 'UY', 'US', 'GB', 'AD', 'LI', 'MC', 'ID', 'JP', 'TH', 'VN', 'RO', 'IL', 'ZA', 'SA', 'AE', 'BH', 'QA', 'OM', 'KW', 'EG', 'MA', 'DZ', 'TN', 'LB', 'JO', 'PS', 'IN', 'BY', 'KZ', 'MD', 'UA', 'AL', 'BA', 'HR', 'ME', 'MK', 'RS', 'SI', 'KR', 'BD', 'PK', 'LK', 'GH', 'KE', 'NG', 'TZ', 'UG', 'AG', 'AM', 'BS', 'BB', 'BZ', 'BT', 'BW', 'BF', 'CV', 'CW', 'DM', 'FJ', 'GM', 'GE', 'GD', 'GW', 'GY', 'HT', 'JM', 'KI', 'LS', 'LR', 'MW', 'MV', 'ML', 'MH', 'FM', 'NA', 'NR', 'NE', 'PW', 'PG', 'WS', 'SM', 'ST', 'SN', 'SC', 'SL', 'SB', 'KN', 'LC', 'VC', 'SR', 'TL', 'TO', 'TT', 'TV', 'VU', 'AZ', 'BN', 'BI', 'KH', 'CM', 'TD', 'KM', 'GQ', 'SZ', 'GA', 'GN', 'KG', 'LA', 'MO', 'MR', 'MN', 'NP', 'RW', 'TG', 'UZ', 'ZW', 'BJ', 'MG', 'MU', 'MZ', 'AO', 'CI', 'DJ', 'ZM', 'CD', 'CG', 'IQ', 'LY', 'TJ', 'VE', 'ET', 'XK'], 'external_urls': {'spotify': 'https://open.spotify.com/album/10NFGCJ5fzJwMadKyBcqfr'}, 'id': '10NFGCJ5fzJwMadKyBcqfr', 'images': [{'height': 640, 'url': 'https://i.scdn.co/image/ab67616d0000b2739d82134e7954987dddfdcaab', 'width': 640}, {'height': 300, 'url': 'https://i.scdn.co/image/ab67616d00001e029d82134e7954987dddfdcaab', 'width': 300}, {'height': 64, 'url': 'https://i.scdn.co/image/ab67616d000048519d82134e7954987dddfdcaab', 'width': 64}], 'name': 'The Flash', 'release_date': '2023-08-02', 'release_date_precision': 'day', 'total_tracks': 3, 'type': 'album', 'uri': 'spotify:album:10NFGCJ5fzJwMadKyBcqfr'}, 'artists': [{'external_urls': {'spotify': 'https://open.spotify.com/artist/0qr7Rhj0yU7BPySYecNUlm'}, 'id': '0qr7Rhj0yU7BPySYecNUlm', 'name': 'KWON EUNBI', 'type': 'artist', 'uri': 'spotify:artist:0qr7Rhj0yU7BPySYecNUlm'}], 'available_markets': ['AR', 'AU', 'AT', 'BE', 'BO', 'BR', 'BG', 'CA', 'CL', 'CO', 'CR', 'CY', 'CZ', 'DK', 'DO', 'DE', 'EC', 'EE', 'SV', 'FI', 'FR', 'GR', 'GT', 'HN', 'HK', 'HU', 'IS', 'IE', 'IT', 'LV', 'LT', 'LU', 'MY', 'MT', 'MX', 'NL', 'NZ', 'NI', 'NO', 'PA', 'PY', 'PE', 'PH', 'PL', 'PT', 'SG', 'SK', 'ES', 'SE', 'CH', 'TW', 'TR', 'UY', 'US', 'GB', 'AD', 'LI', 'MC', 'ID', 'JP', 'TH', 'VN', 'RO', 'IL', 'ZA', 'SA', 'AE', 'BH', 'QA', 'OM', 'KW', 'EG', 'MA', 'DZ', 'TN', 'LB', 'JO', 'PS', 'IN', 'BY', 'KZ', 'MD', 'UA', 'AL', 'BA', 'HR', 'ME', 'MK', 'RS', 'SI', 'KR', 'BD', 'PK', 'LK', 'GH', 'KE', 'NG', 'TZ', 'UG', 'AG', 'AM', 'BS', 'BB', 'BZ', 'BT', 'BW', 'BF', 'CV', 'CW', 'DM', 'FJ', 'GM', 'GE', 'GD', 'GW', 'GY', 'HT', 'JM', 'KI', 'LS', 'LR', 'MW', 'MV', 'ML', 'MH', 'FM', 'NA', 'NR', 'NE', 'PW', 'PG', 'WS', 'SM', 'ST', 'SN', 'SC', 'SL', 'SB', 'KN', 'LC', 'VC', 'SR', 'TL', 'TO', 'TT', 'TV', 'VU', 'AZ', 'BN', 'BI', 'KH', 'CM', 'TD', 'KM', 'GQ', 'SZ', 'GA', 'GN', 'KG', 'LA', 'MO', 'MR', 'MN', 'NP', 'RW', 'TG', 'UZ', 'ZW', 'BJ', 'MG', 'MU', 'MZ', 'AO', 'CI', 'DJ', 'ZM', 'CD', 'CG', 'IQ', 'LY', 'TJ', 'VE', 'ET', 'XK'], 'disc_number': 1, 'duration_ms': 213533, 'explicit': False, 'external_ids': {'isrc': 'KRA382319753'}, 'external_urls': {'spotify': 'https://open.spotify.com/track/43k24mAEnmPjVUDyOK27Ca'}, 'id': '43k24mAEnmPjVUDyOK27Ca', 'is_local': False, 'name': 'The Flash', 'popularity': 56, 'preview_url': 'https://p.scdn.co/mp3-preview/804f833ee604d5644add998394f536729acee5c1?cid=d8a5ed958d274c2e8ee717e6a4b0971d', 'track_number': 1, 'type': 'track', 'uri': 'spotify:track:43k24mAEnmPjVUDyOK27Ca'}\n",
      "43k24mAEnmPjVUDyOK27Ca\n",
      "Song object (513)\n",
      "{'album': {'album_type': 'SINGLE', 'artists': [{'external_urls': {'spotify': 'https://open.spotify.com/artist/3ZZzT0naD25RhY2uZvIKkJ'}, 'id': '3ZZzT0naD25RhY2uZvIKkJ', 'name': 'EVERGLOW', 'type': 'artist', 'uri': 'spotify:artist:3ZZzT0naD25RhY2uZvIKkJ'}], 'available_markets': ['AR', 'AU', 'AT', 'BE', 'BO', 'BR', 'BG', 'CA', 'CL', 'CO', 'CR', 'CY', 'CZ', 'DK', 'DO', 'DE', 'EC', 'EE', 'SV', 'FI', 'FR', 'GR', 'GT', 'HN', 'HK', 'HU', 'IS', 'IE', 'IT', 'LV', 'LT', 'LU', 'MY', 'MT', 'MX', 'NL', 'NZ', 'NI', 'NO', 'PA', 'PY', 'PE', 'PH', 'PL', 'PT', 'SG', 'SK', 'ES', 'SE', 'CH', 'TW', 'TR', 'UY', 'US', 'GB', 'AD', 'LI', 'MC', 'ID', 'JP', 'TH', 'VN', 'RO', 'IL', 'ZA', 'SA', 'AE', 'BH', 'QA', 'OM', 'KW', 'EG', 'MA', 'DZ', 'TN', 'LB', 'JO', 'PS', 'IN', 'BY', 'KZ', 'MD', 'UA', 'AL', 'BA', 'HR', 'ME', 'MK', 'RS', 'SI', 'KR', 'BD', 'PK', 'LK', 'GH', 'KE', 'NG', 'TZ', 'UG', 'AG', 'AM', 'BS', 'BB', 'BZ', 'BT', 'BW', 'BF', 'CV', 'CW', 'DM', 'FJ', 'GM', 'GE', 'GD', 'GW', 'GY', 'HT', 'JM', 'KI', 'LS', 'LR', 'MW', 'MV', 'ML', 'MH', 'FM', 'NA', 'NR', 'NE', 'PW', 'PG', 'WS', 'SM', 'ST', 'SN', 'SC', 'SL', 'SB', 'KN', 'LC', 'VC', 'SR', 'TL', 'TO', 'TT', 'TV', 'VU', 'AZ', 'BN', 'BI', 'KH', 'CM', 'TD', 'KM', 'GQ', 'SZ', 'GA', 'GN', 'KG', 'LA', 'MO', 'MR', 'MN', 'NP', 'RW', 'TG', 'UZ', 'ZW', 'BJ', 'MG', 'MU', 'MZ', 'AO', 'CI', 'DJ', 'ZM', 'CD', 'CG', 'IQ', 'LY', 'TJ', 'VE', 'ET', 'XK'], 'external_urls': {'spotify': 'https://open.spotify.com/album/4ZDUTnUO9CDFmwdCUCQ6dG'}, 'id': '4ZDUTnUO9CDFmwdCUCQ6dG', 'images': [{'height': 640, 'url': 'https://i.scdn.co/image/ab67616d0000b2738b191ce6dc0fbfd68bbb67b8', 'width': 640}, {'height': 300, 'url': 'https://i.scdn.co/image/ab67616d00001e028b191ce6dc0fbfd68bbb67b8', 'width': 300}, {'height': 64, 'url': 'https://i.scdn.co/image/ab67616d000048518b191ce6dc0fbfd68bbb67b8', 'width': 64}], 'name': 'Last Melody', 'release_date': '2021-05-25', 'release_date_precision': 'day', 'total_tracks': 3, 'type': 'album', 'uri': 'spotify:album:4ZDUTnUO9CDFmwdCUCQ6dG'}, 'artists': [{'external_urls': {'spotify': 'https://open.spotify.com/artist/3ZZzT0naD25RhY2uZvIKkJ'}, 'id': '3ZZzT0naD25RhY2uZvIKkJ', 'name': 'EVERGLOW', 'type': 'artist', 'uri': 'spotify:artist:3ZZzT0naD25RhY2uZvIKkJ'}], 'available_markets': ['AR', 'AU', 'AT', 'BE', 'BO', 'BR', 'BG', 'CA', 'CL', 'CO', 'CR', 'CY', 'CZ', 'DK', 'DO', 'DE', 'EC', 'EE', 'SV', 'FI', 'FR', 'GR', 'GT', 'HN', 'HK', 'HU', 'IS', 'IE', 'IT', 'LV', 'LT', 'LU', 'MY', 'MT', 'MX', 'NL', 'NZ', 'NI', 'NO', 'PA', 'PY', 'PE', 'PH', 'PL', 'PT', 'SG', 'SK', 'ES', 'SE', 'CH', 'TW', 'TR', 'UY', 'US', 'GB', 'AD', 'LI', 'MC', 'ID', 'JP', 'TH', 'VN', 'RO', 'IL', 'ZA', 'SA', 'AE', 'BH', 'QA', 'OM', 'KW', 'EG', 'MA', 'DZ', 'TN', 'LB', 'JO', 'PS', 'IN', 'BY', 'KZ', 'MD', 'UA', 'AL', 'BA', 'HR', 'ME', 'MK', 'RS', 'SI', 'KR', 'BD', 'PK', 'LK', 'GH', 'KE', 'NG', 'TZ', 'UG', 'AG', 'AM', 'BS', 'BB', 'BZ', 'BT', 'BW', 'BF', 'CV', 'CW', 'DM', 'FJ', 'GM', 'GE', 'GD', 'GW', 'GY', 'HT', 'JM', 'KI', 'LS', 'LR', 'MW', 'MV', 'ML', 'MH', 'FM', 'NA', 'NR', 'NE', 'PW', 'PG', 'WS', 'SM', 'ST', 'SN', 'SC', 'SL', 'SB', 'KN', 'LC', 'VC', 'SR', 'TL', 'TO', 'TT', 'TV', 'VU', 'AZ', 'BN', 'BI', 'KH', 'CM', 'TD', 'KM', 'GQ', 'SZ', 'GA', 'GN', 'KG', 'LA', 'MO', 'MR', 'MN', 'NP', 'RW', 'TG', 'UZ', 'ZW', 'BJ', 'MG', 'MU', 'MZ', 'AO', 'CI', 'DJ', 'ZM', 'CD', 'CG', 'IQ', 'LY', 'TJ', 'VE', 'ET', 'XK'], 'disc_number': 1, 'duration_ms': 212280, 'explicit': False, 'external_ids': {'isrc': 'KRMIM2120970'}, 'external_urls': {'spotify': 'https://open.spotify.com/track/021L6LlBBtr34BmFRHd9Ic'}, 'id': '021L6LlBBtr34BmFRHd9Ic', 'is_local': False, 'name': 'FIRST', 'popularity': 61, 'preview_url': 'https://p.scdn.co/mp3-preview/6ec0ff236203789538923f1acde85801bd71ef0c?cid=d8a5ed958d274c2e8ee717e6a4b0971d', 'track_number': 1, 'type': 'track', 'uri': 'spotify:track:021L6LlBBtr34BmFRHd9Ic'}\n",
      "021L6LlBBtr34BmFRHd9Ic\n",
      "Song object (514)\n",
      "{'album': {'album_type': 'ALBUM', 'artists': [{'external_urls': {'spotify': 'https://open.spotify.com/artist/2dIgFjalVxs4ThymZ67YCE'}, 'id': '2dIgFjalVxs4ThymZ67YCE', 'name': 'Stray Kids', 'type': 'artist', 'uri': 'spotify:artist:2dIgFjalVxs4ThymZ67YCE'}], 'available_markets': ['JP'], 'external_urls': {'spotify': 'https://open.spotify.com/album/5ZO7GSyxmHa2qwET9zsEe4'}, 'id': '5ZO7GSyxmHa2qwET9zsEe4', 'images': [{'height': 640, 'url': 'https://i.scdn.co/image/ab67616d0000b2735b4302992277074fa1fb552f', 'width': 640}, {'height': 300, 'url': 'https://i.scdn.co/image/ab67616d00001e025b4302992277074fa1fb552f', 'width': 300}, {'height': 64, 'url': 'https://i.scdn.co/image/ab67616d000048515b4302992277074fa1fb552f', 'width': 64}], 'name': '5-STAR', 'release_date': '2023-06-02', 'release_date_precision': 'day', 'total_tracks': 12, 'type': 'album', 'uri': 'spotify:album:5ZO7GSyxmHa2qwET9zsEe4'}, 'artists': [{'external_urls': {'spotify': 'https://open.spotify.com/artist/2dIgFjalVxs4ThymZ67YCE'}, 'id': '2dIgFjalVxs4ThymZ67YCE', 'name': 'Stray Kids', 'type': 'artist', 'uri': 'spotify:artist:2dIgFjalVxs4ThymZ67YCE'}], 'available_markets': ['JP'], 'disc_number': 1, 'duration_ms': 195688, 'explicit': False, 'external_ids': {'isrc': 'US5TA2300034'}, 'external_urls': {'spotify': 'https://open.spotify.com/track/6LuvVxHXQDtsPxtE07Ycbe'}, 'id': '6LuvVxHXQDtsPxtE07Ycbe', 'is_local': False, 'name': 'S-Class', 'popularity': 66, 'preview_url': 'https://p.scdn.co/mp3-preview/4ea586fdcc2c9aec34a18d2034d1dec78a3b5e25?cid=d8a5ed958d274c2e8ee717e6a4b0971d', 'track_number': 2, 'type': 'track', 'uri': 'spotify:track:6LuvVxHXQDtsPxtE07Ycbe'}\n",
      "6LuvVxHXQDtsPxtE07Ycbe\n",
      "Song object (515)\n",
      "{'album': {'album_type': 'SINGLE', 'artists': [{'external_urls': {'spotify': 'https://open.spotify.com/artist/0kB3Vlf3xDNZQz6NjAPJV8'}, 'id': '0kB3Vlf3xDNZQz6NjAPJV8', 'name': 'SOOJIN', 'type': 'artist', 'uri': 'spotify:artist:0kB3Vlf3xDNZQz6NjAPJV8'}], 'available_markets': ['AR', 'AU', 'AT', 'BE', 'BO', 'BR', 'BG', 'CA', 'CL', 'CO', 'CR', 'CY', 'CZ', 'DK', 'DO', 'DE', 'EC', 'EE', 'SV', 'FI', 'FR', 'GR', 'GT', 'HN', 'HK', 'HU', 'IS', 'IE', 'IT', 'LV', 'LT', 'LU', 'MY', 'MT', 'MX', 'NL', 'NZ', 'NI', 'NO', 'PA', 'PY', 'PE', 'PH', 'PL', 'PT', 'SG', 'SK', 'ES', 'SE', 'CH', 'TW', 'TR', 'UY', 'US', 'GB', 'AD', 'LI', 'MC', 'ID', 'JP', 'TH', 'VN', 'RO', 'IL', 'ZA', 'SA', 'AE', 'BH', 'QA', 'OM', 'KW', 'EG', 'MA', 'DZ', 'TN', 'LB', 'JO', 'PS', 'IN', 'BY', 'KZ', 'MD', 'UA', 'AL', 'BA', 'HR', 'ME', 'MK', 'RS', 'SI', 'KR', 'BD', 'PK', 'LK', 'GH', 'KE', 'NG', 'TZ', 'UG', 'AG', 'AM', 'BS', 'BB', 'BZ', 'BT', 'BW', 'BF', 'CV', 'CW', 'DM', 'FJ', 'GM', 'GE', 'GD', 'GW', 'GY', 'HT', 'JM', 'KI', 'LS', 'LR', 'MW', 'MV', 'ML', 'MH', 'FM', 'NA', 'NR', 'NE', 'PW', 'PG', 'WS', 'SM', 'ST', 'SN', 'SC', 'SL', 'SB', 'KN', 'LC', 'VC', 'SR', 'TL', 'TO', 'TT', 'TV', 'VU', 'AZ', 'BN', 'BI', 'KH', 'CM', 'TD', 'KM', 'GQ', 'SZ', 'GA', 'GN', 'KG', 'LA', 'MO', 'MR', 'MN', 'NP', 'RW', 'TG', 'UZ', 'ZW', 'BJ', 'MG', 'MU', 'MZ', 'AO', 'CI', 'DJ', 'ZM', 'CD', 'CG', 'IQ', 'LY', 'TJ', 'VE', 'ET', 'XK'], 'external_urls': {'spotify': 'https://open.spotify.com/album/5FzkGrCoC8PIz1yz6oy8RK'}, 'id': '5FzkGrCoC8PIz1yz6oy8RK', 'images': [{'height': 640, 'url': 'https://i.scdn.co/image/ab67616d0000b2730c1f1054d3a170ee26430c79', 'width': 640}, {'height': 300, 'url': 'https://i.scdn.co/image/ab67616d00001e020c1f1054d3a170ee26430c79', 'width': 300}, {'height': 64, 'url': 'https://i.scdn.co/image/ab67616d000048510c1f1054d3a170ee26430c79', 'width': 64}], 'name': 'AGASSY', 'release_date': '2023-11-08', 'release_date_precision': 'day', 'total_tracks': 6, 'type': 'album', 'uri': 'spotify:album:5FzkGrCoC8PIz1yz6oy8RK'}, 'artists': [{'external_urls': {'spotify': 'https://open.spotify.com/artist/0kB3Vlf3xDNZQz6NjAPJV8'}, 'id': '0kB3Vlf3xDNZQz6NjAPJV8', 'name': 'SOOJIN', 'type': 'artist', 'uri': 'spotify:artist:0kB3Vlf3xDNZQz6NjAPJV8'}], 'available_markets': ['AR', 'AU', 'AT', 'BE', 'BO', 'BR', 'BG', 'CA', 'CL', 'CO', 'CR', 'CY', 'CZ', 'DK', 'DO', 'DE', 'EC', 'EE', 'SV', 'FI', 'FR', 'GR', 'GT', 'HN', 'HK', 'HU', 'IS', 'IE', 'IT', 'LV', 'LT', 'LU', 'MY', 'MT', 'MX', 'NL', 'NZ', 'NI', 'NO', 'PA', 'PY', 'PE', 'PH', 'PL', 'PT', 'SG', 'SK', 'ES', 'SE', 'CH', 'TW', 'TR', 'UY', 'US', 'GB', 'AD', 'LI', 'MC', 'ID', 'JP', 'TH', 'VN', 'RO', 'IL', 'ZA', 'SA', 'AE', 'BH', 'QA', 'OM', 'KW', 'EG', 'MA', 'DZ', 'TN', 'LB', 'JO', 'PS', 'IN', 'BY', 'KZ', 'MD', 'UA', 'AL', 'BA', 'HR', 'ME', 'MK', 'RS', 'SI', 'KR', 'BD', 'PK', 'LK', 'GH', 'KE', 'NG', 'TZ', 'UG', 'AG', 'AM', 'BS', 'BB', 'BZ', 'BT', 'BW', 'BF', 'CV', 'CW', 'DM', 'FJ', 'GM', 'GE', 'GD', 'GW', 'GY', 'HT', 'JM', 'KI', 'LS', 'LR', 'MW', 'MV', 'ML', 'MH', 'FM', 'NA', 'NR', 'NE', 'PW', 'PG', 'WS', 'SM', 'ST', 'SN', 'SC', 'SL', 'SB', 'KN', 'LC', 'VC', 'SR', 'TL', 'TO', 'TT', 'TV', 'VU', 'AZ', 'BN', 'BI', 'KH', 'CM', 'TD', 'KM', 'GQ', 'SZ', 'GA', 'GN', 'KG', 'LA', 'MO', 'MR', 'MN', 'NP', 'RW', 'TG', 'UZ', 'ZW', 'BJ', 'MG', 'MU', 'MZ', 'AO', 'CI', 'DJ', 'ZM', 'CD', 'CG', 'IQ', 'LY', 'TJ', 'VE', 'ET', 'XK'], 'disc_number': 1, 'duration_ms': 165426, 'explicit': False, 'external_ids': {'isrc': 'KRG132300013'}, 'external_urls': {'spotify': 'https://open.spotify.com/track/2DkO9y7DB9S9nBg5u0VDoW'}, 'id': '2DkO9y7DB9S9nBg5u0VDoW', 'is_local': False, 'name': 'AGASSY', 'popularity': 69, 'preview_url': 'https://p.scdn.co/mp3-preview/8b28216871b3a52c465709082e6e84d7e8fde131?cid=d8a5ed958d274c2e8ee717e6a4b0971d', 'track_number': 2, 'type': 'track', 'uri': 'spotify:track:2DkO9y7DB9S9nBg5u0VDoW'}\n",
      "2DkO9y7DB9S9nBg5u0VDoW\n",
      "Song object (516)\n"
     ]
    }
   ],
   "source": [
    "for song in data['tracks']:\n",
    "    print(song)\n",
    "    id = str(song['artists'][0]['id'])\n",
    "    song_id = song['id']\n",
    "    print(song_id)\n",
    "    if Artist.objects.filter(api_id=id).exists():\n",
    "        print('Developer msg: data already exists in database')\n",
    "        continue\n",
    "    else:\n",
    "        conn.request(\"GET\", \"/artists/?ids={id}\".format(\n",
    "                        id=id), headers=headers)\n",
    "        res = conn.getresponse()\n",
    "        datas = json.loads(res.read().decode('utf-8'))['artists'][0]\n",
    "        artist = Artist(api_id=id, name = datas['name'], popularity=datas['popularity'], image=datas['images'][0]['url'], followers=datas['followers']['total'])\n",
    "        artist.save()\n",
    "        song_id = song['id']\n",
    "        this_song = Song.objects.get(api_id=song_id)\n",
    "        print(this_song)\n",
    "        artist.songs.add(this_song)\n",
    "        artist.save()\n",
    "\n"
   ]
  },
  {
   "cell_type": "code",
   "execution_count": 23,
   "metadata": {},
   "outputs": [
    {
     "name": "stdout",
     "output_type": "stream",
     "text": [
      "<QuerySet []>\n"
     ]
    }
   ],
   "source": [
    "artists = Artist.songs.through.objects.filter(song_id=571)\n",
    "print(artists)\n",
    "# for artist in artists:\n",
    "#     print(artist.artist_id)\n",
    "#     print(Artist.objects.get(id=artist.artist_id))"
   ]
  },
  {
   "cell_type": "code",
   "execution_count": null,
   "metadata": {},
   "outputs": [],
   "source": [
    "## get artist singles\n",
    "for artist in Artist.objects.all():\n",
    "    api_id = artist.api_id\n",
    "\n",
    "    conn = http.client.HTTPSConnection(\"spotify23.p.rapidapi.com\")\n",
    "\n",
    "    headers = {\n",
    "        'X-RapidAPI-Key': \"208491c007msh75bd41f34ef037fp1815aejsn15b1bb64cbfe\",\n",
    "        'X-RapidAPI-Host': \"spotify23.p.rapidapi.com\"\n",
    "    }\n",
    "\n",
    "    conn.request(\"GET\", \"/artist_singles/?id={api_id}\".format(api_id=api_id), headers=headers)\n",
    "    print(api_id)\n",
    "    res = conn.getresponse()\n",
    "    singles = json.loads(res.read().decode('utf-8'))['data']['artist']['discography']['singles']['items']\n",
    "    for single in singles: \n",
    "        if single['releases']['items'][0]['type'] == 'SINGLE':\n",
    "            id = single['releases']['items'][0]['id']\n",
    "            if Song.objects.filter(api_id=id).exists():\n",
    "                continue\n",
    "            else:\n",
    "                print(id)\n",
    "                try:\n",
    "                    conn.request(\"GET\", \"/albums/?ids={id}\".format(id=id), headers=headers)\n",
    "\n",
    "                    res = conn.getresponse()\n",
    "                    song_info = json.loads(res.read().decode(\"utf-8\"))['albums'][0]['tracks']['items'][0]\n",
    "                    print(song_info)\n",
    "                    song_record = Song.objects.update_or_create(api_id=song_info['id'],title=song_info['name'], popularity=song_info['popularity'], preview_url=song_info['preview_url'] )\n",
    "                    song_record.save()\n",
    "                    song_artist = Artist.objects.get(api_id=api_id)\n",
    "                    song_artist.songs.add(song_record)\n",
    "                    song_artist.save()\n",
    "                except:\n",
    "                    continue\n",
    "        else:\n",
    "            continue\n"
   ]
  },
  {
   "cell_type": "code",
   "execution_count": 29,
   "metadata": {},
   "outputs": [
    {
     "data": {
      "text/plain": [
       "(9, {'songs.Album': 9})"
      ]
     },
     "execution_count": 29,
     "metadata": {},
     "output_type": "execute_result"
    }
   ],
   "source": [
    "Song.objects.all().delete()\n",
    "Artist.objects.all().delete()\n",
    "Album.objects.all().delete()"
   ]
  }
 ],
 "metadata": {
  "kernelspec": {
   "display_name": "Python 3 (ipykernel)",
   "language": "python",
   "name": "python3"
  },
  "language_info": {
   "codemirror_mode": {
    "name": "ipython",
    "version": 3
   },
   "file_extension": ".py",
   "mimetype": "text/x-python",
   "name": "python",
   "nbconvert_exporter": "python",
   "pygments_lexer": "ipython3",
   "version": "3.11.5"
  }
 },
 "nbformat": 4,
 "nbformat_minor": 4
}
