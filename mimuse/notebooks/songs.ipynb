{
 "cells": [
  {
   "cell_type": "code",
   "execution_count": 1,
   "metadata": {},
   "outputs": [],
   "source": [
    "import os\n",
    "os.chdir(\"..\")"
   ]
  },
  {
   "cell_type": "code",
   "execution_count": 2,
   "metadata": {},
   "outputs": [],
   "source": [
    "import django\n",
    "# In case that we need it later\n",
    "# from django.conf import settings\n",
    "os.environ.setdefault('DJANGO_SETTINGS_MODULE',\n",
    "'mimuse.settings')\n",
    "# This is for async, in case we will see it later (maybe)\n",
    "os.environ[\"DJANGO_ALLOW_ASYNC_UNSAFE\"] = \"true\"\n",
    "django.setup()\n"
   ]
  },
  {
   "cell_type": "code",
   "execution_count": 3,
   "metadata": {},
   "outputs": [],
   "source": [
    "import json\n",
    "import http.client\n",
    "from songs.models import Song, Album\n",
    "from artists.models import Artist\n",
    "from datetime import datetime"
   ]
  },
  {
   "cell_type": "code",
   "execution_count": 4,
   "metadata": {},
   "outputs": [
    {
     "data": {
      "text/plain": [
       "(0, {})"
      ]
     },
     "execution_count": 4,
     "metadata": {},
     "output_type": "execute_result"
    }
   ],
   "source": [
    "Song.objects.all().delete()"
   ]
  },
  {
   "cell_type": "code",
   "execution_count": 31,
   "metadata": {},
   "outputs": [],
   "source": [
    "import http.client\n",
    "\n",
    "conn = http.client.HTTPSConnection(\"spotify23.p.rapidapi.com\")\n",
    "\n",
    "headers = {\n",
    "    'X-RapidAPI-Key': \"2173464f0bmsh087f6a414d24270p11a1f5jsn1ae2008c92ce\",\n",
    "    'X-RapidAPI-Host': \"spotify23.p.rapidapi.com\"\n",
    "}\n",
    "\n",
    "conn.request(\"GET\", \"/recommendations/?limit=20&seed_tracks=38MKW2tQHtyO8djIOKlEFF\", headers=headers)\n",
    "\n",
    "res = conn.getresponse()\n",
    "data = json.loads(res.read().decode(\"utf-8\"))\n",
    "\n",
    "# print(data.decode(\"utf-8\"))"
   ]
  },
  {
   "cell_type": "code",
   "execution_count": 18,
   "metadata": {},
   "outputs": [],
   "source": [
    "song_list = list()\n",
    "\n",
    "track = data['tracks']\n",
    "for song in data['tracks']:\n",
    "    # print(song['album']['release_date'])\n",
    "    if(song['album']['release_date_precision']==\"day\"):\n",
    "        song_list.append(Song(api_id=song['id'], title = song['name'], preview_url= song['preview_url'], release_date= song['album']['release_date'], popularity=song['popularity']))\n",
    "    else:\n",
    "        song_list.append(Song(api_id=song['id'], title = song['name'], preview_url= song['preview_url'], popularity=song['popularity']))\n",
    "\n",
    "    # print (song)\n",
    "# print(song_list)\n",
    "bulk = Song.objects.bulk_create(song_list)"
   ]
  },
  {
   "cell_type": "code",
   "execution_count": 42,
   "metadata": {},
   "outputs": [
    {
     "name": "stdout",
     "output_type": "stream",
     "text": [
      "2019zR22qK2RBvCqtudBaI\n",
      "Developer msg: data already exists in database\n",
      "41MozSoPIsD1dJM0CLPjZF\n",
      "{'external_urls': {'spotify': 'https://open.spotify.com/artist/41MozSoPIsD1dJM0CLPjZF'}, 'followers': {'href': None, 'total': 47671206}, 'genres': ['k-pop', 'k-pop girl group', 'pop'], 'id': '41MozSoPIsD1dJM0CLPjZF', 'images': [{'height': 640, 'url': 'https://i.scdn.co/image/ab6761610000e5ebc9690bc711d04b3d4fd4b87c', 'width': 640}, {'height': 320, 'url': 'https://i.scdn.co/image/ab67616100005174c9690bc711d04b3d4fd4b87c', 'width': 320}, {'height': 160, 'url': 'https://i.scdn.co/image/ab6761610000f178c9690bc711d04b3d4fd4b87c', 'width': 160}], 'name': 'BLACKPINK', 'popularity': 82, 'type': 'artist', 'uri': 'spotify:artist:41MozSoPIsD1dJM0CLPjZF'}\n",
      "5r1tUTxVSgvBHnoDuDODPH\n",
      "{'external_urls': {'spotify': 'https://open.spotify.com/artist/5r1tUTxVSgvBHnoDuDODPH'}, 'followers': {'href': None, 'total': 2088098}, 'genres': ['k-pop', 'k-pop girl group'], 'id': '5r1tUTxVSgvBHnoDuDODPH', 'images': [{'height': 640, 'url': 'https://i.scdn.co/image/ab6761610000e5eba6b0d348c125a072e5284b3e', 'width': 640}, {'height': 320, 'url': 'https://i.scdn.co/image/ab67616100005174a6b0d348c125a072e5284b3e', 'width': 320}, {'height': 160, 'url': 'https://i.scdn.co/image/ab6761610000f178a6b0d348c125a072e5284b3e', 'width': 160}], 'name': 'IZ*ONE', 'popularity': 60, 'type': 'artist', 'uri': 'spotify:artist:5r1tUTxVSgvBHnoDuDODPH'}\n",
      "6iVo62B0bdTknRcrktCmak\n",
      "{'external_urls': {'spotify': 'https://open.spotify.com/artist/6iVo62B0bdTknRcrktCmak'}, 'followers': {'href': None, 'total': 1379576}, 'genres': ['k-pop'], 'id': '6iVo62B0bdTknRcrktCmak', 'images': [{'height': 640, 'url': 'https://i.scdn.co/image/ab6761610000e5ebf58d1dda95d21ff6c0c8354f', 'width': 640}, {'height': 320, 'url': 'https://i.scdn.co/image/ab67616100005174f58d1dda95d21ff6c0c8354f', 'width': 320}, {'height': 160, 'url': 'https://i.scdn.co/image/ab6761610000f178f58d1dda95d21ff6c0c8354f', 'width': 160}], 'name': 'KAI', 'popularity': 62, 'type': 'artist', 'uri': 'spotify:artist:6iVo62B0bdTknRcrktCmak'}\n",
      "1VwDG9aBflQupaFNjUru9A\n",
      "{'external_urls': {'spotify': 'https://open.spotify.com/artist/1VwDG9aBflQupaFNjUru9A'}, 'followers': {'href': None, 'total': 1623901}, 'genres': ['k-pop'], 'id': '1VwDG9aBflQupaFNjUru9A', 'images': [{'height': 640, 'url': 'https://i.scdn.co/image/ab6761610000e5ebbb55fc616733b6c09d48481f', 'width': 640}, {'height': 320, 'url': 'https://i.scdn.co/image/ab67616100005174bb55fc616733b6c09d48481f', 'width': 320}, {'height': 160, 'url': 'https://i.scdn.co/image/ab6761610000f178bb55fc616733b6c09d48481f', 'width': 160}], 'name': 'NAYEON', 'popularity': 61, 'type': 'artist', 'uri': 'spotify:artist:1VwDG9aBflQupaFNjUru9A'}\n",
      "3wRA5UYoo08BBKJnzyKkpF\n",
      "{'external_urls': {'spotify': 'https://open.spotify.com/artist/3wRA5UYoo08BBKJnzyKkpF'}, 'followers': {'href': None, 'total': 1298263}, 'genres': ['k-pop', 'k-pop girl group'], 'id': '3wRA5UYoo08BBKJnzyKkpF', 'images': [{'height': 640, 'url': 'https://i.scdn.co/image/ab6761610000e5ebe0cc2045ff4e90d12df91cc3', 'width': 640}, {'height': 320, 'url': 'https://i.scdn.co/image/ab67616100005174e0cc2045ff4e90d12df91cc3', 'width': 320}, {'height': 160, 'url': 'https://i.scdn.co/image/ab6761610000f178e0cc2045ff4e90d12df91cc3', 'width': 160}], 'name': 'f(x)', 'popularity': 51, 'type': 'artist', 'uri': 'spotify:artist:3wRA5UYoo08BBKJnzyKkpF'}\n",
      "4SpbR6yFEvexJuaBpgAU5p\n",
      "{'external_urls': {'spotify': 'https://open.spotify.com/artist/4SpbR6yFEvexJuaBpgAU5p'}, 'followers': {'href': None, 'total': 4065292}, 'genres': ['k-pop girl group'], 'id': '4SpbR6yFEvexJuaBpgAU5p', 'images': [{'height': 640, 'url': 'https://i.scdn.co/image/ab6761610000e5eb99752c006407988976248679', 'width': 640}, {'height': 320, 'url': 'https://i.scdn.co/image/ab6761610000517499752c006407988976248679', 'width': 320}, {'height': 160, 'url': 'https://i.scdn.co/image/ab6761610000f17899752c006407988976248679', 'width': 160}], 'name': 'LE SSERAFIM', 'popularity': 77, 'type': 'artist', 'uri': 'spotify:artist:4SpbR6yFEvexJuaBpgAU5p'}\n",
      "0XATRDCYuuGhk0oE7C0o5G\n",
      "{'external_urls': {'spotify': 'https://open.spotify.com/artist/0XATRDCYuuGhk0oE7C0o5G'}, 'followers': {'href': None, 'total': 7291241}, 'genres': ['k-pop', 'k-pop girl group'], 'id': '0XATRDCYuuGhk0oE7C0o5G', 'images': [{'height': 640, 'url': 'https://i.scdn.co/image/ab6761610000e5ebe12972169702affd7a4c48ec', 'width': 640}, {'height': 320, 'url': 'https://i.scdn.co/image/ab67616100005174e12972169702affd7a4c48ec', 'width': 320}, {'height': 160, 'url': 'https://i.scdn.co/image/ab6761610000f178e12972169702affd7a4c48ec', 'width': 160}], 'name': 'MAMAMOO', 'popularity': 61, 'type': 'artist', 'uri': 'spotify:artist:0XATRDCYuuGhk0oE7C0o5G'}\n",
      "7zYj9S9SdIunYCfSm7vzAR\n",
      "{'external_urls': {'spotify': 'https://open.spotify.com/artist/7zYj9S9SdIunYCfSm7vzAR'}, 'followers': {'href': None, 'total': 2457855}, 'genres': ['k-pop'], 'id': '7zYj9S9SdIunYCfSm7vzAR', 'images': [{'height': 640, 'url': 'https://i.scdn.co/image/ab6761610000e5eb8acf72a6c3da24a6483255fa', 'width': 640}, {'height': 320, 'url': 'https://i.scdn.co/image/ab676161000051748acf72a6c3da24a6483255fa', 'width': 320}, {'height': 160, 'url': 'https://i.scdn.co/image/ab6761610000f1788acf72a6c3da24a6483255fa', 'width': 160}], 'name': 'JEON SOMI', 'popularity': 64, 'type': 'artist', 'uri': 'spotify:artist:7zYj9S9SdIunYCfSm7vzAR'}\n",
      "7F1iAHRYxR3MY7yAEuFqgL\n",
      "{'external_urls': {'spotify': 'https://open.spotify.com/artist/7F1iAHRYxR3MY7yAEuFqgL'}, 'followers': {'href': None, 'total': 536074}, 'genres': [], 'id': '7F1iAHRYxR3MY7yAEuFqgL', 'images': [{'height': 640, 'url': 'https://i.scdn.co/image/ab6761610000e5ebb6bc473ae661f7feabadef18', 'width': 640}, {'height': 320, 'url': 'https://i.scdn.co/image/ab67616100005174b6bc473ae661f7feabadef18', 'width': 320}, {'height': 160, 'url': 'https://i.scdn.co/image/ab6761610000f178b6bc473ae661f7feabadef18', 'width': 160}], 'name': 'JIHYO', 'popularity': 59, 'type': 'artist', 'uri': 'spotify:artist:7F1iAHRYxR3MY7yAEuFqgL'}\n",
      "4TEK9tIkcoxib4GxT3O4ky\n",
      "{'external_urls': {'spotify': 'https://open.spotify.com/artist/4TEK9tIkcoxib4GxT3O4ky'}, 'followers': {'href': None, 'total': 410755}, 'genres': ['k-pop girl group'], 'id': '4TEK9tIkcoxib4GxT3O4ky', 'images': [{'height': 640, 'url': 'https://i.scdn.co/image/ab6761610000e5eb3efc9370be86846bbac90487', 'width': 640}, {'height': 320, 'url': 'https://i.scdn.co/image/ab676161000051743efc9370be86846bbac90487', 'width': 320}, {'height': 160, 'url': 'https://i.scdn.co/image/ab6761610000f1783efc9370be86846bbac90487', 'width': 160}], 'name': 'KISS OF LIFE', 'popularity': 64, 'type': 'artist', 'uri': 'spotify:artist:4TEK9tIkcoxib4GxT3O4ky'}\n",
      "3ZZzT0naD25RhY2uZvIKkJ\n",
      "{'external_urls': {'spotify': 'https://open.spotify.com/artist/3ZZzT0naD25RhY2uZvIKkJ'}, 'followers': {'href': None, 'total': 2054278}, 'genres': ['k-pop', 'k-pop girl group'], 'id': '3ZZzT0naD25RhY2uZvIKkJ', 'images': [{'height': 640, 'url': 'https://i.scdn.co/image/ab6761610000e5eb41f3bffee59e0a97914de53f', 'width': 640}, {'height': 320, 'url': 'https://i.scdn.co/image/ab6761610000517441f3bffee59e0a97914de53f', 'width': 320}, {'height': 160, 'url': 'https://i.scdn.co/image/ab6761610000f17841f3bffee59e0a97914de53f', 'width': 160}], 'name': 'EVERGLOW', 'popularity': 59, 'type': 'artist', 'uri': 'spotify:artist:3ZZzT0naD25RhY2uZvIKkJ'}\n",
      "4SpbR6yFEvexJuaBpgAU5p\n",
      "Developer msg: data already exists in database\n",
      "6HvZYsbFfjnjFrWF950C9d\n",
      "{'external_urls': {'spotify': 'https://open.spotify.com/artist/6HvZYsbFfjnjFrWF950C9d'}, 'followers': {'href': None, 'total': 6903799}, 'genres': ['k-pop', 'k-pop girl group'], 'id': '6HvZYsbFfjnjFrWF950C9d', 'images': [{'height': 640, 'url': 'https://i.scdn.co/image/ab6761610000e5ebf5d2200231e6ad75e8485476', 'width': 640}, {'height': 320, 'url': 'https://i.scdn.co/image/ab67616100005174f5d2200231e6ad75e8485476', 'width': 320}, {'height': 160, 'url': 'https://i.scdn.co/image/ab6761610000f178f5d2200231e6ad75e8485476', 'width': 160}], 'name': 'NewJeans', 'popularity': 82, 'type': 'artist', 'uri': 'spotify:artist:6HvZYsbFfjnjFrWF950C9d'}\n",
      "0XATRDCYuuGhk0oE7C0o5G\n",
      "Developer msg: data already exists in database\n",
      "13yWtUnz63q5VIs5SwoMhy\n",
      "{'external_urls': {'spotify': 'https://open.spotify.com/artist/13yWtUnz63q5VIs5SwoMhy'}, 'followers': {'href': None, 'total': 540273}, 'genres': [], 'id': '13yWtUnz63q5VIs5SwoMhy', 'images': [{'height': 640, 'url': 'https://i.scdn.co/image/ab6761610000e5eb5aa42f180402c30730380a90', 'width': 640}, {'height': 320, 'url': 'https://i.scdn.co/image/ab676161000051745aa42f180402c30730380a90', 'width': 320}, {'height': 160, 'url': 'https://i.scdn.co/image/ab6761610000f1785aa42f180402c30730380a90', 'width': 160}], 'name': 'HUH YUNJIN', 'popularity': 53, 'type': 'artist', 'uri': 'spotify:artist:13yWtUnz63q5VIs5SwoMhy'}\n",
      "3UwlejyX2b458azZ7eCnHb\n",
      "{'external_urls': {'spotify': 'https://open.spotify.com/artist/3UwlejyX2b458azZ7eCnHb'}, 'followers': {'href': None, 'total': 2316577}, 'genres': ['k-pop'], 'id': '3UwlejyX2b458azZ7eCnHb', 'images': [{'height': 640, 'url': 'https://i.scdn.co/image/ab6761610000e5eb091c34da2d67e72099260882', 'width': 640}, {'height': 320, 'url': 'https://i.scdn.co/image/ab67616100005174091c34da2d67e72099260882', 'width': 320}, {'height': 160, 'url': 'https://i.scdn.co/image/ab6761610000f178091c34da2d67e72099260882', 'width': 160}], 'name': 'HyunA', 'popularity': 52, 'type': 'artist', 'uri': 'spotify:artist:3UwlejyX2b458azZ7eCnHb'}\n",
      "41MozSoPIsD1dJM0CLPjZF\n",
      "Developer msg: data already exists in database\n",
      "01XYiBYaoMJcNhPokrg0l0\n",
      "{'external_urls': {'spotify': 'https://open.spotify.com/artist/01XYiBYaoMJcNhPokrg0l0'}, 'followers': {'href': None, 'total': 1684757}, 'genres': ['k-pop', 'k-pop girl group'], 'id': '01XYiBYaoMJcNhPokrg0l0', 'images': [{'height': 640, 'url': 'https://i.scdn.co/image/ab6761610000e5eb784d2270653c1d5d1cf43778', 'width': 640}, {'height': 320, 'url': 'https://i.scdn.co/image/ab67616100005174784d2270653c1d5d1cf43778', 'width': 320}, {'height': 160, 'url': 'https://i.scdn.co/image/ab6761610000f178784d2270653c1d5d1cf43778', 'width': 160}], 'name': 'STAYC', 'popularity': 62, 'type': 'artist', 'uri': 'spotify:artist:01XYiBYaoMJcNhPokrg0l0'}\n",
      "0qlWcS66ohOIi0M8JZwPft\n",
      "{'external_urls': {'spotify': 'https://open.spotify.com/artist/0qlWcS66ohOIi0M8JZwPft'}, 'followers': {'href': None, 'total': 1582235}, 'genres': ['k-pop', 'k-pop girl group'], 'id': '0qlWcS66ohOIi0M8JZwPft', 'images': [{'height': 640, 'url': 'https://i.scdn.co/image/ab6761610000e5ebd0701912e6fccf8427bc7361', 'width': 640}, {'height': 320, 'url': 'https://i.scdn.co/image/ab67616100005174d0701912e6fccf8427bc7361', 'width': 320}, {'height': 160, 'url': 'https://i.scdn.co/image/ab6761610000f178d0701912e6fccf8427bc7361', 'width': 160}], 'name': 'GFRIEND', 'popularity': 59, 'type': 'artist', 'uri': 'spotify:artist:0qlWcS66ohOIi0M8JZwPft'}\n"
     ]
    }
   ],
   "source": [
    "for song in data['tracks']:\n",
    "    id = str(song['artists'][0]['id'])\n",
    "    print(id)\n",
    "    if Artist.objects.filter(api_id=id).exists():\n",
    "        print('Developer msg: data already exists in database')\n",
    "        continue\n",
    "    else:\n",
    "        conn.request(\"GET\", \"/artists/?ids={id}\".format(\n",
    "                        id=id), headers=headers)\n",
    "        res = conn.getresponse()\n",
    "        datas = json.loads(res.read().decode('utf-8'))['artists'][0]\n",
    "        # datas = datas['artists'][0]\n",
    "        print(datas)\n",
    "        artist = Artist(api_id=id, name = datas['name'], popularity=datas['popularity'], image=datas['images'][0]['url'], followers=datas['followers']['total'])\n",
    "        artist.save()\n",
    "\n"
   ]
  },
  {
   "cell_type": "code",
   "execution_count": null,
   "metadata": {},
   "outputs": [],
   "source": []
  }
 ],
 "metadata": {
  "kernelspec": {
   "display_name": "Python 3 (ipykernel)",
   "language": "python",
   "name": "python3"
  },
  "language_info": {
   "codemirror_mode": {
    "name": "ipython",
    "version": 3
   },
   "file_extension": ".py",
   "mimetype": "text/x-python",
   "name": "python",
   "nbconvert_exporter": "python",
   "pygments_lexer": "ipython3",
   "version": "3.11.5"
  }
 },
 "nbformat": 4,
 "nbformat_minor": 4
}
