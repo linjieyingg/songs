{
 "cells": [
  {
   "cell_type": "code",
   "execution_count": 87,
   "metadata": {},
   "outputs": [],
   "source": [
    "import os\n",
    "os.chdir(\"..\")"
   ]
  },
  {
   "cell_type": "code",
   "execution_count": 88,
   "metadata": {},
   "outputs": [],
   "source": [
    "import django\n",
    "# In case that we need it later\n",
    "# from django.conf import settings\n",
    "os.environ.setdefault('DJANGO_SETTINGS_MODULE',\n",
    "'mimuse.settings')\n",
    "# This is for async, in case we will see it later (maybe)\n",
    "os.environ[\"DJANGO_ALLOW_ASYNC_UNSAFE\"] = \"true\"\n",
    "django.setup()\n"
   ]
  },
  {
   "cell_type": "code",
   "execution_count": 89,
   "metadata": {},
   "outputs": [],
   "source": [
    "import json\n",
    "import http.client\n",
    "from songs.models import Song, Album\n",
    "from artists.models import Artist\n",
    "from datetime import datetime"
   ]
  },
  {
   "cell_type": "code",
   "execution_count": 90,
   "metadata": {},
   "outputs": [
    {
     "data": {
      "text/plain": [
       "(34, {'artists.Artist_songs': 14, 'songs.Song': 20})"
      ]
     },
     "execution_count": 90,
     "metadata": {},
     "output_type": "execute_result"
    }
   ],
   "source": [
    "Song.objects.all().delete()"
   ]
  },
  {
   "cell_type": "code",
   "execution_count": 91,
   "metadata": {},
   "outputs": [],
   "source": [
    "import http.client\n",
    "\n",
    "conn = http.client.HTTPSConnection(\"spotify23.p.rapidapi.com\")\n",
    "\n",
    "headers = {\n",
    "    'X-RapidAPI-Key': \"82ce6fe0f2msh1b1cfd285dbcc80p1b3260jsn6c515c923b86\",\n",
    "    'X-RapidAPI-Host': \"spotify23.p.rapidapi.com\"\n",
    "}\n",
    "\n",
    "conn.request(\"GET\", \"/recommendations/?limit=20&seed_tracks=38MKW2tQHtyO8djIOKlEFF\", headers=headers)\n",
    "\n",
    "res = conn.getresponse()\n",
    "data = json.loads(res.read().decode(\"utf-8\"))\n",
    "\n",
    "# print(data.decode(\"utf-8\"))"
   ]
  },
  {
   "cell_type": "code",
   "execution_count": 92,
   "metadata": {},
   "outputs": [],
   "source": [
    "song_list = list()\n",
    "\n",
    "track = data['tracks']\n",
    "for song in data['tracks']:\n",
    "    # print(song['album']['release_date'])\n",
    "    if(song['album']['release_date_precision']==\"day\"):\n",
    "        song_list.append(Song(api_id=song['id'], title = song['name'], preview_url= song['preview_url'], release_date= song['album']['release_date'], popularity=song['popularity']))\n",
    "    else:\n",
    "        song_list.append(Song(api_id=song['id'], title = song['name'], preview_url= song['preview_url'], popularity=song['popularity']))\n",
    "    # print (song)\n",
    "# print(song_list)\n",
    "bulk = Song.objects.bulk_create(song_list)"
   ]
  },
  {
   "cell_type": "code",
   "execution_count": 93,
   "metadata": {},
   "outputs": [
    {
     "name": "stdout",
     "output_type": "stream",
     "text": [
      "{'album': {'album_type': 'ALBUM', 'artists': [{'external_urls': {'spotify': 'https://open.spotify.com/artist/41MozSoPIsD1dJM0CLPjZF'}, 'id': '41MozSoPIsD1dJM0CLPjZF', 'name': 'BLACKPINK', 'type': 'artist', 'uri': 'spotify:artist:41MozSoPIsD1dJM0CLPjZF'}], 'available_markets': ['AR', 'AU', 'AT', 'BE', 'BO', 'BR', 'BG', 'CA', 'CL', 'CO', 'CR', 'CZ', 'DK', 'DO', 'DE', 'EC', 'EE', 'SV', 'FI', 'FR', 'GR', 'GT', 'HN', 'HU', 'IS', 'IE', 'IT', 'LV', 'LT', 'LU', 'MT', 'MX', 'NL', 'NZ', 'NI', 'NO', 'PA', 'PY', 'PE', 'PL', 'PT', 'SK', 'ES', 'SE', 'CH', 'UY', 'US', 'GB', 'AD', 'LI', 'MC', 'RO', 'ZA', 'EG', 'MA', 'DZ', 'TN', 'BY', 'MD', 'UA', 'AL', 'BA', 'HR', 'ME', 'MK', 'RS', 'SI', 'GH', 'KE', 'NG', 'TZ', 'UG', 'AG', 'BS', 'BB', 'BZ', 'BW', 'BF', 'CV', 'CW', 'DM', 'GM', 'GD', 'GW', 'GY', 'HT', 'JM', 'LS', 'LR', 'MW', 'ML', 'NA', 'NE', 'SM', 'ST', 'SN', 'SC', 'SL', 'KN', 'LC', 'VC', 'SR', 'TT', 'BI', 'CM', 'TD', 'KM', 'GQ', 'SZ', 'GA', 'GN', 'MR', 'RW', 'TG', 'ZW', 'BJ', 'MG', 'MU', 'MZ', 'AO', 'CI', 'DJ', 'ZM', 'CD', 'CG', 'LY', 'VE', 'ET', 'XK'], 'external_urls': {'spotify': 'https://open.spotify.com/album/71O60S5gIJSIAhdnrDIh3N'}, 'id': '71O60S5gIJSIAhdnrDIh3N', 'images': [{'height': 640, 'url': 'https://i.scdn.co/image/ab67616d0000b2737dd8f95320e8ef08aa121dfe', 'width': 640}, {'height': 300, 'url': 'https://i.scdn.co/image/ab67616d00001e027dd8f95320e8ef08aa121dfe', 'width': 300}, {'height': 64, 'url': 'https://i.scdn.co/image/ab67616d000048517dd8f95320e8ef08aa121dfe', 'width': 64}], 'name': 'THE ALBUM', 'release_date': '2020-10-02', 'release_date_precision': 'day', 'total_tracks': 8, 'type': 'album', 'uri': 'spotify:album:71O60S5gIJSIAhdnrDIh3N'}, 'artists': [{'external_urls': {'spotify': 'https://open.spotify.com/artist/41MozSoPIsD1dJM0CLPjZF'}, 'id': '41MozSoPIsD1dJM0CLPjZF', 'name': 'BLACKPINK', 'type': 'artist', 'uri': 'spotify:artist:41MozSoPIsD1dJM0CLPjZF'}], 'available_markets': ['AR', 'AU', 'AT', 'BE', 'BO', 'BR', 'BG', 'CA', 'CL', 'CO', 'CR', 'CZ', 'DK', 'DO', 'DE', 'EC', 'EE', 'SV', 'FI', 'FR', 'GR', 'GT', 'HN', 'HU', 'IS', 'IE', 'IT', 'LV', 'LT', 'LU', 'MT', 'MX', 'NL', 'NZ', 'NI', 'NO', 'PA', 'PY', 'PE', 'PL', 'PT', 'SK', 'ES', 'SE', 'CH', 'UY', 'US', 'GB', 'AD', 'LI', 'MC', 'RO', 'ZA', 'EG', 'MA', 'DZ', 'TN', 'BY', 'MD', 'UA', 'AL', 'BA', 'HR', 'ME', 'MK', 'RS', 'SI', 'GH', 'KE', 'NG', 'TZ', 'UG', 'AG', 'BS', 'BB', 'BZ', 'BW', 'BF', 'CV', 'CW', 'DM', 'GM', 'GD', 'GW', 'GY', 'HT', 'JM', 'LS', 'LR', 'MW', 'ML', 'NA', 'NE', 'SM', 'ST', 'SN', 'SC', 'SL', 'KN', 'LC', 'VC', 'SR', 'TT', 'BI', 'CM', 'TD', 'KM', 'GQ', 'SZ', 'GA', 'GN', 'MR', 'RW', 'TG', 'ZW', 'BJ', 'MG', 'MU', 'MZ', 'AO', 'CI', 'DJ', 'ZM', 'CD', 'CG', 'LY', 'VE', 'ET', 'XK'], 'disc_number': 1, 'duration_ms': 201122, 'explicit': False, 'external_ids': {'isrc': 'KRA402000133'}, 'external_urls': {'spotify': 'https://open.spotify.com/track/1XnpzbOGptRwfJhZgLbmSr'}, 'id': '1XnpzbOGptRwfJhZgLbmSr', 'is_local': False, 'name': 'Pretty Savage', 'popularity': 75, 'preview_url': 'https://p.scdn.co/mp3-preview/9a3477fdb83d6d910dca2b22cf1c79771e4dcb59?cid=d8a5ed958d274c2e8ee717e6a4b0971d', 'track_number': 3, 'type': 'track', 'uri': 'spotify:track:1XnpzbOGptRwfJhZgLbmSr'}\n",
      "1XnpzbOGptRwfJhZgLbmSr\n",
      "Song object (71)\n",
      "{'album': {'album_type': 'ALBUM', 'artists': [{'external_urls': {'spotify': 'https://open.spotify.com/artist/0Sadg1vgvaPqGTOjxu0N6c'}, 'id': '0Sadg1vgvaPqGTOjxu0N6c', 'name': \"Girls' Generation\", 'type': 'artist', 'uri': 'spotify:artist:0Sadg1vgvaPqGTOjxu0N6c'}], 'available_markets': ['JP'], 'external_urls': {'spotify': 'https://open.spotify.com/album/2W1T7XzyzYuvC3eKQ6JSxu'}, 'id': '2W1T7XzyzYuvC3eKQ6JSxu', 'images': [{'height': 640, 'url': 'https://i.scdn.co/image/ab67616d0000b273f515327a00f676e9c7a8753b', 'width': 640}, {'height': 300, 'url': 'https://i.scdn.co/image/ab67616d00001e02f515327a00f676e9c7a8753b', 'width': 300}, {'height': 64, 'url': 'https://i.scdn.co/image/ab67616d00004851f515327a00f676e9c7a8753b', 'width': 64}], 'name': 'GIRLS’ GENERATION II ~Girls & Peace~', 'release_date': '2012-01-01', 'release_date_precision': 'day', 'total_tracks': 12, 'type': 'album', 'uri': 'spotify:album:2W1T7XzyzYuvC3eKQ6JSxu'}, 'artists': [{'external_urls': {'spotify': 'https://open.spotify.com/artist/0Sadg1vgvaPqGTOjxu0N6c'}, 'id': '0Sadg1vgvaPqGTOjxu0N6c', 'name': \"Girls' Generation\", 'type': 'artist', 'uri': 'spotify:artist:0Sadg1vgvaPqGTOjxu0N6c'}], 'available_markets': ['JP'], 'disc_number': 1, 'duration_ms': 188560, 'explicit': False, 'external_ids': {'isrc': 'JPPO01217977'}, 'external_urls': {'spotify': 'https://open.spotify.com/track/0MVUEJlSLsBQjmsQILFDLs'}, 'id': '0MVUEJlSLsBQjmsQILFDLs', 'is_local': False, 'name': 'Oh!', 'popularity': 40, 'preview_url': 'https://p.scdn.co/mp3-preview/a25c1c802aa8d205909274bc31e1a16b3ed52c95?cid=d8a5ed958d274c2e8ee717e6a4b0971d', 'track_number': 8, 'type': 'track', 'uri': 'spotify:track:0MVUEJlSLsBQjmsQILFDLs'}\n",
      "0MVUEJlSLsBQjmsQILFDLs\n",
      "Song object (72)\n",
      "{'album': {'album_type': 'ALBUM', 'artists': [{'external_urls': {'spotify': 'https://open.spotify.com/artist/2dIgFjalVxs4ThymZ67YCE'}, 'id': '2dIgFjalVxs4ThymZ67YCE', 'name': 'Stray Kids', 'type': 'artist', 'uri': 'spotify:artist:2dIgFjalVxs4ThymZ67YCE'}], 'available_markets': ['JP'], 'external_urls': {'spotify': 'https://open.spotify.com/album/5ZO7GSyxmHa2qwET9zsEe4'}, 'id': '5ZO7GSyxmHa2qwET9zsEe4', 'images': [{'height': 640, 'url': 'https://i.scdn.co/image/ab67616d0000b2735b4302992277074fa1fb552f', 'width': 640}, {'height': 300, 'url': 'https://i.scdn.co/image/ab67616d00001e025b4302992277074fa1fb552f', 'width': 300}, {'height': 64, 'url': 'https://i.scdn.co/image/ab67616d000048515b4302992277074fa1fb552f', 'width': 64}], 'name': '5-STAR', 'release_date': '2023-06-02', 'release_date_precision': 'day', 'total_tracks': 12, 'type': 'album', 'uri': 'spotify:album:5ZO7GSyxmHa2qwET9zsEe4'}, 'artists': [{'external_urls': {'spotify': 'https://open.spotify.com/artist/2dIgFjalVxs4ThymZ67YCE'}, 'id': '2dIgFjalVxs4ThymZ67YCE', 'name': 'Stray Kids', 'type': 'artist', 'uri': 'spotify:artist:2dIgFjalVxs4ThymZ67YCE'}], 'available_markets': ['JP'], 'disc_number': 1, 'duration_ms': 171026, 'explicit': False, 'external_ids': {'isrc': 'US5TA2300033'}, 'external_urls': {'spotify': 'https://open.spotify.com/track/5MgUrkWwWmG88ZJoekItxo'}, 'id': '5MgUrkWwWmG88ZJoekItxo', 'is_local': False, 'name': 'Hall of Fame', 'popularity': 54, 'preview_url': 'https://p.scdn.co/mp3-preview/445acf4df7a2b13cbfddfe03ed264e03506a491f?cid=d8a5ed958d274c2e8ee717e6a4b0971d', 'track_number': 1, 'type': 'track', 'uri': 'spotify:track:5MgUrkWwWmG88ZJoekItxo'}\n",
      "5MgUrkWwWmG88ZJoekItxo\n",
      "Developer msg: data already exists in database\n",
      "{'album': {'album_type': 'ALBUM', 'artists': [{'external_urls': {'spotify': 'https://open.spotify.com/artist/6RHTUrRF63xao58xh9FXYJ'}, 'id': '6RHTUrRF63xao58xh9FXYJ', 'name': 'IVE', 'type': 'artist', 'uri': 'spotify:artist:6RHTUrRF63xao58xh9FXYJ'}], 'available_markets': ['AR', 'AU', 'AT', 'BE', 'BO', 'BR', 'BG', 'CA', 'CL', 'CO', 'CR', 'CY', 'CZ', 'DK', 'DO', 'DE', 'EC', 'EE', 'SV', 'FI', 'FR', 'GR', 'GT', 'HN', 'HK', 'HU', 'IS', 'IE', 'IT', 'LV', 'LT', 'LU', 'MY', 'MT', 'MX', 'NL', 'NZ', 'NI', 'NO', 'PA', 'PY', 'PE', 'PH', 'PL', 'PT', 'SG', 'SK', 'ES', 'SE', 'CH', 'TW', 'TR', 'UY', 'US', 'GB', 'AD', 'LI', 'MC', 'ID', 'JP', 'TH', 'VN', 'RO', 'IL', 'ZA', 'SA', 'AE', 'BH', 'QA', 'OM', 'KW', 'EG', 'MA', 'DZ', 'TN', 'LB', 'JO', 'PS', 'IN', 'BY', 'KZ', 'MD', 'UA', 'AL', 'BA', 'HR', 'ME', 'MK', 'RS', 'SI', 'BD', 'PK', 'LK', 'GH', 'KE', 'NG', 'TZ', 'UG', 'AG', 'AM', 'BS', 'BB', 'BZ', 'BT', 'BW', 'BF', 'CV', 'CW', 'DM', 'FJ', 'GM', 'GE', 'GD', 'GW', 'GY', 'HT', 'JM', 'KI', 'LS', 'LR', 'MW', 'MV', 'ML', 'MH', 'FM', 'NA', 'NR', 'NE', 'PW', 'PG', 'WS', 'SM', 'ST', 'SN', 'SC', 'SL', 'SB', 'KN', 'LC', 'VC', 'SR', 'TL', 'TO', 'TT', 'TV', 'VU', 'AZ', 'BN', 'BI', 'KH', 'CM', 'TD', 'KM', 'GQ', 'SZ', 'GA', 'GN', 'KG', 'LA', 'MO', 'MR', 'MN', 'NP', 'RW', 'TG', 'UZ', 'ZW', 'BJ', 'MG', 'MU', 'MZ', 'AO', 'CI', 'DJ', 'ZM', 'CD', 'CG', 'IQ', 'LY', 'TJ', 'VE', 'ET', 'XK'], 'external_urls': {'spotify': 'https://open.spotify.com/album/38VzP4yWfHdHafITKKRHEB'}, 'id': '38VzP4yWfHdHafITKKRHEB', 'images': [{'height': 640, 'url': 'https://i.scdn.co/image/ab67616d0000b27325ef3cec1eceefd4db2f91c8', 'width': 640}, {'height': 300, 'url': 'https://i.scdn.co/image/ab67616d00001e0225ef3cec1eceefd4db2f91c8', 'width': 300}, {'height': 64, 'url': 'https://i.scdn.co/image/ab67616d0000485125ef3cec1eceefd4db2f91c8', 'width': 64}], 'name': \"I've IVE\", 'release_date': '2023-04-10', 'release_date_precision': 'day', 'total_tracks': 11, 'type': 'album', 'uri': 'spotify:album:38VzP4yWfHdHafITKKRHEB'}, 'artists': [{'external_urls': {'spotify': 'https://open.spotify.com/artist/6RHTUrRF63xao58xh9FXYJ'}, 'id': '6RHTUrRF63xao58xh9FXYJ', 'name': 'IVE', 'type': 'artist', 'uri': 'spotify:artist:6RHTUrRF63xao58xh9FXYJ'}], 'available_markets': ['AR', 'AU', 'AT', 'BE', 'BO', 'BR', 'BG', 'CA', 'CL', 'CO', 'CR', 'CY', 'CZ', 'DK', 'DO', 'DE', 'EC', 'EE', 'SV', 'FI', 'FR', 'GR', 'GT', 'HN', 'HK', 'HU', 'IS', 'IE', 'IT', 'LV', 'LT', 'LU', 'MY', 'MT', 'MX', 'NL', 'NZ', 'NI', 'NO', 'PA', 'PY', 'PE', 'PH', 'PL', 'PT', 'SG', 'SK', 'ES', 'SE', 'CH', 'TW', 'TR', 'UY', 'US', 'GB', 'AD', 'LI', 'MC', 'ID', 'JP', 'TH', 'VN', 'RO', 'IL', 'ZA', 'SA', 'AE', 'BH', 'QA', 'OM', 'KW', 'EG', 'MA', 'DZ', 'TN', 'LB', 'JO', 'PS', 'IN', 'BY', 'KZ', 'MD', 'UA', 'AL', 'BA', 'HR', 'ME', 'MK', 'RS', 'SI', 'BD', 'PK', 'LK', 'GH', 'KE', 'NG', 'TZ', 'UG', 'AG', 'AM', 'BS', 'BB', 'BZ', 'BT', 'BW', 'BF', 'CV', 'CW', 'DM', 'FJ', 'GM', 'GE', 'GD', 'GW', 'GY', 'HT', 'JM', 'KI', 'LS', 'LR', 'MW', 'MV', 'ML', 'MH', 'FM', 'NA', 'NR', 'NE', 'PW', 'PG', 'WS', 'SM', 'ST', 'SN', 'SC', 'SL', 'SB', 'KN', 'LC', 'VC', 'SR', 'TL', 'TO', 'TT', 'TV', 'VU', 'AZ', 'BN', 'BI', 'KH', 'CM', 'TD', 'KM', 'GQ', 'SZ', 'GA', 'GN', 'KG', 'LA', 'MO', 'MR', 'MN', 'NP', 'RW', 'TG', 'UZ', 'ZW', 'BJ', 'MG', 'MU', 'MZ', 'AO', 'CI', 'DJ', 'ZM', 'CD', 'CG', 'IQ', 'LY', 'TJ', 'VE', 'ET', 'XK'], 'disc_number': 1, 'duration_ms': 181400, 'explicit': False, 'external_ids': {'isrc': 'QM4TX2337766'}, 'external_urls': {'spotify': 'https://open.spotify.com/track/0dRSOmb7pqkkmjXCu5BYbe'}, 'id': '0dRSOmb7pqkkmjXCu5BYbe', 'is_local': False, 'name': 'Lips', 'popularity': 64, 'preview_url': 'https://p.scdn.co/mp3-preview/b97a3b392414b55dae7deb60697e1b3927dbb24c?cid=d8a5ed958d274c2e8ee717e6a4b0971d', 'track_number': 4, 'type': 'track', 'uri': 'spotify:track:0dRSOmb7pqkkmjXCu5BYbe'}\n",
      "0dRSOmb7pqkkmjXCu5BYbe\n",
      "Song object (74)\n",
      "{'album': {'album_type': 'SINGLE', 'artists': [{'external_urls': {'spotify': 'https://open.spotify.com/artist/6MoXcK2GyGg7FIyxPU5yW6'}, 'id': '6MoXcK2GyGg7FIyxPU5yW6', 'name': 'SUNMI', 'type': 'artist', 'uri': 'spotify:artist:6MoXcK2GyGg7FIyxPU5yW6'}], 'available_markets': ['AR', 'AU', 'AT', 'BE', 'BO', 'BR', 'BG', 'CA', 'CL', 'CO', 'CR', 'CY', 'CZ', 'DK', 'DO', 'DE', 'EC', 'EE', 'SV', 'FI', 'FR', 'GR', 'GT', 'HN', 'HK', 'HU', 'IS', 'IE', 'IT', 'LV', 'LT', 'LU', 'MY', 'MT', 'MX', 'NL', 'NZ', 'NI', 'NO', 'PA', 'PY', 'PE', 'PH', 'PL', 'PT', 'SG', 'SK', 'ES', 'SE', 'CH', 'TW', 'TR', 'UY', 'US', 'GB', 'AD', 'LI', 'MC', 'ID', 'TH', 'VN', 'RO', 'IL', 'ZA', 'SA', 'AE', 'BH', 'QA', 'OM', 'KW', 'EG', 'MA', 'DZ', 'TN', 'LB', 'JO', 'PS', 'IN', 'BY', 'KZ', 'MD', 'UA', 'AL', 'BA', 'HR', 'ME', 'MK', 'RS', 'SI', 'BD', 'PK', 'LK', 'GH', 'KE', 'NG', 'TZ', 'UG', 'AG', 'AM', 'BS', 'BB', 'BZ', 'BT', 'BW', 'BF', 'CV', 'CW', 'DM', 'FJ', 'GM', 'GE', 'GD', 'GW', 'GY', 'HT', 'JM', 'KI', 'LS', 'LR', 'MW', 'MV', 'ML', 'MH', 'FM', 'NA', 'NR', 'NE', 'PW', 'PG', 'WS', 'SM', 'ST', 'SN', 'SC', 'SL', 'SB', 'KN', 'LC', 'VC', 'SR', 'TL', 'TO', 'TT', 'TV', 'VU', 'AZ', 'BN', 'BI', 'KH', 'CM', 'TD', 'KM', 'GQ', 'SZ', 'GA', 'GN', 'KG', 'LA', 'MO', 'MR', 'MN', 'NP', 'RW', 'TG', 'UZ', 'ZW', 'BJ', 'MG', 'MU', 'MZ', 'AO', 'CI', 'DJ', 'ZM', 'CD', 'CG', 'IQ', 'LY', 'TJ', 'VE', 'ET', 'XK'], 'external_urls': {'spotify': 'https://open.spotify.com/album/4ag4tJmAksjMdxICMV83Aw'}, 'id': '4ag4tJmAksjMdxICMV83Aw', 'images': [{'height': 640, 'url': 'https://i.scdn.co/image/ab67616d0000b273a916eb5cb60ec476b75fc807', 'width': 640}, {'height': 300, 'url': 'https://i.scdn.co/image/ab67616d00001e02a916eb5cb60ec476b75fc807', 'width': 300}, {'height': 64, 'url': 'https://i.scdn.co/image/ab67616d00004851a916eb5cb60ec476b75fc807', 'width': 64}], 'name': '24 Hours', 'release_date': '2013-08-26', 'release_date_precision': 'day', 'total_tracks': 1, 'type': 'album', 'uri': 'spotify:album:4ag4tJmAksjMdxICMV83Aw'}, 'artists': [{'external_urls': {'spotify': 'https://open.spotify.com/artist/6MoXcK2GyGg7FIyxPU5yW6'}, 'id': '6MoXcK2GyGg7FIyxPU5yW6', 'name': 'SUNMI', 'type': 'artist', 'uri': 'spotify:artist:6MoXcK2GyGg7FIyxPU5yW6'}], 'available_markets': ['AR', 'AU', 'AT', 'BE', 'BO', 'BR', 'BG', 'CA', 'CL', 'CO', 'CR', 'CY', 'CZ', 'DK', 'DO', 'DE', 'EC', 'EE', 'SV', 'FI', 'FR', 'GR', 'GT', 'HN', 'HK', 'HU', 'IS', 'IE', 'IT', 'LV', 'LT', 'LU', 'MY', 'MT', 'MX', 'NL', 'NZ', 'NI', 'NO', 'PA', 'PY', 'PE', 'PH', 'PL', 'PT', 'SG', 'SK', 'ES', 'SE', 'CH', 'TW', 'TR', 'UY', 'US', 'GB', 'AD', 'LI', 'MC', 'ID', 'TH', 'VN', 'RO', 'IL', 'ZA', 'SA', 'AE', 'BH', 'QA', 'OM', 'KW', 'EG', 'MA', 'DZ', 'TN', 'LB', 'JO', 'PS', 'IN', 'BY', 'KZ', 'MD', 'UA', 'AL', 'BA', 'HR', 'ME', 'MK', 'RS', 'SI', 'BD', 'PK', 'LK', 'GH', 'KE', 'NG', 'TZ', 'UG', 'AG', 'AM', 'BS', 'BB', 'BZ', 'BT', 'BW', 'BF', 'CV', 'CW', 'DM', 'FJ', 'GM', 'GE', 'GD', 'GW', 'GY', 'HT', 'JM', 'KI', 'LS', 'LR', 'MW', 'MV', 'ML', 'MH', 'FM', 'NA', 'NR', 'NE', 'PW', 'PG', 'WS', 'SM', 'ST', 'SN', 'SC', 'SL', 'SB', 'KN', 'LC', 'VC', 'SR', 'TL', 'TO', 'TT', 'TV', 'VU', 'AZ', 'BN', 'BI', 'KH', 'CM', 'TD', 'KM', 'GQ', 'SZ', 'GA', 'GN', 'KG', 'LA', 'MO', 'MR', 'MN', 'NP', 'RW', 'TG', 'UZ', 'ZW', 'BJ', 'MG', 'MU', 'MZ', 'AO', 'CI', 'DJ', 'ZM', 'CD', 'CG', 'IQ', 'LY', 'TJ', 'VE', 'ET', 'XK'], 'disc_number': 1, 'duration_ms': 201590, 'explicit': False, 'external_ids': {'isrc': 'US5TA1300029'}, 'external_urls': {'spotify': 'https://open.spotify.com/track/4ayWErdGIvSo4o6a3lMVLt'}, 'id': '4ayWErdGIvSo4o6a3lMVLt', 'is_local': False, 'name': '24 Hours', 'popularity': 57, 'preview_url': 'https://p.scdn.co/mp3-preview/7c1f541ba7122000b0cf54090f0630c08a36f39b?cid=d8a5ed958d274c2e8ee717e6a4b0971d', 'track_number': 1, 'type': 'track', 'uri': 'spotify:track:4ayWErdGIvSo4o6a3lMVLt'}\n",
      "4ayWErdGIvSo4o6a3lMVLt\n",
      "Developer msg: data already exists in database\n",
      "{'album': {'album_type': 'SINGLE', 'artists': [{'external_urls': {'spotify': 'https://open.spotify.com/artist/6cdC1cwqh3eJAXaxXJt2jv'}, 'id': '6cdC1cwqh3eJAXaxXJt2jv', 'name': '4Minute', 'type': 'artist', 'uri': 'spotify:artist:6cdC1cwqh3eJAXaxXJt2jv'}], 'available_markets': ['AR', 'AU', 'AT', 'BE', 'BO', 'BR', 'BG', 'CA', 'CL', 'CO', 'CR', 'CY', 'CZ', 'DK', 'DO', 'DE', 'EC', 'EE', 'SV', 'FI', 'FR', 'GR', 'GT', 'HN', 'HK', 'HU', 'IS', 'IE', 'IT', 'LV', 'LT', 'LU', 'MY', 'MT', 'MX', 'NL', 'NZ', 'NI', 'NO', 'PA', 'PY', 'PE', 'PH', 'PL', 'PT', 'SG', 'SK', 'ES', 'SE', 'CH', 'TW', 'TR', 'UY', 'US', 'GB', 'AD', 'LI', 'MC', 'ID', 'TH', 'VN', 'RO', 'IL', 'ZA', 'SA', 'AE', 'BH', 'QA', 'OM', 'KW', 'EG', 'MA', 'DZ', 'TN', 'LB', 'JO', 'PS', 'IN', 'BY', 'KZ', 'MD', 'UA', 'AL', 'BA', 'HR', 'ME', 'MK', 'RS', 'SI', 'KR', 'BD', 'PK', 'LK', 'GH', 'KE', 'NG', 'TZ', 'UG', 'AG', 'AM', 'BS', 'BB', 'BZ', 'BT', 'BW', 'BF', 'CV', 'CW', 'DM', 'FJ', 'GM', 'GE', 'GD', 'GW', 'GY', 'HT', 'JM', 'KI', 'LS', 'LR', 'MW', 'MV', 'ML', 'MH', 'FM', 'NA', 'NR', 'NE', 'PW', 'PG', 'WS', 'SM', 'ST', 'SN', 'SC', 'SL', 'SB', 'KN', 'LC', 'VC', 'SR', 'TL', 'TO', 'TT', 'TV', 'VU', 'AZ', 'BN', 'BI', 'KH', 'CM', 'TD', 'KM', 'GQ', 'SZ', 'GA', 'GN', 'KG', 'LA', 'MO', 'MR', 'MN', 'NP', 'RW', 'TG', 'UZ', 'ZW', 'BJ', 'MG', 'MU', 'MZ', 'AO', 'CI', 'DJ', 'ZM', 'CD', 'CG', 'IQ', 'LY', 'TJ', 'VE', 'ET', 'XK'], 'external_urls': {'spotify': 'https://open.spotify.com/album/5ooERKclQluBVu00PIH9Xm'}, 'id': '5ooERKclQluBVu00PIH9Xm', 'images': [{'height': 640, 'url': 'https://i.scdn.co/image/ab67616d0000b2738acb7bac073f378d59bf228e', 'width': 640}, {'height': 300, 'url': 'https://i.scdn.co/image/ab67616d00001e028acb7bac073f378d59bf228e', 'width': 300}, {'height': 64, 'url': 'https://i.scdn.co/image/ab67616d000048518acb7bac073f378d59bf228e', 'width': 64}], 'name': 'Crazy', 'release_date': '2015-02-09', 'release_date_precision': 'day', 'total_tracks': 6, 'type': 'album', 'uri': 'spotify:album:5ooERKclQluBVu00PIH9Xm'}, 'artists': [{'external_urls': {'spotify': 'https://open.spotify.com/artist/6cdC1cwqh3eJAXaxXJt2jv'}, 'id': '6cdC1cwqh3eJAXaxXJt2jv', 'name': '4Minute', 'type': 'artist', 'uri': 'spotify:artist:6cdC1cwqh3eJAXaxXJt2jv'}], 'available_markets': ['AR', 'AU', 'AT', 'BE', 'BO', 'BR', 'BG', 'CA', 'CL', 'CO', 'CR', 'CY', 'CZ', 'DK', 'DO', 'DE', 'EC', 'EE', 'SV', 'FI', 'FR', 'GR', 'GT', 'HN', 'HK', 'HU', 'IS', 'IE', 'IT', 'LV', 'LT', 'LU', 'MY', 'MT', 'MX', 'NL', 'NZ', 'NI', 'NO', 'PA', 'PY', 'PE', 'PH', 'PL', 'PT', 'SG', 'SK', 'ES', 'SE', 'CH', 'TW', 'TR', 'UY', 'US', 'GB', 'AD', 'LI', 'MC', 'ID', 'TH', 'VN', 'RO', 'IL', 'ZA', 'SA', 'AE', 'BH', 'QA', 'OM', 'KW', 'EG', 'MA', 'DZ', 'TN', 'LB', 'JO', 'PS', 'IN', 'BY', 'KZ', 'MD', 'UA', 'AL', 'BA', 'HR', 'ME', 'MK', 'RS', 'SI', 'KR', 'BD', 'PK', 'LK', 'GH', 'KE', 'NG', 'TZ', 'UG', 'AG', 'AM', 'BS', 'BB', 'BZ', 'BT', 'BW', 'BF', 'CV', 'CW', 'DM', 'FJ', 'GM', 'GE', 'GD', 'GW', 'GY', 'HT', 'JM', 'KI', 'LS', 'LR', 'MW', 'MV', 'ML', 'MH', 'FM', 'NA', 'NR', 'NE', 'PW', 'PG', 'WS', 'SM', 'ST', 'SN', 'SC', 'SL', 'SB', 'KN', 'LC', 'VC', 'SR', 'TL', 'TO', 'TT', 'TV', 'VU', 'AZ', 'BN', 'BI', 'KH', 'CM', 'TD', 'KM', 'GQ', 'SZ', 'GA', 'GN', 'KG', 'LA', 'MO', 'MR', 'MN', 'NP', 'RW', 'TG', 'UZ', 'ZW', 'BJ', 'MG', 'MU', 'MZ', 'AO', 'CI', 'DJ', 'ZM', 'CD', 'CG', 'IQ', 'LY', 'TJ', 'VE', 'ET', 'XK'], 'disc_number': 1, 'duration_ms': 192400, 'explicit': False, 'external_ids': {'isrc': 'KRA391400041'}, 'external_urls': {'spotify': 'https://open.spotify.com/track/5DZdCgnX9xAj59X6X7cQBs'}, 'id': '5DZdCgnX9xAj59X6X7cQBs', 'is_local': False, 'name': 'Crazy', 'popularity': 64, 'preview_url': 'https://p.scdn.co/mp3-preview/8c2766b46f4398ea91844936077fd0697e7c3263?cid=d8a5ed958d274c2e8ee717e6a4b0971d', 'track_number': 1, 'type': 'track', 'uri': 'spotify:track:5DZdCgnX9xAj59X6X7cQBs'}\n",
      "5DZdCgnX9xAj59X6X7cQBs\n",
      "Song object (76)\n",
      "{'album': {'album_type': 'SINGLE', 'artists': [{'external_urls': {'spotify': 'https://open.spotify.com/artist/5t5FqBwTcgKTaWmfEbwQY9'}, 'id': '5t5FqBwTcgKTaWmfEbwQY9', 'name': 'ENHYPEN', 'type': 'artist', 'uri': 'spotify:artist:5t5FqBwTcgKTaWmfEbwQY9'}], 'available_markets': ['AR', 'AU', 'AT', 'BE', 'BO', 'BR', 'BG', 'CA', 'CL', 'CO', 'CR', 'CY', 'CZ', 'DK', 'DO', 'DE', 'EC', 'EE', 'SV', 'FI', 'FR', 'GR', 'GT', 'HN', 'HK', 'HU', 'IS', 'IE', 'IT', 'LV', 'LT', 'LU', 'MY', 'MT', 'MX', 'NL', 'NZ', 'NI', 'NO', 'PA', 'PY', 'PE', 'PH', 'PL', 'PT', 'SG', 'SK', 'ES', 'SE', 'CH', 'TW', 'TR', 'UY', 'US', 'GB', 'AD', 'LI', 'MC', 'ID', 'JP', 'TH', 'VN', 'RO', 'IL', 'ZA', 'SA', 'AE', 'BH', 'QA', 'OM', 'KW', 'EG', 'MA', 'DZ', 'TN', 'LB', 'JO', 'PS', 'IN', 'BY', 'KZ', 'MD', 'UA', 'AL', 'BA', 'HR', 'ME', 'MK', 'RS', 'SI', 'KR', 'BD', 'PK', 'LK', 'GH', 'KE', 'NG', 'TZ', 'UG', 'AG', 'AM', 'BS', 'BB', 'BZ', 'BT', 'BW', 'BF', 'CV', 'CW', 'DM', 'FJ', 'GM', 'GE', 'GD', 'GW', 'GY', 'HT', 'JM', 'KI', 'LS', 'LR', 'MW', 'MV', 'ML', 'MH', 'FM', 'NA', 'NR', 'NE', 'PW', 'PG', 'WS', 'SM', 'ST', 'SN', 'SC', 'SL', 'SB', 'KN', 'LC', 'VC', 'SR', 'TL', 'TO', 'TT', 'TV', 'VU', 'AZ', 'BN', 'BI', 'KH', 'CM', 'TD', 'KM', 'GQ', 'SZ', 'GA', 'GN', 'KG', 'LA', 'MO', 'MR', 'MN', 'NP', 'RW', 'TG', 'UZ', 'ZW', 'BJ', 'MG', 'MU', 'MZ', 'AO', 'CI', 'DJ', 'ZM', 'CD', 'CG', 'IQ', 'LY', 'TJ', 'VE', 'ET', 'XK'], 'external_urls': {'spotify': 'https://open.spotify.com/album/4LGYBcRsteiXjcPD4QQvxv'}, 'id': '4LGYBcRsteiXjcPD4QQvxv', 'images': [{'height': 640, 'url': 'https://i.scdn.co/image/ab67616d0000b273714e56679ab196354e2e443e', 'width': 640}, {'height': 300, 'url': 'https://i.scdn.co/image/ab67616d00001e02714e56679ab196354e2e443e', 'width': 300}, {'height': 64, 'url': 'https://i.scdn.co/image/ab67616d00004851714e56679ab196354e2e443e', 'width': 64}], 'name': 'BORDER : CARNIVAL', 'release_date': '2021-04-26', 'release_date_precision': 'day', 'total_tracks': 6, 'type': 'album', 'uri': 'spotify:album:4LGYBcRsteiXjcPD4QQvxv'}, 'artists': [{'external_urls': {'spotify': 'https://open.spotify.com/artist/5t5FqBwTcgKTaWmfEbwQY9'}, 'id': '5t5FqBwTcgKTaWmfEbwQY9', 'name': 'ENHYPEN', 'type': 'artist', 'uri': 'spotify:artist:5t5FqBwTcgKTaWmfEbwQY9'}], 'available_markets': ['AR', 'AU', 'AT', 'BE', 'BO', 'BR', 'BG', 'CA', 'CL', 'CO', 'CR', 'CY', 'CZ', 'DK', 'DO', 'DE', 'EC', 'EE', 'SV', 'FI', 'FR', 'GR', 'GT', 'HN', 'HK', 'HU', 'IS', 'IE', 'IT', 'LV', 'LT', 'LU', 'MY', 'MT', 'MX', 'NL', 'NZ', 'NI', 'NO', 'PA', 'PY', 'PE', 'PH', 'PL', 'PT', 'SG', 'SK', 'ES', 'SE', 'CH', 'TW', 'TR', 'UY', 'US', 'GB', 'AD', 'LI', 'MC', 'ID', 'JP', 'TH', 'VN', 'RO', 'IL', 'ZA', 'SA', 'AE', 'BH', 'QA', 'OM', 'KW', 'EG', 'MA', 'DZ', 'TN', 'LB', 'JO', 'PS', 'IN', 'BY', 'KZ', 'MD', 'UA', 'AL', 'BA', 'HR', 'ME', 'MK', 'RS', 'SI', 'KR', 'BD', 'PK', 'LK', 'GH', 'KE', 'NG', 'TZ', 'UG', 'AG', 'AM', 'BS', 'BB', 'BZ', 'BT', 'BW', 'BF', 'CV', 'CW', 'DM', 'FJ', 'GM', 'GE', 'GD', 'GW', 'GY', 'HT', 'JM', 'KI', 'LS', 'LR', 'MW', 'MV', 'ML', 'MH', 'FM', 'NA', 'NR', 'NE', 'PW', 'PG', 'WS', 'SM', 'ST', 'SN', 'SC', 'SL', 'SB', 'KN', 'LC', 'VC', 'SR', 'TL', 'TO', 'TT', 'TV', 'VU', 'AZ', 'BN', 'BI', 'KH', 'CM', 'TD', 'KM', 'GQ', 'SZ', 'GA', 'GN', 'KG', 'LA', 'MO', 'MR', 'MN', 'NP', 'RW', 'TG', 'UZ', 'ZW', 'BJ', 'MG', 'MU', 'MZ', 'AO', 'CI', 'DJ', 'ZM', 'CD', 'CG', 'IQ', 'LY', 'TJ', 'VE', 'ET', 'XK'], 'disc_number': 1, 'duration_ms': 172106, 'explicit': False, 'external_ids': {'isrc': 'USA2P2108331'}, 'external_urls': {'spotify': 'https://open.spotify.com/track/0UzymivvUH5s8z4PeWZJaK'}, 'id': '0UzymivvUH5s8z4PeWZJaK', 'is_local': False, 'name': 'FEVER', 'popularity': 78, 'preview_url': 'https://p.scdn.co/mp3-preview/d96885b240d0438755364c4bdf21e090e3fb1ace?cid=d8a5ed958d274c2e8ee717e6a4b0971d', 'track_number': 3, 'type': 'track', 'uri': 'spotify:track:0UzymivvUH5s8z4PeWZJaK'}\n",
      "0UzymivvUH5s8z4PeWZJaK\n",
      "Developer msg: data already exists in database\n",
      "{'album': {'album_type': 'SINGLE', 'artists': [{'external_urls': {'spotify': 'https://open.spotify.com/artist/0LOK81e9H5lr61HlGGHqwA'}, 'id': '0LOK81e9H5lr61HlGGHqwA', 'name': 'XG', 'type': 'artist', 'uri': 'spotify:artist:0LOK81e9H5lr61HlGGHqwA'}], 'available_markets': ['AR', 'AU', 'AT', 'BE', 'BO', 'BR', 'BG', 'CA', 'CL', 'CO', 'CR', 'CY', 'CZ', 'DK', 'DO', 'DE', 'EC', 'EE', 'SV', 'FI', 'FR', 'GR', 'GT', 'HN', 'HK', 'HU', 'IS', 'IE', 'IT', 'LV', 'LT', 'LU', 'MY', 'MT', 'MX', 'NL', 'NZ', 'NI', 'NO', 'PA', 'PY', 'PE', 'PH', 'PL', 'PT', 'SG', 'SK', 'ES', 'SE', 'CH', 'TW', 'TR', 'UY', 'US', 'GB', 'AD', 'LI', 'MC', 'ID', 'JP', 'TH', 'VN', 'RO', 'IL', 'ZA', 'SA', 'AE', 'BH', 'QA', 'OM', 'KW', 'EG', 'MA', 'DZ', 'TN', 'LB', 'JO', 'PS', 'IN', 'BY', 'KZ', 'MD', 'UA', 'AL', 'BA', 'HR', 'ME', 'MK', 'RS', 'SI', 'KR', 'BD', 'PK', 'LK', 'GH', 'KE', 'NG', 'TZ', 'UG', 'AG', 'AM', 'BS', 'BB', 'BZ', 'BT', 'BW', 'BF', 'CV', 'CW', 'DM', 'FJ', 'GM', 'GE', 'GD', 'GW', 'GY', 'HT', 'JM', 'KI', 'LS', 'LR', 'MW', 'MV', 'ML', 'MH', 'FM', 'NA', 'NR', 'NE', 'PW', 'PG', 'WS', 'SM', 'ST', 'SN', 'SC', 'SL', 'SB', 'KN', 'LC', 'VC', 'SR', 'TL', 'TO', 'TT', 'TV', 'VU', 'AZ', 'BN', 'BI', 'KH', 'CM', 'TD', 'KM', 'GQ', 'SZ', 'GA', 'GN', 'KG', 'LA', 'MO', 'MR', 'MN', 'NP', 'RW', 'TG', 'UZ', 'ZW', 'BJ', 'MG', 'MU', 'MZ', 'AO', 'CI', 'DJ', 'ZM', 'CD', 'CG', 'IQ', 'LY', 'TJ', 'VE', 'ET', 'XK'], 'external_urls': {'spotify': 'https://open.spotify.com/album/1Gi6ij4Jxc4qE35i3I0gqS'}, 'id': '1Gi6ij4Jxc4qE35i3I0gqS', 'images': [{'height': 640, 'url': 'https://i.scdn.co/image/ab67616d0000b2733f40fd20e67b865fca5391a3', 'width': 640}, {'height': 300, 'url': 'https://i.scdn.co/image/ab67616d00001e023f40fd20e67b865fca5391a3', 'width': 300}, {'height': 64, 'url': 'https://i.scdn.co/image/ab67616d000048513f40fd20e67b865fca5391a3', 'width': 64}], 'name': 'SHOOTING STAR', 'release_date': '2023-01-25', 'release_date_precision': 'day', 'total_tracks': 2, 'type': 'album', 'uri': 'spotify:album:1Gi6ij4Jxc4qE35i3I0gqS'}, 'artists': [{'external_urls': {'spotify': 'https://open.spotify.com/artist/0LOK81e9H5lr61HlGGHqwA'}, 'id': '0LOK81e9H5lr61HlGGHqwA', 'name': 'XG', 'type': 'artist', 'uri': 'spotify:artist:0LOK81e9H5lr61HlGGHqwA'}], 'available_markets': ['AR', 'AU', 'AT', 'BE', 'BO', 'BR', 'BG', 'CA', 'CL', 'CO', 'CR', 'CY', 'CZ', 'DK', 'DO', 'DE', 'EC', 'EE', 'SV', 'FI', 'FR', 'GR', 'GT', 'HN', 'HK', 'HU', 'IS', 'IE', 'IT', 'LV', 'LT', 'LU', 'MY', 'MT', 'MX', 'NL', 'NZ', 'NI', 'NO', 'PA', 'PY', 'PE', 'PH', 'PL', 'PT', 'SG', 'SK', 'ES', 'SE', 'CH', 'TW', 'TR', 'UY', 'US', 'GB', 'AD', 'LI', 'MC', 'ID', 'JP', 'TH', 'VN', 'RO', 'IL', 'ZA', 'SA', 'AE', 'BH', 'QA', 'OM', 'KW', 'EG', 'MA', 'DZ', 'TN', 'LB', 'JO', 'PS', 'IN', 'BY', 'KZ', 'MD', 'UA', 'AL', 'BA', 'HR', 'ME', 'MK', 'RS', 'SI', 'KR', 'BD', 'PK', 'LK', 'GH', 'KE', 'NG', 'TZ', 'UG', 'AG', 'AM', 'BS', 'BB', 'BZ', 'BT', 'BW', 'BF', 'CV', 'CW', 'DM', 'FJ', 'GM', 'GE', 'GD', 'GW', 'GY', 'HT', 'JM', 'KI', 'LS', 'LR', 'MW', 'MV', 'ML', 'MH', 'FM', 'NA', 'NR', 'NE', 'PW', 'PG', 'WS', 'SM', 'ST', 'SN', 'SC', 'SL', 'SB', 'KN', 'LC', 'VC', 'SR', 'TL', 'TO', 'TT', 'TV', 'VU', 'AZ', 'BN', 'BI', 'KH', 'CM', 'TD', 'KM', 'GQ', 'SZ', 'GA', 'GN', 'KG', 'LA', 'MO', 'MR', 'MN', 'NP', 'RW', 'TG', 'UZ', 'ZW', 'BJ', 'MG', 'MU', 'MZ', 'AO', 'CI', 'DJ', 'ZM', 'CD', 'CG', 'IQ', 'LY', 'TJ', 'VE', 'ET', 'XK'], 'disc_number': 1, 'duration_ms': 203556, 'explicit': False, 'external_ids': {'isrc': 'JPB602104597'}, 'external_urls': {'spotify': 'https://open.spotify.com/track/3IelG5zYpWWCZIH4cqWlPV'}, 'id': '3IelG5zYpWWCZIH4cqWlPV', 'is_local': False, 'name': 'SHOOTING STAR', 'popularity': 75, 'preview_url': 'https://p.scdn.co/mp3-preview/4f29587547fa7807f9536a11df061ade3237bc2d?cid=d8a5ed958d274c2e8ee717e6a4b0971d', 'track_number': 1, 'type': 'track', 'uri': 'spotify:track:3IelG5zYpWWCZIH4cqWlPV'}\n",
      "3IelG5zYpWWCZIH4cqWlPV\n",
      "Song object (78)\n",
      "{'album': {'album_type': 'ALBUM', 'artists': [{'external_urls': {'spotify': 'https://open.spotify.com/artist/3wRA5UYoo08BBKJnzyKkpF'}, 'id': '3wRA5UYoo08BBKJnzyKkpF', 'name': 'f(x)', 'type': 'artist', 'uri': 'spotify:artist:3wRA5UYoo08BBKJnzyKkpF'}], 'available_markets': ['AR', 'AU', 'AT', 'BE', 'BO', 'BR', 'BG', 'CA', 'CL', 'CO', 'CR', 'CY', 'CZ', 'DK', 'DO', 'DE', 'EC', 'EE', 'SV', 'FI', 'FR', 'GR', 'GT', 'HN', 'HK', 'HU', 'IS', 'IE', 'IT', 'LV', 'LT', 'LU', 'MY', 'MT', 'MX', 'NL', 'NZ', 'NI', 'NO', 'PA', 'PY', 'PE', 'PH', 'PL', 'PT', 'SG', 'SK', 'ES', 'SE', 'CH', 'TW', 'TR', 'UY', 'US', 'GB', 'AD', 'LI', 'MC', 'ID', 'JP', 'TH', 'VN', 'RO', 'IL', 'ZA', 'SA', 'AE', 'BH', 'QA', 'OM', 'KW', 'EG', 'MA', 'DZ', 'TN', 'LB', 'JO', 'PS', 'IN', 'BY', 'KZ', 'MD', 'UA', 'AL', 'BA', 'HR', 'ME', 'MK', 'RS', 'SI', 'KR', 'BD', 'PK', 'LK', 'GH', 'KE', 'NG', 'TZ', 'UG', 'AG', 'AM', 'BS', 'BB', 'BZ', 'BT', 'BW', 'BF', 'CV', 'CW', 'DM', 'FJ', 'GM', 'GE', 'GD', 'GW', 'GY', 'HT', 'JM', 'KI', 'LS', 'LR', 'MW', 'MV', 'ML', 'MH', 'FM', 'NA', 'NR', 'NE', 'PW', 'PG', 'WS', 'SM', 'ST', 'SN', 'SC', 'SL', 'SB', 'KN', 'LC', 'VC', 'SR', 'TL', 'TO', 'TT', 'TV', 'VU', 'AZ', 'BN', 'BI', 'KH', 'CM', 'TD', 'KM', 'GQ', 'SZ', 'GA', 'GN', 'KG', 'LA', 'MO', 'MR', 'MN', 'NP', 'RW', 'TG', 'UZ', 'ZW', 'BJ', 'MG', 'MU', 'MZ', 'AO', 'CI', 'DJ', 'ZM', 'CD', 'CG', 'IQ', 'LY', 'TJ', 'VE', 'ET', 'XK'], 'external_urls': {'spotify': 'https://open.spotify.com/album/6yJdchE7ARS996BxRgplFH'}, 'id': '6yJdchE7ARS996BxRgplFH', 'images': [{'height': 640, 'url': 'https://i.scdn.co/image/ab67616d0000b273b6baf420e67f45971ca0d216', 'width': 640}, {'height': 300, 'url': 'https://i.scdn.co/image/ab67616d00001e02b6baf420e67f45971ca0d216', 'width': 300}, {'height': 64, 'url': 'https://i.scdn.co/image/ab67616d00004851b6baf420e67f45971ca0d216', 'width': 64}], 'name': '4 Walls - The 4th Album', 'release_date': '2015-10-27', 'release_date_precision': 'day', 'total_tracks': 10, 'type': 'album', 'uri': 'spotify:album:6yJdchE7ARS996BxRgplFH'}, 'artists': [{'external_urls': {'spotify': 'https://open.spotify.com/artist/3wRA5UYoo08BBKJnzyKkpF'}, 'id': '3wRA5UYoo08BBKJnzyKkpF', 'name': 'f(x)', 'type': 'artist', 'uri': 'spotify:artist:3wRA5UYoo08BBKJnzyKkpF'}], 'available_markets': ['AR', 'AU', 'AT', 'BE', 'BO', 'BR', 'BG', 'CA', 'CL', 'CO', 'CR', 'CY', 'CZ', 'DK', 'DO', 'DE', 'EC', 'EE', 'SV', 'FI', 'FR', 'GR', 'GT', 'HN', 'HK', 'HU', 'IS', 'IE', 'IT', 'LV', 'LT', 'LU', 'MY', 'MT', 'MX', 'NL', 'NZ', 'NI', 'NO', 'PA', 'PY', 'PE', 'PH', 'PL', 'PT', 'SG', 'SK', 'ES', 'SE', 'CH', 'TW', 'TR', 'UY', 'US', 'GB', 'AD', 'LI', 'MC', 'ID', 'JP', 'TH', 'VN', 'RO', 'IL', 'ZA', 'SA', 'AE', 'BH', 'QA', 'OM', 'KW', 'EG', 'MA', 'DZ', 'TN', 'LB', 'JO', 'PS', 'IN', 'BY', 'KZ', 'MD', 'UA', 'AL', 'BA', 'HR', 'ME', 'MK', 'RS', 'SI', 'KR', 'BD', 'PK', 'LK', 'GH', 'KE', 'NG', 'TZ', 'UG', 'AG', 'AM', 'BS', 'BB', 'BZ', 'BT', 'BW', 'BF', 'CV', 'CW', 'DM', 'FJ', 'GM', 'GE', 'GD', 'GW', 'GY', 'HT', 'JM', 'KI', 'LS', 'LR', 'MW', 'MV', 'ML', 'MH', 'FM', 'NA', 'NR', 'NE', 'PW', 'PG', 'WS', 'SM', 'ST', 'SN', 'SC', 'SL', 'SB', 'KN', 'LC', 'VC', 'SR', 'TL', 'TO', 'TT', 'TV', 'VU', 'AZ', 'BN', 'BI', 'KH', 'CM', 'TD', 'KM', 'GQ', 'SZ', 'GA', 'GN', 'KG', 'LA', 'MO', 'MR', 'MN', 'NP', 'RW', 'TG', 'UZ', 'ZW', 'BJ', 'MG', 'MU', 'MZ', 'AO', 'CI', 'DJ', 'ZM', 'CD', 'CG', 'IQ', 'LY', 'TJ', 'VE', 'ET', 'XK'], 'disc_number': 1, 'duration_ms': 207477, 'explicit': False, 'external_ids': {'isrc': 'KRA301500519'}, 'external_urls': {'spotify': 'https://open.spotify.com/track/2YkjXEab4USTV9uuAgC90E'}, 'id': '2YkjXEab4USTV9uuAgC90E', 'is_local': False, 'name': '4 Walls', 'popularity': 60, 'preview_url': 'https://p.scdn.co/mp3-preview/f5c6c152c9a14ca048ab03eb5a762e9ce8c5f3e6?cid=d8a5ed958d274c2e8ee717e6a4b0971d', 'track_number': 1, 'type': 'track', 'uri': 'spotify:track:2YkjXEab4USTV9uuAgC90E'}\n",
      "2YkjXEab4USTV9uuAgC90E\n",
      "Song object (79)\n",
      "{'album': {'album_type': 'SINGLE', 'artists': [{'external_urls': {'spotify': 'https://open.spotify.com/artist/68KmkJeZGfwe1OUaivBa2L'}, 'id': '68KmkJeZGfwe1OUaivBa2L', 'name': 'ATEEZ', 'type': 'artist', 'uri': 'spotify:artist:68KmkJeZGfwe1OUaivBa2L'}], 'available_markets': ['AR', 'AU', 'AT', 'BE', 'BO', 'BR', 'BG', 'CA', 'CL', 'CO', 'CR', 'CY', 'CZ', 'DK', 'DO', 'DE', 'EC', 'EE', 'SV', 'FI', 'FR', 'GR', 'GT', 'HN', 'HK', 'HU', 'IS', 'IE', 'IT', 'LV', 'LT', 'LU', 'MY', 'MT', 'MX', 'NL', 'NZ', 'NI', 'NO', 'PA', 'PY', 'PE', 'PH', 'PL', 'PT', 'SG', 'SK', 'ES', 'SE', 'CH', 'TW', 'TR', 'UY', 'US', 'GB', 'AD', 'LI', 'MC', 'ID', 'JP', 'TH', 'VN', 'RO', 'IL', 'ZA', 'SA', 'AE', 'BH', 'QA', 'OM', 'KW', 'EG', 'MA', 'DZ', 'TN', 'LB', 'JO', 'PS', 'IN', 'BY', 'KZ', 'MD', 'UA', 'AL', 'BA', 'HR', 'ME', 'MK', 'RS', 'SI', 'BD', 'PK', 'LK', 'GH', 'KE', 'NG', 'TZ', 'UG', 'AG', 'AM', 'BS', 'BB', 'BZ', 'BT', 'BW', 'BF', 'CV', 'CW', 'DM', 'FJ', 'GM', 'GE', 'GD', 'GW', 'GY', 'HT', 'JM', 'KI', 'LS', 'LR', 'MW', 'MV', 'ML', 'MH', 'FM', 'NA', 'NR', 'NE', 'PW', 'PG', 'WS', 'SM', 'ST', 'SN', 'SC', 'SL', 'SB', 'KN', 'LC', 'VC', 'SR', 'TL', 'TO', 'TT', 'TV', 'VU', 'AZ', 'BN', 'BI', 'KH', 'CM', 'TD', 'KM', 'GQ', 'SZ', 'GA', 'GN', 'KG', 'LA', 'MO', 'MR', 'MN', 'NP', 'RW', 'TG', 'UZ', 'ZW', 'BJ', 'MG', 'MU', 'MZ', 'AO', 'CI', 'DJ', 'ZM', 'CD', 'CG', 'IQ', 'LY', 'TJ', 'VE', 'ET', 'XK'], 'external_urls': {'spotify': 'https://open.spotify.com/album/0NQQk6vo9LOOwKjZc2iUwm'}, 'id': '0NQQk6vo9LOOwKjZc2iUwm', 'images': [{'height': 640, 'url': 'https://i.scdn.co/image/ab67616d0000b2738bc5762a75c18b494803705c', 'width': 640}, {'height': 300, 'url': 'https://i.scdn.co/image/ab67616d00001e028bc5762a75c18b494803705c', 'width': 300}, {'height': 64, 'url': 'https://i.scdn.co/image/ab67616d000048518bc5762a75c18b494803705c', 'width': 64}], 'name': 'SPIN OFF : FROM THE WITNESS', 'release_date': '2022-12-30', 'release_date_precision': 'day', 'total_tracks': 5, 'type': 'album', 'uri': 'spotify:album:0NQQk6vo9LOOwKjZc2iUwm'}, 'artists': [{'external_urls': {'spotify': 'https://open.spotify.com/artist/68KmkJeZGfwe1OUaivBa2L'}, 'id': '68KmkJeZGfwe1OUaivBa2L', 'name': 'ATEEZ', 'type': 'artist', 'uri': 'spotify:artist:68KmkJeZGfwe1OUaivBa2L'}], 'available_markets': ['AR', 'AU', 'AT', 'BE', 'BO', 'BR', 'BG', 'CA', 'CL', 'CO', 'CR', 'CY', 'CZ', 'DK', 'DO', 'DE', 'EC', 'EE', 'SV', 'FI', 'FR', 'GR', 'GT', 'HN', 'HK', 'HU', 'IS', 'IE', 'IT', 'LV', 'LT', 'LU', 'MY', 'MT', 'MX', 'NL', 'NZ', 'NI', 'NO', 'PA', 'PY', 'PE', 'PH', 'PL', 'PT', 'SG', 'SK', 'ES', 'SE', 'CH', 'TW', 'TR', 'UY', 'US', 'GB', 'AD', 'LI', 'MC', 'ID', 'JP', 'TH', 'VN', 'RO', 'IL', 'ZA', 'SA', 'AE', 'BH', 'QA', 'OM', 'KW', 'EG', 'MA', 'DZ', 'TN', 'LB', 'JO', 'PS', 'IN', 'BY', 'KZ', 'MD', 'UA', 'AL', 'BA', 'HR', 'ME', 'MK', 'RS', 'SI', 'BD', 'PK', 'LK', 'GH', 'KE', 'NG', 'TZ', 'UG', 'AG', 'AM', 'BS', 'BB', 'BZ', 'BT', 'BW', 'BF', 'CV', 'CW', 'DM', 'FJ', 'GM', 'GE', 'GD', 'GW', 'GY', 'HT', 'JM', 'KI', 'LS', 'LR', 'MW', 'MV', 'ML', 'MH', 'FM', 'NA', 'NR', 'NE', 'PW', 'PG', 'WS', 'SM', 'ST', 'SN', 'SC', 'SL', 'SB', 'KN', 'LC', 'VC', 'SR', 'TL', 'TO', 'TT', 'TV', 'VU', 'AZ', 'BN', 'BI', 'KH', 'CM', 'TD', 'KM', 'GQ', 'SZ', 'GA', 'GN', 'KG', 'LA', 'MO', 'MR', 'MN', 'NP', 'RW', 'TG', 'UZ', 'ZW', 'BJ', 'MG', 'MU', 'MZ', 'AO', 'CI', 'DJ', 'ZM', 'CD', 'CG', 'IQ', 'LY', 'TJ', 'VE', 'ET', 'XK'], 'disc_number': 1, 'duration_ms': 197025, 'explicit': False, 'external_ids': {'isrc': 'KRD442200014'}, 'external_urls': {'spotify': 'https://open.spotify.com/track/5cTnKClHyczcUhFT8MKBZe'}, 'id': '5cTnKClHyczcUhFT8MKBZe', 'is_local': False, 'name': 'HALAZIA', 'popularity': 71, 'preview_url': 'https://p.scdn.co/mp3-preview/8305f7868700333919895aa7b2e1a68c8f30ebf7?cid=d8a5ed958d274c2e8ee717e6a4b0971d', 'track_number': 1, 'type': 'track', 'uri': 'spotify:track:5cTnKClHyczcUhFT8MKBZe'}\n",
      "5cTnKClHyczcUhFT8MKBZe\n",
      "Developer msg: data already exists in database\n",
      "{'album': {'album_type': 'SINGLE', 'artists': [{'external_urls': {'spotify': 'https://open.spotify.com/artist/49muoiIu4uea4PO8vueUNN'}, 'id': '49muoiIu4uea4PO8vueUNN', 'name': 'YENA', 'type': 'artist', 'uri': 'spotify:artist:49muoiIu4uea4PO8vueUNN'}], 'available_markets': ['AR', 'AU', 'AT', 'BE', 'BO', 'BR', 'BG', 'CA', 'CL', 'CO', 'CR', 'CY', 'CZ', 'DK', 'DO', 'DE', 'EC', 'EE', 'SV', 'FI', 'FR', 'GR', 'GT', 'HN', 'HK', 'HU', 'IS', 'IE', 'IT', 'LV', 'LT', 'LU', 'MY', 'MT', 'MX', 'NL', 'NZ', 'NI', 'NO', 'PA', 'PY', 'PE', 'PH', 'PL', 'PT', 'SG', 'SK', 'ES', 'SE', 'CH', 'TW', 'TR', 'UY', 'US', 'GB', 'AD', 'LI', 'MC', 'ID', 'JP', 'TH', 'VN', 'RO', 'IL', 'ZA', 'SA', 'AE', 'BH', 'QA', 'OM', 'KW', 'EG', 'MA', 'DZ', 'TN', 'LB', 'JO', 'PS', 'IN', 'BY', 'KZ', 'MD', 'UA', 'AL', 'BA', 'HR', 'ME', 'MK', 'RS', 'SI', 'KR', 'BD', 'PK', 'LK', 'GH', 'KE', 'NG', 'TZ', 'UG', 'AG', 'AM', 'BS', 'BB', 'BZ', 'BT', 'BW', 'BF', 'CV', 'CW', 'DM', 'FJ', 'GM', 'GE', 'GD', 'GW', 'GY', 'HT', 'JM', 'KI', 'LS', 'LR', 'MW', 'MV', 'ML', 'MH', 'FM', 'NA', 'NR', 'NE', 'PW', 'PG', 'WS', 'SM', 'ST', 'SN', 'SC', 'SL', 'SB', 'KN', 'LC', 'VC', 'SR', 'TL', 'TO', 'TT', 'TV', 'VU', 'AZ', 'BN', 'BI', 'KH', 'CM', 'TD', 'KM', 'GQ', 'SZ', 'GA', 'GN', 'KG', 'LA', 'MO', 'MR', 'MN', 'NP', 'RW', 'TG', 'UZ', 'ZW', 'BJ', 'MG', 'MU', 'MZ', 'AO', 'CI', 'DJ', 'ZM', 'CD', 'CG', 'IQ', 'LY', 'TJ', 'VE', 'ET', 'XK'], 'external_urls': {'spotify': 'https://open.spotify.com/album/3aYLtPSWEqmcLTCfM0ZYl7'}, 'id': '3aYLtPSWEqmcLTCfM0ZYl7', 'images': [{'height': 640, 'url': 'https://i.scdn.co/image/ab67616d0000b273afedcb63d2ef759322629930', 'width': 640}, {'height': 300, 'url': 'https://i.scdn.co/image/ab67616d00001e02afedcb63d2ef759322629930', 'width': 300}, {'height': 64, 'url': 'https://i.scdn.co/image/ab67616d00004851afedcb63d2ef759322629930', 'width': 64}], 'name': 'HATE XX', 'release_date': '2023-06-27', 'release_date_precision': 'day', 'total_tracks': 3, 'type': 'album', 'uri': 'spotify:album:3aYLtPSWEqmcLTCfM0ZYl7'}, 'artists': [{'external_urls': {'spotify': 'https://open.spotify.com/artist/49muoiIu4uea4PO8vueUNN'}, 'id': '49muoiIu4uea4PO8vueUNN', 'name': 'YENA', 'type': 'artist', 'uri': 'spotify:artist:49muoiIu4uea4PO8vueUNN'}, {'external_urls': {'spotify': 'https://open.spotify.com/artist/22aCD8IrQZjcPgZw728QT6'}, 'id': '22aCD8IrQZjcPgZw728QT6', 'name': 'YUQI', 'type': 'artist', 'uri': 'spotify:artist:22aCD8IrQZjcPgZw728QT6'}], 'available_markets': ['AR', 'AU', 'AT', 'BE', 'BO', 'BR', 'BG', 'CA', 'CL', 'CO', 'CR', 'CY', 'CZ', 'DK', 'DO', 'DE', 'EC', 'EE', 'SV', 'FI', 'FR', 'GR', 'GT', 'HN', 'HK', 'HU', 'IS', 'IE', 'IT', 'LV', 'LT', 'LU', 'MY', 'MT', 'MX', 'NL', 'NZ', 'NI', 'NO', 'PA', 'PY', 'PE', 'PH', 'PL', 'PT', 'SG', 'SK', 'ES', 'SE', 'CH', 'TW', 'TR', 'UY', 'US', 'GB', 'AD', 'LI', 'MC', 'ID', 'JP', 'TH', 'VN', 'RO', 'IL', 'ZA', 'SA', 'AE', 'BH', 'QA', 'OM', 'KW', 'EG', 'MA', 'DZ', 'TN', 'LB', 'JO', 'PS', 'IN', 'BY', 'KZ', 'MD', 'UA', 'AL', 'BA', 'HR', 'ME', 'MK', 'RS', 'SI', 'KR', 'BD', 'PK', 'LK', 'GH', 'KE', 'NG', 'TZ', 'UG', 'AG', 'AM', 'BS', 'BB', 'BZ', 'BT', 'BW', 'BF', 'CV', 'CW', 'DM', 'FJ', 'GM', 'GE', 'GD', 'GW', 'GY', 'HT', 'JM', 'KI', 'LS', 'LR', 'MW', 'MV', 'ML', 'MH', 'FM', 'NA', 'NR', 'NE', 'PW', 'PG', 'WS', 'SM', 'ST', 'SN', 'SC', 'SL', 'SB', 'KN', 'LC', 'VC', 'SR', 'TL', 'TO', 'TT', 'TV', 'VU', 'AZ', 'BN', 'BI', 'KH', 'CM', 'TD', 'KM', 'GQ', 'SZ', 'GA', 'GN', 'KG', 'LA', 'MO', 'MR', 'MN', 'NP', 'RW', 'TG', 'UZ', 'ZW', 'BJ', 'MG', 'MU', 'MZ', 'AO', 'CI', 'DJ', 'ZM', 'CD', 'CG', 'IQ', 'LY', 'TJ', 'VE', 'ET', 'XK'], 'disc_number': 1, 'duration_ms': 181013, 'explicit': False, 'external_ids': {'isrc': 'KRMIM2364497'}, 'external_urls': {'spotify': 'https://open.spotify.com/track/5ms7rcVKjBFUtoVh8hE0Y9'}, 'id': '5ms7rcVKjBFUtoVh8hE0Y9', 'is_local': False, 'name': 'Hate Rodrigo (Feat. YUQI)', 'popularity': 63, 'preview_url': 'https://p.scdn.co/mp3-preview/034899d50369205a75c575b8f897465e90dca6b1?cid=d8a5ed958d274c2e8ee717e6a4b0971d', 'track_number': 2, 'type': 'track', 'uri': 'spotify:track:5ms7rcVKjBFUtoVh8hE0Y9'}\n",
      "5ms7rcVKjBFUtoVh8hE0Y9\n",
      "Developer msg: data already exists in database\n",
      "{'album': {'album_type': 'SINGLE', 'artists': [{'external_urls': {'spotify': 'https://open.spotify.com/artist/2pHkxVNynHBwQHhGaoBIXX'}, 'id': '2pHkxVNynHBwQHhGaoBIXX', 'name': 'MINNIE', 'type': 'artist', 'uri': 'spotify:artist:2pHkxVNynHBwQHhGaoBIXX'}], 'available_markets': ['AR', 'AU', 'AT', 'BE', 'BO', 'BR', 'BG', 'CA', 'CL', 'CO', 'CR', 'CY', 'CZ', 'DK', 'DO', 'DE', 'EC', 'EE', 'SV', 'FI', 'FR', 'GR', 'GT', 'HN', 'HK', 'HU', 'IS', 'IE', 'IT', 'LV', 'LT', 'LU', 'MY', 'MT', 'MX', 'NL', 'NZ', 'NI', 'NO', 'PA', 'PY', 'PE', 'PH', 'PL', 'PT', 'SG', 'SK', 'ES', 'SE', 'CH', 'TW', 'TR', 'UY', 'US', 'GB', 'AD', 'LI', 'MC', 'ID', 'JP', 'TH', 'VN', 'RO', 'IL', 'ZA', 'SA', 'AE', 'BH', 'QA', 'OM', 'KW', 'EG', 'MA', 'DZ', 'TN', 'LB', 'JO', 'PS', 'IN', 'BY', 'KZ', 'MD', 'UA', 'AL', 'BA', 'HR', 'ME', 'MK', 'RS', 'SI', 'KR', 'BD', 'PK', 'LK', 'GH', 'KE', 'NG', 'TZ', 'UG', 'AG', 'AM', 'BS', 'BB', 'BZ', 'BT', 'BW', 'BF', 'CV', 'CW', 'DM', 'FJ', 'GM', 'GE', 'GD', 'GW', 'GY', 'HT', 'JM', 'KI', 'LS', 'LR', 'MW', 'MV', 'ML', 'MH', 'FM', 'NA', 'NR', 'NE', 'PW', 'PG', 'WS', 'SM', 'ST', 'SN', 'SC', 'SL', 'SB', 'KN', 'LC', 'VC', 'SR', 'TL', 'TO', 'TT', 'TV', 'VU', 'AZ', 'BN', 'BI', 'KH', 'CM', 'TD', 'KM', 'GQ', 'SZ', 'GA', 'GN', 'KG', 'LA', 'MO', 'MR', 'MN', 'NP', 'RW', 'TG', 'UZ', 'ZW', 'BJ', 'MG', 'MU', 'MZ', 'AO', 'CI', 'DJ', 'ZM', 'CD', 'CG', 'IQ', 'LY', 'TJ', 'VE', 'ET', 'XK'], 'external_urls': {'spotify': 'https://open.spotify.com/album/5OsYBSHNEPKBL4qDvjVqec'}, 'id': '5OsYBSHNEPKBL4qDvjVqec', 'images': [{'height': 640, 'url': 'https://i.scdn.co/image/ab67616d0000b273806522857f4247d1dc4429f8', 'width': 640}, {'height': 300, 'url': 'https://i.scdn.co/image/ab67616d00001e02806522857f4247d1dc4429f8', 'width': 300}, {'height': 64, 'url': 'https://i.scdn.co/image/ab67616d00004851806522857f4247d1dc4429f8', 'width': 64}], 'name': 'It Was All a Mistake OST Part. 2 (Soundtrack)', 'release_date': '2023-01-27', 'release_date_precision': 'day', 'total_tracks': 2, 'type': 'album', 'uri': 'spotify:album:5OsYBSHNEPKBL4qDvjVqec'}, 'artists': [{'external_urls': {'spotify': 'https://open.spotify.com/artist/2pHkxVNynHBwQHhGaoBIXX'}, 'id': '2pHkxVNynHBwQHhGaoBIXX', 'name': 'MINNIE', 'type': 'artist', 'uri': 'spotify:artist:2pHkxVNynHBwQHhGaoBIXX'}], 'available_markets': ['AR', 'AU', 'AT', 'BE', 'BO', 'BR', 'BG', 'CA', 'CL', 'CO', 'CR', 'CY', 'CZ', 'DK', 'DO', 'DE', 'EC', 'EE', 'SV', 'FI', 'FR', 'GR', 'GT', 'HN', 'HK', 'HU', 'IS', 'IE', 'IT', 'LV', 'LT', 'LU', 'MY', 'MT', 'MX', 'NL', 'NZ', 'NI', 'NO', 'PA', 'PY', 'PE', 'PH', 'PL', 'PT', 'SG', 'SK', 'ES', 'SE', 'CH', 'TW', 'TR', 'UY', 'US', 'GB', 'AD', 'LI', 'MC', 'ID', 'JP', 'TH', 'VN', 'RO', 'IL', 'ZA', 'SA', 'AE', 'BH', 'QA', 'OM', 'KW', 'EG', 'MA', 'DZ', 'TN', 'LB', 'JO', 'PS', 'IN', 'BY', 'KZ', 'MD', 'UA', 'AL', 'BA', 'HR', 'ME', 'MK', 'RS', 'SI', 'KR', 'BD', 'PK', 'LK', 'GH', 'KE', 'NG', 'TZ', 'UG', 'AG', 'AM', 'BS', 'BB', 'BZ', 'BT', 'BW', 'BF', 'CV', 'CW', 'DM', 'FJ', 'GM', 'GE', 'GD', 'GW', 'GY', 'HT', 'JM', 'KI', 'LS', 'LR', 'MW', 'MV', 'ML', 'MH', 'FM', 'NA', 'NR', 'NE', 'PW', 'PG', 'WS', 'SM', 'ST', 'SN', 'SC', 'SL', 'SB', 'KN', 'LC', 'VC', 'SR', 'TL', 'TO', 'TT', 'TV', 'VU', 'AZ', 'BN', 'BI', 'KH', 'CM', 'TD', 'KM', 'GQ', 'SZ', 'GA', 'GN', 'KG', 'LA', 'MO', 'MR', 'MN', 'NP', 'RW', 'TG', 'UZ', 'ZW', 'BJ', 'MG', 'MU', 'MZ', 'AO', 'CI', 'DJ', 'ZM', 'CD', 'CG', 'IQ', 'LY', 'TJ', 'VE', 'ET', 'XK'], 'disc_number': 1, 'duration_ms': 184560, 'explicit': False, 'external_ids': {'isrc': 'QZNCB2185121'}, 'external_urls': {'spotify': 'https://open.spotify.com/track/5e7WT8HDdFlHQBO3ZbKvVj'}, 'id': '5e7WT8HDdFlHQBO3ZbKvVj', 'is_local': False, 'name': 'In The Novel', 'popularity': 51, 'preview_url': 'https://p.scdn.co/mp3-preview/6738ee18455bed6691fed0a7b4e00dda333757b9?cid=d8a5ed958d274c2e8ee717e6a4b0971d', 'track_number': 1, 'type': 'track', 'uri': 'spotify:track:5e7WT8HDdFlHQBO3ZbKvVj'}\n",
      "5e7WT8HDdFlHQBO3ZbKvVj\n",
      "Song object (82)\n",
      "{'album': {'album_type': 'SINGLE', 'artists': [{'external_urls': {'spotify': 'https://open.spotify.com/artist/6HvZYsbFfjnjFrWF950C9d'}, 'id': '6HvZYsbFfjnjFrWF950C9d', 'name': 'NewJeans', 'type': 'artist', 'uri': 'spotify:artist:6HvZYsbFfjnjFrWF950C9d'}], 'available_markets': ['AR', 'AU', 'AT', 'BE', 'BO', 'BR', 'BG', 'CA', 'CL', 'CO', 'CR', 'CY', 'CZ', 'DK', 'DO', 'DE', 'EC', 'EE', 'SV', 'FI', 'FR', 'GR', 'GT', 'HN', 'HK', 'HU', 'IS', 'IE', 'IT', 'LV', 'LT', 'LU', 'MY', 'MT', 'MX', 'NL', 'NZ', 'NI', 'NO', 'PA', 'PY', 'PE', 'PH', 'PL', 'PT', 'SG', 'SK', 'ES', 'SE', 'CH', 'TW', 'TR', 'UY', 'US', 'GB', 'AD', 'LI', 'MC', 'ID', 'JP', 'TH', 'VN', 'RO', 'IL', 'ZA', 'SA', 'AE', 'BH', 'QA', 'OM', 'KW', 'EG', 'MA', 'DZ', 'TN', 'LB', 'JO', 'PS', 'IN', 'BY', 'KZ', 'MD', 'UA', 'AL', 'BA', 'HR', 'ME', 'MK', 'RS', 'SI', 'KR', 'BD', 'PK', 'LK', 'GH', 'KE', 'NG', 'TZ', 'UG', 'AG', 'AM', 'BS', 'BB', 'BZ', 'BT', 'BW', 'BF', 'CV', 'CW', 'DM', 'FJ', 'GM', 'GE', 'GD', 'GW', 'GY', 'HT', 'JM', 'KI', 'LS', 'LR', 'MW', 'MV', 'ML', 'MH', 'FM', 'NA', 'NR', 'NE', 'PW', 'PG', 'WS', 'SM', 'ST', 'SN', 'SC', 'SL', 'SB', 'KN', 'LC', 'VC', 'SR', 'TL', 'TO', 'TT', 'TV', 'VU', 'AZ', 'BN', 'BI', 'KH', 'CM', 'TD', 'KM', 'GQ', 'SZ', 'GA', 'GN', 'KG', 'LA', 'MO', 'MR', 'MN', 'NP', 'RW', 'TG', 'UZ', 'ZW', 'BJ', 'MG', 'MU', 'MZ', 'AO', 'CI', 'DJ', 'ZM', 'CD', 'CG', 'IQ', 'LY', 'TJ', 'VE', 'ET', 'XK'], 'external_urls': {'spotify': 'https://open.spotify.com/album/1HMLpmZAnNyl9pxvOnTovV'}, 'id': '1HMLpmZAnNyl9pxvOnTovV', 'images': [{'height': 640, 'url': 'https://i.scdn.co/image/ab67616d0000b2739d28fd01859073a3ae6ea209', 'width': 640}, {'height': 300, 'url': 'https://i.scdn.co/image/ab67616d00001e029d28fd01859073a3ae6ea209', 'width': 300}, {'height': 64, 'url': 'https://i.scdn.co/image/ab67616d000048519d28fd01859073a3ae6ea209', 'width': 64}], 'name': \"NewJeans 1st EP 'New Jeans'\", 'release_date': '2022-08-01', 'release_date_precision': 'day', 'total_tracks': 4, 'type': 'album', 'uri': 'spotify:album:1HMLpmZAnNyl9pxvOnTovV'}, 'artists': [{'external_urls': {'spotify': 'https://open.spotify.com/artist/6HvZYsbFfjnjFrWF950C9d'}, 'id': '6HvZYsbFfjnjFrWF950C9d', 'name': 'NewJeans', 'type': 'artist', 'uri': 'spotify:artist:6HvZYsbFfjnjFrWF950C9d'}], 'available_markets': ['AR', 'AU', 'AT', 'BE', 'BO', 'BR', 'BG', 'CA', 'CL', 'CO', 'CR', 'CY', 'CZ', 'DK', 'DO', 'DE', 'EC', 'EE', 'SV', 'FI', 'FR', 'GR', 'GT', 'HN', 'HK', 'HU', 'IS', 'IE', 'IT', 'LV', 'LT', 'LU', 'MY', 'MT', 'MX', 'NL', 'NZ', 'NI', 'NO', 'PA', 'PY', 'PE', 'PH', 'PL', 'PT', 'SG', 'SK', 'ES', 'SE', 'CH', 'TW', 'TR', 'UY', 'US', 'GB', 'AD', 'LI', 'MC', 'ID', 'JP', 'TH', 'VN', 'RO', 'IL', 'ZA', 'SA', 'AE', 'BH', 'QA', 'OM', 'KW', 'EG', 'MA', 'DZ', 'TN', 'LB', 'JO', 'PS', 'IN', 'BY', 'KZ', 'MD', 'UA', 'AL', 'BA', 'HR', 'ME', 'MK', 'RS', 'SI', 'KR', 'BD', 'PK', 'LK', 'GH', 'KE', 'NG', 'TZ', 'UG', 'AG', 'AM', 'BS', 'BB', 'BZ', 'BT', 'BW', 'BF', 'CV', 'CW', 'DM', 'FJ', 'GM', 'GE', 'GD', 'GW', 'GY', 'HT', 'JM', 'KI', 'LS', 'LR', 'MW', 'MV', 'ML', 'MH', 'FM', 'NA', 'NR', 'NE', 'PW', 'PG', 'WS', 'SM', 'ST', 'SN', 'SC', 'SL', 'SB', 'KN', 'LC', 'VC', 'SR', 'TL', 'TO', 'TT', 'TV', 'VU', 'AZ', 'BN', 'BI', 'KH', 'CM', 'TD', 'KM', 'GQ', 'SZ', 'GA', 'GN', 'KG', 'LA', 'MO', 'MR', 'MN', 'NP', 'RW', 'TG', 'UZ', 'ZW', 'BJ', 'MG', 'MU', 'MZ', 'AO', 'CI', 'DJ', 'ZM', 'CD', 'CG', 'IQ', 'LY', 'TJ', 'VE', 'ET', 'XK'], 'disc_number': 1, 'duration_ms': 177946, 'explicit': False, 'external_ids': {'isrc': 'USA2P2230224'}, 'external_urls': {'spotify': 'https://open.spotify.com/track/5expoVGQPvXuwBBFuNGqBd'}, 'id': '5expoVGQPvXuwBBFuNGqBd', 'is_local': False, 'name': 'Hurt', 'popularity': 78, 'preview_url': 'https://p.scdn.co/mp3-preview/6df87f1a4b207f284916aa305f20a9eac0a88f75?cid=d8a5ed958d274c2e8ee717e6a4b0971d', 'track_number': 4, 'type': 'track', 'uri': 'spotify:track:5expoVGQPvXuwBBFuNGqBd'}\n",
      "5expoVGQPvXuwBBFuNGqBd\n",
      "Song object (83)\n",
      "{'album': {'album_type': 'SINGLE', 'artists': [{'external_urls': {'spotify': 'https://open.spotify.com/artist/3UwlejyX2b458azZ7eCnHb'}, 'id': '3UwlejyX2b458azZ7eCnHb', 'name': 'HyunA', 'type': 'artist', 'uri': 'spotify:artist:3UwlejyX2b458azZ7eCnHb'}], 'available_markets': ['AR', 'AU', 'AT', 'BE', 'BO', 'BR', 'BG', 'CA', 'CL', 'CO', 'CR', 'CY', 'CZ', 'DK', 'DO', 'DE', 'EC', 'EE', 'SV', 'FI', 'FR', 'GR', 'GT', 'HN', 'HU', 'IS', 'IE', 'IT', 'LV', 'LT', 'LU', 'MY', 'MT', 'MX', 'NL', 'NZ', 'NI', 'NO', 'PA', 'PY', 'PE', 'PH', 'PL', 'PT', 'SG', 'SK', 'ES', 'SE', 'CH', 'TR', 'UY', 'US', 'GB', 'AD', 'LI', 'MC', 'ID', 'JP', 'TH', 'VN', 'RO', 'IL', 'ZA', 'SA', 'AE', 'BH', 'QA', 'OM', 'KW', 'EG', 'MA', 'DZ', 'TN', 'LB', 'JO', 'PS', 'IN', 'BY', 'KZ', 'MD', 'UA', 'AL', 'BA', 'HR', 'ME', 'MK', 'RS', 'SI', 'KR', 'BD', 'PK', 'LK', 'GH', 'KE', 'NG', 'TZ', 'UG', 'AG', 'AM', 'BS', 'BB', 'BZ', 'BT', 'BW', 'BF', 'CV', 'CW', 'DM', 'FJ', 'GM', 'GE', 'GD', 'GW', 'GY', 'HT', 'JM', 'KI', 'LS', 'LR', 'MW', 'MV', 'ML', 'MH', 'FM', 'NA', 'NR', 'NE', 'PW', 'PG', 'WS', 'SM', 'ST', 'SN', 'SC', 'SL', 'SB', 'KN', 'LC', 'VC', 'SR', 'TL', 'TO', 'TT', 'TV', 'VU', 'AZ', 'BN', 'BI', 'KH', 'CM', 'TD', 'KM', 'GQ', 'SZ', 'GA', 'GN', 'KG', 'LA', 'MR', 'MN', 'NP', 'RW', 'TG', 'UZ', 'ZW', 'BJ', 'MG', 'MU', 'MZ', 'AO', 'CI', 'DJ', 'ZM', 'CD', 'CG', 'IQ', 'LY', 'TJ', 'VE', 'ET', 'XK'], 'external_urls': {'spotify': 'https://open.spotify.com/album/7lmFcQr3449htbZzcWRzOL'}, 'id': '7lmFcQr3449htbZzcWRzOL', 'images': [{'height': 640, 'url': 'https://i.scdn.co/image/ab67616d0000b2739a82eca66c90a2ca02c94bba', 'width': 640}, {'height': 300, 'url': 'https://i.scdn.co/image/ab67616d00001e029a82eca66c90a2ca02c94bba', 'width': 300}, {'height': 64, 'url': 'https://i.scdn.co/image/ab67616d000048519a82eca66c90a2ca02c94bba', 'width': 64}], 'name': 'Nabillera', 'release_date': '2022-07-20', 'release_date_precision': 'day', 'total_tracks': 5, 'type': 'album', 'uri': 'spotify:album:7lmFcQr3449htbZzcWRzOL'}, 'artists': [{'external_urls': {'spotify': 'https://open.spotify.com/artist/3UwlejyX2b458azZ7eCnHb'}, 'id': '3UwlejyX2b458azZ7eCnHb', 'name': 'HyunA', 'type': 'artist', 'uri': 'spotify:artist:3UwlejyX2b458azZ7eCnHb'}], 'available_markets': ['AR', 'AU', 'AT', 'BE', 'BO', 'BR', 'BG', 'CA', 'CL', 'CO', 'CR', 'CY', 'CZ', 'DK', 'DO', 'DE', 'EC', 'EE', 'SV', 'FI', 'FR', 'GR', 'GT', 'HN', 'HU', 'IS', 'IE', 'IT', 'LV', 'LT', 'LU', 'MY', 'MT', 'MX', 'NL', 'NZ', 'NI', 'NO', 'PA', 'PY', 'PE', 'PH', 'PL', 'PT', 'SG', 'SK', 'ES', 'SE', 'CH', 'TR', 'UY', 'US', 'GB', 'AD', 'LI', 'MC', 'ID', 'JP', 'TH', 'VN', 'RO', 'IL', 'ZA', 'SA', 'AE', 'BH', 'QA', 'OM', 'KW', 'EG', 'MA', 'DZ', 'TN', 'LB', 'JO', 'PS', 'IN', 'BY', 'KZ', 'MD', 'UA', 'AL', 'BA', 'HR', 'ME', 'MK', 'RS', 'SI', 'KR', 'BD', 'PK', 'LK', 'GH', 'KE', 'NG', 'TZ', 'UG', 'AG', 'AM', 'BS', 'BB', 'BZ', 'BT', 'BW', 'BF', 'CV', 'CW', 'DM', 'FJ', 'GM', 'GE', 'GD', 'GW', 'GY', 'HT', 'JM', 'KI', 'LS', 'LR', 'MW', 'MV', 'ML', 'MH', 'FM', 'NA', 'NR', 'NE', 'PW', 'PG', 'WS', 'SM', 'ST', 'SN', 'SC', 'SL', 'SB', 'KN', 'LC', 'VC', 'SR', 'TL', 'TO', 'TT', 'TV', 'VU', 'AZ', 'BN', 'BI', 'KH', 'CM', 'TD', 'KM', 'GQ', 'SZ', 'GA', 'GN', 'KG', 'LA', 'MR', 'MN', 'NP', 'RW', 'TG', 'UZ', 'ZW', 'BJ', 'MG', 'MU', 'MZ', 'AO', 'CI', 'DJ', 'ZM', 'CD', 'CG', 'IQ', 'LY', 'TJ', 'VE', 'ET', 'XK'], 'disc_number': 1, 'duration_ms': 168462, 'explicit': False, 'external_ids': {'isrc': 'KRA382206327'}, 'external_urls': {'spotify': 'https://open.spotify.com/track/0m3BNGjvpYtxywepORwT6N'}, 'id': '0m3BNGjvpYtxywepORwT6N', 'is_local': False, 'name': 'Nabillera', 'popularity': 49, 'preview_url': 'https://p.scdn.co/mp3-preview/a103f694b2d7844580c6590c023d1ddaf6128309?cid=d8a5ed958d274c2e8ee717e6a4b0971d', 'track_number': 1, 'type': 'track', 'uri': 'spotify:track:0m3BNGjvpYtxywepORwT6N'}\n",
      "0m3BNGjvpYtxywepORwT6N\n",
      "Song object (84)\n",
      "{'album': {'album_type': 'ALBUM', 'artists': [{'external_urls': {'spotify': 'https://open.spotify.com/artist/2dIgFjalVxs4ThymZ67YCE'}, 'id': '2dIgFjalVxs4ThymZ67YCE', 'name': 'Stray Kids', 'type': 'artist', 'uri': 'spotify:artist:2dIgFjalVxs4ThymZ67YCE'}], 'available_markets': ['JP'], 'external_urls': {'spotify': 'https://open.spotify.com/album/1byOOf9U3IiQN1cVHqRqEF'}, 'id': '1byOOf9U3IiQN1cVHqRqEF', 'images': [{'height': 640, 'url': 'https://i.scdn.co/image/ab67616d0000b27348eefbb034760e932f571790', 'width': 640}, {'height': 300, 'url': 'https://i.scdn.co/image/ab67616d00001e0248eefbb034760e932f571790', 'width': 300}, {'height': 64, 'url': 'https://i.scdn.co/image/ab67616d0000485148eefbb034760e932f571790', 'width': 64}], 'name': 'ODDINARY', 'release_date': '2022-03-18', 'release_date_precision': 'day', 'total_tracks': 7, 'type': 'album', 'uri': 'spotify:album:1byOOf9U3IiQN1cVHqRqEF'}, 'artists': [{'external_urls': {'spotify': 'https://open.spotify.com/artist/2dIgFjalVxs4ThymZ67YCE'}, 'id': '2dIgFjalVxs4ThymZ67YCE', 'name': 'Stray Kids', 'type': 'artist', 'uri': 'spotify:artist:2dIgFjalVxs4ThymZ67YCE'}], 'available_markets': ['JP'], 'disc_number': 1, 'duration_ms': 182757, 'explicit': False, 'external_ids': {'isrc': 'US5TA2200027'}, 'external_urls': {'spotify': 'https://open.spotify.com/track/7BDHDiidJ8WV349p3HTxTV'}, 'id': '7BDHDiidJ8WV349p3HTxTV', 'is_local': False, 'name': 'MANIAC', 'popularity': 62, 'preview_url': 'https://p.scdn.co/mp3-preview/26f832de92bdcfa792c57af04be88927b9c044ba?cid=d8a5ed958d274c2e8ee717e6a4b0971d', 'track_number': 2, 'type': 'track', 'uri': 'spotify:track:7BDHDiidJ8WV349p3HTxTV'}\n",
      "7BDHDiidJ8WV349p3HTxTV\n",
      "Developer msg: data already exists in database\n",
      "{'album': {'album_type': 'SINGLE', 'artists': [{'external_urls': {'spotify': 'https://open.spotify.com/artist/2AfmfGFbe0A0WsTYm0SDTx'}, 'id': '2AfmfGFbe0A0WsTYm0SDTx', 'name': '(G)I-DLE', 'type': 'artist', 'uri': 'spotify:artist:2AfmfGFbe0A0WsTYm0SDTx'}], 'available_markets': ['AR', 'AU', 'AT', 'BE', 'BO', 'BR', 'BG', 'CA', 'CL', 'CO', 'CR', 'CY', 'CZ', 'DK', 'DO', 'DE', 'EC', 'EE', 'SV', 'FI', 'FR', 'GR', 'GT', 'HN', 'HK', 'HU', 'IS', 'IE', 'IT', 'LV', 'LT', 'LU', 'MY', 'MT', 'MX', 'NL', 'NZ', 'NI', 'NO', 'PA', 'PY', 'PE', 'PH', 'PL', 'PT', 'SG', 'SK', 'ES', 'SE', 'CH', 'TW', 'TR', 'UY', 'US', 'GB', 'AD', 'LI', 'MC', 'ID', 'TH', 'VN', 'RO', 'IL', 'ZA', 'SA', 'AE', 'BH', 'QA', 'OM', 'KW', 'EG', 'MA', 'DZ', 'TN', 'LB', 'JO', 'PS', 'IN', 'BY', 'KZ', 'MD', 'UA', 'AL', 'BA', 'HR', 'ME', 'MK', 'RS', 'SI', 'KR', 'BD', 'PK', 'LK', 'GH', 'KE', 'NG', 'TZ', 'UG', 'AG', 'AM', 'BS', 'BB', 'BZ', 'BT', 'BW', 'BF', 'CV', 'CW', 'DM', 'FJ', 'GM', 'GE', 'GD', 'GW', 'GY', 'HT', 'JM', 'KI', 'LS', 'LR', 'MW', 'MV', 'ML', 'MH', 'FM', 'NA', 'NR', 'NE', 'PW', 'PG', 'WS', 'SM', 'ST', 'SN', 'SC', 'SL', 'SB', 'KN', 'LC', 'VC', 'SR', 'TL', 'TO', 'TT', 'TV', 'VU', 'AZ', 'BN', 'BI', 'KH', 'CM', 'TD', 'KM', 'GQ', 'SZ', 'GA', 'GN', 'KG', 'LA', 'MO', 'MR', 'MN', 'NP', 'RW', 'TG', 'UZ', 'ZW', 'BJ', 'MG', 'MU', 'MZ', 'AO', 'CI', 'DJ', 'ZM', 'CD', 'CG', 'IQ', 'LY', 'TJ', 'VE', 'ET', 'XK'], 'external_urls': {'spotify': 'https://open.spotify.com/album/1GtPnOiHxCnoZPCiLcKj22'}, 'id': '1GtPnOiHxCnoZPCiLcKj22', 'images': [{'height': 640, 'url': 'https://i.scdn.co/image/ab67616d0000b273f8f78670dcb7eb6f7a4405d4', 'width': 640}, {'height': 300, 'url': 'https://i.scdn.co/image/ab67616d00001e02f8f78670dcb7eb6f7a4405d4', 'width': 300}, {'height': 64, 'url': 'https://i.scdn.co/image/ab67616d00004851f8f78670dcb7eb6f7a4405d4', 'width': 64}], 'name': 'I am', 'release_date': '2018-05-02', 'release_date_precision': 'day', 'total_tracks': 6, 'type': 'album', 'uri': 'spotify:album:1GtPnOiHxCnoZPCiLcKj22'}, 'artists': [{'external_urls': {'spotify': 'https://open.spotify.com/artist/2AfmfGFbe0A0WsTYm0SDTx'}, 'id': '2AfmfGFbe0A0WsTYm0SDTx', 'name': '(G)I-DLE', 'type': 'artist', 'uri': 'spotify:artist:2AfmfGFbe0A0WsTYm0SDTx'}], 'available_markets': ['AR', 'AU', 'AT', 'BE', 'BO', 'BR', 'BG', 'CA', 'CL', 'CO', 'CR', 'CY', 'CZ', 'DK', 'DO', 'DE', 'EC', 'EE', 'SV', 'FI', 'FR', 'GR', 'GT', 'HN', 'HK', 'HU', 'IS', 'IE', 'IT', 'LV', 'LT', 'LU', 'MY', 'MT', 'MX', 'NL', 'NZ', 'NI', 'NO', 'PA', 'PY', 'PE', 'PH', 'PL', 'PT', 'SG', 'SK', 'ES', 'SE', 'CH', 'TW', 'TR', 'UY', 'US', 'GB', 'AD', 'LI', 'MC', 'ID', 'TH', 'VN', 'RO', 'IL', 'ZA', 'SA', 'AE', 'BH', 'QA', 'OM', 'KW', 'EG', 'MA', 'DZ', 'TN', 'LB', 'JO', 'PS', 'IN', 'BY', 'KZ', 'MD', 'UA', 'AL', 'BA', 'HR', 'ME', 'MK', 'RS', 'SI', 'KR', 'BD', 'PK', 'LK', 'GH', 'KE', 'NG', 'TZ', 'UG', 'AG', 'AM', 'BS', 'BB', 'BZ', 'BT', 'BW', 'BF', 'CV', 'CW', 'DM', 'FJ', 'GM', 'GE', 'GD', 'GW', 'GY', 'HT', 'JM', 'KI', 'LS', 'LR', 'MW', 'MV', 'ML', 'MH', 'FM', 'NA', 'NR', 'NE', 'PW', 'PG', 'WS', 'SM', 'ST', 'SN', 'SC', 'SL', 'SB', 'KN', 'LC', 'VC', 'SR', 'TL', 'TO', 'TT', 'TV', 'VU', 'AZ', 'BN', 'BI', 'KH', 'CM', 'TD', 'KM', 'GQ', 'SZ', 'GA', 'GN', 'KG', 'LA', 'MO', 'MR', 'MN', 'NP', 'RW', 'TG', 'UZ', 'ZW', 'BJ', 'MG', 'MU', 'MZ', 'AO', 'CI', 'DJ', 'ZM', 'CD', 'CG', 'IQ', 'LY', 'TJ', 'VE', 'ET', 'XK'], 'disc_number': 1, 'duration_ms': 202772, 'explicit': False, 'external_ids': {'isrc': 'KRA391800023'}, 'external_urls': {'spotify': 'https://open.spotify.com/track/2ezKXygNO30pXyDQXkm6oD'}, 'id': '2ezKXygNO30pXyDQXkm6oD', 'is_local': False, 'name': 'LATATA', 'popularity': 66, 'preview_url': 'https://p.scdn.co/mp3-preview/462000d6027a0b254654123e1a3b92c38f48bce9?cid=d8a5ed958d274c2e8ee717e6a4b0971d', 'track_number': 1, 'type': 'track', 'uri': 'spotify:track:2ezKXygNO30pXyDQXkm6oD'}\n",
      "2ezKXygNO30pXyDQXkm6oD\n",
      "Developer msg: data already exists in database\n",
      "{'album': {'album_type': 'SINGLE', 'artists': [{'external_urls': {'spotify': 'https://open.spotify.com/artist/5DuzBeOgFwViFcv00Q5PFb'}, 'id': '5DuzBeOgFwViFcv00Q5PFb', 'name': 'WINNER', 'type': 'artist', 'uri': 'spotify:artist:5DuzBeOgFwViFcv00Q5PFb'}], 'available_markets': ['AR', 'AU', 'AT', 'BE', 'BO', 'BR', 'BG', 'CA', 'CL', 'CO', 'CR', 'CY', 'CZ', 'DK', 'DO', 'DE', 'EC', 'EE', 'SV', 'FI', 'FR', 'GR', 'GT', 'HN', 'HK', 'HU', 'IS', 'IE', 'IT', 'LV', 'LT', 'LU', 'MY', 'MT', 'MX', 'NL', 'NZ', 'NI', 'NO', 'PA', 'PY', 'PE', 'PH', 'PL', 'PT', 'SG', 'SK', 'ES', 'SE', 'CH', 'TW', 'TR', 'UY', 'US', 'GB', 'AD', 'LI', 'MC', 'ID', 'TH', 'VN', 'RO', 'IL', 'ZA', 'SA', 'AE', 'BH', 'QA', 'OM', 'KW', 'EG', 'MA', 'DZ', 'TN', 'LB', 'JO', 'PS', 'IN', 'BY', 'KZ', 'MD', 'UA', 'AL', 'BA', 'HR', 'ME', 'MK', 'RS', 'SI', 'KR', 'BD', 'PK', 'LK', 'GH', 'KE', 'NG', 'TZ', 'UG', 'AG', 'AM', 'BS', 'BB', 'BZ', 'BT', 'BW', 'BF', 'CV', 'CW', 'DM', 'FJ', 'GM', 'GE', 'GD', 'GW', 'GY', 'HT', 'JM', 'KI', 'LS', 'LR', 'MW', 'MV', 'ML', 'MH', 'FM', 'NA', 'NR', 'NE', 'PW', 'PG', 'WS', 'SM', 'ST', 'SN', 'SC', 'SL', 'SB', 'KN', 'LC', 'VC', 'SR', 'TL', 'TO', 'TT', 'TV', 'VU', 'AZ', 'BN', 'BI', 'KH', 'CM', 'TD', 'KM', 'GQ', 'SZ', 'GA', 'GN', 'KG', 'LA', 'MO', 'MR', 'MN', 'NP', 'RW', 'TG', 'UZ', 'ZW', 'BJ', 'MG', 'MU', 'MZ', 'AO', 'CI', 'DJ', 'ZM', 'CD', 'CG', 'IQ', 'LY', 'TJ', 'VE', 'ET', 'XK'], 'external_urls': {'spotify': 'https://open.spotify.com/album/6DuGgrykXd5DVx3aznyYqH'}, 'id': '6DuGgrykXd5DVx3aznyYqH', 'images': [{'height': 640, 'url': 'https://i.scdn.co/image/ab67616d0000b273706a57ff7ccf5ad325d94d2b', 'width': 640}, {'height': 300, 'url': 'https://i.scdn.co/image/ab67616d00001e02706a57ff7ccf5ad325d94d2b', 'width': 300}, {'height': 64, 'url': 'https://i.scdn.co/image/ab67616d00004851706a57ff7ccf5ad325d94d2b', 'width': 64}], 'name': 'HOLIDAY', 'release_date': '2022-07-05', 'release_date_precision': 'day', 'total_tracks': 6, 'type': 'album', 'uri': 'spotify:album:6DuGgrykXd5DVx3aznyYqH'}, 'artists': [{'external_urls': {'spotify': 'https://open.spotify.com/artist/5DuzBeOgFwViFcv00Q5PFb'}, 'id': '5DuzBeOgFwViFcv00Q5PFb', 'name': 'WINNER', 'type': 'artist', 'uri': 'spotify:artist:5DuzBeOgFwViFcv00Q5PFb'}], 'available_markets': ['AR', 'AU', 'AT', 'BE', 'BO', 'BR', 'BG', 'CA', 'CL', 'CO', 'CR', 'CY', 'CZ', 'DK', 'DO', 'DE', 'EC', 'EE', 'SV', 'FI', 'FR', 'GR', 'GT', 'HN', 'HK', 'HU', 'IS', 'IE', 'IT', 'LV', 'LT', 'LU', 'MY', 'MT', 'MX', 'NL', 'NZ', 'NI', 'NO', 'PA', 'PY', 'PE', 'PH', 'PL', 'PT', 'SG', 'SK', 'ES', 'SE', 'CH', 'TW', 'TR', 'UY', 'US', 'GB', 'AD', 'LI', 'MC', 'ID', 'TH', 'VN', 'RO', 'IL', 'ZA', 'SA', 'AE', 'BH', 'QA', 'OM', 'KW', 'EG', 'MA', 'DZ', 'TN', 'LB', 'JO', 'PS', 'IN', 'BY', 'KZ', 'MD', 'UA', 'AL', 'BA', 'HR', 'ME', 'MK', 'RS', 'SI', 'KR', 'BD', 'PK', 'LK', 'GH', 'KE', 'NG', 'TZ', 'UG', 'AG', 'AM', 'BS', 'BB', 'BZ', 'BT', 'BW', 'BF', 'CV', 'CW', 'DM', 'FJ', 'GM', 'GE', 'GD', 'GW', 'GY', 'HT', 'JM', 'KI', 'LS', 'LR', 'MW', 'MV', 'ML', 'MH', 'FM', 'NA', 'NR', 'NE', 'PW', 'PG', 'WS', 'SM', 'ST', 'SN', 'SC', 'SL', 'SB', 'KN', 'LC', 'VC', 'SR', 'TL', 'TO', 'TT', 'TV', 'VU', 'AZ', 'BN', 'BI', 'KH', 'CM', 'TD', 'KM', 'GQ', 'SZ', 'GA', 'GN', 'KG', 'LA', 'MO', 'MR', 'MN', 'NP', 'RW', 'TG', 'UZ', 'ZW', 'BJ', 'MG', 'MU', 'MZ', 'AO', 'CI', 'DJ', 'ZM', 'CD', 'CG', 'IQ', 'LY', 'TJ', 'VE', 'ET', 'XK'], 'disc_number': 1, 'duration_ms': 176000, 'explicit': False, 'external_ids': {'isrc': 'KRA402200004'}, 'external_urls': {'spotify': 'https://open.spotify.com/track/02Vb9vfZUmqAKNhQwFjPSZ'}, 'id': '02Vb9vfZUmqAKNhQwFjPSZ', 'is_local': False, 'name': 'I LOVE U', 'popularity': 53, 'preview_url': 'https://p.scdn.co/mp3-preview/0a4feba619779d622ce8db077b0bc19e1ef965c1?cid=d8a5ed958d274c2e8ee717e6a4b0971d', 'track_number': 1, 'type': 'track', 'uri': 'spotify:track:02Vb9vfZUmqAKNhQwFjPSZ'}\n",
      "02Vb9vfZUmqAKNhQwFjPSZ\n",
      "Song object (87)\n",
      "{'album': {'album_type': 'SINGLE', 'artists': [{'external_urls': {'spotify': 'https://open.spotify.com/artist/13yWtUnz63q5VIs5SwoMhy'}, 'id': '13yWtUnz63q5VIs5SwoMhy', 'name': 'HUH YUNJIN', 'type': 'artist', 'uri': 'spotify:artist:13yWtUnz63q5VIs5SwoMhy'}], 'available_markets': ['AR', 'AU', 'AT', 'BE', 'BO', 'BR', 'BG', 'CA', 'CL', 'CO', 'CR', 'CY', 'CZ', 'DK', 'DO', 'DE', 'EC', 'EE', 'SV', 'FI', 'FR', 'GR', 'GT', 'HN', 'HK', 'HU', 'IS', 'IE', 'IT', 'LV', 'LT', 'LU', 'MY', 'MT', 'MX', 'NL', 'NZ', 'NI', 'NO', 'PA', 'PY', 'PE', 'PH', 'PL', 'PT', 'SG', 'SK', 'ES', 'SE', 'CH', 'TW', 'TR', 'UY', 'US', 'GB', 'AD', 'LI', 'MC', 'ID', 'JP', 'TH', 'VN', 'RO', 'IL', 'ZA', 'SA', 'AE', 'BH', 'QA', 'OM', 'KW', 'EG', 'MA', 'DZ', 'TN', 'LB', 'JO', 'PS', 'IN', 'BY', 'KZ', 'MD', 'UA', 'AL', 'BA', 'HR', 'ME', 'MK', 'RS', 'SI', 'KR', 'BD', 'PK', 'LK', 'GH', 'KE', 'NG', 'TZ', 'UG', 'AG', 'AM', 'BS', 'BB', 'BZ', 'BT', 'BW', 'BF', 'CV', 'CW', 'DM', 'FJ', 'GM', 'GE', 'GD', 'GW', 'GY', 'HT', 'JM', 'KI', 'LS', 'LR', 'MW', 'MV', 'ML', 'MH', 'FM', 'NA', 'NR', 'NE', 'PW', 'PG', 'WS', 'SM', 'ST', 'SN', 'SC', 'SL', 'SB', 'KN', 'LC', 'VC', 'SR', 'TL', 'TO', 'TT', 'TV', 'VU', 'AZ', 'BN', 'BI', 'KH', 'CM', 'TD', 'KM', 'GQ', 'SZ', 'GA', 'GN', 'KG', 'LA', 'MO', 'MR', 'MN', 'NP', 'RW', 'TG', 'UZ', 'ZW', 'BJ', 'MG', 'MU', 'MZ', 'AO', 'CI', 'DJ', 'ZM', 'CD', 'CG', 'IQ', 'LY', 'TJ', 'VE', 'ET', 'XK'], 'external_urls': {'spotify': 'https://open.spotify.com/album/03NnLJWmvbNiDAk8l8W3b4'}, 'id': '03NnLJWmvbNiDAk8l8W3b4', 'images': [{'height': 640, 'url': 'https://i.scdn.co/image/ab67616d0000b2735f0ecf30e9dc530bb9340ba3', 'width': 640}, {'height': 300, 'url': 'https://i.scdn.co/image/ab67616d00001e025f0ecf30e9dc530bb9340ba3', 'width': 300}, {'height': 64, 'url': 'https://i.scdn.co/image/ab67616d000048515f0ecf30e9dc530bb9340ba3', 'width': 64}], 'name': 'love you twice', 'release_date': '2023-03-14', 'release_date_precision': 'day', 'total_tracks': 1, 'type': 'album', 'uri': 'spotify:album:03NnLJWmvbNiDAk8l8W3b4'}, 'artists': [{'external_urls': {'spotify': 'https://open.spotify.com/artist/13yWtUnz63q5VIs5SwoMhy'}, 'id': '13yWtUnz63q5VIs5SwoMhy', 'name': 'HUH YUNJIN', 'type': 'artist', 'uri': 'spotify:artist:13yWtUnz63q5VIs5SwoMhy'}], 'available_markets': ['AR', 'AU', 'AT', 'BE', 'BO', 'BR', 'BG', 'CA', 'CL', 'CO', 'CR', 'CY', 'CZ', 'DK', 'DO', 'DE', 'EC', 'EE', 'SV', 'FI', 'FR', 'GR', 'GT', 'HN', 'HK', 'HU', 'IS', 'IE', 'IT', 'LV', 'LT', 'LU', 'MY', 'MT', 'MX', 'NL', 'NZ', 'NI', 'NO', 'PA', 'PY', 'PE', 'PH', 'PL', 'PT', 'SG', 'SK', 'ES', 'SE', 'CH', 'TW', 'TR', 'UY', 'US', 'GB', 'AD', 'LI', 'MC', 'ID', 'JP', 'TH', 'VN', 'RO', 'IL', 'ZA', 'SA', 'AE', 'BH', 'QA', 'OM', 'KW', 'EG', 'MA', 'DZ', 'TN', 'LB', 'JO', 'PS', 'IN', 'BY', 'KZ', 'MD', 'UA', 'AL', 'BA', 'HR', 'ME', 'MK', 'RS', 'SI', 'KR', 'BD', 'PK', 'LK', 'GH', 'KE', 'NG', 'TZ', 'UG', 'AG', 'AM', 'BS', 'BB', 'BZ', 'BT', 'BW', 'BF', 'CV', 'CW', 'DM', 'FJ', 'GM', 'GE', 'GD', 'GW', 'GY', 'HT', 'JM', 'KI', 'LS', 'LR', 'MW', 'MV', 'ML', 'MH', 'FM', 'NA', 'NR', 'NE', 'PW', 'PG', 'WS', 'SM', 'ST', 'SN', 'SC', 'SL', 'SB', 'KN', 'LC', 'VC', 'SR', 'TL', 'TO', 'TT', 'TV', 'VU', 'AZ', 'BN', 'BI', 'KH', 'CM', 'TD', 'KM', 'GQ', 'SZ', 'GA', 'GN', 'KG', 'LA', 'MO', 'MR', 'MN', 'NP', 'RW', 'TG', 'UZ', 'ZW', 'BJ', 'MG', 'MU', 'MZ', 'AO', 'CI', 'DJ', 'ZM', 'CD', 'CG', 'IQ', 'LY', 'TJ', 'VE', 'ET', 'XK'], 'disc_number': 1, 'duration_ms': 172189, 'explicit': False, 'external_ids': {'isrc': 'USA2P2313244'}, 'external_urls': {'spotify': 'https://open.spotify.com/track/0GLXQAdrh4tdvz0JLw8DX8'}, 'id': '0GLXQAdrh4tdvz0JLw8DX8', 'is_local': False, 'name': 'love you twice', 'popularity': 69, 'preview_url': 'https://p.scdn.co/mp3-preview/e9477af0c893c59e6b6be58215af6e008cf26f5a?cid=d8a5ed958d274c2e8ee717e6a4b0971d', 'track_number': 1, 'type': 'track', 'uri': 'spotify:track:0GLXQAdrh4tdvz0JLw8DX8'}\n",
      "0GLXQAdrh4tdvz0JLw8DX8\n",
      "Song object (88)\n",
      "{'album': {'album_type': 'SINGLE', 'artists': [{'external_urls': {'spotify': 'https://open.spotify.com/artist/6HvZYsbFfjnjFrWF950C9d'}, 'id': '6HvZYsbFfjnjFrWF950C9d', 'name': 'NewJeans', 'type': 'artist', 'uri': 'spotify:artist:6HvZYsbFfjnjFrWF950C9d'}], 'available_markets': ['AR', 'AU', 'AT', 'BE', 'BO', 'BR', 'BG', 'CA', 'CL', 'CO', 'CR', 'CY', 'CZ', 'DK', 'DO', 'DE', 'EC', 'EE', 'SV', 'FI', 'FR', 'GR', 'GT', 'HN', 'HK', 'HU', 'IS', 'IE', 'IT', 'LV', 'LT', 'LU', 'MY', 'MT', 'MX', 'NL', 'NZ', 'NI', 'NO', 'PA', 'PY', 'PE', 'PH', 'PL', 'PT', 'SG', 'SK', 'ES', 'SE', 'CH', 'TW', 'TR', 'UY', 'US', 'GB', 'AD', 'LI', 'MC', 'ID', 'JP', 'TH', 'VN', 'RO', 'IL', 'ZA', 'SA', 'AE', 'BH', 'QA', 'OM', 'KW', 'EG', 'MA', 'DZ', 'TN', 'LB', 'JO', 'PS', 'IN', 'BY', 'KZ', 'MD', 'UA', 'AL', 'BA', 'HR', 'ME', 'MK', 'RS', 'SI', 'KR', 'BD', 'PK', 'LK', 'GH', 'KE', 'NG', 'TZ', 'UG', 'AG', 'AM', 'BS', 'BB', 'BZ', 'BT', 'BW', 'BF', 'CV', 'CW', 'DM', 'FJ', 'GM', 'GE', 'GD', 'GW', 'GY', 'HT', 'JM', 'KI', 'LS', 'LR', 'MW', 'MV', 'ML', 'MH', 'FM', 'NA', 'NR', 'NE', 'PW', 'PG', 'WS', 'SM', 'ST', 'SN', 'SC', 'SL', 'SB', 'KN', 'LC', 'VC', 'SR', 'TL', 'TO', 'TT', 'TV', 'VU', 'AZ', 'BN', 'BI', 'KH', 'CM', 'TD', 'KM', 'GQ', 'SZ', 'GA', 'GN', 'KG', 'LA', 'MO', 'MR', 'MN', 'NP', 'RW', 'TG', 'UZ', 'ZW', 'BJ', 'MG', 'MU', 'MZ', 'AO', 'CI', 'DJ', 'ZM', 'CD', 'CG', 'IQ', 'LY', 'TJ', 'VE', 'ET', 'XK'], 'external_urls': {'spotify': 'https://open.spotify.com/album/4N1fROq2oeyLGAlQ1C1j18'}, 'id': '4N1fROq2oeyLGAlQ1C1j18', 'images': [{'height': 640, 'url': 'https://i.scdn.co/image/ab67616d0000b2730744690248ef3ba7b776ea7b', 'width': 640}, {'height': 300, 'url': 'https://i.scdn.co/image/ab67616d00001e020744690248ef3ba7b776ea7b', 'width': 300}, {'height': 64, 'url': 'https://i.scdn.co/image/ab67616d000048510744690248ef3ba7b776ea7b', 'width': 64}], 'name': \"NewJeans 2nd EP 'Get Up'\", 'release_date': '2023-07-21', 'release_date_precision': 'day', 'total_tracks': 6, 'type': 'album', 'uri': 'spotify:album:4N1fROq2oeyLGAlQ1C1j18'}, 'artists': [{'external_urls': {'spotify': 'https://open.spotify.com/artist/6HvZYsbFfjnjFrWF950C9d'}, 'id': '6HvZYsbFfjnjFrWF950C9d', 'name': 'NewJeans', 'type': 'artist', 'uri': 'spotify:artist:6HvZYsbFfjnjFrWF950C9d'}], 'available_markets': ['AR', 'AU', 'AT', 'BE', 'BO', 'BR', 'BG', 'CA', 'CL', 'CO', 'CR', 'CY', 'CZ', 'DK', 'DO', 'DE', 'EC', 'EE', 'SV', 'FI', 'FR', 'GR', 'GT', 'HN', 'HK', 'HU', 'IS', 'IE', 'IT', 'LV', 'LT', 'LU', 'MY', 'MT', 'MX', 'NL', 'NZ', 'NI', 'NO', 'PA', 'PY', 'PE', 'PH', 'PL', 'PT', 'SG', 'SK', 'ES', 'SE', 'CH', 'TW', 'TR', 'UY', 'US', 'GB', 'AD', 'LI', 'MC', 'ID', 'JP', 'TH', 'VN', 'RO', 'IL', 'ZA', 'SA', 'AE', 'BH', 'QA', 'OM', 'KW', 'EG', 'MA', 'DZ', 'TN', 'LB', 'JO', 'PS', 'IN', 'BY', 'KZ', 'MD', 'UA', 'AL', 'BA', 'HR', 'ME', 'MK', 'RS', 'SI', 'KR', 'BD', 'PK', 'LK', 'GH', 'KE', 'NG', 'TZ', 'UG', 'AG', 'AM', 'BS', 'BB', 'BZ', 'BT', 'BW', 'BF', 'CV', 'CW', 'DM', 'FJ', 'GM', 'GE', 'GD', 'GW', 'GY', 'HT', 'JM', 'KI', 'LS', 'LR', 'MW', 'MV', 'ML', 'MH', 'FM', 'NA', 'NR', 'NE', 'PW', 'PG', 'WS', 'SM', 'ST', 'SN', 'SC', 'SL', 'SB', 'KN', 'LC', 'VC', 'SR', 'TL', 'TO', 'TT', 'TV', 'VU', 'AZ', 'BN', 'BI', 'KH', 'CM', 'TD', 'KM', 'GQ', 'SZ', 'GA', 'GN', 'KG', 'LA', 'MO', 'MR', 'MN', 'NP', 'RW', 'TG', 'UZ', 'ZW', 'BJ', 'MG', 'MU', 'MZ', 'AO', 'CI', 'DJ', 'ZM', 'CD', 'CG', 'IQ', 'LY', 'TJ', 'VE', 'ET', 'XK'], 'disc_number': 1, 'duration_ms': 151373, 'explicit': False, 'external_ids': {'isrc': 'USA2P2330071'}, 'external_urls': {'spotify': 'https://open.spotify.com/track/56v8WEnGzLByGsDAXDiv4d'}, 'id': '56v8WEnGzLByGsDAXDiv4d', 'is_local': False, 'name': 'ETA', 'popularity': 85, 'preview_url': 'https://p.scdn.co/mp3-preview/e076cd31805e449dae7d991711df5f2ff920b375?cid=d8a5ed958d274c2e8ee717e6a4b0971d', 'track_number': 3, 'type': 'track', 'uri': 'spotify:track:56v8WEnGzLByGsDAXDiv4d'}\n",
      "56v8WEnGzLByGsDAXDiv4d\n",
      "Developer msg: data already exists in database\n",
      "{'album': {'album_type': 'SINGLE', 'artists': [{'external_urls': {'spotify': 'https://open.spotify.com/artist/0kB3Vlf3xDNZQz6NjAPJV8'}, 'id': '0kB3Vlf3xDNZQz6NjAPJV8', 'name': 'SOOJIN', 'type': 'artist', 'uri': 'spotify:artist:0kB3Vlf3xDNZQz6NjAPJV8'}], 'available_markets': ['AR', 'AU', 'AT', 'BE', 'BO', 'BR', 'BG', 'CA', 'CL', 'CO', 'CR', 'CY', 'CZ', 'DK', 'DO', 'DE', 'EC', 'EE', 'SV', 'FI', 'FR', 'GR', 'GT', 'HN', 'HK', 'HU', 'IS', 'IE', 'IT', 'LV', 'LT', 'LU', 'MY', 'MT', 'MX', 'NL', 'NZ', 'NI', 'NO', 'PA', 'PY', 'PE', 'PH', 'PL', 'PT', 'SG', 'SK', 'ES', 'SE', 'CH', 'TW', 'TR', 'UY', 'US', 'GB', 'AD', 'LI', 'MC', 'ID', 'JP', 'TH', 'VN', 'RO', 'IL', 'ZA', 'SA', 'AE', 'BH', 'QA', 'OM', 'KW', 'EG', 'MA', 'DZ', 'TN', 'LB', 'JO', 'PS', 'IN', 'BY', 'KZ', 'MD', 'UA', 'AL', 'BA', 'HR', 'ME', 'MK', 'RS', 'SI', 'KR', 'BD', 'PK', 'LK', 'GH', 'KE', 'NG', 'TZ', 'UG', 'AG', 'AM', 'BS', 'BB', 'BZ', 'BT', 'BW', 'BF', 'CV', 'CW', 'DM', 'FJ', 'GM', 'GE', 'GD', 'GW', 'GY', 'HT', 'JM', 'KI', 'LS', 'LR', 'MW', 'MV', 'ML', 'MH', 'FM', 'NA', 'NR', 'NE', 'PW', 'PG', 'WS', 'SM', 'ST', 'SN', 'SC', 'SL', 'SB', 'KN', 'LC', 'VC', 'SR', 'TL', 'TO', 'TT', 'TV', 'VU', 'AZ', 'BN', 'BI', 'KH', 'CM', 'TD', 'KM', 'GQ', 'SZ', 'GA', 'GN', 'KG', 'LA', 'MO', 'MR', 'MN', 'NP', 'RW', 'TG', 'UZ', 'ZW', 'BJ', 'MG', 'MU', 'MZ', 'AO', 'CI', 'DJ', 'ZM', 'CD', 'CG', 'IQ', 'LY', 'TJ', 'VE', 'ET', 'XK'], 'external_urls': {'spotify': 'https://open.spotify.com/album/5FzkGrCoC8PIz1yz6oy8RK'}, 'id': '5FzkGrCoC8PIz1yz6oy8RK', 'images': [{'height': 640, 'url': 'https://i.scdn.co/image/ab67616d0000b2730c1f1054d3a170ee26430c79', 'width': 640}, {'height': 300, 'url': 'https://i.scdn.co/image/ab67616d00001e020c1f1054d3a170ee26430c79', 'width': 300}, {'height': 64, 'url': 'https://i.scdn.co/image/ab67616d000048510c1f1054d3a170ee26430c79', 'width': 64}], 'name': 'AGASSY', 'release_date': '2023-11-08', 'release_date_precision': 'day', 'total_tracks': 6, 'type': 'album', 'uri': 'spotify:album:5FzkGrCoC8PIz1yz6oy8RK'}, 'artists': [{'external_urls': {'spotify': 'https://open.spotify.com/artist/0kB3Vlf3xDNZQz6NjAPJV8'}, 'id': '0kB3Vlf3xDNZQz6NjAPJV8', 'name': 'SOOJIN', 'type': 'artist', 'uri': 'spotify:artist:0kB3Vlf3xDNZQz6NjAPJV8'}], 'available_markets': ['AR', 'AU', 'AT', 'BE', 'BO', 'BR', 'BG', 'CA', 'CL', 'CO', 'CR', 'CY', 'CZ', 'DK', 'DO', 'DE', 'EC', 'EE', 'SV', 'FI', 'FR', 'GR', 'GT', 'HN', 'HK', 'HU', 'IS', 'IE', 'IT', 'LV', 'LT', 'LU', 'MY', 'MT', 'MX', 'NL', 'NZ', 'NI', 'NO', 'PA', 'PY', 'PE', 'PH', 'PL', 'PT', 'SG', 'SK', 'ES', 'SE', 'CH', 'TW', 'TR', 'UY', 'US', 'GB', 'AD', 'LI', 'MC', 'ID', 'JP', 'TH', 'VN', 'RO', 'IL', 'ZA', 'SA', 'AE', 'BH', 'QA', 'OM', 'KW', 'EG', 'MA', 'DZ', 'TN', 'LB', 'JO', 'PS', 'IN', 'BY', 'KZ', 'MD', 'UA', 'AL', 'BA', 'HR', 'ME', 'MK', 'RS', 'SI', 'KR', 'BD', 'PK', 'LK', 'GH', 'KE', 'NG', 'TZ', 'UG', 'AG', 'AM', 'BS', 'BB', 'BZ', 'BT', 'BW', 'BF', 'CV', 'CW', 'DM', 'FJ', 'GM', 'GE', 'GD', 'GW', 'GY', 'HT', 'JM', 'KI', 'LS', 'LR', 'MW', 'MV', 'ML', 'MH', 'FM', 'NA', 'NR', 'NE', 'PW', 'PG', 'WS', 'SM', 'ST', 'SN', 'SC', 'SL', 'SB', 'KN', 'LC', 'VC', 'SR', 'TL', 'TO', 'TT', 'TV', 'VU', 'AZ', 'BN', 'BI', 'KH', 'CM', 'TD', 'KM', 'GQ', 'SZ', 'GA', 'GN', 'KG', 'LA', 'MO', 'MR', 'MN', 'NP', 'RW', 'TG', 'UZ', 'ZW', 'BJ', 'MG', 'MU', 'MZ', 'AO', 'CI', 'DJ', 'ZM', 'CD', 'CG', 'IQ', 'LY', 'TJ', 'VE', 'ET', 'XK'], 'disc_number': 1, 'duration_ms': 165426, 'explicit': False, 'external_ids': {'isrc': 'KRG132300013'}, 'external_urls': {'spotify': 'https://open.spotify.com/track/2DkO9y7DB9S9nBg5u0VDoW'}, 'id': '2DkO9y7DB9S9nBg5u0VDoW', 'is_local': False, 'name': 'AGASSY', 'popularity': 69, 'preview_url': 'https://p.scdn.co/mp3-preview/8b28216871b3a52c465709082e6e84d7e8fde131?cid=d8a5ed958d274c2e8ee717e6a4b0971d', 'track_number': 2, 'type': 'track', 'uri': 'spotify:track:2DkO9y7DB9S9nBg5u0VDoW'}\n",
      "2DkO9y7DB9S9nBg5u0VDoW\n",
      "Song object (90)\n"
     ]
    }
   ],
   "source": [
    "for song in data['tracks']:\n",
    "    print(song)\n",
    "    id = str(song['artists'][0]['id'])\n",
    "    song_id = song['id']\n",
    "    print(song_id)\n",
    "    if Artist.objects.filter(api_id=id).exists():\n",
    "        print('Developer msg: data already exists in database')\n",
    "        continue\n",
    "    else:\n",
    "        conn.request(\"GET\", \"/artists/?ids={id}\".format(\n",
    "                        id=id), headers=headers)\n",
    "        res = conn.getresponse()\n",
    "        datas = json.loads(res.read().decode('utf-8'))['artists'][0]\n",
    "        artist = Artist(api_id=id, name = datas['name'], popularity=datas['popularity'], image=datas['images'][0]['url'], followers=datas['followers']['total'])\n",
    "        artist.save()\n",
    "        song_id = song['id']\n",
    "        this_song = Song.objects.get(api_id=song_id)\n",
    "        print(this_song)\n",
    "        artist.songs.add(this_song)\n",
    "        artist.save()\n",
    "\n"
   ]
  },
  {
   "cell_type": "code",
   "execution_count": 95,
   "metadata": {},
   "outputs": [
    {
     "name": "stdout",
     "output_type": "stream",
     "text": [
      "songs.Song.None\n",
      "songs.Song.None\n",
      "songs.Song.None\n",
      "songs.Song.None\n",
      "songs.Song.None\n",
      "songs.Song.None\n",
      "songs.Song.None\n",
      "songs.Song.None\n",
      "songs.Song.None\n",
      "songs.Song.None\n",
      "songs.Song.None\n",
      "songs.Song.None\n",
      "songs.Song.None\n",
      "songs.Song.None\n",
      "songs.Song.None\n",
      "songs.Song.None\n",
      "songs.Song.None\n",
      "songs.Song.None\n",
      "songs.Song.None\n",
      "songs.Song.None\n",
      "songs.Song.None\n",
      "songs.Song.None\n",
      "songs.Song.None\n",
      "songs.Song.None\n",
      "songs.Song.None\n",
      "songs.Song.None\n",
      "songs.Song.None\n",
      "songs.Song.None\n"
     ]
    }
   ],
   "source": [
    "for artist in Artist.objects.all():\n",
    "    print(artist.songs)"
   ]
  },
  {
   "cell_type": "code",
   "execution_count": 110,
   "metadata": {},
   "outputs": [
    {
     "name": "stdout",
     "output_type": "stream",
     "text": [
      "2AfmfGFbe0A0WsTYm0SDTx\n",
      "62lN1efwf3MajWlzsSlYFN\n",
      "{'tracks': [None]}\n",
      "3T6Xy6iJPpYmawK2LmJWFF\n",
      "{'tracks': [None]}\n",
      "6khD0lw8LFHvPWoRfhAfym\n",
      "{'tracks': [None]}\n",
      "16UgZxoo4YMJIJItRxi7qb\n",
      "{'tracks': [None]}\n",
      "2R8RsIMCdiNxkQVD96kDDW\n",
      "{'tracks': [None]}\n",
      "6sxMmlXY5Sx0JM48RaReuO\n",
      "{'tracks': [None]}\n",
      "1M1d5bzsGhY2JOVD2AU29G\n",
      "{'tracks': [None]}\n",
      "23yd1cYlPgl643vE8bb0WD\n",
      "{'tracks': [None]}\n",
      "7C8nskYbHG7N0LDrNVvt7x\n",
      "{'tracks': [None]}\n",
      "0Tl10vqhla5fiiiiTATT4A\n",
      "{'tracks': [None]}\n",
      "0NC6QFvAc9H9r5iov9QwjK\n",
      "{'tracks': [None]}\n",
      "03TbZLPSRsHWX11umzK4qf\n",
      "{'tracks': [None]}\n",
      "0tM1Pr6hTKBNJEyLSft1Fs\n",
      "{'tracks': [None]}\n",
      "75ii7SGF9jbD1ireJ0CeNI\n",
      "{'tracks': [None]}\n",
      "6cdC1cwqh3eJAXaxXJt2jv\n",
      "5oe889A49PL07oAKDneshY\n",
      "{'tracks': [None]}\n",
      "1nu4yFtuXNSumMMUdOTq3y\n",
      "{'tracks': [None]}\n",
      "3Yods7fVQ2rKdzStEIJgQo\n",
      "{'tracks': [None]}\n",
      "4Jo48MMNKDCEDZB7K3nA8c\n",
      "{'tracks': [None]}\n",
      "5SWsYRZgBl6n8Z5RUeYt1M\n",
      "{'tracks': [None]}\n",
      "7ifIoZOqgHTXsY6bxh7y0u\n",
      "{'tracks': [None]}\n",
      "5EshYYiAPgdUAA1gsYA2UH\n",
      "{'tracks': [None]}\n",
      "5Sm5V8ybIelCv1WFliqE6X\n",
      "{'tracks': [None]}\n",
      "7tF6wFDR2fbXMGaK1RpAKe\n",
      "{'tracks': [None]}\n",
      "1pQ5pscRH0sAz4vgoStU0y\n",
      "{'tracks': [None]}\n",
      "5N4FcHTWpP2eF3tnXejHjH\n",
      "{'tracks': [None]}\n",
      "78Sp2xjpcB40HRThPu6mLq\n",
      "{'tracks': [None]}\n",
      "2B0ufB9aHrMv0KAFuNNisH\n",
      "{'tracks': [None]}\n",
      "77khhBR5Dq1kZP8mQ3WcUg\n",
      "{'tracks': [None]}\n",
      "68KmkJeZGfwe1OUaivBa2L\n",
      "5alpwrzbhKCLaRLX49B6pT\n",
      "{'tracks': [None]}\n",
      "0NQQk6vo9LOOwKjZc2iUwm\n",
      "{'tracks': [None]}\n",
      "1yLFJbEqnzdA4ZD3BfYxXs\n",
      "{'tracks': [None]}\n",
      "0wJ3JKlcgsAXfzIBkJoYsN\n",
      "{'tracks': [None]}\n",
      "4jOvDcYcEu4NHkVFIP2KDY\n",
      "{'tracks': [None]}\n",
      "4SXsvcrYpEi6NYfjv2qIjA\n",
      "{'tracks': [None]}\n",
      "7o5jeWeyGW3Nb77WhmVPwJ\n",
      "{'tracks': [None]}\n",
      "1RiuAAiDFvA0sYc4MRWKvK\n",
      "{'tracks': [None]}\n",
      "1NxCgg8mAdzpyjcHs5cAQz\n",
      "{'tracks': [None]}\n",
      "41MozSoPIsD1dJM0CLPjZF\n",
      "01K5Mr0IkO7GQrvoUEsWfS\n",
      "{'tracks': [None]}\n",
      "3dZBZnDa3z20uEVnxR38M1\n",
      "{'tracks': [None]}\n",
      "4CoKhy1Ew4kb4kgonvnMXy\n",
      "{'tracks': [None]}\n",
      "7GSCElvTHw10xFfIHdibF1\n",
      "{'tracks': [None]}\n",
      "5FAPIZrpcxQLLte8PlUvxS\n",
      "{'tracks': [None]}\n",
      "0nhyyhprFn6lcIAzTpmFDo\n",
      "{'tracks': [None]}\n",
      "2VBb4LRcRSACOfJWRUgVZl\n",
      "{'tracks': [None]}\n",
      "6y6lP1WRfqEhv8RLy4ufZB\n",
      "{'tracks': [None]}\n",
      "37OWAhKTXeHFcPPTkADa5v\n",
      "{'tracks': [None]}\n",
      "3PNxZ3BELbUXJ1XLktXiHz\n",
      "{'message': 'You have exceeded the MONTHLY quota for Requests on your current plan, BASIC. Upgrade your plan at https://rapidapi.com/Glavier/api/spotify23'}\n",
      "2811CkGSYR9SUtIoFWWiTk\n",
      "{'message': 'You have exceeded the MONTHLY quota for Requests on your current plan, BASIC. Upgrade your plan at https://rapidapi.com/Glavier/api/spotify23'}\n",
      "0wOiWrujRbxlKEGWRQpKYc\n",
      "{'message': 'You have exceeded the MONTHLY quota for Requests on your current plan, BASIC. Upgrade your plan at https://rapidapi.com/Glavier/api/spotify23'}\n",
      "7ikmjsvRzDRzxHN0KXSQdv\n",
      "{'message': 'You have exceeded the MONTHLY quota for Requests on your current plan, BASIC. Upgrade your plan at https://rapidapi.com/Glavier/api/spotify23'}\n",
      "2Fna4Tb7fme5aHsNMJtVtp\n",
      "{'message': 'You have exceeded the MONTHLY quota for Requests on your current plan, BASIC. Upgrade your plan at https://rapidapi.com/Glavier/api/spotify23'}\n",
      "0FOOodYRlj7gzh7q7IjmNZ\n",
      "{'message': 'You have exceeded the MONTHLY quota for Requests on your current plan, BASIC. Upgrade your plan at https://rapidapi.com/Glavier/api/spotify23'}\n",
      "5t5FqBwTcgKTaWmfEbwQY9\n"
     ]
    },
    {
     "ename": "KeyError",
     "evalue": "'data'",
     "output_type": "error",
     "traceback": [
      "\u001b[1;31m---------------------------------------------------------------------------\u001b[0m",
      "\u001b[1;31mKeyError\u001b[0m                                  Traceback (most recent call last)",
      "Cell \u001b[1;32mIn[110], line 15\u001b[0m\n\u001b[0;32m     13\u001b[0m \u001b[38;5;28mprint\u001b[39m(api_id)\n\u001b[0;32m     14\u001b[0m res \u001b[38;5;241m=\u001b[39m conn\u001b[38;5;241m.\u001b[39mgetresponse()\n\u001b[1;32m---> 15\u001b[0m singles \u001b[38;5;241m=\u001b[39m \u001b[43mjson\u001b[49m\u001b[38;5;241;43m.\u001b[39;49m\u001b[43mloads\u001b[49m\u001b[43m(\u001b[49m\u001b[43mres\u001b[49m\u001b[38;5;241;43m.\u001b[39;49m\u001b[43mread\u001b[49m\u001b[43m(\u001b[49m\u001b[43m)\u001b[49m\u001b[38;5;241;43m.\u001b[39;49m\u001b[43mdecode\u001b[49m\u001b[43m(\u001b[49m\u001b[38;5;124;43m'\u001b[39;49m\u001b[38;5;124;43mutf-8\u001b[39;49m\u001b[38;5;124;43m'\u001b[39;49m\u001b[43m)\u001b[49m\u001b[43m)\u001b[49m\u001b[43m[\u001b[49m\u001b[38;5;124;43m'\u001b[39;49m\u001b[38;5;124;43mdata\u001b[39;49m\u001b[38;5;124;43m'\u001b[39;49m\u001b[43m]\u001b[49m[\u001b[38;5;124m'\u001b[39m\u001b[38;5;124martist\u001b[39m\u001b[38;5;124m'\u001b[39m][\u001b[38;5;124m'\u001b[39m\u001b[38;5;124mdiscography\u001b[39m\u001b[38;5;124m'\u001b[39m][\u001b[38;5;124m'\u001b[39m\u001b[38;5;124msingles\u001b[39m\u001b[38;5;124m'\u001b[39m][\u001b[38;5;124m'\u001b[39m\u001b[38;5;124mitems\u001b[39m\u001b[38;5;124m'\u001b[39m]\n\u001b[0;32m     16\u001b[0m \u001b[38;5;28;01mfor\u001b[39;00m single \u001b[38;5;129;01min\u001b[39;00m singles: \n\u001b[0;32m     17\u001b[0m     \u001b[38;5;28;01mif\u001b[39;00m single[\u001b[38;5;124m'\u001b[39m\u001b[38;5;124mreleases\u001b[39m\u001b[38;5;124m'\u001b[39m][\u001b[38;5;124m'\u001b[39m\u001b[38;5;124mitems\u001b[39m\u001b[38;5;124m'\u001b[39m][\u001b[38;5;241m0\u001b[39m][\u001b[38;5;124m'\u001b[39m\u001b[38;5;124mtype\u001b[39m\u001b[38;5;124m'\u001b[39m] \u001b[38;5;241m==\u001b[39m \u001b[38;5;124m'\u001b[39m\u001b[38;5;124mSINGLE\u001b[39m\u001b[38;5;124m'\u001b[39m:\n",
      "\u001b[1;31mKeyError\u001b[0m: 'data'"
     ]
    }
   ],
   "source": [
    "## get artist singles\n",
    "for artist in Artist.objects.all():\n",
    "    api_id = artist.api_id\n",
    "\n",
    "    conn = http.client.HTTPSConnection(\"spotify23.p.rapidapi.com\")\n",
    "\n",
    "    headers = {\n",
    "        'X-RapidAPI-Key': \"82ce6fe0f2msh1b1cfd285dbcc80p1b3260jsn6c515c923b86\",\n",
    "        'X-RapidAPI-Host': \"spotify23.p.rapidapi.com\"\n",
    "    }\n",
    "\n",
    "    conn.request(\"GET\", \"/artist_singles/?id={api_id}\".format(api_id=api_id), headers=headers)\n",
    "    print(api_id)\n",
    "    res = conn.getresponse()\n",
    "    singles = json.loads(res.read().decode('utf-8'))['data']['artist']['discography']['singles']['items']\n",
    "    for single in singles: \n",
    "        if single['releases']['items'][0]['type'] == 'SINGLE':\n",
    "            id = single['releases']['items'][0]['id']\n",
    "            if Song.objects.filter(api_id=id).exists():\n",
    "                continue\n",
    "            else:\n",
    "                print(id)\n",
    "                song_record = Song(api_id=id)\n",
    "                try:\n",
    "                    conn.request(\"GET\", \"/tracks/?ids=id\".format(id=id), headers=headers)\n",
    "\n",
    "                    res = conn.getresponse()\n",
    "                    song_info = json.loads(res.read().decode(\"utf-8\"))\n",
    "                    print(song_info)\n",
    "                    Song.objects.filter(api_id=id).update(title=song_info['name'], popularity=song_info['popularity'], preview_url=song_info['preview_url'] )\n",
    "                    song_record.save()\n",
    "                    song_artist = Artist.objects.get(api_id=api_id)\n",
    "                    song_artist.songs.add(song_record)\n",
    "                    song_artist.save()\n",
    "                except:\n",
    "                    continue\n",
    "        else:\n",
    "            continue\n"
   ]
  },
  {
   "cell_type": "code",
   "execution_count": 109,
   "metadata": {},
   "outputs": [
    {
     "name": "stdout",
     "output_type": "stream",
     "text": [
      "True\n"
     ]
    }
   ],
   "source": [
    "print(single['releases']['items'][0]['type'] == 'SINGLE')"
   ]
  },
  {
   "cell_type": "code",
   "execution_count": 101,
   "metadata": {},
   "outputs": [
    {
     "ename": "DoesNotExist",
     "evalue": "Song matching query does not exist.",
     "output_type": "error",
     "traceback": [
      "\u001b[1;31m---------------------------------------------------------------------------\u001b[0m",
      "\u001b[1;31mDoesNotExist\u001b[0m                              Traceback (most recent call last)",
      "Cell \u001b[1;32mIn[101], line 1\u001b[0m\n\u001b[1;32m----> 1\u001b[0m \u001b[43mSong\u001b[49m\u001b[38;5;241;43m.\u001b[39;49m\u001b[43mobjects\u001b[49m\u001b[38;5;241;43m.\u001b[39;49m\u001b[43mget\u001b[49m\u001b[43m(\u001b[49m\u001b[43mapi_id\u001b[49m\u001b[38;5;241;43m=\u001b[39;49m\u001b[38;5;124;43m'\u001b[39;49m\u001b[38;5;124;43m20iyYKtw1KjMRsMZWMPpVY\u001b[39;49m\u001b[38;5;124;43m'\u001b[39;49m\u001b[43m)\u001b[49m\n",
      "File \u001b[1;32mc:\\Users\\linji\\.pyenv\\pyenv-win\\versions\\3.11.5\\Lib\\site-packages\\django\\db\\models\\manager.py:87\u001b[0m, in \u001b[0;36mBaseManager._get_queryset_methods.<locals>.create_method.<locals>.manager_method\u001b[1;34m(self, *args, **kwargs)\u001b[0m\n\u001b[0;32m     85\u001b[0m \u001b[38;5;129m@wraps\u001b[39m(method)\n\u001b[0;32m     86\u001b[0m \u001b[38;5;28;01mdef\u001b[39;00m \u001b[38;5;21mmanager_method\u001b[39m(\u001b[38;5;28mself\u001b[39m, \u001b[38;5;241m*\u001b[39margs, \u001b[38;5;241m*\u001b[39m\u001b[38;5;241m*\u001b[39mkwargs):\n\u001b[1;32m---> 87\u001b[0m     \u001b[38;5;28;01mreturn\u001b[39;00m \u001b[38;5;28;43mgetattr\u001b[39;49m\u001b[43m(\u001b[49m\u001b[38;5;28;43mself\u001b[39;49m\u001b[38;5;241;43m.\u001b[39;49m\u001b[43mget_queryset\u001b[49m\u001b[43m(\u001b[49m\u001b[43m)\u001b[49m\u001b[43m,\u001b[49m\u001b[43m \u001b[49m\u001b[43mname\u001b[49m\u001b[43m)\u001b[49m\u001b[43m(\u001b[49m\u001b[38;5;241;43m*\u001b[39;49m\u001b[43margs\u001b[49m\u001b[43m,\u001b[49m\u001b[43m \u001b[49m\u001b[38;5;241;43m*\u001b[39;49m\u001b[38;5;241;43m*\u001b[39;49m\u001b[43mkwargs\u001b[49m\u001b[43m)\u001b[49m\n",
      "File \u001b[1;32mc:\\Users\\linji\\.pyenv\\pyenv-win\\versions\\3.11.5\\Lib\\site-packages\\django\\db\\models\\query.py:647\u001b[0m, in \u001b[0;36mQuerySet.get\u001b[1;34m(self, *args, **kwargs)\u001b[0m\n\u001b[0;32m    645\u001b[0m     \u001b[38;5;28;01mreturn\u001b[39;00m clone\u001b[38;5;241m.\u001b[39m_result_cache[\u001b[38;5;241m0\u001b[39m]\n\u001b[0;32m    646\u001b[0m \u001b[38;5;28;01mif\u001b[39;00m \u001b[38;5;129;01mnot\u001b[39;00m num:\n\u001b[1;32m--> 647\u001b[0m     \u001b[38;5;28;01mraise\u001b[39;00m \u001b[38;5;28mself\u001b[39m\u001b[38;5;241m.\u001b[39mmodel\u001b[38;5;241m.\u001b[39mDoesNotExist(\n\u001b[0;32m    648\u001b[0m         \u001b[38;5;124m\"\u001b[39m\u001b[38;5;132;01m%s\u001b[39;00m\u001b[38;5;124m matching query does not exist.\u001b[39m\u001b[38;5;124m\"\u001b[39m \u001b[38;5;241m%\u001b[39m \u001b[38;5;28mself\u001b[39m\u001b[38;5;241m.\u001b[39mmodel\u001b[38;5;241m.\u001b[39m_meta\u001b[38;5;241m.\u001b[39mobject_name\n\u001b[0;32m    649\u001b[0m     )\n\u001b[0;32m    650\u001b[0m \u001b[38;5;28;01mraise\u001b[39;00m \u001b[38;5;28mself\u001b[39m\u001b[38;5;241m.\u001b[39mmodel\u001b[38;5;241m.\u001b[39mMultipleObjectsReturned(\n\u001b[0;32m    651\u001b[0m     \u001b[38;5;124m\"\u001b[39m\u001b[38;5;124mget() returned more than one \u001b[39m\u001b[38;5;132;01m%s\u001b[39;00m\u001b[38;5;124m -- it returned \u001b[39m\u001b[38;5;132;01m%s\u001b[39;00m\u001b[38;5;124m!\u001b[39m\u001b[38;5;124m\"\u001b[39m\n\u001b[0;32m    652\u001b[0m     \u001b[38;5;241m%\u001b[39m (\n\u001b[1;32m   (...)\u001b[0m\n\u001b[0;32m    655\u001b[0m     )\n\u001b[0;32m    656\u001b[0m )\n",
      "\u001b[1;31mDoesNotExist\u001b[0m: Song matching query does not exist."
     ]
    }
   ],
   "source": [
    "Song.objects.get(api_id='20iyYKtw1KjMRsMZWMPpVY')"
   ]
  }
 ],
 "metadata": {
  "kernelspec": {
   "display_name": "Python 3 (ipykernel)",
   "language": "python",
   "name": "python3"
  },
  "language_info": {
   "codemirror_mode": {
    "name": "ipython",
    "version": 3
   },
   "file_extension": ".py",
   "mimetype": "text/x-python",
   "name": "python",
   "nbconvert_exporter": "python",
   "pygments_lexer": "ipython3",
   "version": "3.11.5"
  }
 },
 "nbformat": 4,
 "nbformat_minor": 4
}
