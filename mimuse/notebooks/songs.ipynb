{
 "cells": [
  {
   "cell_type": "code",
   "execution_count": 1,
   "metadata": {},
   "outputs": [],
   "source": [
    "import os\n",
    "os.chdir(\"..\")"
   ]
  },
  {
   "cell_type": "code",
   "execution_count": 2,
   "metadata": {},
   "outputs": [],
   "source": [
    "import django\n",
    "# In case that we need it later\n",
    "# from django.conf import settings\n",
    "os.environ.setdefault('DJANGO_SETTINGS_MODULE',\n",
    "'mimuse.settings')\n",
    "# This is for async, in case we will see it later (maybe)\n",
    "os.environ[\"DJANGO_ALLOW_ASYNC_UNSAFE\"] = \"true\"\n",
    "django.setup()\n"
   ]
  },
  {
   "cell_type": "code",
   "execution_count": 3,
   "metadata": {},
   "outputs": [],
   "source": [
    "import json\n",
    "import http.client\n",
    "from songs.models import Song, Album\n",
    "from artists.models import Artist\n",
    "from datetime import datetime"
   ]
  },
  {
   "cell_type": "code",
   "execution_count": 4,
   "metadata": {},
   "outputs": [],
   "source": [
    "import http.client\n",
    "\n",
    "conn = http.client.HTTPSConnection(\"spotify23.p.rapidapi.com\")\n",
    "\n",
    "headers = {\n",
    "    'X-RapidAPI-Key': \"aca7b771e2msh9c54abb3273edbdp178a4ajsnc1d498e77546\",\n",
    "    'X-RapidAPI-Host': \"spotify23.p.rapidapi.com\"\n",
    "}\n",
    "\n",
    "conn.request(\"GET\", \"/recommendations/?limit=5&seed_tracks=38MKW2tQHtyO8djIOKlEFF\", headers=headers)\n",
    "\n",
    "res = conn.getresponse()\n",
    "data = json.loads(res.read().decode(\"utf-8\"))\n",
    "\n",
    "# print(data.decode(\"utf-8\"))"
   ]
  },
  {
   "cell_type": "code",
   "execution_count": 7,
   "metadata": {},
   "outputs": [
    {
     "data": {
      "text/plain": [
       "[<Song: Song object (82)>,\n",
       " <Song: Song object (83)>,\n",
       " <Song: Song object (84)>,\n",
       " <Song: Song object (85)>,\n",
       " <Song: Song object (86)>]"
      ]
     },
     "execution_count": 7,
     "metadata": {},
     "output_type": "execute_result"
    }
   ],
   "source": [
    "song_list = list()\n",
    "\n",
    "#get track recommendations\n",
    "for song in data['tracks']:\n",
    "        if Song.objects.filter(api_id=song['id']).exists():\n",
    "            continue\n",
    "        else:\n",
    "            if(song['album']['release_date_precision']==\"day\"):\n",
    "                song_list.append(Song(api_id=song['id'], title = song['name'], preview_url= song['preview_url'], release_date= song['album']['release_date'], popularity=song['popularity'], recommended=True))\n",
    "            else:\n",
    "                song_list.append(Song(api_id=song['id'], title = song['name'], preview_url= song['preview_url'], popularity=song['popularity'], recommended=True))\n",
    "Song.objects.bulk_create(song_list)"
   ]
  },
  {
   "cell_type": "code",
   "execution_count": 8,
   "metadata": {},
   "outputs": [],
   "source": [
    "# get artists of recommended tracks \n",
    "for song in data['tracks']:\n",
    "    id = str(song['artists'][0]['id'])\n",
    "    song_id = song['id']\n",
    "    if Artist.objects.filter(api_id=id).exists():\n",
    "        print('Developer msg: data already exists in database')\n",
    "        continue\n",
    "    else:\n",
    "        conn.request(\"GET\", \"/artists/?ids={id}\".format(\n",
    "                            id=id), headers=headers)\n",
    "        res = conn.getresponse()\n",
    "        datas = json.loads(res.read().decode('utf-8'))['artists'][0]\n",
    "        artist = Artist(api_id=id, name = datas['name'], popularity=datas['popularity'], image=datas['images'][0]['url'], followers=datas['followers']['total'])\n",
    "        artist.save()\n",
    "        song_id = song['id']\n",
    "        this_song = Song.objects.get(api_id=song_id)\n",
    "        artist.songs.add(this_song)\n",
    "        artist.save()\n"
   ]
  },
  {
   "cell_type": "code",
   "execution_count": 10,
   "metadata": {},
   "outputs": [],
   "source": [
    "## loop through artist records and get artist descriptions\n",
    "data = Artist.objects.all()\n",
    "    # print(type(data))    \n",
    "for i in data:\n",
    "    id = str(i)\n",
    "    try:\n",
    "        conn.request(\"GET\", \"/artist_overview/?id={id}\".format(\n",
    "                        id=id), headers=headers)\n",
    "        res = conn.getresponse()\n",
    "        datas = json.loads(res.read().decode('utf-8'))\n",
    "        update = Artist.objects.get(api_id=id)\n",
    "        text = html.unescape(datas['data']['artist']['profile']['biography']['text'])\n",
    "        update.overview = remove_tags(text)\n",
    "        update.save()\n",
    "    except:\n",
    "        continue"
   ]
  },
  {
   "cell_type": "code",
   "execution_count": 11,
   "metadata": {},
   "outputs": [
    {
     "name": "stdout",
     "output_type": "stream",
     "text": [
      "2yqXymIotLIx9BCuRIAWFU\n",
      "47auHySKFWcInG4hDJTWAi\n",
      "4FJWDOLq0eiu0WGrJHqZfo\n",
      "3DuL4EFBmwfcEle2TTQNY2\n",
      "6mPOqqTNfS3p7BlDMCy07r\n",
      "0mRRG2TuM20kCjhR4h1op4\n",
      "6S8BCiVrtzm5TEOnjyyCfJ\n",
      "6CYyZb52ZwPm9wkwpCbMFJ\n",
      "6QcaLmC3oxXlQ3L92VMVHl\n",
      "1owcEw2antmRf5VKfUudPd\n",
      "5AyaDiKMw0uxUboxFBud9T\n",
      "7qch1xWGWuU5VxZEYBF5KW\n",
      "31ZO3EEc4JPomzMGed9BEV\n",
      "1BxRutqDtvMJfiovw76gxe\n",
      "2EIFbTHUp9QwbxJrs5w3pB\n",
      "1OunRKupt1U7K8eq2NgkPZ\n",
      "7Hte4qBJwmSCELZyYiJeP3\n",
      "1RzqZoXe1bf1f48PK20EeH\n"
     ]
    }
   ],
   "source": [
    "# get artist singles\n",
    "for artist in Artist.objects.all():\n",
    "    api_id = artist.api_id\n",
    "    conn.request(\"GET\", \"/artist_singles/?id={api_id}&limit=5\".format(api_id=api_id), headers=headers)\n",
    "    res = conn.getresponse()\n",
    "    singles = json.loads(res.read().decode('utf-8'))['data']['artist']['discography']['singles']['items']\n",
    "    for single in singles: \n",
    "        if single['releases']['items'][0]['type'] == 'SINGLE':\n",
    "            id = single['releases']['items'][0]['id']\n",
    "            if Song.objects.filter(api_id=id).exists():\n",
    "                continue\n",
    "            else:\n",
    "                print(id)\n",
    "                try:\n",
    "                    conn.request(\"GET\", \"/albums/?ids={id}\".format(id=id), headers=headers)\n",
    "                    res = conn.getresponse()\n",
    "                    song_info = json.loads(res.read().decode(\"utf-8\"))['albums'][0]['tracks']['items'][0]\n",
    "                    song_record = Song.objects.update_or_create(api_id=song_info['id'],title=song_info['name'], popularity=song_info['popularity'], preview_url=song_info['preview_url'] )\n",
    "                    song_record.save()\n",
    "                    song_artist = Artist.objects.get(api_id=api_id)\n",
    "                    song_artist.songs.add(song_record)\n",
    "                    song_artist.save()\n",
    "                except:\n",
    "                    continue\n"
   ]
  },
  {
   "cell_type": "code",
   "execution_count": 12,
   "metadata": {},
   "outputs": [],
   "source": [
    "# get artist albums\n",
    "data = Artist.objects.all()\n",
    "for i in data:\n",
    "    artist_id = str(i)\n",
    "        # print(i)\n",
    "    conn.request(\"GET\", \"/artist_albums/?id={artist_id}&limit=5\".format(artist_id=artist_id), headers=headers)\n",
    "    res = conn.getresponse()\n",
    "    datas = json.loads(res.read().decode('utf-8'))\n",
    "        # print(datas)\n",
    "    for album in datas['data']['artist']['discography']['albums']['items']:\n",
    "        this = Album(api_id = album['releases']['items'][0]['id'])\n",
    "        this.save()\n",
    "        artist = Artist.objects.get(api_id=artist_id)\n",
    "        artist.albums.add(this)\n",
    "        artist.save()"
   ]
  },
  {
   "cell_type": "code",
   "execution_count": 13,
   "metadata": {},
   "outputs": [],
   "source": [
    "#get album info      \n",
    "for artist in Artist.objects.all():\n",
    "    albums = Artist.albums.through.objects.filter(artist_id=artist.id)\n",
    "    for album in albums:\n",
    "        album_id = Album.objects.get(id=album.album_id).api_id\n",
    "        artist_id = Artist.objects.get(id=album.artist_id).api_id\n",
    "        try: \n",
    "            conn.request(\"GET\", \"/albums/?ids={album_id}\".format(album_id=album_id), headers=headers)\n",
    "            res = conn.getresponse()\n",
    "            album_info = json.loads(res.read().decode('utf-8'))['albums'][0]\n",
    "            this_album = Album.objects.filter(api_id=album_id)\n",
    "            if(album_info['release_date_precision']==\"day\"):\n",
    "                this_album.update(title=album_info['name'], release_date=album_info['release_date'], cover_image=album_info['images'][0]['url'])\n",
    "            else:\n",
    "                this_album.update(title=album_info['name'], cover_image=album_info['images'][0]['url'])\n",
    "            this_artist = Artist.objects.get(api_id=artist_id)\n",
    "            this_artist.albums.add(this_album.first())    \n",
    "            this_artist.save()\n",
    "        except:\n",
    "            headers = {\n",
    "                'X-RapidAPI-Key': 'decc1ccd1emshec26a27a5b4d655p1dd505jsn708530cee011',\n",
    "                'X-RapidAPI-Host': \"spotify23.p.rapidapi.com\"\n",
    "            }\n",
    "            continue"
   ]
  },
  {
   "cell_type": "code",
   "execution_count": 14,
   "metadata": {},
   "outputs": [
    {
     "name": "stdout",
     "output_type": "stream",
     "text": [
      "done filling database\n"
     ]
    }
   ],
   "source": [
    "# get tracks in albums\n",
    "for album in Album.objects.all():\n",
    "    album_id = album.api_id\n",
    "    try:\n",
    "        conn.request(\"GET\", \"/album_tracks/?id={album_id}&limit=5\".format(album_id=album_id), headers=headers)\n",
    "        res = conn.getresponse()\n",
    "        album_tracks = json.loads(res.read().decode('utf-8'))['data']['album']['tracks']['items']\n",
    "        for track in album_tracks:\n",
    "            uri = track['track']['uri']\n",
    "            id = uri.replace('spotify:track:', '')\n",
    "            try: \n",
    "                conn.request(\"GET\", \"/tracks/?ids={id}\".format(id=id), headers=headers)\n",
    "                res = conn.getresponse()\n",
    "                track_info = json.loads(res.read().decode('utf-8'))['tracks'][0]\n",
    "                if Song.objects.filter(api_id=id).exists():\n",
    "                    continue\n",
    "                else:\n",
    "                    Song.objects.update_or_create(api_id=id, album_id=album, title=track_info['name'], popularity=track_info['popularity'], preview_url = track_info['preview_url'], release_date=album.release_date)\n",
    "                    song= Song.objects.get(api_id=id)\n",
    "                    artist = Artist.objects.get(api_id=track_info['artists'][0]['id'])\n",
    "                    artist.songs.add(song)\n",
    "                    artist.save()\n",
    "            except:\n",
    "                print(\"TOO MANY SONGS API CANNOT HANDLE\")\n",
    "                    # api_key = api_key2\n",
    "                headers = {\n",
    "                    'X-RapidAPI-Key': 'decc1ccd1emshec26a27a5b4d655p1dd505jsn708530cee011',\n",
    "                    'X-RapidAPI-Host': \"spotify23.p.rapidapi.com\"\n",
    "                }\n",
    "                continue\n",
    "    except:\n",
    "        print(\"API LIMIT\")\n",
    "            # api_key = api_key2\n",
    "        headers = {\n",
    "            'X-RapidAPI-Key': 'decc1ccd1emshec26a27a5b4d655p1dd505jsn708530cee011',\n",
    "            'X-RapidAPI-Host': \"spotify23.p.rapidapi.com\"\n",
    "        }\n",
    "        continue\n",
    "print('done filling database')"
   ]
  },
  {
   "cell_type": "code",
   "execution_count": null,
   "metadata": {},
   "outputs": [],
   "source": []
  }
 ],
 "metadata": {
  "kernelspec": {
   "display_name": "Python 3 (ipykernel)",
   "language": "python",
   "name": "python3"
  },
  "language_info": {
   "codemirror_mode": {
    "name": "ipython",
    "version": 3
   },
   "file_extension": ".py",
   "mimetype": "text/x-python",
   "name": "python",
   "nbconvert_exporter": "python",
   "pygments_lexer": "ipython3",
   "version": "3.11.5"
  }
 },
 "nbformat": 4,
 "nbformat_minor": 4
}
