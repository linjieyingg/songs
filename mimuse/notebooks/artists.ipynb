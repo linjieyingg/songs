{
 "cells": [
  {
   "cell_type": "markdown",
   "metadata": {},
   "source": [
    "run once to fill database with artists"
   ]
  },
  {
   "cell_type": "code",
   "execution_count": 1,
   "metadata": {},
   "outputs": [],
   "source": [
    "import os\n",
    "os.chdir(\"..\")"
   ]
  },
  {
   "cell_type": "code",
   "execution_count": 2,
   "metadata": {},
   "outputs": [],
   "source": [
    "import django\n",
    "# In case that we need it later\n",
    "# from django.conf import settings\n",
    "os.environ.setdefault('DJANGO_SETTINGS_MODULE',\n",
    "'mimuse.settings')\n",
    "# This is for async, in case we will see it later (maybe)\n",
    "os.environ[\"DJANGO_ALLOW_ASYNC_UNSAFE\"] = \"true\"\n",
    "django.setup()\n"
   ]
  },
  {
   "cell_type": "code",
   "execution_count": 3,
   "metadata": {},
   "outputs": [],
   "source": [
    "import json\n",
    "import http.client\n",
    "from songs.models import Song, Album\n",
    "from artists.models import Artist\n",
    "from datetime import datetime"
   ]
  },
  {
   "cell_type": "code",
   "execution_count": 4,
   "metadata": {},
   "outputs": [],
   "source": [
    "import http.client\n",
    "\n",
    "conn = http.client.HTTPSConnection(\"spotify23.p.rapidapi.com\")\n",
    "\n",
    "headers = {\n",
    "    'X-RapidAPI-Key': \"2173464f0bmsh087f6a414d24270p11a1f5jsn1ae2008c92ce\",\n",
    "    'X-RapidAPI-Host': \"spotify23.p.rapidapi.com\"\n",
    "}\n",
    "\n",
    "conn.request(\"GET\", \"/artists/?ids=2AfmfGFbe0A0WsTYm0SDTx\", headers=headers)\n",
    "\n",
    "res = conn.getresponse()\n",
    "data = json.loads(res.read().decode('utf-8'))\n",
    "\n",
    "# print(data)"
   ]
  },
  {
   "cell_type": "code",
   "execution_count": 28,
   "metadata": {},
   "outputs": [
    {
     "ename": "ProgrammingError",
     "evalue": "relation \"songs_song_artists\" does not exist\nLINE 1: DELETE FROM \"songs_song_artists\" WHERE \"songs_song_artists\"....\n                    ^",
     "output_type": "error",
     "traceback": [
      "\u001b[1;31m---------------------------------------------------------------------------\u001b[0m",
      "\u001b[1;31mUndefinedTable\u001b[0m                            Traceback (most recent call last)",
      "File \u001b[1;32mc:\\Users\\linji\\.pyenv\\pyenv-win\\versions\\3.11.5\\Lib\\site-packages\\django\\db\\backends\\utils.py:105\u001b[0m, in \u001b[0;36mCursorWrapper._execute\u001b[1;34m(self, sql, params, *ignored_wrapper_args)\u001b[0m\n\u001b[0;32m    104\u001b[0m \u001b[38;5;28;01melse\u001b[39;00m:\n\u001b[1;32m--> 105\u001b[0m     \u001b[38;5;28;01mreturn\u001b[39;00m \u001b[38;5;28;43mself\u001b[39;49m\u001b[38;5;241;43m.\u001b[39;49m\u001b[43mcursor\u001b[49m\u001b[38;5;241;43m.\u001b[39;49m\u001b[43mexecute\u001b[49m\u001b[43m(\u001b[49m\u001b[43msql\u001b[49m\u001b[43m,\u001b[49m\u001b[43m \u001b[49m\u001b[43mparams\u001b[49m\u001b[43m)\u001b[49m\n",
      "File \u001b[1;32mc:\\Users\\linji\\.pyenv\\pyenv-win\\versions\\3.11.5\\Lib\\site-packages\\psycopg\\cursor.py:737\u001b[0m, in \u001b[0;36mCursor.execute\u001b[1;34m(self, query, params, prepare, binary)\u001b[0m\n\u001b[0;32m    736\u001b[0m \u001b[38;5;28;01mexcept\u001b[39;00m e\u001b[38;5;241m.\u001b[39m_NO_TRACEBACK \u001b[38;5;28;01mas\u001b[39;00m ex:\n\u001b[1;32m--> 737\u001b[0m     \u001b[38;5;28;01mraise\u001b[39;00m ex\u001b[38;5;241m.\u001b[39mwith_traceback(\u001b[38;5;28;01mNone\u001b[39;00m)\n\u001b[0;32m    738\u001b[0m \u001b[38;5;28;01mreturn\u001b[39;00m \u001b[38;5;28mself\u001b[39m\n",
      "\u001b[1;31mUndefinedTable\u001b[0m: relation \"songs_song_artists\" does not exist\nLINE 1: DELETE FROM \"songs_song_artists\" WHERE \"songs_song_artists\"....\n                    ^",
      "\nThe above exception was the direct cause of the following exception:\n",
      "\u001b[1;31mProgrammingError\u001b[0m                          Traceback (most recent call last)",
      "Cell \u001b[1;32mIn[28], line 1\u001b[0m\n\u001b[1;32m----> 1\u001b[0m \u001b[43mArtist\u001b[49m\u001b[38;5;241;43m.\u001b[39;49m\u001b[43mobjects\u001b[49m\u001b[38;5;241;43m.\u001b[39;49m\u001b[43mall\u001b[49m\u001b[43m(\u001b[49m\u001b[43m)\u001b[49m\u001b[38;5;241;43m.\u001b[39;49m\u001b[43mdelete\u001b[49m\u001b[43m(\u001b[49m\n\u001b[0;32m      2\u001b[0m \u001b[43m)\u001b[49m\n",
      "File \u001b[1;32mc:\\Users\\linji\\.pyenv\\pyenv-win\\versions\\3.11.5\\Lib\\site-packages\\django\\db\\models\\query.py:1186\u001b[0m, in \u001b[0;36mQuerySet.delete\u001b[1;34m(self)\u001b[0m\n\u001b[0;32m   1184\u001b[0m collector \u001b[38;5;241m=\u001b[39m Collector(using\u001b[38;5;241m=\u001b[39mdel_query\u001b[38;5;241m.\u001b[39mdb, origin\u001b[38;5;241m=\u001b[39m\u001b[38;5;28mself\u001b[39m)\n\u001b[0;32m   1185\u001b[0m collector\u001b[38;5;241m.\u001b[39mcollect(del_query)\n\u001b[1;32m-> 1186\u001b[0m deleted, _rows_count \u001b[38;5;241m=\u001b[39m \u001b[43mcollector\u001b[49m\u001b[38;5;241;43m.\u001b[39;49m\u001b[43mdelete\u001b[49m\u001b[43m(\u001b[49m\u001b[43m)\u001b[49m\n\u001b[0;32m   1188\u001b[0m \u001b[38;5;66;03m# Clear the result cache, in case this QuerySet gets reused.\u001b[39;00m\n\u001b[0;32m   1189\u001b[0m \u001b[38;5;28mself\u001b[39m\u001b[38;5;241m.\u001b[39m_result_cache \u001b[38;5;241m=\u001b[39m \u001b[38;5;28;01mNone\u001b[39;00m\n",
      "File \u001b[1;32mc:\\Users\\linji\\.pyenv\\pyenv-win\\versions\\3.11.5\\Lib\\site-packages\\django\\db\\models\\deletion.py:472\u001b[0m, in \u001b[0;36mCollector.delete\u001b[1;34m(self)\u001b[0m\n\u001b[0;32m    470\u001b[0m \u001b[38;5;66;03m# fast deletes\u001b[39;00m\n\u001b[0;32m    471\u001b[0m \u001b[38;5;28;01mfor\u001b[39;00m qs \u001b[38;5;129;01min\u001b[39;00m \u001b[38;5;28mself\u001b[39m\u001b[38;5;241m.\u001b[39mfast_deletes:\n\u001b[1;32m--> 472\u001b[0m     count \u001b[38;5;241m=\u001b[39m \u001b[43mqs\u001b[49m\u001b[38;5;241;43m.\u001b[39;49m\u001b[43m_raw_delete\u001b[49m\u001b[43m(\u001b[49m\u001b[43musing\u001b[49m\u001b[38;5;241;43m=\u001b[39;49m\u001b[38;5;28;43mself\u001b[39;49m\u001b[38;5;241;43m.\u001b[39;49m\u001b[43musing\u001b[49m\u001b[43m)\u001b[49m\n\u001b[0;32m    473\u001b[0m     \u001b[38;5;28;01mif\u001b[39;00m count:\n\u001b[0;32m    474\u001b[0m         deleted_counter[qs\u001b[38;5;241m.\u001b[39mmodel\u001b[38;5;241m.\u001b[39m_meta\u001b[38;5;241m.\u001b[39mlabel] \u001b[38;5;241m+\u001b[39m\u001b[38;5;241m=\u001b[39m count\n",
      "File \u001b[1;32mc:\\Users\\linji\\.pyenv\\pyenv-win\\versions\\3.11.5\\Lib\\site-packages\\django\\db\\models\\query.py:1208\u001b[0m, in \u001b[0;36mQuerySet._raw_delete\u001b[1;34m(self, using)\u001b[0m\n\u001b[0;32m   1206\u001b[0m query \u001b[38;5;241m=\u001b[39m \u001b[38;5;28mself\u001b[39m\u001b[38;5;241m.\u001b[39mquery\u001b[38;5;241m.\u001b[39mclone()\n\u001b[0;32m   1207\u001b[0m query\u001b[38;5;241m.\u001b[39m\u001b[38;5;18m__class__\u001b[39m \u001b[38;5;241m=\u001b[39m sql\u001b[38;5;241m.\u001b[39mDeleteQuery\n\u001b[1;32m-> 1208\u001b[0m cursor \u001b[38;5;241m=\u001b[39m \u001b[43mquery\u001b[49m\u001b[38;5;241;43m.\u001b[39;49m\u001b[43mget_compiler\u001b[49m\u001b[43m(\u001b[49m\u001b[43musing\u001b[49m\u001b[43m)\u001b[49m\u001b[38;5;241;43m.\u001b[39;49m\u001b[43mexecute_sql\u001b[49m\u001b[43m(\u001b[49m\u001b[43mCURSOR\u001b[49m\u001b[43m)\u001b[49m\n\u001b[0;32m   1209\u001b[0m \u001b[38;5;28;01mif\u001b[39;00m cursor:\n\u001b[0;32m   1210\u001b[0m     \u001b[38;5;28;01mwith\u001b[39;00m cursor:\n",
      "File \u001b[1;32mc:\\Users\\linji\\.pyenv\\pyenv-win\\versions\\3.11.5\\Lib\\site-packages\\django\\db\\models\\sql\\compiler.py:1562\u001b[0m, in \u001b[0;36mSQLCompiler.execute_sql\u001b[1;34m(self, result_type, chunked_fetch, chunk_size)\u001b[0m\n\u001b[0;32m   1560\u001b[0m     cursor \u001b[38;5;241m=\u001b[39m \u001b[38;5;28mself\u001b[39m\u001b[38;5;241m.\u001b[39mconnection\u001b[38;5;241m.\u001b[39mcursor()\n\u001b[0;32m   1561\u001b[0m \u001b[38;5;28;01mtry\u001b[39;00m:\n\u001b[1;32m-> 1562\u001b[0m     \u001b[43mcursor\u001b[49m\u001b[38;5;241;43m.\u001b[39;49m\u001b[43mexecute\u001b[49m\u001b[43m(\u001b[49m\u001b[43msql\u001b[49m\u001b[43m,\u001b[49m\u001b[43m \u001b[49m\u001b[43mparams\u001b[49m\u001b[43m)\u001b[49m\n\u001b[0;32m   1563\u001b[0m \u001b[38;5;28;01mexcept\u001b[39;00m \u001b[38;5;167;01mException\u001b[39;00m:\n\u001b[0;32m   1564\u001b[0m     \u001b[38;5;66;03m# Might fail for server-side cursors (e.g. connection closed)\u001b[39;00m\n\u001b[0;32m   1565\u001b[0m     cursor\u001b[38;5;241m.\u001b[39mclose()\n",
      "File \u001b[1;32mc:\\Users\\linji\\.pyenv\\pyenv-win\\versions\\3.11.5\\Lib\\site-packages\\django\\db\\backends\\utils.py:122\u001b[0m, in \u001b[0;36mCursorDebugWrapper.execute\u001b[1;34m(self, sql, params)\u001b[0m\n\u001b[0;32m    120\u001b[0m \u001b[38;5;28;01mdef\u001b[39;00m \u001b[38;5;21mexecute\u001b[39m(\u001b[38;5;28mself\u001b[39m, sql, params\u001b[38;5;241m=\u001b[39m\u001b[38;5;28;01mNone\u001b[39;00m):\n\u001b[0;32m    121\u001b[0m     \u001b[38;5;28;01mwith\u001b[39;00m \u001b[38;5;28mself\u001b[39m\u001b[38;5;241m.\u001b[39mdebug_sql(sql, params, use_last_executed_query\u001b[38;5;241m=\u001b[39m\u001b[38;5;28;01mTrue\u001b[39;00m):\n\u001b[1;32m--> 122\u001b[0m         \u001b[38;5;28;01mreturn\u001b[39;00m \u001b[38;5;28;43msuper\u001b[39;49m\u001b[43m(\u001b[49m\u001b[43m)\u001b[49m\u001b[38;5;241;43m.\u001b[39;49m\u001b[43mexecute\u001b[49m\u001b[43m(\u001b[49m\u001b[43msql\u001b[49m\u001b[43m,\u001b[49m\u001b[43m \u001b[49m\u001b[43mparams\u001b[49m\u001b[43m)\u001b[49m\n",
      "File \u001b[1;32mc:\\Users\\linji\\.pyenv\\pyenv-win\\versions\\3.11.5\\Lib\\site-packages\\django\\db\\backends\\utils.py:79\u001b[0m, in \u001b[0;36mCursorWrapper.execute\u001b[1;34m(self, sql, params)\u001b[0m\n\u001b[0;32m     78\u001b[0m \u001b[38;5;28;01mdef\u001b[39;00m \u001b[38;5;21mexecute\u001b[39m(\u001b[38;5;28mself\u001b[39m, sql, params\u001b[38;5;241m=\u001b[39m\u001b[38;5;28;01mNone\u001b[39;00m):\n\u001b[1;32m---> 79\u001b[0m     \u001b[38;5;28;01mreturn\u001b[39;00m \u001b[38;5;28;43mself\u001b[39;49m\u001b[38;5;241;43m.\u001b[39;49m\u001b[43m_execute_with_wrappers\u001b[49m\u001b[43m(\u001b[49m\n\u001b[0;32m     80\u001b[0m \u001b[43m        \u001b[49m\u001b[43msql\u001b[49m\u001b[43m,\u001b[49m\u001b[43m \u001b[49m\u001b[43mparams\u001b[49m\u001b[43m,\u001b[49m\u001b[43m \u001b[49m\u001b[43mmany\u001b[49m\u001b[38;5;241;43m=\u001b[39;49m\u001b[38;5;28;43;01mFalse\u001b[39;49;00m\u001b[43m,\u001b[49m\u001b[43m \u001b[49m\u001b[43mexecutor\u001b[49m\u001b[38;5;241;43m=\u001b[39;49m\u001b[38;5;28;43mself\u001b[39;49m\u001b[38;5;241;43m.\u001b[39;49m\u001b[43m_execute\u001b[49m\n\u001b[0;32m     81\u001b[0m \u001b[43m    \u001b[49m\u001b[43m)\u001b[49m\n",
      "File \u001b[1;32mc:\\Users\\linji\\.pyenv\\pyenv-win\\versions\\3.11.5\\Lib\\site-packages\\django\\db\\backends\\utils.py:92\u001b[0m, in \u001b[0;36mCursorWrapper._execute_with_wrappers\u001b[1;34m(self, sql, params, many, executor)\u001b[0m\n\u001b[0;32m     90\u001b[0m \u001b[38;5;28;01mfor\u001b[39;00m wrapper \u001b[38;5;129;01min\u001b[39;00m \u001b[38;5;28mreversed\u001b[39m(\u001b[38;5;28mself\u001b[39m\u001b[38;5;241m.\u001b[39mdb\u001b[38;5;241m.\u001b[39mexecute_wrappers):\n\u001b[0;32m     91\u001b[0m     executor \u001b[38;5;241m=\u001b[39m functools\u001b[38;5;241m.\u001b[39mpartial(wrapper, executor)\n\u001b[1;32m---> 92\u001b[0m \u001b[38;5;28;01mreturn\u001b[39;00m \u001b[43mexecutor\u001b[49m\u001b[43m(\u001b[49m\u001b[43msql\u001b[49m\u001b[43m,\u001b[49m\u001b[43m \u001b[49m\u001b[43mparams\u001b[49m\u001b[43m,\u001b[49m\u001b[43m \u001b[49m\u001b[43mmany\u001b[49m\u001b[43m,\u001b[49m\u001b[43m \u001b[49m\u001b[43mcontext\u001b[49m\u001b[43m)\u001b[49m\n",
      "File \u001b[1;32mc:\\Users\\linji\\.pyenv\\pyenv-win\\versions\\3.11.5\\Lib\\site-packages\\django\\db\\backends\\utils.py:100\u001b[0m, in \u001b[0;36mCursorWrapper._execute\u001b[1;34m(self, sql, params, *ignored_wrapper_args)\u001b[0m\n\u001b[0;32m     98\u001b[0m     warnings\u001b[38;5;241m.\u001b[39mwarn(\u001b[38;5;28mself\u001b[39m\u001b[38;5;241m.\u001b[39mAPPS_NOT_READY_WARNING_MSG, category\u001b[38;5;241m=\u001b[39m\u001b[38;5;167;01mRuntimeWarning\u001b[39;00m)\n\u001b[0;32m     99\u001b[0m \u001b[38;5;28mself\u001b[39m\u001b[38;5;241m.\u001b[39mdb\u001b[38;5;241m.\u001b[39mvalidate_no_broken_transaction()\n\u001b[1;32m--> 100\u001b[0m \u001b[43m\u001b[49m\u001b[38;5;28;43;01mwith\u001b[39;49;00m\u001b[43m \u001b[49m\u001b[38;5;28;43mself\u001b[39;49m\u001b[38;5;241;43m.\u001b[39;49m\u001b[43mdb\u001b[49m\u001b[38;5;241;43m.\u001b[39;49m\u001b[43mwrap_database_errors\u001b[49m\u001b[43m:\u001b[49m\n\u001b[0;32m    101\u001b[0m \u001b[43m    \u001b[49m\u001b[38;5;28;43;01mif\u001b[39;49;00m\u001b[43m \u001b[49m\u001b[43mparams\u001b[49m\u001b[43m \u001b[49m\u001b[38;5;129;43;01mis\u001b[39;49;00m\u001b[43m \u001b[49m\u001b[38;5;28;43;01mNone\u001b[39;49;00m\u001b[43m:\u001b[49m\n\u001b[0;32m    102\u001b[0m \u001b[43m        \u001b[49m\u001b[38;5;66;43;03m# params default might be backend specific.\u001b[39;49;00m\n\u001b[0;32m    103\u001b[0m \u001b[43m        \u001b[49m\u001b[38;5;28;43;01mreturn\u001b[39;49;00m\u001b[43m \u001b[49m\u001b[38;5;28;43mself\u001b[39;49m\u001b[38;5;241;43m.\u001b[39;49m\u001b[43mcursor\u001b[49m\u001b[38;5;241;43m.\u001b[39;49m\u001b[43mexecute\u001b[49m\u001b[43m(\u001b[49m\u001b[43msql\u001b[49m\u001b[43m)\u001b[49m\n",
      "File \u001b[1;32mc:\\Users\\linji\\.pyenv\\pyenv-win\\versions\\3.11.5\\Lib\\site-packages\\django\\db\\utils.py:91\u001b[0m, in \u001b[0;36mDatabaseErrorWrapper.__exit__\u001b[1;34m(self, exc_type, exc_value, traceback)\u001b[0m\n\u001b[0;32m     89\u001b[0m \u001b[38;5;28;01mif\u001b[39;00m dj_exc_type \u001b[38;5;129;01mnot\u001b[39;00m \u001b[38;5;129;01min\u001b[39;00m (DataError, IntegrityError):\n\u001b[0;32m     90\u001b[0m     \u001b[38;5;28mself\u001b[39m\u001b[38;5;241m.\u001b[39mwrapper\u001b[38;5;241m.\u001b[39merrors_occurred \u001b[38;5;241m=\u001b[39m \u001b[38;5;28;01mTrue\u001b[39;00m\n\u001b[1;32m---> 91\u001b[0m \u001b[38;5;28;01mraise\u001b[39;00m dj_exc_value\u001b[38;5;241m.\u001b[39mwith_traceback(traceback) \u001b[38;5;28;01mfrom\u001b[39;00m \u001b[38;5;21;01mexc_value\u001b[39;00m\n",
      "File \u001b[1;32mc:\\Users\\linji\\.pyenv\\pyenv-win\\versions\\3.11.5\\Lib\\site-packages\\django\\db\\backends\\utils.py:105\u001b[0m, in \u001b[0;36mCursorWrapper._execute\u001b[1;34m(self, sql, params, *ignored_wrapper_args)\u001b[0m\n\u001b[0;32m    103\u001b[0m     \u001b[38;5;28;01mreturn\u001b[39;00m \u001b[38;5;28mself\u001b[39m\u001b[38;5;241m.\u001b[39mcursor\u001b[38;5;241m.\u001b[39mexecute(sql)\n\u001b[0;32m    104\u001b[0m \u001b[38;5;28;01melse\u001b[39;00m:\n\u001b[1;32m--> 105\u001b[0m     \u001b[38;5;28;01mreturn\u001b[39;00m \u001b[38;5;28;43mself\u001b[39;49m\u001b[38;5;241;43m.\u001b[39;49m\u001b[43mcursor\u001b[49m\u001b[38;5;241;43m.\u001b[39;49m\u001b[43mexecute\u001b[49m\u001b[43m(\u001b[49m\u001b[43msql\u001b[49m\u001b[43m,\u001b[49m\u001b[43m \u001b[49m\u001b[43mparams\u001b[49m\u001b[43m)\u001b[49m\n",
      "File \u001b[1;32mc:\\Users\\linji\\.pyenv\\pyenv-win\\versions\\3.11.5\\Lib\\site-packages\\psycopg\\cursor.py:737\u001b[0m, in \u001b[0;36mCursor.execute\u001b[1;34m(self, query, params, prepare, binary)\u001b[0m\n\u001b[0;32m    733\u001b[0m         \u001b[38;5;28mself\u001b[39m\u001b[38;5;241m.\u001b[39m_conn\u001b[38;5;241m.\u001b[39mwait(\n\u001b[0;32m    734\u001b[0m             \u001b[38;5;28mself\u001b[39m\u001b[38;5;241m.\u001b[39m_execute_gen(query, params, prepare\u001b[38;5;241m=\u001b[39mprepare, binary\u001b[38;5;241m=\u001b[39mbinary)\n\u001b[0;32m    735\u001b[0m         )\n\u001b[0;32m    736\u001b[0m \u001b[38;5;28;01mexcept\u001b[39;00m e\u001b[38;5;241m.\u001b[39m_NO_TRACEBACK \u001b[38;5;28;01mas\u001b[39;00m ex:\n\u001b[1;32m--> 737\u001b[0m     \u001b[38;5;28;01mraise\u001b[39;00m ex\u001b[38;5;241m.\u001b[39mwith_traceback(\u001b[38;5;28;01mNone\u001b[39;00m)\n\u001b[0;32m    738\u001b[0m \u001b[38;5;28;01mreturn\u001b[39;00m \u001b[38;5;28mself\u001b[39m\n",
      "\u001b[1;31mProgrammingError\u001b[0m: relation \"songs_song_artists\" does not exist\nLINE 1: DELETE FROM \"songs_song_artists\" WHERE \"songs_song_artists\"....\n                    ^"
     ]
    }
   ],
   "source": [
    "Artist.objects.all().delete(\n",
    ")"
   ]
  },
  {
   "cell_type": "code",
   "execution_count": 5,
   "metadata": {},
   "outputs": [
    {
     "name": "stdout",
     "output_type": "stream",
     "text": [
      "{'external_urls': {'spotify': 'https://open.spotify.com/artist/2AfmfGFbe0A0WsTYm0SDTx'}, 'followers': {'href': None, 'total': 8267304}, 'genres': ['k-pop girl group'], 'id': '2AfmfGFbe0A0WsTYm0SDTx', 'images': [{'height': 640, 'url': 'https://i.scdn.co/image/ab6761610000e5eb8abd5f97fc52561939ebbc89', 'width': 640}, {'height': 320, 'url': 'https://i.scdn.co/image/ab676161000051748abd5f97fc52561939ebbc89', 'width': 320}, {'height': 160, 'url': 'https://i.scdn.co/image/ab6761610000f1788abd5f97fc52561939ebbc89', 'width': 160}], 'name': '(G)I-DLE', 'popularity': 74, 'type': 'artist', 'uri': 'spotify:artist:2AfmfGFbe0A0WsTYm0SDTx'}\n",
      "(G)I-DLE\n"
     ]
    }
   ],
   "source": [
    "\n",
    "data = data['artists'][0]\n",
    "print(data)\n",
    "reference = Artist(api_id=data['id'], name=data['name'], followers=data['followers']['total'], popularity=data['popularity'], image=data['images'][0]['url'] )\n",
    "reference.save()\n",
    "print(reference)"
   ]
  },
  {
   "cell_type": "code",
   "execution_count": 6,
   "metadata": {},
   "outputs": [],
   "source": [
    "import http.client\n",
    "\n",
    "conn = http.client.HTTPSConnection(\"spotify23.p.rapidapi.com\")\n",
    "\n",
    "headers = {\n",
    "    'X-RapidAPI-Key': \"2173464f0bmsh087f6a414d24270p11a1f5jsn1ae2008c92ce\",\n",
    "    'X-RapidAPI-Host': \"spotify23.p.rapidapi.com\"\n",
    "}\n",
    "\n",
    "conn.request(\"GET\", \"/artist_related/?id=2AfmfGFbe0A0WsTYm0SDTx\", headers=headers)\n",
    "\n",
    "res = conn.getresponse()\n",
    "data = json.loads(res.read().decode('utf-8'))\n"
   ]
  },
  {
   "cell_type": "code",
   "execution_count": 7,
   "metadata": {},
   "outputs": [
    {
     "name": "stdout",
     "output_type": "stream",
     "text": [
      "{'artists': [{'external_urls': {'spotify': 'https://open.spotify.com/artist/6Xg22wJOAcnvPUfk5WvODH'}, 'followers': {'href': None, 'total': 1367798}, 'genres': ['k-pop'], 'id': '6Xg22wJOAcnvPUfk5WvODH', 'images': [{'height': 640, 'url': 'https://i.scdn.co/image/ab6761610000e5ebec63dc94e68f305bbcad451b', 'width': 640}, {'height': 320, 'url': 'https://i.scdn.co/image/ab67616100005174ec63dc94e68f305bbcad451b', 'width': 320}, {'height': 160, 'url': 'https://i.scdn.co/image/ab6761610000f178ec63dc94e68f305bbcad451b', 'width': 160}], 'name': 'JEON SOYEON', 'popularity': 58, 'type': 'artist', 'uri': 'spotify:artist:6Xg22wJOAcnvPUfk5WvODH'}, {'external_urls': {'spotify': 'https://open.spotify.com/artist/28ot3wh4oNmoFOdVajibBl'}, 'followers': {'href': None, 'total': 2314113}, 'genres': ['k-pop', 'k-pop girl group'], 'id': '28ot3wh4oNmoFOdVajibBl', 'images': [{'height': 640, 'url': 'https://i.scdn.co/image/ab6761610000e5eb1edc72b57c227d48e28888b1', 'width': 640}, {'height': 320, 'url': 'https://i.scdn.co/image/ab676161000051741edc72b57c227d48e28888b1', 'width': 320}, {'height': 160, 'url': 'https://i.scdn.co/image/ab6761610000f1781edc72b57c227d48e28888b1', 'width': 160}], 'name': 'NMIXX', 'popularity': 67, 'type': 'artist', 'uri': 'spotify:artist:28ot3wh4oNmoFOdVajibBl'}, {'external_urls': {'spotify': 'https://open.spotify.com/artist/6RHTUrRF63xao58xh9FXYJ'}, 'followers': {'href': None, 'total': 3456507}, 'genres': ['k-pop girl group'], 'id': '6RHTUrRF63xao58xh9FXYJ', 'images': [{'height': 640, 'url': 'https://i.scdn.co/image/ab6761610000e5eb0e46f140189de1eba9ab6230', 'width': 640}, {'height': 320, 'url': 'https://i.scdn.co/image/ab676161000051740e46f140189de1eba9ab6230', 'width': 320}, {'height': 160, 'url': 'https://i.scdn.co/image/ab6761610000f1780e46f140189de1eba9ab6230', 'width': 160}], 'name': 'IVE', 'popularity': 74, 'type': 'artist', 'uri': 'spotify:artist:6RHTUrRF63xao58xh9FXYJ'}, {'external_urls': {'spotify': 'https://open.spotify.com/artist/3ZZzT0naD25RhY2uZvIKkJ'}, 'followers': {'href': None, 'total': 2052544}, 'genres': ['k-pop', 'k-pop girl group'], 'id': '3ZZzT0naD25RhY2uZvIKkJ', 'images': [{'height': 640, 'url': 'https://i.scdn.co/image/ab6761610000e5eb41f3bffee59e0a97914de53f', 'width': 640}, {'height': 320, 'url': 'https://i.scdn.co/image/ab6761610000517441f3bffee59e0a97914de53f', 'width': 320}, {'height': 160, 'url': 'https://i.scdn.co/image/ab6761610000f17841f3bffee59e0a97914de53f', 'width': 160}], 'name': 'EVERGLOW', 'popularity': 59, 'type': 'artist', 'uri': 'spotify:artist:3ZZzT0naD25RhY2uZvIKkJ'}, {'external_urls': {'spotify': 'https://open.spotify.com/artist/2KC9Qb60EaY0kW4eH68vr3'}, 'followers': {'href': None, 'total': 6574728}, 'genres': ['k-pop', 'k-pop girl group'], 'id': '2KC9Qb60EaY0kW4eH68vr3', 'images': [{'height': 640, 'url': 'https://i.scdn.co/image/ab6761610000e5ebb0e2700dbc17b43328038f7a', 'width': 640}, {'height': 320, 'url': 'https://i.scdn.co/image/ab67616100005174b0e2700dbc17b43328038f7a', 'width': 320}, {'height': 160, 'url': 'https://i.scdn.co/image/ab6761610000f178b0e2700dbc17b43328038f7a', 'width': 160}], 'name': 'ITZY', 'popularity': 71, 'type': 'artist', 'uri': 'spotify:artist:2KC9Qb60EaY0kW4eH68vr3'}, {'external_urls': {'spotify': 'https://open.spotify.com/artist/4SpbR6yFEvexJuaBpgAU5p'}, 'followers': {'href': None, 'total': 4048715}, 'genres': ['k-pop girl group'], 'id': '4SpbR6yFEvexJuaBpgAU5p', 'images': [{'height': 640, 'url': 'https://i.scdn.co/image/ab6761610000e5eb99752c006407988976248679', 'width': 640}, {'height': 320, 'url': 'https://i.scdn.co/image/ab6761610000517499752c006407988976248679', 'width': 320}, {'height': 160, 'url': 'https://i.scdn.co/image/ab6761610000f17899752c006407988976248679', 'width': 160}], 'name': 'LE SSERAFIM', 'popularity': 77, 'type': 'artist', 'uri': 'spotify:artist:4SpbR6yFEvexJuaBpgAU5p'}, {'external_urls': {'spotify': 'https://open.spotify.com/artist/6YVMFz59CuY7ngCxTxjpxE'}, 'followers': {'href': None, 'total': 4441795}, 'genres': ['k-pop girl group'], 'id': '6YVMFz59CuY7ngCxTxjpxE', 'images': [{'height': 640, 'url': 'https://i.scdn.co/image/ab6761610000e5ebbe7e71571cf58f1b9a36f0f7', 'width': 640}, {'height': 320, 'url': 'https://i.scdn.co/image/ab67616100005174be7e71571cf58f1b9a36f0f7', 'width': 320}, {'height': 160, 'url': 'https://i.scdn.co/image/ab6761610000f178be7e71571cf58f1b9a36f0f7', 'width': 160}], 'name': 'aespa', 'popularity': 75, 'type': 'artist', 'uri': 'spotify:artist:6YVMFz59CuY7ngCxTxjpxE'}, {'external_urls': {'spotify': 'https://open.spotify.com/artist/0XATRDCYuuGhk0oE7C0o5G'}, 'followers': {'href': None, 'total': 7290823}, 'genres': ['k-pop', 'k-pop girl group'], 'id': '0XATRDCYuuGhk0oE7C0o5G', 'images': [{'height': 640, 'url': 'https://i.scdn.co/image/ab6761610000e5ebe12972169702affd7a4c48ec', 'width': 640}, {'height': 320, 'url': 'https://i.scdn.co/image/ab67616100005174e12972169702affd7a4c48ec', 'width': 320}, {'height': 160, 'url': 'https://i.scdn.co/image/ab6761610000f178e12972169702affd7a4c48ec', 'width': 160}], 'name': 'MAMAMOO', 'popularity': 61, 'type': 'artist', 'uri': 'spotify:artist:0XATRDCYuuGhk0oE7C0o5G'}, {'external_urls': {'spotify': 'https://open.spotify.com/artist/7zYj9S9SdIunYCfSm7vzAR'}, 'followers': {'href': None, 'total': 2453895}, 'genres': ['k-pop'], 'id': '7zYj9S9SdIunYCfSm7vzAR', 'images': [{'height': 640, 'url': 'https://i.scdn.co/image/ab6761610000e5eb8acf72a6c3da24a6483255fa', 'width': 640}, {'height': 320, 'url': 'https://i.scdn.co/image/ab676161000051748acf72a6c3da24a6483255fa', 'width': 320}, {'height': 160, 'url': 'https://i.scdn.co/image/ab6761610000f1788acf72a6c3da24a6483255fa', 'width': 160}], 'name': 'JEON SOMI', 'popularity': 64, 'type': 'artist', 'uri': 'spotify:artist:7zYj9S9SdIunYCfSm7vzAR'}, {'external_urls': {'spotify': 'https://open.spotify.com/artist/2PSJ6YriU7JsFucxACpU7Y'}, 'followers': {'href': None, 'total': 2165546}, 'genres': ['k-pop'], 'id': '2PSJ6YriU7JsFucxACpU7Y', 'images': [{'height': 640, 'url': 'https://i.scdn.co/image/ab6761610000e5eba5a79a86c0ccc91f0e398f48', 'width': 640}, {'height': 320, 'url': 'https://i.scdn.co/image/ab67616100005174a5a79a86c0ccc91f0e398f48', 'width': 320}, {'height': 160, 'url': 'https://i.scdn.co/image/ab6761610000f178a5a79a86c0ccc91f0e398f48', 'width': 160}], 'name': 'CHUNG HA', 'popularity': 58, 'type': 'artist', 'uri': 'spotify:artist:2PSJ6YriU7JsFucxACpU7Y'}, {'external_urls': {'spotify': 'https://open.spotify.com/artist/5R7AMwDeroq6Ls0COQYpS4'}, 'followers': {'href': None, 'total': 1426709}, 'genres': ['k-pop'], 'id': '5R7AMwDeroq6Ls0COQYpS4', 'images': [{'height': 640, 'url': 'https://i.scdn.co/image/ab6761610000e5eb7283d8a8772263a7562447c9', 'width': 640}, {'height': 320, 'url': 'https://i.scdn.co/image/ab676161000051747283d8a8772263a7562447c9', 'width': 320}, {'height': 160, 'url': 'https://i.scdn.co/image/ab6761610000f1787283d8a8772263a7562447c9', 'width': 160}], 'name': 'Kep1er', 'popularity': 57, 'type': 'artist', 'uri': 'spotify:artist:5R7AMwDeroq6Ls0COQYpS4'}, {'external_urls': {'spotify': 'https://open.spotify.com/artist/01XYiBYaoMJcNhPokrg0l0'}, 'followers': {'href': None, 'total': 1682032}, 'genres': ['k-pop', 'k-pop girl group'], 'id': '01XYiBYaoMJcNhPokrg0l0', 'images': [{'height': 640, 'url': 'https://i.scdn.co/image/ab6761610000e5eb784d2270653c1d5d1cf43778', 'width': 640}, {'height': 320, 'url': 'https://i.scdn.co/image/ab67616100005174784d2270653c1d5d1cf43778', 'width': 320}, {'height': 160, 'url': 'https://i.scdn.co/image/ab6761610000f178784d2270653c1d5d1cf43778', 'width': 160}], 'name': 'STAYC', 'popularity': 62, 'type': 'artist', 'uri': 'spotify:artist:01XYiBYaoMJcNhPokrg0l0'}, {'external_urls': {'spotify': 'https://open.spotify.com/artist/1VwDG9aBflQupaFNjUru9A'}, 'followers': {'href': None, 'total': 1618200}, 'genres': ['k-pop'], 'id': '1VwDG9aBflQupaFNjUru9A', 'images': [{'height': 640, 'url': 'https://i.scdn.co/image/ab6761610000e5ebbb55fc616733b6c09d48481f', 'width': 640}, {'height': 320, 'url': 'https://i.scdn.co/image/ab67616100005174bb55fc616733b6c09d48481f', 'width': 320}, {'height': 160, 'url': 'https://i.scdn.co/image/ab6761610000f178bb55fc616733b6c09d48481f', 'width': 160}], 'name': 'NAYEON', 'popularity': 60, 'type': 'artist', 'uri': 'spotify:artist:1VwDG9aBflQupaFNjUru9A'}, {'external_urls': {'spotify': 'https://open.spotify.com/artist/3UwlejyX2b458azZ7eCnHb'}, 'followers': {'href': None, 'total': 2316544}, 'genres': ['k-pop'], 'id': '3UwlejyX2b458azZ7eCnHb', 'images': [{'height': 640, 'url': 'https://i.scdn.co/image/ab6761610000e5eb091c34da2d67e72099260882', 'width': 640}, {'height': 320, 'url': 'https://i.scdn.co/image/ab67616100005174091c34da2d67e72099260882', 'width': 320}, {'height': 160, 'url': 'https://i.scdn.co/image/ab6761610000f178091c34da2d67e72099260882', 'width': 160}], 'name': 'HyunA', 'popularity': 52, 'type': 'artist', 'uri': 'spotify:artist:3UwlejyX2b458azZ7eCnHb'}, {'external_urls': {'spotify': 'https://open.spotify.com/artist/6MoXcK2GyGg7FIyxPU5yW6'}, 'followers': {'href': None, 'total': 2640828}, 'genres': ['k-pop'], 'id': '6MoXcK2GyGg7FIyxPU5yW6', 'images': [{'height': 640, 'url': 'https://i.scdn.co/image/ab6761610000e5ebc1e2ce68a6bdcc8e03e882e7', 'width': 640}, {'height': 320, 'url': 'https://i.scdn.co/image/ab67616100005174c1e2ce68a6bdcc8e03e882e7', 'width': 320}, {'height': 160, 'url': 'https://i.scdn.co/image/ab6761610000f178c1e2ce68a6bdcc8e03e882e7', 'width': 160}], 'name': 'SUNMI', 'popularity': 57, 'type': 'artist', 'uri': 'spotify:artist:6MoXcK2GyGg7FIyxPU5yW6'}, {'external_urls': {'spotify': 'https://open.spotify.com/artist/1z4g3DjTBBZKhvAroFlhOM'}, 'followers': {'href': None, 'total': 8966558}, 'genres': ['k-pop', 'k-pop girl group'], 'id': '1z4g3DjTBBZKhvAroFlhOM', 'images': [{'height': 640, 'url': 'https://i.scdn.co/image/ab6761610000e5eb7719f0625a2fa078a60c85cd', 'width': 640}, {'height': 320, 'url': 'https://i.scdn.co/image/ab676161000051747719f0625a2fa078a60c85cd', 'width': 320}, {'height': 160, 'url': 'https://i.scdn.co/image/ab6761610000f1787719f0625a2fa078a60c85cd', 'width': 160}], 'name': 'Red Velvet', 'popularity': 72, 'type': 'artist', 'uri': 'spotify:artist:1z4g3DjTBBZKhvAroFlhOM'}, {'external_urls': {'spotify': 'https://open.spotify.com/artist/5r1tUTxVSgvBHnoDuDODPH'}, 'followers': {'href': None, 'total': 2086191}, 'genres': ['k-pop', 'k-pop girl group'], 'id': '5r1tUTxVSgvBHnoDuDODPH', 'images': [{'height': 640, 'url': 'https://i.scdn.co/image/ab6761610000e5eba6b0d348c125a072e5284b3e', 'width': 640}, {'height': 320, 'url': 'https://i.scdn.co/image/ab67616100005174a6b0d348c125a072e5284b3e', 'width': 320}, {'height': 160, 'url': 'https://i.scdn.co/image/ab6761610000f178a6b0d348c125a072e5284b3e', 'width': 160}], 'name': 'IZ*ONE', 'popularity': 60, 'type': 'artist', 'uri': 'spotify:artist:5r1tUTxVSgvBHnoDuDODPH'}, {'external_urls': {'spotify': 'https://open.spotify.com/artist/52zMTJCKluDlFwMQWmccY7'}, 'followers': {'href': None, 'total': 2444618}, 'genres': ['k-pop', 'k-pop girl group'], 'id': '52zMTJCKluDlFwMQWmccY7', 'images': [{'height': 640, 'url': 'https://i.scdn.co/image/ab6761610000e5eb80584436e5726afb70cee7f8', 'width': 640}, {'height': 320, 'url': 'https://i.scdn.co/image/ab6761610000517480584436e5726afb70cee7f8', 'width': 320}, {'height': 160, 'url': 'https://i.scdn.co/image/ab6761610000f17880584436e5726afb70cee7f8', 'width': 160}], 'name': 'LOONA', 'popularity': 56, 'type': 'artist', 'uri': 'spotify:artist:52zMTJCKluDlFwMQWmccY7'}, {'external_urls': {'spotify': 'https://open.spotify.com/artist/2019zR22qK2RBvCqtudBaI'}, 'followers': {'href': None, 'total': 1814477}, 'genres': ['k-pop', 'k-pop girl group'], 'id': '2019zR22qK2RBvCqtudBaI', 'images': [{'height': 640, 'url': 'https://i.scdn.co/image/ab6761610000e5eb5cd460490fb1c55b8ed8c40b', 'width': 640}, {'height': 320, 'url': 'https://i.scdn.co/image/ab676161000051745cd460490fb1c55b8ed8c40b', 'width': 320}, {'height': 160, 'url': 'https://i.scdn.co/image/ab6761610000f1785cd460490fb1c55b8ed8c40b', 'width': 160}], 'name': 'OH MY GIRL', 'popularity': 53, 'type': 'artist', 'uri': 'spotify:artist:2019zR22qK2RBvCqtudBaI'}, {'external_urls': {'spotify': 'https://open.spotify.com/artist/6QyO41KctzGc70mVaVnXQO'}, 'followers': {'href': None, 'total': 1281923}, 'genres': ['k-pop', 'k-pop girl group', 'korean city pop'], 'id': '6QyO41KctzGc70mVaVnXQO', 'images': [{'height': 640, 'url': 'https://i.scdn.co/image/ab6761610000e5eb123f438003920eced08e348d', 'width': 640}, {'height': 320, 'url': 'https://i.scdn.co/image/ab67616100005174123f438003920eced08e348d', 'width': 320}, {'height': 160, 'url': 'https://i.scdn.co/image/ab6761610000f178123f438003920eced08e348d', 'width': 160}], 'name': 'CLC', 'popularity': 48, 'type': 'artist', 'uri': 'spotify:artist:6QyO41KctzGc70mVaVnXQO'}]}\n",
      "[<Artist: JEON SOYEON>, <Artist: NMIXX>, <Artist: IVE>, <Artist: EVERGLOW>, <Artist: ITZY>, <Artist: LE SSERAFIM>, <Artist: aespa>, <Artist: MAMAMOO>, <Artist: JEON SOMI>, <Artist: CHUNG HA>, <Artist: Kep1er>, <Artist: STAYC>, <Artist: NAYEON>, <Artist: HyunA>, <Artist: SUNMI>, <Artist: Red Velvet>, <Artist: IZ*ONE>, <Artist: LOONA>, <Artist: OH MY GIRL>, <Artist: CLC>]\n"
     ]
    }
   ],
   "source": [
    "print(data)\n",
    "bulk_list = []\n",
    "for artist in data['artists']:\n",
    "    bulk_list.append(Artist(api_id=artist['id'], name=artist['name'], popularity=artist['popularity'], followers=artist['followers']['total'], image=artist['images'][0]['url'] ))\n",
    "\n",
    "print(bulk_list)"
   ]
  },
  {
   "cell_type": "code",
   "execution_count": 8,
   "metadata": {},
   "outputs": [],
   "source": [
    "bulk = Artist.objects.bulk_create(bulk_list)"
   ]
  },
  {
   "cell_type": "code",
   "execution_count": 9,
   "metadata": {},
   "outputs": [
    {
     "data": {
      "text/plain": [
       "<QuerySet [{'id': 1, 'api_id': '2AfmfGFbe0A0WsTYm0SDTx', 'name': '(G)I-DLE', 'overview': '', 'popularity': 74, 'followers': 8267304, 'image': 'https://i.scdn.co/image/ab6761610000e5eb8abd5f97fc52561939ebbc89'}, {'id': 8, 'api_id': '6YVMFz59CuY7ngCxTxjpxE', 'name': 'aespa', 'overview': '', 'popularity': 75, 'followers': 4441795, 'image': 'https://i.scdn.co/image/ab6761610000e5ebbe7e71571cf58f1b9a36f0f7'}, {'id': 11, 'api_id': '2PSJ6YriU7JsFucxACpU7Y', 'name': 'CHUNG HA', 'overview': '', 'popularity': 58, 'followers': 2165546, 'image': 'https://i.scdn.co/image/ab6761610000e5eba5a79a86c0ccc91f0e398f48'}, {'id': 21, 'api_id': '6QyO41KctzGc70mVaVnXQO', 'name': 'CLC', 'overview': '', 'popularity': 48, 'followers': 1281923, 'image': 'https://i.scdn.co/image/ab6761610000e5eb123f438003920eced08e348d'}, {'id': 5, 'api_id': '3ZZzT0naD25RhY2uZvIKkJ', 'name': 'EVERGLOW', 'overview': '', 'popularity': 59, 'followers': 2052544, 'image': 'https://i.scdn.co/image/ab6761610000e5eb41f3bffee59e0a97914de53f'}, {'id': 15, 'api_id': '3UwlejyX2b458azZ7eCnHb', 'name': 'HyunA', 'overview': '', 'popularity': 52, 'followers': 2316544, 'image': 'https://i.scdn.co/image/ab6761610000e5eb091c34da2d67e72099260882'}, {'id': 6, 'api_id': '2KC9Qb60EaY0kW4eH68vr3', 'name': 'ITZY', 'overview': '', 'popularity': 71, 'followers': 6574728, 'image': 'https://i.scdn.co/image/ab6761610000e5ebb0e2700dbc17b43328038f7a'}, {'id': 4, 'api_id': '6RHTUrRF63xao58xh9FXYJ', 'name': 'IVE', 'overview': '', 'popularity': 74, 'followers': 3456507, 'image': 'https://i.scdn.co/image/ab6761610000e5eb0e46f140189de1eba9ab6230'}, {'id': 18, 'api_id': '5r1tUTxVSgvBHnoDuDODPH', 'name': 'IZ*ONE', 'overview': '', 'popularity': 60, 'followers': 2086191, 'image': 'https://i.scdn.co/image/ab6761610000e5eba6b0d348c125a072e5284b3e'}, {'id': 10, 'api_id': '7zYj9S9SdIunYCfSm7vzAR', 'name': 'JEON SOMI', 'overview': '', 'popularity': 64, 'followers': 2453895, 'image': 'https://i.scdn.co/image/ab6761610000e5eb8acf72a6c3da24a6483255fa'}, {'id': 2, 'api_id': '6Xg22wJOAcnvPUfk5WvODH', 'name': 'JEON SOYEON', 'overview': '', 'popularity': 58, 'followers': 1367798, 'image': 'https://i.scdn.co/image/ab6761610000e5ebec63dc94e68f305bbcad451b'}, {'id': 12, 'api_id': '5R7AMwDeroq6Ls0COQYpS4', 'name': 'Kep1er', 'overview': '', 'popularity': 57, 'followers': 1426709, 'image': 'https://i.scdn.co/image/ab6761610000e5eb7283d8a8772263a7562447c9'}, {'id': 7, 'api_id': '4SpbR6yFEvexJuaBpgAU5p', 'name': 'LE SSERAFIM', 'overview': '', 'popularity': 77, 'followers': 4048715, 'image': 'https://i.scdn.co/image/ab6761610000e5eb99752c006407988976248679'}, {'id': 19, 'api_id': '52zMTJCKluDlFwMQWmccY7', 'name': 'LOONA', 'overview': '', 'popularity': 56, 'followers': 2444618, 'image': 'https://i.scdn.co/image/ab6761610000e5eb80584436e5726afb70cee7f8'}, {'id': 9, 'api_id': '0XATRDCYuuGhk0oE7C0o5G', 'name': 'MAMAMOO', 'overview': '', 'popularity': 61, 'followers': 7290823, 'image': 'https://i.scdn.co/image/ab6761610000e5ebe12972169702affd7a4c48ec'}, {'id': 14, 'api_id': '1VwDG9aBflQupaFNjUru9A', 'name': 'NAYEON', 'overview': '', 'popularity': 60, 'followers': 1618200, 'image': 'https://i.scdn.co/image/ab6761610000e5ebbb55fc616733b6c09d48481f'}, {'id': 3, 'api_id': '28ot3wh4oNmoFOdVajibBl', 'name': 'NMIXX', 'overview': '', 'popularity': 67, 'followers': 2314113, 'image': 'https://i.scdn.co/image/ab6761610000e5eb1edc72b57c227d48e28888b1'}, {'id': 20, 'api_id': '2019zR22qK2RBvCqtudBaI', 'name': 'OH MY GIRL', 'overview': '', 'popularity': 53, 'followers': 1814477, 'image': 'https://i.scdn.co/image/ab6761610000e5eb5cd460490fb1c55b8ed8c40b'}, {'id': 17, 'api_id': '1z4g3DjTBBZKhvAroFlhOM', 'name': 'Red Velvet', 'overview': '', 'popularity': 72, 'followers': 8966558, 'image': 'https://i.scdn.co/image/ab6761610000e5eb7719f0625a2fa078a60c85cd'}, {'id': 13, 'api_id': '01XYiBYaoMJcNhPokrg0l0', 'name': 'STAYC', 'overview': '', 'popularity': 62, 'followers': 1682032, 'image': 'https://i.scdn.co/image/ab6761610000e5eb784d2270653c1d5d1cf43778'}, '...(remaining elements truncated)...']>"
      ]
     },
     "execution_count": 9,
     "metadata": {},
     "output_type": "execute_result"
    }
   ],
   "source": [
    "Artist.objects.filter().values()"
   ]
  }
 ],
 "metadata": {
  "kernelspec": {
   "display_name": "Python 3",
   "language": "python",
   "name": "python3"
  },
  "language_info": {
   "codemirror_mode": {
    "name": "ipython",
    "version": 3
   },
   "file_extension": ".py",
   "mimetype": "text/x-python",
   "name": "python",
   "nbconvert_exporter": "python",
   "pygments_lexer": "ipython3",
   "version": "3.11.5"
  }
 },
 "nbformat": 4,
 "nbformat_minor": 2
}
