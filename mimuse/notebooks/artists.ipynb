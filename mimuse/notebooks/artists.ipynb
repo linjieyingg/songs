{
 "cells": [
  {
   "cell_type": "markdown",
   "metadata": {},
   "source": [
    "get songs for all artists in database"
   ]
  },
  {
   "cell_type": "code",
   "execution_count": 1,
   "metadata": {},
   "outputs": [],
   "source": [
    "import os\n",
    "os.chdir(\"..\")"
   ]
  },
  {
   "cell_type": "code",
   "execution_count": 4,
   "metadata": {},
   "outputs": [
    {
     "ename": "RuntimeError",
     "evalue": "populate() isn't reentrant",
     "output_type": "error",
     "traceback": [
      "\u001b[0;31m---------------------------------------------------------------------------\u001b[0m",
      "\u001b[0;31mRuntimeError\u001b[0m                              Traceback (most recent call last)",
      "\u001b[1;32m/home/students/2024/jlin41/Documents/softdev_final_project/mimuse/notebooks/artists.ipynb Cell 3\u001b[0m line \u001b[0;36m8\n\u001b[1;32m      <a href='vscode-notebook-cell:/home/students/2024/jlin41/Documents/softdev_final_project/mimuse/notebooks/artists.ipynb#W2sZmlsZQ%3D%3D?line=5'>6</a>\u001b[0m \u001b[39m# This is for async, in case we will see it later (maybe)\u001b[39;00m\n\u001b[1;32m      <a href='vscode-notebook-cell:/home/students/2024/jlin41/Documents/softdev_final_project/mimuse/notebooks/artists.ipynb#W2sZmlsZQ%3D%3D?line=6'>7</a>\u001b[0m os\u001b[39m.\u001b[39menviron[\u001b[39m\"\u001b[39m\u001b[39mDJANGO_ALLOW_ASYNC_UNSAFE\u001b[39m\u001b[39m\"\u001b[39m] \u001b[39m=\u001b[39m \u001b[39m\"\u001b[39m\u001b[39mtrue\u001b[39m\u001b[39m\"\u001b[39m\n\u001b[0;32m----> <a href='vscode-notebook-cell:/home/students/2024/jlin41/Documents/softdev_final_project/mimuse/notebooks/artists.ipynb#W2sZmlsZQ%3D%3D?line=7'>8</a>\u001b[0m django\u001b[39m.\u001b[39;49msetup()\n",
      "File \u001b[0;32m~/.pyenv/versions/3.11.5/lib/python3.11/site-packages/django/__init__.py:24\u001b[0m, in \u001b[0;36msetup\u001b[0;34m(set_prefix)\u001b[0m\n\u001b[1;32m     20\u001b[0m \u001b[39mif\u001b[39;00m set_prefix:\n\u001b[1;32m     21\u001b[0m     set_script_prefix(\n\u001b[1;32m     22\u001b[0m         \u001b[39m\"\u001b[39m\u001b[39m/\u001b[39m\u001b[39m\"\u001b[39m \u001b[39mif\u001b[39;00m settings\u001b[39m.\u001b[39mFORCE_SCRIPT_NAME \u001b[39mis\u001b[39;00m \u001b[39mNone\u001b[39;00m \u001b[39melse\u001b[39;00m settings\u001b[39m.\u001b[39mFORCE_SCRIPT_NAME\n\u001b[1;32m     23\u001b[0m     )\n\u001b[0;32m---> 24\u001b[0m apps\u001b[39m.\u001b[39;49mpopulate(settings\u001b[39m.\u001b[39;49mINSTALLED_APPS)\n",
      "File \u001b[0;32m~/.pyenv/versions/3.11.5/lib/python3.11/site-packages/django/apps/registry.py:83\u001b[0m, in \u001b[0;36mApps.populate\u001b[0;34m(self, installed_apps)\u001b[0m\n\u001b[1;32m     78\u001b[0m \u001b[39m# An RLock prevents other threads from entering this section. The\u001b[39;00m\n\u001b[1;32m     79\u001b[0m \u001b[39m# compare and set operation below is atomic.\u001b[39;00m\n\u001b[1;32m     80\u001b[0m \u001b[39mif\u001b[39;00m \u001b[39mself\u001b[39m\u001b[39m.\u001b[39mloading:\n\u001b[1;32m     81\u001b[0m     \u001b[39m# Prevent reentrant calls to avoid running AppConfig.ready()\u001b[39;00m\n\u001b[1;32m     82\u001b[0m     \u001b[39m# methods twice.\u001b[39;00m\n\u001b[0;32m---> 83\u001b[0m     \u001b[39mraise\u001b[39;00m \u001b[39mRuntimeError\u001b[39;00m(\u001b[39m\"\u001b[39m\u001b[39mpopulate() isn\u001b[39m\u001b[39m'\u001b[39m\u001b[39mt reentrant\u001b[39m\u001b[39m\"\u001b[39m)\n\u001b[1;32m     84\u001b[0m \u001b[39mself\u001b[39m\u001b[39m.\u001b[39mloading \u001b[39m=\u001b[39m \u001b[39mTrue\u001b[39;00m\n\u001b[1;32m     86\u001b[0m \u001b[39m# Phase 1: initialize app configs and import app modules.\u001b[39;00m\n",
      "\u001b[0;31mRuntimeError\u001b[0m: populate() isn't reentrant"
     ]
    }
   ],
   "source": [
    "import django\n",
    "# In case that we need it later\n",
    "# from django.conf import settings\n",
    "os.environ.setdefault('DJANGO_SETTINGS_MODULE',\n",
    "'mimuse.settings')\n",
    "# This is for async, in case we will see it later (maybe)\n",
    "os.environ[\"DJANGO_ALLOW_ASYNC_UNSAFE\"] = \"true\"\n",
    "django.setup()\n"
   ]
  },
  {
   "cell_type": "code",
   "execution_count": null,
   "metadata": {},
   "outputs": [],
   "source": [
    "import json\n",
    "import http.client\n",
    "from songs.models import Song, Album\n",
    "from artists.models import Artist\n",
    "from datetime import datetime\n",
    "import http.client\n"
   ]
  },
  {
   "cell_type": "code",
   "execution_count": 4,
   "metadata": {},
   "outputs": [],
   "source": [
    "\n",
    "conn = http.client.HTTPSConnection(\"spotify23.p.rapidapi.com\")\n",
    "\n",
    "headers = {\n",
    "    'X-RapidAPI-Key': \"82ce6fe0f2msh1b1cfd285dbcc80p1b3260jsn6c515c923b86\",\n",
    "    'X-RapidAPI-Host': \"spotify23.p.rapidapi.com\"\n",
    "}\n",
    "\n",
    "# print(data)"
   ]
  },
  {
   "cell_type": "code",
   "execution_count": null,
   "metadata": {},
   "outputs": [],
   "source": [
    "artists = Artist.objects.all()\n",
    "bulk_list = []\n",
    "for i in artists:\n",
    "    id = str(i)\n",
    "    conn.request(\"GET\", \"/artist_singles/?id={id}&offset=0\".format(id=id), headers=headers)\n",
    "    res = conn.getresponse()\n",
    "\n",
    "    songs = json.loads(res.read().decode('utf-8'))['data']['artist']['discography']['singles']['items']\n",
    "    print(songs)\n",
    "    for song in songs:\n",
    "        info = song['releases']['releases']['items'][0]\n",
    "        if Song.objects.filter(api_id=info['id']).exists():\n",
    "            continue\n",
    "        else:\n",
    "            release_date=info['data']['isoString']\n",
    "            print(release_date)\n",
    "            bulk_list.append(Song(api_id=info['id'], title=info['name'], release_date=release_date))\n",
    "\n",
    "\n",
    "        "
   ]
  }
 ],
 "metadata": {
  "kernelspec": {
   "display_name": "Python 3",
   "language": "python",
   "name": "python3"
  },
  "language_info": {
   "codemirror_mode": {
    "name": "ipython",
    "version": 3
   },
   "file_extension": ".py",
   "mimetype": "text/x-python",
   "name": "python",
   "nbconvert_exporter": "python",
   "pygments_lexer": "ipython3",
   "version": "3.11.5"
  }
 },
 "nbformat": 4,
 "nbformat_minor": 2
}
