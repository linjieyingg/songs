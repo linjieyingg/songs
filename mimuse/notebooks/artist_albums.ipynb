{
 "cells": [
  {
   "cell_type": "code",
   "execution_count": 11,
   "metadata": {},
   "outputs": [],
   "source": [
    "import os\n",
    "os.chdir(\"..\")"
   ]
  },
  {
   "cell_type": "code",
   "execution_count": 12,
   "metadata": {},
   "outputs": [],
   "source": [
    "import django\n",
    "from django.conf import settings\n",
    "os.environ.setdefault('DJANGO_SETTINGS_MODULE', 'mimuse.settings')\n",
    "os.environ[\"DJANGO_ALLOW_ASYNC_UNSAFE\"] = \"true\"\n",
    "django.setup()"
   ]
  },
  {
   "cell_type": "code",
   "execution_count": 13,
   "metadata": {},
   "outputs": [],
   "source": [
    "import json\n",
    "import http.client\n",
    "\n",
    "from songs.models import Album\n",
    "from artists.models import Artist"
   ]
  },
  {
   "cell_type": "code",
   "execution_count": 14,
   "metadata": {},
   "outputs": [
    {
     "name": "stdout",
     "output_type": "stream",
     "text": [
      "{\"data\":{\"artist\":{\"discography\":{\"albums\":{\"totalCount\":11,\"items\":[{\"releases\":{\"items\":[{\"id\":\"5aWF6mKr3bSRlMnyxA8Tip\",\"uri\":\"spotify:album:5aWF6mKr3bSRlMnyxA8Tip\",\"name\":\"Champagne Problems #DQH2\",\"type\":\"ALBUM\",\"date\":{\"year\":2022,\"isoString\":\"2022-03-11T00:00:00Z\"},\"coverArt\":{\"sources\":[{\"url\":\"https:\\/\\/i.scdn.co\\/image\\/ab67616d00001e02fec9341c25339773dfe59cb5\",\"width\":300,\"height\":300},{\"url\":\"https:\\/\\/i.scdn.co\\/image\\/ab67616d00004851fec9341c25339773dfe59cb5\",\"width\":64,\"height\":64},{\"url\":\"https:\\/\\/i.scdn.co\\/image\\/ab67616d0000b273fec9341c25339773dfe59cb5\",\"width\":640,\"height\":640}]},\"playability\":{\"playable\":true,\"reason\":\"PLAYABLE\"},\"sharingInfo\":{\"shareId\":\"9N2N_z5WQlSs4-9L9NEajQ\",\"shareUrl\":\"https:\\/\\/open.spotify.com\\/album\\/5aWF6mKr3bSRlMnyxA8Tip?si=9N2N_z5WQlSs4-9L9NEajQ\"},\"tracks\":{\"totalCount\":8}}]}},{\"releases\":{\"items\":[{\"id\":\"62XwEYC2iJIX37oZlJbsvi\",\"uri\":\"spotify:album:62XwEYC2iJIX37oZlJbsvi\",\"name\":\"Champagne Problems #DQH1\",\"type\":\"ALBUM\",\"date\":{\"year\":2022,\"isoString\":\"2022-01-07T00:00:00Z\"},\"coverArt\":{\"sources\":[{\"url\":\"https:\\/\\/i.scdn.co\\/image\\/ab67616d00001e02482832441ba0b9f1ede62ae6\",\"width\":300,\"height\":300},{\"url\":\"https:\\/\\/i.scdn.co\\/image\\/ab67616d00004851482832441ba0b9f1ede62ae6\",\"width\":64,\"height\":64},{\"url\":\"https:\\/\\/i.scdn.co\\/image\\/ab67616d0000b273482832441ba0b9f1ede62ae6\",\"width\":640,\"height\":640}]},\"playability\":{\"playable\":true,\"reason\":\"PLAYABLE\"},\"sharingInfo\":{\"shareId\":\"kmwCYkCyQP6lHRdoJQMujQ\",\"shareUrl\":\"https:\\/\\/open.spotify.com\\/album\\/62XwEYC2iJIX37oZlJbsvi?si=kmwCYkCyQP6lHRdoJQMujQ\"},\"tracks\":{\"totalCount\":8}}]}},{\"releases\":{\"items\":[{\"id\":\"3QFR3OduDKvQpTPsnmiYl9\",\"uri\":\"spotify:album:3QFR3OduDKvQpTPsnmiYl9\",\"name\":\"Heartbreaker\",\"type\":\"ALBUM\",\"date\":{\"year\":2020,\"isoString\":\"2020-12-04T00:00:00Z\"},\"coverArt\":{\"sources\":[{\"url\":\"https:\\/\\/i.scdn.co\\/image\\/ab67616d00001e02c1725be0a413be97208ccdca\",\"width\":300,\"height\":300},{\"url\":\"https:\\/\\/i.scdn.co\\/image\\/ab67616d00004851c1725be0a413be97208ccdca\",\"width\":64,\"height\":64},{\"url\":\"https:\\/\\/i.scdn.co\\/image\\/ab67616d0000b273c1725be0a413be97208ccdca\",\"width\":640,\"height\":640}]},\"playability\":{\"playable\":true,\"reason\":\"PLAYABLE\"},\"sharingInfo\":{\"shareId\":\"iLM-GtN-QridsLbjO9ZEoQ\",\"shareUrl\":\"https:\\/\\/open.spotify.com\\/album\\/3QFR3OduDKvQpTPsnmiYl9?si=iLM-GtN-QridsLbjO9ZEoQ\"},\"tracks\":{\"totalCount\":10}}]}},{\"releases\":{\"items\":[{\"id\":\"4BaDuakq8ON5eOQFRoNYM5\",\"uri\":\"spotify:album:4BaDuakq8ON5eOQFRoNYM5\",\"name\":\"YO\",\"type\":\"ALBUM\",\"date\":{\"year\":2019,\"isoString\":\"2019-05-31T00:00:00Z\"},\"coverArt\":{\"sources\":[{\"url\":\"https:\\/\\/i.scdn.co\\/image\\/ab67616d00001e02eaa5b18552a3e2e9f95eb9ca\",\"width\":300,\"height\":300},{\"url\":\"https:\\/\\/i.scdn.co\\/image\\/ab67616d00004851eaa5b18552a3e2e9f95eb9ca\",\"width\":64,\"height\":64},{\"url\":\"https:\\/\\/i.scdn.co\\/image\\/ab67616d0000b273eaa5b18552a3e2e9f95eb9ca\",\"width\":640,\"height\":640}]},\"playability\":{\"playable\":true,\"reason\":\"PLAYABLE\"},\"sharingInfo\":{\"shareId\":\"LoHSvrjWQSqWQE5PJz_heQ\",\"shareUrl\":\"https:\\/\\/open.spotify.com\\/album\\/4BaDuakq8ON5eOQFRoNYM5?si=LoHSvrjWQSqWQE5PJz_heQ\"},\"tracks\":{\"totalCount\":11}}]}},{\"releases\":{\"items\":[{\"id\":\"1LybLcJ9KuOeLHsn1NEe3j\",\"uri\":\"spotify:album:1LybLcJ9KuOeLHsn1NEe3j\",\"name\":\"Inna\",\"type\":\"ALBUM\",\"date\":{\"year\":2015,\"isoString\":\"2015-10-30T00:00:00Z\"},\"coverArt\":{\"sources\":[{\"url\":\"https:\\/\\/i.scdn.co\\/image\\/ab67616d00001e023257e2b781094bcdc048b2f2\",\"width\":300,\"height\":300},{\"url\":\"https:\\/\\/i.scdn.co\\/image\\/ab67616d000048513257e2b781094bcdc048b2f2\",\"width\":64,\"height\":64},{\"url\":\"https:\\/\\/i.scdn.co\\/image\\/ab67616d0000b2733257e2b781094bcdc048b2f2\",\"width\":640,\"height\":640}]},\"playability\":{\"playable\":true,\"reason\":\"PLAYABLE\"},\"sharingInfo\":{\"shareId\":\"pY9zVcdrR4a5wgIMaSGEwg\",\"shareUrl\":\"https:\\/\\/open.spotify.com\\/album\\/1LybLcJ9KuOeLHsn1NEe3j?si=pY9zVcdrR4a5wgIMaSGEwg\"},\"tracks\":{\"totalCount\":18}},{\"id\":\"1b66d3S1h7hMEhCPBXlnbn\",\"uri\":\"spotify:album:1b66d3S1h7hMEhCPBXlnbn\",\"name\":\"INNA\",\"type\":\"ALBUM\",\"date\":{\"year\":2015,\"isoString\":\"2015-10-30T00:00:00Z\"},\"coverArt\":{\"sources\":[{\"url\":\"https:\\/\\/i.scdn.co\\/image\\/ab67616d00001e022824fd35dd1dffcfe1b77c20\",\"width\":300,\"height\":300},{\"url\":\"https:\\/\\/i.scdn.co\\/image\\/ab67616d000048512824fd35dd1dffcfe1b77c20\",\"width\":64,\"height\":64},{\"url\":\"https:\\/\\/i.scdn.co\\/image\\/ab67616d0000b2732824fd35dd1dffcfe1b77c20\",\"width\":640,\"height\":640}]},\"playability\":{\"playable\":true,\"reason\":\"PLAYABLE\"},\"sharingInfo\":{\"shareId\":\"g6KP8NCQTCqiMxoh2mb17g\",\"shareUrl\":\"https:\\/\\/open.spotify.com\\/album\\/1b66d3S1h7hMEhCPBXlnbn?si=g6KP8NCQTCqiMxoh2mb17g\"},\"tracks\":{\"totalCount\":17}}]}},{\"releases\":{\"items\":[{\"id\":\"07hKp30OfkSekfN5IsmShA\",\"uri\":\"spotify:album:07hKp30OfkSekfN5IsmShA\",\"name\":\"Party Never Ends\",\"type\":\"ALBUM\",\"date\":{\"year\":2014,\"isoString\":\"2014-10-14T00:00:00Z\"},\"coverArt\":{\"sources\":[{\"url\":\"https:\\/\\/i.scdn.co\\/image\\/ab67616d00001e02b897678be24ef27cb5ee4ab6\",\"width\":300,\"height\":300},{\"url\":\"https:\\/\\/i.scdn.co\\/image\\/ab67616d00004851b897678be24ef27cb5ee4ab6\",\"width\":64,\"height\":64},{\"url\":\"https:\\/\\/i.scdn.co\\/image\\/ab67616d0000b273b897678be24ef27cb5ee4ab6\",\"width\":640,\"height\":640}]},\"playability\":{\"playable\":true,\"reason\":\"PLAYABLE\"},\"sharingInfo\":{\"shareId\":\"Z9ptIlfDSd-TDktqpOYqsQ\",\"shareUrl\":\"https:\\/\\/open.spotify.com\\/album\\/07hKp30OfkSekfN5IsmShA?si=Z9ptIlfDSd-TDktqpOYqsQ\"},\"tracks\":{\"totalCount\":15}},{\"id\":\"2qL4k9MmaPNgj2PMayGuHH\",\"uri\":\"spotify:album:2qL4k9MmaPNgj2PMayGuHH\",\"name\":\"Party Never Ends, Pt. 1 (Deluxe Edition)\",\"type\":\"ALBUM\",\"date\":{\"year\":2013,\"isoString\":\"2013-03-04T00:00:00Z\"},\"coverArt\":{\"sources\":[{\"url\":\"https:\\/\\/i.scdn.co\\/image\\/ab67616d00001e0221e639a53f2707d4b32f7faf\",\"width\":300,\"height\":300},{\"url\":\"https:\\/\\/i.scdn.co\\/image\\/ab67616d0000485121e639a53f2707d4b32f7faf\",\"width\":64,\"height\":64},{\"url\":\"https:\\/\\/i.scdn.co\\/image\\/ab67616d0000b27321e639a53f2707d4b32f7faf\",\"width\":640,\"height\":640}]},\"playability\":{\"playable\":true,\"reason\":\"PLAYABLE\"},\"sharingInfo\":{\"shareId\":\"Nf-hkZYzTxOwaOioixWRRg\",\"shareUrl\":\"https:\\/\\/open.spotify.com\\/album\\/2qL4k9MmaPNgj2PMayGuHH?si=Nf-hkZYzTxOwaOioixWRRg\"},\"tracks\":{\"totalCount\":16}}]}},{\"releases\":{\"items\":[{\"id\":\"2iIiwsEKIHPZXIHr1qO4fD\",\"uri\":\"spotify:album:2iIiwsEKIHPZXIHr1qO4fD\",\"name\":\"Party Never Ends, Pt. 2 (Deluxe Editon)\",\"type\":\"ALBUM\",\"date\":{\"year\":2013,\"isoString\":\"2013-03-04T00:00:00Z\"},\"coverArt\":{\"sources\":[{\"url\":\"https:\\/\\/i.scdn.co\\/image\\/ab67616d00001e02813ec28d324f446a38bd7379\",\"width\":300,\"height\":300},{\"url\":\"https:\\/\\/i.scdn.co\\/image\\/ab67616d00004851813ec28d324f446a38bd7379\",\"width\":64,\"height\":64},{\"url\":\"https:\\/\\/i.scdn.co\\/image\\/ab67616d0000b273813ec28d324f446a38bd7379\",\"width\":640,\"height\":640}]},\"playability\":{\"playable\":true,\"reason\":\"PLAYABLE\"},\"sharingInfo\":{\"shareId\":\"PCB6jULkSBGH8lSwlItkHQ\",\"shareUrl\":\"https:\\/\\/open.spotify.com\\/album\\/2iIiwsEKIHPZXIHr1qO4fD?si=PCB6jULkSBGH8lSwlItkHQ\"},\"tracks\":{\"totalCount\":9}}]}},{\"releases\":{\"items\":[{\"id\":\"4lVMYJoQGTWtlggefBGef4\",\"uri\":\"spotify:album:4lVMYJoQGTWtlggefBGef4\",\"name\":\"Party Never Ends, Part 2 (Deluxe Edition)\",\"type\":\"ALBUM\",\"date\":{\"year\":2013,\"isoString\":\"2013-01-01T00:00:00Z\"},\"coverArt\":{\"sources\":[{\"url\":\"https:\\/\\/i.scdn.co\\/image\\/ab67616d00001e027daff2c7c8a71f644af6b265\",\"width\":300,\"height\":300},{\"url\":\"https:\\/\\/i.scdn.co\\/image\\/ab67616d000048517daff2c7c8a71f644af6b265\",\"width\":64,\"height\":64},{\"url\":\"https:\\/\\/i.scdn.co\\/image\\/ab67616d0000b2737daff2c7c8a71f644af6b265\",\"width\":640,\"height\":640}]},\"playability\":{\"playable\":true,\"reason\":\"PLAYABLE\"},\"sharingInfo\":{\"shareId\":\"6V0RA9JkRWmc4wewKZrmvA\",\"shareUrl\":\"https:\\/\\/open.spotify.com\\/album\\/4lVMYJoQGTWtlggefBGef4?si=6V0RA9JkRWmc4wewKZrmvA\"},\"tracks\":{\"totalCount\":9}}]}},{\"releases\":{\"items\":[{\"id\":\"45WWiybURSpC7tslSxGnrf\",\"uri\":\"spotify:album:45WWiybURSpC7tslSxGnrf\",\"name\":\"Party Never Ends, Part 1 (Deluxe Edition)\",\"type\":\"ALBUM\",\"date\":{\"year\":2013,\"isoString\":\"2013-01-01T00:00:00Z\"},\"coverArt\":{\"sources\":[{\"url\":\"https:\\/\\/i.scdn.co\\/image\\/ab67616d00001e02789b5fef31115d1437e2d5a5\",\"width\":300,\"height\":300},{\"url\":\"https:\\/\\/i.scdn.co\\/image\\/ab67616d00004851789b5fef31115d1437e2d5a5\",\"width\":64,\"height\":64},{\"url\":\"https:\\/\\/i.scdn.co\\/image\\/ab67616d0000b273789b5fef31115d1437e2d5a5\",\"width\":640,\"height\":640}]},\"playability\":{\"playable\":true,\"reason\":\"PLAYABLE\"},\"sharingInfo\":{\"shareId\":\"7bjfTgAEQQmPR_61CMJeZw\",\"shareUrl\":\"https:\\/\\/open.spotify.com\\/album\\/45WWiybURSpC7tslSxGnrf?si=7bjfTgAEQQmPR_61CMJeZw\"},\"tracks\":{\"totalCount\":16}}]}},{\"releases\":{\"items\":[{\"id\":\"7LUW42pRwoFJV3bIFeliVJ\",\"uri\":\"spotify:album:7LUW42pRwoFJV3bIFeliVJ\",\"name\":\"I Am the Club Rocker\",\"type\":\"ALBUM\",\"date\":{\"year\":2011,\"isoString\":\"2011-01-01T00:00:00Z\"},\"coverArt\":{\"sources\":[{\"url\":\"https:\\/\\/i.scdn.co\\/image\\/ab67616d00001e02464f14f7c511222dc6c95b97\",\"width\":300,\"height\":300},{\"url\":\"https:\\/\\/i.scdn.co\\/image\\/ab67616d00004851464f14f7c511222dc6c95b97\",\"width\":64,\"height\":64},{\"url\":\"https:\\/\\/i.scdn.co\\/image\\/ab67616d0000b273464f14f7c511222dc6c95b97\",\"width\":640,\"height\":640}]},\"playability\":{\"playable\":true,\"reason\":\"PLAYABLE\"},\"sharingInfo\":{\"shareId\":\"Jj5F-y09TrOpHAEYWZXo3Q\",\"shareUrl\":\"https:\\/\\/open.spotify.com\\/album\\/7LUW42pRwoFJV3bIFeliVJ?si=Jj5F-y09TrOpHAEYWZXo3Q\"},\"tracks\":{\"totalCount\":13}},{\"id\":\"2DSZn3i8s1nI8fE01Io4LC\",\"uri\":\"spotify:album:2DSZn3i8s1nI8fE01Io4LC\",\"name\":\"I Am the Club Rocker\",\"type\":\"ALBUM\",\"date\":{\"year\":2011,\"isoString\":\"2011-09-19T00:00:00Z\"},\"coverArt\":{\"sources\":[{\"url\":\"https:\\/\\/i.scdn.co\\/image\\/ab67616d00001e02e30fab560fe8059246acfd23\",\"width\":300,\"height\":300},{\"url\":\"https:\\/\\/i.scdn.co\\/image\\/ab67616d00004851e30fab560fe8059246acfd23\",\"width\":64,\"height\":64},{\"url\":\"https:\\/\\/i.scdn.co\\/image\\/ab67616d0000b273e30fab560fe8059246acfd23\",\"width\":640,\"height\":640}]},\"playability\":{\"playable\":true,\"reason\":\"PLAYABLE\"},\"sharingInfo\":{\"shareId\":\"0JE6rAp3QR2PdE4r6EIVCg\",\"shareUrl\":\"https:\\/\\/open.spotify.com\\/album\\/2DSZn3i8s1nI8fE01Io4LC?si=0JE6rAp3QR2PdE4r6EIVCg\"},\"tracks\":{\"totalCount\":13}}]}},{\"releases\":{\"items\":[{\"id\":\"1BykQV2nA2F8zXzsUJ6DQ2\",\"uri\":\"spotify:album:1BykQV2nA2F8zXzsUJ6DQ2\",\"name\":\"Hot\",\"type\":\"ALBUM\",\"date\":{\"year\":2010,\"isoString\":\"2010-01-01T00:00:00Z\"},\"coverArt\":{\"sources\":[{\"url\":\"https:\\/\\/i.scdn.co\\/image\\/ab67616d00001e02429b0446d222e4ff7bbaa68b\",\"width\":300,\"height\":300},{\"url\":\"https:\\/\\/i.scdn.co\\/image\\/ab67616d00004851429b0446d222e4ff7bbaa68b\",\"width\":64,\"height\":64},{\"url\":\"https:\\/\\/i.scdn.co\\/image\\/ab67616d0000b273429b0446d222e4ff7bbaa68b\",\"width\":640,\"height\":640}]},\"playability\":{\"playable\":true,\"reason\":\"PLAYABLE\"},\"sharingInfo\":{\"shareId\":\"KNEwBCjDT9CSvpFCYizQtA\",\"shareUrl\":\"https:\\/\\/open.spotify.com\\/album\\/1BykQV2nA2F8zXzsUJ6DQ2?si=KNEwBCjDT9CSvpFCYizQtA\"},\"tracks\":{\"totalCount\":12}},{\"id\":\"7mRhzwh8TINisagYjnmIMT\",\"uri\":\"spotify:album:7mRhzwh8TINisagYjnmIMT\",\"name\":\"Hot\",\"type\":\"ALBUM\",\"date\":{\"year\":2010,\"isoString\":\"2010-01-01T00:00:00Z\"},\"coverArt\":{\"sources\":[{\"url\":\"https:\\/\\/i.scdn.co\\/image\\/ab67616d00001e02497e791a71b496fa4ddbc363\",\"width\":300,\"height\":300},{\"url\":\"https:\\/\\/i.scdn.co\\/image\\/ab67616d00004851497e791a71b496fa4ddbc363\",\"width\":64,\"height\":64},{\"url\":\"https:\\/\\/i.scdn.co\\/image\\/ab67616d0000b273497e791a71b496fa4ddbc363\",\"width\":640,\"height\":640}]},\"playability\":{\"playable\":true,\"reason\":\"PLAYABLE\"},\"sharingInfo\":{\"shareId\":\"vL_3t1j2RemGpZ-x78b2AQ\",\"shareUrl\":\"https:\\/\\/open.spotify.com\\/album\\/7mRhzwh8TINisagYjnmIMT?si=vL_3t1j2RemGpZ-x78b2AQ\"},\"tracks\":{\"totalCount\":12}}]}}]}}}},\"extensions\":[]}\n"
     ]
    }
   ],
   "source": [
    "conn = http.client.HTTPSConnection(\"spotify23.p.rapidapi.com\")\n",
    "\n",
    "headers = {\n",
    "    'X-RapidAPI-Key': \"6e75800c20msh1e3b52b20821a7dp1194edjsn5afc9a2de8d4\",\n",
    "    'X-RapidAPI-Host': \"spotify23.p.rapidapi.com\"\n",
    "}\n",
    "\n",
    "conn.request(\"GET\", \"/artist_albums/?id=2w9zwq3AktTeYYMuhMjju8&offset=0&limit=100\", headers=headers)\n",
    "\n",
    "res = conn.getresponse()\n",
    "data = res.read()\n",
    "\n",
    "print(data.decode(\"utf-8\"))"
   ]
  },
  {
   "cell_type": "code",
   "execution_count": 15,
   "metadata": {},
   "outputs": [],
   "source": [
    "import html\n",
    "import bs4"
   ]
  },
  {
   "cell_type": "code",
   "execution_count": 16,
   "metadata": {},
   "outputs": [],
   "source": [
    "conn = http.client.HTTPSConnection(\"spotify23.p.rapidapi.com\")\n",
    "\n",
    "headers = {\n",
    "    'X-RapidAPI-Key': \"6e75800c20msh1e3b52b20821a7dp1194edjsn5afc9a2de8d4\",\n",
    "    'X-RapidAPI-Host': \"spotify23.p.rapidapi.com\"\n",
    "}\n",
    "\n",
    "\n",
    "data = Artist.objects.all()\n",
    "\n",
    "for i in data:\n",
    "    artist_id = str(i)\n",
    "    print(i)\n",
    "    conn.request(\"GET\", \"/artist_albums/?id={artist_id}\".format(artist_id=artist_id), headers=headers)\n",
    "    res = conn.getresponse()\n",
    "    datas = json.loads(res.read().decode('utf-8'))\n",
    "    print(datas)\n",
    "    albums_list = []\n",
    "    num_albums = datas['data']['artist']['discography']['albums']['totalCount']\n",
    "    x = 0\n",
    "    for album in datas['data']['artist']['discography']['albums']['items']:\n",
    "        this = Album(api_id = album['releases']['items'][0]['id'])\n",
    "        this.save()\n",
    "        artist = Artist.objects.get(api_id=artist_id)\n",
    "        artist.albums.add(this)\n",
    "        artist.save()\n",
    "        print(albums_list)"
   ]
  },
  {
   "cell_type": "code",
   "execution_count": 17,
   "metadata": {},
   "outputs": [
    {
     "ename": "NameError",
     "evalue": "name 'albums_list' is not defined",
     "output_type": "error",
     "traceback": [
      "\u001b[0;31m---------------------------------------------------------------------------\u001b[0m",
      "\u001b[0;31mNameError\u001b[0m                                 Traceback (most recent call last)",
      "Cell \u001b[0;32mIn[17], line 1\u001b[0m\n\u001b[0;32m----> 1\u001b[0m bulk \u001b[38;5;241m=\u001b[39m Album\u001b[38;5;241m.\u001b[39mobjects\u001b[38;5;241m.\u001b[39mbulk_create(\u001b[43malbums_list\u001b[49m)\n",
      "\u001b[0;31mNameError\u001b[0m: name 'albums_list' is not defined"
     ]
    }
   ],
   "source": [
    "bulk = Album.objects.bulk_create(albums_list)"
   ]
  }
 ],
 "metadata": {
  "kernelspec": {
   "display_name": "env_3.11.5",
   "language": "python",
   "name": "python3"
  },
  "language_info": {
   "codemirror_mode": {
    "name": "ipython",
    "version": 3
   },
   "file_extension": ".py",
   "mimetype": "text/x-python",
   "name": "python",
   "nbconvert_exporter": "python",
   "pygments_lexer": "ipython3",
   "version": "3.9.6"
  }
 },
 "nbformat": 4,
 "nbformat_minor": 2
}
