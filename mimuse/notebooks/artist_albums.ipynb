{
 "cells": [
  {
   "cell_type": "code",
   "execution_count": 17,
   "metadata": {},
   "outputs": [],
   "source": [
    "import os\n",
    "os.chdir(\"..\")"
   ]
  },
  {
   "cell_type": "code",
   "execution_count": 18,
   "metadata": {},
   "outputs": [],
   "source": [
    "import django\n",
    "from django.conf import settings\n",
    "os.environ.setdefault('DJANGO_SETTINGS_MODULE', 'mimuse.settings')\n",
    "os.environ[\"DJANGO_ALLOW_ASYNC_UNSAFE\"] = \"true\"\n",
    "django.setup()"
   ]
  },
  {
   "cell_type": "code",
   "execution_count": 19,
   "metadata": {},
   "outputs": [],
   "source": [
    "import json\n",
    "import http.client\n",
    "\n",
    "from songs.models import Album\n",
    "from artists.models import Artist"
   ]
  },
  {
   "cell_type": "code",
   "execution_count": 20,
   "metadata": {},
   "outputs": [
    {
     "name": "stdout",
     "output_type": "stream",
     "text": [
      "{\"data\":{\"artist\":{\"discography\":{\"albums\":{\"totalCount\":11,\"items\":[{\"releases\":{\"items\":[{\"id\":\"5aWF6mKr3bSRlMnyxA8Tip\",\"uri\":\"spotify:album:5aWF6mKr3bSRlMnyxA8Tip\",\"name\":\"Champagne Problems #DQH2\",\"type\":\"ALBUM\",\"date\":{\"year\":2022,\"isoString\":\"2022-03-11T00:00:00Z\"},\"coverArt\":{\"sources\":[{\"url\":\"https:\\/\\/i.scdn.co\\/image\\/ab67616d00001e02fec9341c25339773dfe59cb5\",\"width\":300,\"height\":300},{\"url\":\"https:\\/\\/i.scdn.co\\/image\\/ab67616d00004851fec9341c25339773dfe59cb5\",\"width\":64,\"height\":64},{\"url\":\"https:\\/\\/i.scdn.co\\/image\\/ab67616d0000b273fec9341c25339773dfe59cb5\",\"width\":640,\"height\":640}]},\"playability\":{\"playable\":true,\"reason\":\"PLAYABLE\"},\"sharingInfo\":{\"shareId\":\"k8A76YYRRgS6YY3Gr0TjlQ\",\"shareUrl\":\"https:\\/\\/open.spotify.com\\/album\\/5aWF6mKr3bSRlMnyxA8Tip?si=k8A76YYRRgS6YY3Gr0TjlQ\"},\"tracks\":{\"totalCount\":8}}]}},{\"releases\":{\"items\":[{\"id\":\"62XwEYC2iJIX37oZlJbsvi\",\"uri\":\"spotify:album:62XwEYC2iJIX37oZlJbsvi\",\"name\":\"Champagne Problems #DQH1\",\"type\":\"ALBUM\",\"date\":{\"year\":2022,\"isoString\":\"2022-01-07T00:00:00Z\"},\"coverArt\":{\"sources\":[{\"url\":\"https:\\/\\/i.scdn.co\\/image\\/ab67616d00001e02482832441ba0b9f1ede62ae6\",\"width\":300,\"height\":300},{\"url\":\"https:\\/\\/i.scdn.co\\/image\\/ab67616d00004851482832441ba0b9f1ede62ae6\",\"width\":64,\"height\":64},{\"url\":\"https:\\/\\/i.scdn.co\\/image\\/ab67616d0000b273482832441ba0b9f1ede62ae6\",\"width\":640,\"height\":640}]},\"playability\":{\"playable\":true,\"reason\":\"PLAYABLE\"},\"sharingInfo\":{\"shareId\":\"u5WBxZGTTAG6z4LqETfd-g\",\"shareUrl\":\"https:\\/\\/open.spotify.com\\/album\\/62XwEYC2iJIX37oZlJbsvi?si=u5WBxZGTTAG6z4LqETfd-g\"},\"tracks\":{\"totalCount\":8}}]}},{\"releases\":{\"items\":[{\"id\":\"3QFR3OduDKvQpTPsnmiYl9\",\"uri\":\"spotify:album:3QFR3OduDKvQpTPsnmiYl9\",\"name\":\"Heartbreaker\",\"type\":\"ALBUM\",\"date\":{\"year\":2020,\"isoString\":\"2020-12-04T00:00:00Z\"},\"coverArt\":{\"sources\":[{\"url\":\"https:\\/\\/i.scdn.co\\/image\\/ab67616d00001e02c1725be0a413be97208ccdca\",\"width\":300,\"height\":300},{\"url\":\"https:\\/\\/i.scdn.co\\/image\\/ab67616d00004851c1725be0a413be97208ccdca\",\"width\":64,\"height\":64},{\"url\":\"https:\\/\\/i.scdn.co\\/image\\/ab67616d0000b273c1725be0a413be97208ccdca\",\"width\":640,\"height\":640}]},\"playability\":{\"playable\":true,\"reason\":\"PLAYABLE\"},\"sharingInfo\":{\"shareId\":\"RtEXXyamQGup8YxbjTIODA\",\"shareUrl\":\"https:\\/\\/open.spotify.com\\/album\\/3QFR3OduDKvQpTPsnmiYl9?si=RtEXXyamQGup8YxbjTIODA\"},\"tracks\":{\"totalCount\":10}}]}},{\"releases\":{\"items\":[{\"id\":\"4BaDuakq8ON5eOQFRoNYM5\",\"uri\":\"spotify:album:4BaDuakq8ON5eOQFRoNYM5\",\"name\":\"YO\",\"type\":\"ALBUM\",\"date\":{\"year\":2019,\"isoString\":\"2019-05-31T00:00:00Z\"},\"coverArt\":{\"sources\":[{\"url\":\"https:\\/\\/i.scdn.co\\/image\\/ab67616d00001e02eaa5b18552a3e2e9f95eb9ca\",\"width\":300,\"height\":300},{\"url\":\"https:\\/\\/i.scdn.co\\/image\\/ab67616d00004851eaa5b18552a3e2e9f95eb9ca\",\"width\":64,\"height\":64},{\"url\":\"https:\\/\\/i.scdn.co\\/image\\/ab67616d0000b273eaa5b18552a3e2e9f95eb9ca\",\"width\":640,\"height\":640}]},\"playability\":{\"playable\":true,\"reason\":\"PLAYABLE\"},\"sharingInfo\":{\"shareId\":\"AVgYCYYUQeGNbFriKEb3cw\",\"shareUrl\":\"https:\\/\\/open.spotify.com\\/album\\/4BaDuakq8ON5eOQFRoNYM5?si=AVgYCYYUQeGNbFriKEb3cw\"},\"tracks\":{\"totalCount\":11}}]}},{\"releases\":{\"items\":[{\"id\":\"1LybLcJ9KuOeLHsn1NEe3j\",\"uri\":\"spotify:album:1LybLcJ9KuOeLHsn1NEe3j\",\"name\":\"Inna\",\"type\":\"ALBUM\",\"date\":{\"year\":2015,\"isoString\":\"2015-10-30T00:00:00Z\"},\"coverArt\":{\"sources\":[{\"url\":\"https:\\/\\/i.scdn.co\\/image\\/ab67616d00001e023257e2b781094bcdc048b2f2\",\"width\":300,\"height\":300},{\"url\":\"https:\\/\\/i.scdn.co\\/image\\/ab67616d000048513257e2b781094bcdc048b2f2\",\"width\":64,\"height\":64},{\"url\":\"https:\\/\\/i.scdn.co\\/image\\/ab67616d0000b2733257e2b781094bcdc048b2f2\",\"width\":640,\"height\":640}]},\"playability\":{\"playable\":true,\"reason\":\"PLAYABLE\"},\"sharingInfo\":{\"shareId\":\"2afvXLZHTEWFGZWS1GXfrw\",\"shareUrl\":\"https:\\/\\/open.spotify.com\\/album\\/1LybLcJ9KuOeLHsn1NEe3j?si=2afvXLZHTEWFGZWS1GXfrw\"},\"tracks\":{\"totalCount\":18}},{\"id\":\"1b66d3S1h7hMEhCPBXlnbn\",\"uri\":\"spotify:album:1b66d3S1h7hMEhCPBXlnbn\",\"name\":\"INNA\",\"type\":\"ALBUM\",\"date\":{\"year\":2015,\"isoString\":\"2015-10-30T00:00:00Z\"},\"coverArt\":{\"sources\":[{\"url\":\"https:\\/\\/i.scdn.co\\/image\\/ab67616d00001e022824fd35dd1dffcfe1b77c20\",\"width\":300,\"height\":300},{\"url\":\"https:\\/\\/i.scdn.co\\/image\\/ab67616d000048512824fd35dd1dffcfe1b77c20\",\"width\":64,\"height\":64},{\"url\":\"https:\\/\\/i.scdn.co\\/image\\/ab67616d0000b2732824fd35dd1dffcfe1b77c20\",\"width\":640,\"height\":640}]},\"playability\":{\"playable\":true,\"reason\":\"PLAYABLE\"},\"sharingInfo\":{\"shareId\":\"ZOjyjG5uRL6zSL0cvsf-dA\",\"shareUrl\":\"https:\\/\\/open.spotify.com\\/album\\/1b66d3S1h7hMEhCPBXlnbn?si=ZOjyjG5uRL6zSL0cvsf-dA\"},\"tracks\":{\"totalCount\":17}}]}},{\"releases\":{\"items\":[{\"id\":\"07hKp30OfkSekfN5IsmShA\",\"uri\":\"spotify:album:07hKp30OfkSekfN5IsmShA\",\"name\":\"Party Never Ends\",\"type\":\"ALBUM\",\"date\":{\"year\":2014,\"isoString\":\"2014-10-14T00:00:00Z\"},\"coverArt\":{\"sources\":[{\"url\":\"https:\\/\\/i.scdn.co\\/image\\/ab67616d00001e02b897678be24ef27cb5ee4ab6\",\"width\":300,\"height\":300},{\"url\":\"https:\\/\\/i.scdn.co\\/image\\/ab67616d00004851b897678be24ef27cb5ee4ab6\",\"width\":64,\"height\":64},{\"url\":\"https:\\/\\/i.scdn.co\\/image\\/ab67616d0000b273b897678be24ef27cb5ee4ab6\",\"width\":640,\"height\":640}]},\"playability\":{\"playable\":true,\"reason\":\"PLAYABLE\"},\"sharingInfo\":{\"shareId\":\"tpXVlglxRl6dd5-PuikJFw\",\"shareUrl\":\"https:\\/\\/open.spotify.com\\/album\\/07hKp30OfkSekfN5IsmShA?si=tpXVlglxRl6dd5-PuikJFw\"},\"tracks\":{\"totalCount\":15}},{\"id\":\"2qL4k9MmaPNgj2PMayGuHH\",\"uri\":\"spotify:album:2qL4k9MmaPNgj2PMayGuHH\",\"name\":\"Party Never Ends, Pt. 1 (Deluxe Edition)\",\"type\":\"ALBUM\",\"date\":{\"year\":2013,\"isoString\":\"2013-03-04T00:00:00Z\"},\"coverArt\":{\"sources\":[{\"url\":\"https:\\/\\/i.scdn.co\\/image\\/ab67616d00001e0221e639a53f2707d4b32f7faf\",\"width\":300,\"height\":300},{\"url\":\"https:\\/\\/i.scdn.co\\/image\\/ab67616d0000485121e639a53f2707d4b32f7faf\",\"width\":64,\"height\":64},{\"url\":\"https:\\/\\/i.scdn.co\\/image\\/ab67616d0000b27321e639a53f2707d4b32f7faf\",\"width\":640,\"height\":640}]},\"playability\":{\"playable\":true,\"reason\":\"PLAYABLE\"},\"sharingInfo\":{\"shareId\":\"-S6iZ_mrSUuFjmUQAOXtZQ\",\"shareUrl\":\"https:\\/\\/open.spotify.com\\/album\\/2qL4k9MmaPNgj2PMayGuHH?si=-S6iZ_mrSUuFjmUQAOXtZQ\"},\"tracks\":{\"totalCount\":16}}]}},{\"releases\":{\"items\":[{\"id\":\"2iIiwsEKIHPZXIHr1qO4fD\",\"uri\":\"spotify:album:2iIiwsEKIHPZXIHr1qO4fD\",\"name\":\"Party Never Ends, Pt. 2 (Deluxe Editon)\",\"type\":\"ALBUM\",\"date\":{\"year\":2013,\"isoString\":\"2013-03-04T00:00:00Z\"},\"coverArt\":{\"sources\":[{\"url\":\"https:\\/\\/i.scdn.co\\/image\\/ab67616d00001e02813ec28d324f446a38bd7379\",\"width\":300,\"height\":300},{\"url\":\"https:\\/\\/i.scdn.co\\/image\\/ab67616d00004851813ec28d324f446a38bd7379\",\"width\":64,\"height\":64},{\"url\":\"https:\\/\\/i.scdn.co\\/image\\/ab67616d0000b273813ec28d324f446a38bd7379\",\"width\":640,\"height\":640}]},\"playability\":{\"playable\":true,\"reason\":\"PLAYABLE\"},\"sharingInfo\":{\"shareId\":\"HHnmL8ybRbWnABCccef-Vw\",\"shareUrl\":\"https:\\/\\/open.spotify.com\\/album\\/2iIiwsEKIHPZXIHr1qO4fD?si=HHnmL8ybRbWnABCccef-Vw\"},\"tracks\":{\"totalCount\":9}}]}},{\"releases\":{\"items\":[{\"id\":\"4lVMYJoQGTWtlggefBGef4\",\"uri\":\"spotify:album:4lVMYJoQGTWtlggefBGef4\",\"name\":\"Party Never Ends, Part 2 (Deluxe Edition)\",\"type\":\"ALBUM\",\"date\":{\"year\":2013,\"isoString\":\"2013-01-01T00:00:00Z\"},\"coverArt\":{\"sources\":[{\"url\":\"https:\\/\\/i.scdn.co\\/image\\/ab67616d00001e027daff2c7c8a71f644af6b265\",\"width\":300,\"height\":300},{\"url\":\"https:\\/\\/i.scdn.co\\/image\\/ab67616d000048517daff2c7c8a71f644af6b265\",\"width\":64,\"height\":64},{\"url\":\"https:\\/\\/i.scdn.co\\/image\\/ab67616d0000b2737daff2c7c8a71f644af6b265\",\"width\":640,\"height\":640}]},\"playability\":{\"playable\":true,\"reason\":\"PLAYABLE\"},\"sharingInfo\":{\"shareId\":\"JsGIMVHRSf2OC1yZCjyzvA\",\"shareUrl\":\"https:\\/\\/open.spotify.com\\/album\\/4lVMYJoQGTWtlggefBGef4?si=JsGIMVHRSf2OC1yZCjyzvA\"},\"tracks\":{\"totalCount\":9}}]}},{\"releases\":{\"items\":[{\"id\":\"45WWiybURSpC7tslSxGnrf\",\"uri\":\"spotify:album:45WWiybURSpC7tslSxGnrf\",\"name\":\"Party Never Ends, Part 1 (Deluxe Edition)\",\"type\":\"ALBUM\",\"date\":{\"year\":2013,\"isoString\":\"2013-01-01T00:00:00Z\"},\"coverArt\":{\"sources\":[{\"url\":\"https:\\/\\/i.scdn.co\\/image\\/ab67616d00001e02789b5fef31115d1437e2d5a5\",\"width\":300,\"height\":300},{\"url\":\"https:\\/\\/i.scdn.co\\/image\\/ab67616d00004851789b5fef31115d1437e2d5a5\",\"width\":64,\"height\":64},{\"url\":\"https:\\/\\/i.scdn.co\\/image\\/ab67616d0000b273789b5fef31115d1437e2d5a5\",\"width\":640,\"height\":640}]},\"playability\":{\"playable\":true,\"reason\":\"PLAYABLE\"},\"sharingInfo\":{\"shareId\":\"1srK5cMGRkKXX1rxFsBHpQ\",\"shareUrl\":\"https:\\/\\/open.spotify.com\\/album\\/45WWiybURSpC7tslSxGnrf?si=1srK5cMGRkKXX1rxFsBHpQ\"},\"tracks\":{\"totalCount\":16}}]}},{\"releases\":{\"items\":[{\"id\":\"7LUW42pRwoFJV3bIFeliVJ\",\"uri\":\"spotify:album:7LUW42pRwoFJV3bIFeliVJ\",\"name\":\"I Am the Club Rocker\",\"type\":\"ALBUM\",\"date\":{\"year\":2011,\"isoString\":\"2011-01-01T00:00:00Z\"},\"coverArt\":{\"sources\":[{\"url\":\"https:\\/\\/i.scdn.co\\/image\\/ab67616d00001e02464f14f7c511222dc6c95b97\",\"width\":300,\"height\":300},{\"url\":\"https:\\/\\/i.scdn.co\\/image\\/ab67616d00004851464f14f7c511222dc6c95b97\",\"width\":64,\"height\":64},{\"url\":\"https:\\/\\/i.scdn.co\\/image\\/ab67616d0000b273464f14f7c511222dc6c95b97\",\"width\":640,\"height\":640}]},\"playability\":{\"playable\":true,\"reason\":\"PLAYABLE\"},\"sharingInfo\":{\"shareId\":\"zj-b8WHGR2msf8-bn5__Cw\",\"shareUrl\":\"https:\\/\\/open.spotify.com\\/album\\/7LUW42pRwoFJV3bIFeliVJ?si=zj-b8WHGR2msf8-bn5__Cw\"},\"tracks\":{\"totalCount\":13}},{\"id\":\"2DSZn3i8s1nI8fE01Io4LC\",\"uri\":\"spotify:album:2DSZn3i8s1nI8fE01Io4LC\",\"name\":\"I Am the Club Rocker\",\"type\":\"ALBUM\",\"date\":{\"year\":2011,\"isoString\":\"2011-09-19T00:00:00Z\"},\"coverArt\":{\"sources\":[{\"url\":\"https:\\/\\/i.scdn.co\\/image\\/ab67616d00001e02e30fab560fe8059246acfd23\",\"width\":300,\"height\":300},{\"url\":\"https:\\/\\/i.scdn.co\\/image\\/ab67616d00004851e30fab560fe8059246acfd23\",\"width\":64,\"height\":64},{\"url\":\"https:\\/\\/i.scdn.co\\/image\\/ab67616d0000b273e30fab560fe8059246acfd23\",\"width\":640,\"height\":640}]},\"playability\":{\"playable\":true,\"reason\":\"PLAYABLE\"},\"sharingInfo\":{\"shareId\":\"vHb6FwBFQaucPMHx__e8jA\",\"shareUrl\":\"https:\\/\\/open.spotify.com\\/album\\/2DSZn3i8s1nI8fE01Io4LC?si=vHb6FwBFQaucPMHx__e8jA\"},\"tracks\":{\"totalCount\":13}}]}},{\"releases\":{\"items\":[{\"id\":\"1BykQV2nA2F8zXzsUJ6DQ2\",\"uri\":\"spotify:album:1BykQV2nA2F8zXzsUJ6DQ2\",\"name\":\"Hot\",\"type\":\"ALBUM\",\"date\":{\"year\":2010,\"isoString\":\"2010-01-01T00:00:00Z\"},\"coverArt\":{\"sources\":[{\"url\":\"https:\\/\\/i.scdn.co\\/image\\/ab67616d00001e02429b0446d222e4ff7bbaa68b\",\"width\":300,\"height\":300},{\"url\":\"https:\\/\\/i.scdn.co\\/image\\/ab67616d00004851429b0446d222e4ff7bbaa68b\",\"width\":64,\"height\":64},{\"url\":\"https:\\/\\/i.scdn.co\\/image\\/ab67616d0000b273429b0446d222e4ff7bbaa68b\",\"width\":640,\"height\":640}]},\"playability\":{\"playable\":true,\"reason\":\"PLAYABLE\"},\"sharingInfo\":{\"shareId\":\"6FzQX0Q5QJ-6gxw0lHhJ7w\",\"shareUrl\":\"https:\\/\\/open.spotify.com\\/album\\/1BykQV2nA2F8zXzsUJ6DQ2?si=6FzQX0Q5QJ-6gxw0lHhJ7w\"},\"tracks\":{\"totalCount\":12}},{\"id\":\"7mRhzwh8TINisagYjnmIMT\",\"uri\":\"spotify:album:7mRhzwh8TINisagYjnmIMT\",\"name\":\"Hot\",\"type\":\"ALBUM\",\"date\":{\"year\":2010,\"isoString\":\"2010-01-01T00:00:00Z\"},\"coverArt\":{\"sources\":[{\"url\":\"https:\\/\\/i.scdn.co\\/image\\/ab67616d00001e02497e791a71b496fa4ddbc363\",\"width\":300,\"height\":300},{\"url\":\"https:\\/\\/i.scdn.co\\/image\\/ab67616d00004851497e791a71b496fa4ddbc363\",\"width\":64,\"height\":64},{\"url\":\"https:\\/\\/i.scdn.co\\/image\\/ab67616d0000b273497e791a71b496fa4ddbc363\",\"width\":640,\"height\":640}]},\"playability\":{\"playable\":true,\"reason\":\"PLAYABLE\"},\"sharingInfo\":{\"shareId\":\"AZvI-L7GSz-EWduVTFlXCQ\",\"shareUrl\":\"https:\\/\\/open.spotify.com\\/album\\/7mRhzwh8TINisagYjnmIMT?si=AZvI-L7GSz-EWduVTFlXCQ\"},\"tracks\":{\"totalCount\":12}}]}}]}}}},\"extensions\":[]}\n"
     ]
    }
   ],
   "source": [
    "conn = http.client.HTTPSConnection(\"spotify23.p.rapidapi.com\")\n",
    "\n",
    "headers = {\n",
    "    'X-RapidAPI-Key': \"6e75800c20msh1e3b52b20821a7dp1194edjsn5afc9a2de8d4\",\n",
    "    'X-RapidAPI-Host': \"spotify23.p.rapidapi.com\"\n",
    "}\n",
    "\n",
    "conn.request(\"GET\", \"/artist_albums/?id=2w9zwq3AktTeYYMuhMjju8&offset=0&limit=100\", headers=headers)\n",
    "\n",
    "res = conn.getresponse()\n",
    "data = res.read()\n",
    "\n",
    "print(data.decode(\"utf-8\"))"
   ]
  },
  {
   "cell_type": "code",
   "execution_count": 21,
   "metadata": {},
   "outputs": [],
   "source": [
    "import html\n",
    "import bs4"
   ]
  },
  {
   "cell_type": "code",
   "execution_count": 22,
   "metadata": {},
   "outputs": [],
   "source": [
    "conn = http.client.HTTPSConnection(\"spotify23.p.rapidapi.com\")\n",
    "\n",
    "headers = {\n",
    "    'X-RapidAPI-Key': \"6e75800c20msh1e3b52b20821a7dp1194edjsn5afc9a2de8d4\",\n",
    "    'X-RapidAPI-Host': \"spotify23.p.rapidapi.com\"\n",
    "}\n",
    "\n",
    "data = Artist.objects.all()\n",
    "\n",
    "for i in data:\n",
    "    artist_id = str(i)\n",
    "    print(i)\n",
    "    conn.request(\"GET\", \"/artist_albums/?id={artist_id}\".format(artist_id=artist_id, headers=headers))\n",
    "    res = conn.getresponse()\n",
    "    datas = json.loads(res.read().decode('utf-8'))\n",
    "    print(datas)\n",
    "    albums_list = []\n",
    "    num_albums = datas['data']['artist']['discography']['albums']['totalCount']\n",
    "    x = 0\n",
    "    while x < num_albums:\n",
    "        albums_list.append(datas['data']['artist']['discography']['albums']['items'][x]['releases']['items'][0]['id'])\n",
    "        x = x + 1\n",
    "    print(albums_list)"
   ]
  }
 ],
 "metadata": {
  "kernelspec": {
   "display_name": "env_3.11.5",
   "language": "python",
   "name": "python3"
  },
  "language_info": {
   "codemirror_mode": {
    "name": "ipython",
    "version": 3
   },
   "file_extension": ".py",
   "mimetype": "text/x-python",
   "name": "python",
   "nbconvert_exporter": "python",
   "pygments_lexer": "ipython3",
   "version": "3.9.6"
  }
 },
 "nbformat": 4,
 "nbformat_minor": 2
}
