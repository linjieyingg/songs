{
 "cells": [
  {
   "cell_type": "code",
   "execution_count": 13,
   "metadata": {},
   "outputs": [],
   "source": [
    "import os\n",
    "os.chdir(\"..\")"
   ]
  },
  {
   "cell_type": "code",
   "execution_count": 14,
   "metadata": {},
   "outputs": [],
   "source": [
    "import django\n",
    "from django.conf import settings\n",
    "os.environ.setdefault('DJANGO_SETTINGS_MODULE', 'mimuse.settings')\n",
    "os.environ[\"DJANGO_ALLOW_ASYNC_UNSAFE\"] = \"true\"\n",
    "django.setup()"
   ]
  },
  {
   "cell_type": "code",
   "execution_count": 57,
   "metadata": {},
   "outputs": [],
   "source": [
    "import json\n",
    "import http.client\n",
    "\n",
    "from songs.models import Album, Song\n",
    "from artists.models import Artist"
   ]
  },
  {
   "cell_type": "code",
   "execution_count": 16,
   "metadata": {},
   "outputs": [
    {
     "name": "stdout",
     "output_type": "stream",
     "text": [
      "{\"data\":{\"artist\":{\"discography\":{\"albums\":{\"totalCount\":11,\"items\":[{\"releases\":{\"items\":[{\"id\":\"5aWF6mKr3bSRlMnyxA8Tip\",\"uri\":\"spotify:album:5aWF6mKr3bSRlMnyxA8Tip\",\"name\":\"Champagne Problems #DQH2\",\"type\":\"ALBUM\",\"date\":{\"year\":2022,\"isoString\":\"2022-03-11T00:00:00Z\"},\"coverArt\":{\"sources\":[{\"url\":\"https:\\/\\/i.scdn.co\\/image\\/ab67616d00001e02fec9341c25339773dfe59cb5\",\"width\":300,\"height\":300},{\"url\":\"https:\\/\\/i.scdn.co\\/image\\/ab67616d00004851fec9341c25339773dfe59cb5\",\"width\":64,\"height\":64},{\"url\":\"https:\\/\\/i.scdn.co\\/image\\/ab67616d0000b273fec9341c25339773dfe59cb5\",\"width\":640,\"height\":640}]},\"playability\":{\"playable\":true,\"reason\":\"PLAYABLE\"},\"sharingInfo\":{\"shareId\":\"S2nULwTAQkC9LdppmGc0aw\",\"shareUrl\":\"https:\\/\\/open.spotify.com\\/album\\/5aWF6mKr3bSRlMnyxA8Tip?si=S2nULwTAQkC9LdppmGc0aw\"},\"tracks\":{\"totalCount\":8}}]}},{\"releases\":{\"items\":[{\"id\":\"62XwEYC2iJIX37oZlJbsvi\",\"uri\":\"spotify:album:62XwEYC2iJIX37oZlJbsvi\",\"name\":\"Champagne Problems #DQH1\",\"type\":\"ALBUM\",\"date\":{\"year\":2022,\"isoString\":\"2022-01-07T00:00:00Z\"},\"coverArt\":{\"sources\":[{\"url\":\"https:\\/\\/i.scdn.co\\/image\\/ab67616d00001e02482832441ba0b9f1ede62ae6\",\"width\":300,\"height\":300},{\"url\":\"https:\\/\\/i.scdn.co\\/image\\/ab67616d00004851482832441ba0b9f1ede62ae6\",\"width\":64,\"height\":64},{\"url\":\"https:\\/\\/i.scdn.co\\/image\\/ab67616d0000b273482832441ba0b9f1ede62ae6\",\"width\":640,\"height\":640}]},\"playability\":{\"playable\":true,\"reason\":\"PLAYABLE\"},\"sharingInfo\":{\"shareId\":\"45nk3-UjTkeHFC0coi6vpg\",\"shareUrl\":\"https:\\/\\/open.spotify.com\\/album\\/62XwEYC2iJIX37oZlJbsvi?si=45nk3-UjTkeHFC0coi6vpg\"},\"tracks\":{\"totalCount\":8}}]}},{\"releases\":{\"items\":[{\"id\":\"3QFR3OduDKvQpTPsnmiYl9\",\"uri\":\"spotify:album:3QFR3OduDKvQpTPsnmiYl9\",\"name\":\"Heartbreaker\",\"type\":\"ALBUM\",\"date\":{\"year\":2020,\"isoString\":\"2020-12-04T00:00:00Z\"},\"coverArt\":{\"sources\":[{\"url\":\"https:\\/\\/i.scdn.co\\/image\\/ab67616d00001e02c1725be0a413be97208ccdca\",\"width\":300,\"height\":300},{\"url\":\"https:\\/\\/i.scdn.co\\/image\\/ab67616d00004851c1725be0a413be97208ccdca\",\"width\":64,\"height\":64},{\"url\":\"https:\\/\\/i.scdn.co\\/image\\/ab67616d0000b273c1725be0a413be97208ccdca\",\"width\":640,\"height\":640}]},\"playability\":{\"playable\":true,\"reason\":\"PLAYABLE\"},\"sharingInfo\":{\"shareId\":\"G-zAeGrbSeGRdXTSmAwR-Q\",\"shareUrl\":\"https:\\/\\/open.spotify.com\\/album\\/3QFR3OduDKvQpTPsnmiYl9?si=G-zAeGrbSeGRdXTSmAwR-Q\"},\"tracks\":{\"totalCount\":10}}]}},{\"releases\":{\"items\":[{\"id\":\"4BaDuakq8ON5eOQFRoNYM5\",\"uri\":\"spotify:album:4BaDuakq8ON5eOQFRoNYM5\",\"name\":\"YO\",\"type\":\"ALBUM\",\"date\":{\"year\":2019,\"isoString\":\"2019-05-31T00:00:00Z\"},\"coverArt\":{\"sources\":[{\"url\":\"https:\\/\\/i.scdn.co\\/image\\/ab67616d00001e02eaa5b18552a3e2e9f95eb9ca\",\"width\":300,\"height\":300},{\"url\":\"https:\\/\\/i.scdn.co\\/image\\/ab67616d00004851eaa5b18552a3e2e9f95eb9ca\",\"width\":64,\"height\":64},{\"url\":\"https:\\/\\/i.scdn.co\\/image\\/ab67616d0000b273eaa5b18552a3e2e9f95eb9ca\",\"width\":640,\"height\":640}]},\"playability\":{\"playable\":true,\"reason\":\"PLAYABLE\"},\"sharingInfo\":{\"shareId\":\"nHGcT_D8Q8eaZUcnRlsMSw\",\"shareUrl\":\"https:\\/\\/open.spotify.com\\/album\\/4BaDuakq8ON5eOQFRoNYM5?si=nHGcT_D8Q8eaZUcnRlsMSw\"},\"tracks\":{\"totalCount\":11}}]}},{\"releases\":{\"items\":[{\"id\":\"1LybLcJ9KuOeLHsn1NEe3j\",\"uri\":\"spotify:album:1LybLcJ9KuOeLHsn1NEe3j\",\"name\":\"Inna\",\"type\":\"ALBUM\",\"date\":{\"year\":2015,\"isoString\":\"2015-10-30T00:00:00Z\"},\"coverArt\":{\"sources\":[{\"url\":\"https:\\/\\/i.scdn.co\\/image\\/ab67616d00001e023257e2b781094bcdc048b2f2\",\"width\":300,\"height\":300},{\"url\":\"https:\\/\\/i.scdn.co\\/image\\/ab67616d000048513257e2b781094bcdc048b2f2\",\"width\":64,\"height\":64},{\"url\":\"https:\\/\\/i.scdn.co\\/image\\/ab67616d0000b2733257e2b781094bcdc048b2f2\",\"width\":640,\"height\":640}]},\"playability\":{\"playable\":true,\"reason\":\"PLAYABLE\"},\"sharingInfo\":{\"shareId\":\"rP1hW_tWQkCe3ZakCIR_Lg\",\"shareUrl\":\"https:\\/\\/open.spotify.com\\/album\\/1LybLcJ9KuOeLHsn1NEe3j?si=rP1hW_tWQkCe3ZakCIR_Lg\"},\"tracks\":{\"totalCount\":18}},{\"id\":\"1b66d3S1h7hMEhCPBXlnbn\",\"uri\":\"spotify:album:1b66d3S1h7hMEhCPBXlnbn\",\"name\":\"INNA\",\"type\":\"ALBUM\",\"date\":{\"year\":2015,\"isoString\":\"2015-10-30T00:00:00Z\"},\"coverArt\":{\"sources\":[{\"url\":\"https:\\/\\/i.scdn.co\\/image\\/ab67616d00001e022824fd35dd1dffcfe1b77c20\",\"width\":300,\"height\":300},{\"url\":\"https:\\/\\/i.scdn.co\\/image\\/ab67616d000048512824fd35dd1dffcfe1b77c20\",\"width\":64,\"height\":64},{\"url\":\"https:\\/\\/i.scdn.co\\/image\\/ab67616d0000b2732824fd35dd1dffcfe1b77c20\",\"width\":640,\"height\":640}]},\"playability\":{\"playable\":true,\"reason\":\"PLAYABLE\"},\"sharingInfo\":{\"shareId\":\"iynejnc9Tjm5xUQCA9PAQw\",\"shareUrl\":\"https:\\/\\/open.spotify.com\\/album\\/1b66d3S1h7hMEhCPBXlnbn?si=iynejnc9Tjm5xUQCA9PAQw\"},\"tracks\":{\"totalCount\":17}}]}},{\"releases\":{\"items\":[{\"id\":\"07hKp30OfkSekfN5IsmShA\",\"uri\":\"spotify:album:07hKp30OfkSekfN5IsmShA\",\"name\":\"Party Never Ends\",\"type\":\"ALBUM\",\"date\":{\"year\":2014,\"isoString\":\"2014-10-14T00:00:00Z\"},\"coverArt\":{\"sources\":[{\"url\":\"https:\\/\\/i.scdn.co\\/image\\/ab67616d00001e02b897678be24ef27cb5ee4ab6\",\"width\":300,\"height\":300},{\"url\":\"https:\\/\\/i.scdn.co\\/image\\/ab67616d00004851b897678be24ef27cb5ee4ab6\",\"width\":64,\"height\":64},{\"url\":\"https:\\/\\/i.scdn.co\\/image\\/ab67616d0000b273b897678be24ef27cb5ee4ab6\",\"width\":640,\"height\":640}]},\"playability\":{\"playable\":true,\"reason\":\"PLAYABLE\"},\"sharingInfo\":{\"shareId\":\"OU9RIr1dQxG5EczyLtccsQ\",\"shareUrl\":\"https:\\/\\/open.spotify.com\\/album\\/07hKp30OfkSekfN5IsmShA?si=OU9RIr1dQxG5EczyLtccsQ\"},\"tracks\":{\"totalCount\":15}},{\"id\":\"2qL4k9MmaPNgj2PMayGuHH\",\"uri\":\"spotify:album:2qL4k9MmaPNgj2PMayGuHH\",\"name\":\"Party Never Ends, Pt. 1 (Deluxe Edition)\",\"type\":\"ALBUM\",\"date\":{\"year\":2013,\"isoString\":\"2013-03-04T00:00:00Z\"},\"coverArt\":{\"sources\":[{\"url\":\"https:\\/\\/i.scdn.co\\/image\\/ab67616d00001e0221e639a53f2707d4b32f7faf\",\"width\":300,\"height\":300},{\"url\":\"https:\\/\\/i.scdn.co\\/image\\/ab67616d0000485121e639a53f2707d4b32f7faf\",\"width\":64,\"height\":64},{\"url\":\"https:\\/\\/i.scdn.co\\/image\\/ab67616d0000b27321e639a53f2707d4b32f7faf\",\"width\":640,\"height\":640}]},\"playability\":{\"playable\":true,\"reason\":\"PLAYABLE\"},\"sharingInfo\":{\"shareId\":\"Wz7yOThxRhepS1kK4JVAUQ\",\"shareUrl\":\"https:\\/\\/open.spotify.com\\/album\\/2qL4k9MmaPNgj2PMayGuHH?si=Wz7yOThxRhepS1kK4JVAUQ\"},\"tracks\":{\"totalCount\":16}}]}},{\"releases\":{\"items\":[{\"id\":\"2iIiwsEKIHPZXIHr1qO4fD\",\"uri\":\"spotify:album:2iIiwsEKIHPZXIHr1qO4fD\",\"name\":\"Party Never Ends, Pt. 2 (Deluxe Editon)\",\"type\":\"ALBUM\",\"date\":{\"year\":2013,\"isoString\":\"2013-03-04T00:00:00Z\"},\"coverArt\":{\"sources\":[{\"url\":\"https:\\/\\/i.scdn.co\\/image\\/ab67616d00001e02813ec28d324f446a38bd7379\",\"width\":300,\"height\":300},{\"url\":\"https:\\/\\/i.scdn.co\\/image\\/ab67616d00004851813ec28d324f446a38bd7379\",\"width\":64,\"height\":64},{\"url\":\"https:\\/\\/i.scdn.co\\/image\\/ab67616d0000b273813ec28d324f446a38bd7379\",\"width\":640,\"height\":640}]},\"playability\":{\"playable\":true,\"reason\":\"PLAYABLE\"},\"sharingInfo\":{\"shareId\":\"_peYJMumQVagcp5kyLO1Sw\",\"shareUrl\":\"https:\\/\\/open.spotify.com\\/album\\/2iIiwsEKIHPZXIHr1qO4fD?si=_peYJMumQVagcp5kyLO1Sw\"},\"tracks\":{\"totalCount\":9}}]}},{\"releases\":{\"items\":[{\"id\":\"4lVMYJoQGTWtlggefBGef4\",\"uri\":\"spotify:album:4lVMYJoQGTWtlggefBGef4\",\"name\":\"Party Never Ends, Part 2 (Deluxe Edition)\",\"type\":\"ALBUM\",\"date\":{\"year\":2013,\"isoString\":\"2013-01-01T00:00:00Z\"},\"coverArt\":{\"sources\":[{\"url\":\"https:\\/\\/i.scdn.co\\/image\\/ab67616d00001e027daff2c7c8a71f644af6b265\",\"width\":300,\"height\":300},{\"url\":\"https:\\/\\/i.scdn.co\\/image\\/ab67616d000048517daff2c7c8a71f644af6b265\",\"width\":64,\"height\":64},{\"url\":\"https:\\/\\/i.scdn.co\\/image\\/ab67616d0000b2737daff2c7c8a71f644af6b265\",\"width\":640,\"height\":640}]},\"playability\":{\"playable\":true,\"reason\":\"PLAYABLE\"},\"sharingInfo\":{\"shareId\":\"6bg59WVHQWmVxCj1dN1qSQ\",\"shareUrl\":\"https:\\/\\/open.spotify.com\\/album\\/4lVMYJoQGTWtlggefBGef4?si=6bg59WVHQWmVxCj1dN1qSQ\"},\"tracks\":{\"totalCount\":9}}]}},{\"releases\":{\"items\":[{\"id\":\"45WWiybURSpC7tslSxGnrf\",\"uri\":\"spotify:album:45WWiybURSpC7tslSxGnrf\",\"name\":\"Party Never Ends, Part 1 (Deluxe Edition)\",\"type\":\"ALBUM\",\"date\":{\"year\":2013,\"isoString\":\"2013-01-01T00:00:00Z\"},\"coverArt\":{\"sources\":[{\"url\":\"https:\\/\\/i.scdn.co\\/image\\/ab67616d00001e02789b5fef31115d1437e2d5a5\",\"width\":300,\"height\":300},{\"url\":\"https:\\/\\/i.scdn.co\\/image\\/ab67616d00004851789b5fef31115d1437e2d5a5\",\"width\":64,\"height\":64},{\"url\":\"https:\\/\\/i.scdn.co\\/image\\/ab67616d0000b273789b5fef31115d1437e2d5a5\",\"width\":640,\"height\":640}]},\"playability\":{\"playable\":true,\"reason\":\"PLAYABLE\"},\"sharingInfo\":{\"shareId\":\"HTFosh_3QKCGjQCWlFetIw\",\"shareUrl\":\"https:\\/\\/open.spotify.com\\/album\\/45WWiybURSpC7tslSxGnrf?si=HTFosh_3QKCGjQCWlFetIw\"},\"tracks\":{\"totalCount\":16}}]}},{\"releases\":{\"items\":[{\"id\":\"7LUW42pRwoFJV3bIFeliVJ\",\"uri\":\"spotify:album:7LUW42pRwoFJV3bIFeliVJ\",\"name\":\"I Am the Club Rocker\",\"type\":\"ALBUM\",\"date\":{\"year\":2011,\"isoString\":\"2011-01-01T00:00:00Z\"},\"coverArt\":{\"sources\":[{\"url\":\"https:\\/\\/i.scdn.co\\/image\\/ab67616d00001e02464f14f7c511222dc6c95b97\",\"width\":300,\"height\":300},{\"url\":\"https:\\/\\/i.scdn.co\\/image\\/ab67616d00004851464f14f7c511222dc6c95b97\",\"width\":64,\"height\":64},{\"url\":\"https:\\/\\/i.scdn.co\\/image\\/ab67616d0000b273464f14f7c511222dc6c95b97\",\"width\":640,\"height\":640}]},\"playability\":{\"playable\":true,\"reason\":\"PLAYABLE\"},\"sharingInfo\":{\"shareId\":\"vsNvsjhVR0i1rxM2dziE0Q\",\"shareUrl\":\"https:\\/\\/open.spotify.com\\/album\\/7LUW42pRwoFJV3bIFeliVJ?si=vsNvsjhVR0i1rxM2dziE0Q\"},\"tracks\":{\"totalCount\":13}},{\"id\":\"2DSZn3i8s1nI8fE01Io4LC\",\"uri\":\"spotify:album:2DSZn3i8s1nI8fE01Io4LC\",\"name\":\"I Am the Club Rocker\",\"type\":\"ALBUM\",\"date\":{\"year\":2011,\"isoString\":\"2011-09-19T00:00:00Z\"},\"coverArt\":{\"sources\":[{\"url\":\"https:\\/\\/i.scdn.co\\/image\\/ab67616d00001e02e30fab560fe8059246acfd23\",\"width\":300,\"height\":300},{\"url\":\"https:\\/\\/i.scdn.co\\/image\\/ab67616d00004851e30fab560fe8059246acfd23\",\"width\":64,\"height\":64},{\"url\":\"https:\\/\\/i.scdn.co\\/image\\/ab67616d0000b273e30fab560fe8059246acfd23\",\"width\":640,\"height\":640}]},\"playability\":{\"playable\":true,\"reason\":\"PLAYABLE\"},\"sharingInfo\":{\"shareId\":\"lIdVdjfsT_G3N-H4F2uyeA\",\"shareUrl\":\"https:\\/\\/open.spotify.com\\/album\\/2DSZn3i8s1nI8fE01Io4LC?si=lIdVdjfsT_G3N-H4F2uyeA\"},\"tracks\":{\"totalCount\":13}}]}},{\"releases\":{\"items\":[{\"id\":\"1BykQV2nA2F8zXzsUJ6DQ2\",\"uri\":\"spotify:album:1BykQV2nA2F8zXzsUJ6DQ2\",\"name\":\"Hot\",\"type\":\"ALBUM\",\"date\":{\"year\":2010,\"isoString\":\"2010-01-01T00:00:00Z\"},\"coverArt\":{\"sources\":[{\"url\":\"https:\\/\\/i.scdn.co\\/image\\/ab67616d00001e02429b0446d222e4ff7bbaa68b\",\"width\":300,\"height\":300},{\"url\":\"https:\\/\\/i.scdn.co\\/image\\/ab67616d00004851429b0446d222e4ff7bbaa68b\",\"width\":64,\"height\":64},{\"url\":\"https:\\/\\/i.scdn.co\\/image\\/ab67616d0000b273429b0446d222e4ff7bbaa68b\",\"width\":640,\"height\":640}]},\"playability\":{\"playable\":true,\"reason\":\"PLAYABLE\"},\"sharingInfo\":{\"shareId\":\"ev7rzRtHT8uayq0GCrb5jA\",\"shareUrl\":\"https:\\/\\/open.spotify.com\\/album\\/1BykQV2nA2F8zXzsUJ6DQ2?si=ev7rzRtHT8uayq0GCrb5jA\"},\"tracks\":{\"totalCount\":12}},{\"id\":\"7mRhzwh8TINisagYjnmIMT\",\"uri\":\"spotify:album:7mRhzwh8TINisagYjnmIMT\",\"name\":\"Hot\",\"type\":\"ALBUM\",\"date\":{\"year\":2010,\"isoString\":\"2010-01-01T00:00:00Z\"},\"coverArt\":{\"sources\":[{\"url\":\"https:\\/\\/i.scdn.co\\/image\\/ab67616d00001e02497e791a71b496fa4ddbc363\",\"width\":300,\"height\":300},{\"url\":\"https:\\/\\/i.scdn.co\\/image\\/ab67616d00004851497e791a71b496fa4ddbc363\",\"width\":64,\"height\":64},{\"url\":\"https:\\/\\/i.scdn.co\\/image\\/ab67616d0000b273497e791a71b496fa4ddbc363\",\"width\":640,\"height\":640}]},\"playability\":{\"playable\":true,\"reason\":\"PLAYABLE\"},\"sharingInfo\":{\"shareId\":\"dD07KGzbQS2-OW0FZygEpA\",\"shareUrl\":\"https:\\/\\/open.spotify.com\\/album\\/7mRhzwh8TINisagYjnmIMT?si=dD07KGzbQS2-OW0FZygEpA\"},\"tracks\":{\"totalCount\":12}}]}}]}}}},\"extensions\":[]}\n"
     ]
    }
   ],
   "source": [
    "conn = http.client.HTTPSConnection(\"spotify23.p.rapidapi.com\")\n",
    "\n",
    "headers = {\n",
    "    'X-RapidAPI-Key': \"6e75800c20msh1e3b52b20821a7dp1194edjsn5afc9a2de8d4\",\n",
    "    'X-RapidAPI-Host': \"spotify23.p.rapidapi.com\"\n",
    "}\n",
    "\n",
    "conn.request(\"GET\", \"/artist_albums/?id=2w9zwq3AktTeYYMuhMjju8&offset=0&limit=100\", headers=headers)\n",
    "\n",
    "res = conn.getresponse()\n",
    "data = res.read()\n",
    "\n",
    "print(data.decode(\"utf-8\"))"
   ]
  },
  {
   "cell_type": "code",
   "execution_count": 17,
   "metadata": {},
   "outputs": [],
   "source": [
    "import html\n",
    "import bs4"
   ]
  },
  {
   "cell_type": "code",
   "execution_count": null,
   "metadata": {},
   "outputs": [],
   "source": [
    "conn = http.client.HTTPSConnection(\"spotify23.p.rapidapi.com\")\n",
    "\n",
    "headers = {\n",
    "    'X-RapidAPI-Key': \"6e75800c20msh1e3b52b20821a7dp1194edjsn5afc9a2de8d4\",\n",
    "    'X-RapidAPI-Host': \"spotify23.p.rapidapi.com\"\n",
    "}\n",
    "\n",
    "\n",
    "data = Artist.objects.all()\n",
    "\n",
    "for i in data:\n",
    "    artist_id = str(i)\n",
    "    print(i)\n",
    "    conn.request(\"GET\", \"/artist_albums/?id={artist_id}\".format(artist_id=artist_id), headers=headers)\n",
    "    res = conn.getresponse()\n",
    "    datas = json.loads(res.read().decode('utf-8'))\n",
    "    print(datas)\n",
    "    num_albums = datas['data']['artist']['discography']['albums']['totalCount']\n",
    "    x = 0\n",
    "    for album in datas['data']['artist']['discography']['albums']['items']:\n",
    "        this = Album(api_id = album['releases']['items'][0]['id'])\n",
    "        this.save()\n",
    "        artist = Artist.objects.get(api_id=artist_id)\n",
    "        artist.albums.add(this)\n",
    "        artist.save()"
   ]
  },
  {
   "cell_type": "code",
   "execution_count": 94,
   "metadata": {},
   "outputs": [
    {
     "name": "stdout",
     "output_type": "stream",
     "text": [
      "2KC9Qb60EaY0kW4eH68vr3\n"
     ]
    }
   ],
   "source": [
    "artist = Artist.objects.get(name='ITZY')\n",
    "print(artist)"
   ]
  },
  {
   "cell_type": "code",
   "execution_count": 73,
   "metadata": {},
   "outputs": [],
   "source": [
    "conn = http.client.HTTPSConnection(\"spotify23.p.rapidapi.com\")\n",
    "\n",
    "headers = {\n",
    "    'X-RapidAPI-Key': \"208491c007msh75bd41f34ef037fp1815aejsn15b1bb64cbfe\",\n",
    "    'X-RapidAPI-Host': \"spotify23.p.rapidapi.com\"\n",
    "}\n",
    "\n",
    "for artist in Artist.objects.all():\n",
    "    albums = Artist.albums.through.objects.filter(artist_id=artist.id)\n",
    "    for album in albums:\n",
    "        album_id = Album.objects.get(id=album.album_id).api_id\n",
    "        artist_id = Artist.objects.get(id=album.artist_id).api_id\n",
    "        print(album_id, artist_id) \n",
    "        conn.request(\"GET\", \"/albums/?ids={album_id}\".format(album_id=album_id), headers=headers)\n",
    "        res = conn.getresponse()\n",
    "        album_info = json.loads(res.read().decode('utf-8'))['albums'][0]\n",
    "        print(album_info)\n",
    "        this_album = Album.objects.filter(api_id=album_id)\n",
    "        print(this_album)\n",
    "        if(album_info['release_date_precision']==\"day\"):\n",
    "            this_album.update(title=album_info['name'], release_date=album_info['release_date'], cover_image=album_info['images'][0]['url'])\n",
    "        else:\n",
    "            this_album.update(title=album_info['name'], cover_image=album_info['images'][0]['url'])\n",
    "        this_artist = Artist.objects.get(api_id=artist_id)\n",
    "        this_artist.albums.add(this_album.first())    \n",
    "        this_artist.save()"
   ]
  },
  {
   "cell_type": "code",
   "execution_count": 71,
   "metadata": {},
   "outputs": [],
   "source": [
    "conn = http.client.HTTPSConnection(\"spotify23.p.rapidapi.com\")\n",
    "\n",
    "headers = {\n",
    "    'X-RapidAPI-Key': \"492a68091cmsh28fa0cbbfc77d53p1a5ad0jsnc64f45e3f32c\",\n",
    "    'X-RapidAPI-Host': \"spotify23.p.rapidapi.com\"\n",
    "}"
   ]
  },
  {
   "cell_type": "code",
   "execution_count": null,
   "metadata": {},
   "outputs": [],
   "source": [
    "for album in Album.objects.all():\n",
    "    album_id = album.api_id\n",
    "    conn.request(\"GET\", \"/album_tracks/?id={album_id}&limit=20\".format(album_id=album_id), headers=headers)\n",
    "    res = conn.getresponse()\n",
    "    album_tracks = json.loads(res.read().decode('utf-8'))['data']['album']['tracks']['items']\n",
    "    for track in album_tracks:\n",
    "        uri = track['track']['uri']\n",
    "        id = uri.replace('spotify:track:', '')\n",
    "        print(id)\n",
    "        conn.request(\"GET\", \"/tracks/?ids={id}\".format(id=id), headers=headers)\n",
    "        res = conn.getresponse()\n",
    "        track_info = json.loads(res.read().decode('utf-8'))['tracks'][0]\n",
    "        if Song.objects.filter(api_id=id).exists():\n",
    "            continue\n",
    "        else:\n",
    "            try:\n",
    "                Song.objects.update_or_create(api_id=id, album_id=album, title=track_info['name'], popularity=track_info['popularity'], preview_url = track_info['preview_url'], release_date=album.release_date)\n",
    "            except:\n",
    "                print(\"TOO MANY SONGS API CANNOT HANDLE\")"
   ]
  }
 ],
 "metadata": {
  "kernelspec": {
   "display_name": "env_3.11.5",
   "language": "python",
   "name": "python3"
  },
  "language_info": {
   "codemirror_mode": {
    "name": "ipython",
    "version": 3
   },
   "file_extension": ".py",
   "mimetype": "text/x-python",
   "name": "python",
   "nbconvert_exporter": "python",
   "pygments_lexer": "ipython3",
   "version": "3.9.6"
  }
 },
 "nbformat": 4,
 "nbformat_minor": 2
}
