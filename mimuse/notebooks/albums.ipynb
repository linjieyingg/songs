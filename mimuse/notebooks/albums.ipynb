{
 "cells": [
  {
   "cell_type": "code",
   "execution_count": 2,
   "metadata": {},
   "outputs": [],
   "source": [
    "import os\n",
    "os.chdir(\"...\")"
   ]
  },
  {
   "cell_type": "code",
   "execution_count": 3,
   "metadata": {},
   "outputs": [
    {
     "ename": "ModuleNotFoundError",
     "evalue": "No module named 'mimuse'",
     "output_type": "error",
     "traceback": [
      "\u001b[1;31m---------------------------------------------------------------------------\u001b[0m",
      "\u001b[1;31mModuleNotFoundError\u001b[0m                       Traceback (most recent call last)",
      "Cell \u001b[1;32mIn[3], line 8\u001b[0m\n\u001b[0;32m      6\u001b[0m \u001b[38;5;66;03m# This is for async, in case we will see it later (maybe)\u001b[39;00m\n\u001b[0;32m      7\u001b[0m os\u001b[38;5;241m.\u001b[39menviron[\u001b[38;5;124m\"\u001b[39m\u001b[38;5;124mDJANGO_ALLOW_ASYNC_UNSAFE\u001b[39m\u001b[38;5;124m\"\u001b[39m] \u001b[38;5;241m=\u001b[39m \u001b[38;5;124m\"\u001b[39m\u001b[38;5;124mtrue\u001b[39m\u001b[38;5;124m\"\u001b[39m\n\u001b[1;32m----> 8\u001b[0m \u001b[43mdjango\u001b[49m\u001b[38;5;241;43m.\u001b[39;49m\u001b[43msetup\u001b[49m\u001b[43m(\u001b[49m\u001b[43m)\u001b[49m\n",
      "File \u001b[1;32mc:\\Users\\linji\\.pyenv\\pyenv-win\\versions\\3.11.5\\Lib\\site-packages\\django\\__init__.py:19\u001b[0m, in \u001b[0;36msetup\u001b[1;34m(set_prefix)\u001b[0m\n\u001b[0;32m     16\u001b[0m \u001b[38;5;28;01mfrom\u001b[39;00m \u001b[38;5;21;01mdjango\u001b[39;00m\u001b[38;5;21;01m.\u001b[39;00m\u001b[38;5;21;01murls\u001b[39;00m \u001b[38;5;28;01mimport\u001b[39;00m set_script_prefix\n\u001b[0;32m     17\u001b[0m \u001b[38;5;28;01mfrom\u001b[39;00m \u001b[38;5;21;01mdjango\u001b[39;00m\u001b[38;5;21;01m.\u001b[39;00m\u001b[38;5;21;01mutils\u001b[39;00m\u001b[38;5;21;01m.\u001b[39;00m\u001b[38;5;21;01mlog\u001b[39;00m \u001b[38;5;28;01mimport\u001b[39;00m configure_logging\n\u001b[1;32m---> 19\u001b[0m configure_logging(\u001b[43msettings\u001b[49m\u001b[38;5;241;43m.\u001b[39;49m\u001b[43mLOGGING_CONFIG\u001b[49m, settings\u001b[38;5;241m.\u001b[39mLOGGING)\n\u001b[0;32m     20\u001b[0m \u001b[38;5;28;01mif\u001b[39;00m set_prefix:\n\u001b[0;32m     21\u001b[0m     set_script_prefix(\n\u001b[0;32m     22\u001b[0m         \u001b[38;5;124m\"\u001b[39m\u001b[38;5;124m/\u001b[39m\u001b[38;5;124m\"\u001b[39m \u001b[38;5;28;01mif\u001b[39;00m settings\u001b[38;5;241m.\u001b[39mFORCE_SCRIPT_NAME \u001b[38;5;129;01mis\u001b[39;00m \u001b[38;5;28;01mNone\u001b[39;00m \u001b[38;5;28;01melse\u001b[39;00m settings\u001b[38;5;241m.\u001b[39mFORCE_SCRIPT_NAME\n\u001b[0;32m     23\u001b[0m     )\n",
      "File \u001b[1;32mc:\\Users\\linji\\.pyenv\\pyenv-win\\versions\\3.11.5\\Lib\\site-packages\\django\\conf\\__init__.py:89\u001b[0m, in \u001b[0;36mLazySettings.__getattr__\u001b[1;34m(self, name)\u001b[0m\n\u001b[0;32m     87\u001b[0m \u001b[38;5;250m\u001b[39m\u001b[38;5;124;03m\"\"\"Return the value of a setting and cache it in self.__dict__.\"\"\"\u001b[39;00m\n\u001b[0;32m     88\u001b[0m \u001b[38;5;28;01mif\u001b[39;00m (_wrapped \u001b[38;5;241m:=\u001b[39m \u001b[38;5;28mself\u001b[39m\u001b[38;5;241m.\u001b[39m_wrapped) \u001b[38;5;129;01mis\u001b[39;00m empty:\n\u001b[1;32m---> 89\u001b[0m     \u001b[38;5;28;43mself\u001b[39;49m\u001b[38;5;241;43m.\u001b[39;49m\u001b[43m_setup\u001b[49m\u001b[43m(\u001b[49m\u001b[43mname\u001b[49m\u001b[43m)\u001b[49m\n\u001b[0;32m     90\u001b[0m     _wrapped \u001b[38;5;241m=\u001b[39m \u001b[38;5;28mself\u001b[39m\u001b[38;5;241m.\u001b[39m_wrapped\n\u001b[0;32m     91\u001b[0m val \u001b[38;5;241m=\u001b[39m \u001b[38;5;28mgetattr\u001b[39m(_wrapped, name)\n",
      "File \u001b[1;32mc:\\Users\\linji\\.pyenv\\pyenv-win\\versions\\3.11.5\\Lib\\site-packages\\django\\conf\\__init__.py:76\u001b[0m, in \u001b[0;36mLazySettings._setup\u001b[1;34m(self, name)\u001b[0m\n\u001b[0;32m     68\u001b[0m     desc \u001b[38;5;241m=\u001b[39m (\u001b[38;5;124m\"\u001b[39m\u001b[38;5;124msetting \u001b[39m\u001b[38;5;132;01m%s\u001b[39;00m\u001b[38;5;124m\"\u001b[39m \u001b[38;5;241m%\u001b[39m name) \u001b[38;5;28;01mif\u001b[39;00m name \u001b[38;5;28;01melse\u001b[39;00m \u001b[38;5;124m\"\u001b[39m\u001b[38;5;124msettings\u001b[39m\u001b[38;5;124m\"\u001b[39m\n\u001b[0;32m     69\u001b[0m     \u001b[38;5;28;01mraise\u001b[39;00m ImproperlyConfigured(\n\u001b[0;32m     70\u001b[0m         \u001b[38;5;124m\"\u001b[39m\u001b[38;5;124mRequested \u001b[39m\u001b[38;5;132;01m%s\u001b[39;00m\u001b[38;5;124m, but settings are not configured. \u001b[39m\u001b[38;5;124m\"\u001b[39m\n\u001b[0;32m     71\u001b[0m         \u001b[38;5;124m\"\u001b[39m\u001b[38;5;124mYou must either define the environment variable \u001b[39m\u001b[38;5;132;01m%s\u001b[39;00m\u001b[38;5;124m \u001b[39m\u001b[38;5;124m\"\u001b[39m\n\u001b[0;32m     72\u001b[0m         \u001b[38;5;124m\"\u001b[39m\u001b[38;5;124mor call settings.configure() before accessing settings.\u001b[39m\u001b[38;5;124m\"\u001b[39m\n\u001b[0;32m     73\u001b[0m         \u001b[38;5;241m%\u001b[39m (desc, ENVIRONMENT_VARIABLE)\n\u001b[0;32m     74\u001b[0m     )\n\u001b[1;32m---> 76\u001b[0m \u001b[38;5;28mself\u001b[39m\u001b[38;5;241m.\u001b[39m_wrapped \u001b[38;5;241m=\u001b[39m \u001b[43mSettings\u001b[49m\u001b[43m(\u001b[49m\u001b[43msettings_module\u001b[49m\u001b[43m)\u001b[49m\n",
      "File \u001b[1;32mc:\\Users\\linji\\.pyenv\\pyenv-win\\versions\\3.11.5\\Lib\\site-packages\\django\\conf\\__init__.py:190\u001b[0m, in \u001b[0;36mSettings.__init__\u001b[1;34m(self, settings_module)\u001b[0m\n\u001b[0;32m    187\u001b[0m \u001b[38;5;66;03m# store the settings module in case someone later cares\u001b[39;00m\n\u001b[0;32m    188\u001b[0m \u001b[38;5;28mself\u001b[39m\u001b[38;5;241m.\u001b[39mSETTINGS_MODULE \u001b[38;5;241m=\u001b[39m settings_module\n\u001b[1;32m--> 190\u001b[0m mod \u001b[38;5;241m=\u001b[39m \u001b[43mimportlib\u001b[49m\u001b[38;5;241;43m.\u001b[39;49m\u001b[43mimport_module\u001b[49m\u001b[43m(\u001b[49m\u001b[38;5;28;43mself\u001b[39;49m\u001b[38;5;241;43m.\u001b[39;49m\u001b[43mSETTINGS_MODULE\u001b[49m\u001b[43m)\u001b[49m\n\u001b[0;32m    192\u001b[0m tuple_settings \u001b[38;5;241m=\u001b[39m (\n\u001b[0;32m    193\u001b[0m     \u001b[38;5;124m\"\u001b[39m\u001b[38;5;124mALLOWED_HOSTS\u001b[39m\u001b[38;5;124m\"\u001b[39m,\n\u001b[0;32m    194\u001b[0m     \u001b[38;5;124m\"\u001b[39m\u001b[38;5;124mINSTALLED_APPS\u001b[39m\u001b[38;5;124m\"\u001b[39m,\n\u001b[1;32m   (...)\u001b[0m\n\u001b[0;32m    197\u001b[0m     \u001b[38;5;124m\"\u001b[39m\u001b[38;5;124mSECRET_KEY_FALLBACKS\u001b[39m\u001b[38;5;124m\"\u001b[39m,\n\u001b[0;32m    198\u001b[0m )\n\u001b[0;32m    199\u001b[0m \u001b[38;5;28mself\u001b[39m\u001b[38;5;241m.\u001b[39m_explicit_settings \u001b[38;5;241m=\u001b[39m \u001b[38;5;28mset\u001b[39m()\n",
      "File \u001b[1;32mc:\\Users\\linji\\.pyenv\\pyenv-win\\versions\\3.11.5\\Lib\\importlib\\__init__.py:126\u001b[0m, in \u001b[0;36mimport_module\u001b[1;34m(name, package)\u001b[0m\n\u001b[0;32m    124\u001b[0m             \u001b[38;5;28;01mbreak\u001b[39;00m\n\u001b[0;32m    125\u001b[0m         level \u001b[38;5;241m+\u001b[39m\u001b[38;5;241m=\u001b[39m \u001b[38;5;241m1\u001b[39m\n\u001b[1;32m--> 126\u001b[0m \u001b[38;5;28;01mreturn\u001b[39;00m \u001b[43m_bootstrap\u001b[49m\u001b[38;5;241;43m.\u001b[39;49m\u001b[43m_gcd_import\u001b[49m\u001b[43m(\u001b[49m\u001b[43mname\u001b[49m\u001b[43m[\u001b[49m\u001b[43mlevel\u001b[49m\u001b[43m:\u001b[49m\u001b[43m]\u001b[49m\u001b[43m,\u001b[49m\u001b[43m \u001b[49m\u001b[43mpackage\u001b[49m\u001b[43m,\u001b[49m\u001b[43m \u001b[49m\u001b[43mlevel\u001b[49m\u001b[43m)\u001b[49m\n",
      "File \u001b[1;32m<frozen importlib._bootstrap>:1204\u001b[0m, in \u001b[0;36m_gcd_import\u001b[1;34m(name, package, level)\u001b[0m\n",
      "File \u001b[1;32m<frozen importlib._bootstrap>:1176\u001b[0m, in \u001b[0;36m_find_and_load\u001b[1;34m(name, import_)\u001b[0m\n",
      "File \u001b[1;32m<frozen importlib._bootstrap>:1126\u001b[0m, in \u001b[0;36m_find_and_load_unlocked\u001b[1;34m(name, import_)\u001b[0m\n",
      "File \u001b[1;32m<frozen importlib._bootstrap>:241\u001b[0m, in \u001b[0;36m_call_with_frames_removed\u001b[1;34m(f, *args, **kwds)\u001b[0m\n",
      "File \u001b[1;32m<frozen importlib._bootstrap>:1204\u001b[0m, in \u001b[0;36m_gcd_import\u001b[1;34m(name, package, level)\u001b[0m\n",
      "File \u001b[1;32m<frozen importlib._bootstrap>:1176\u001b[0m, in \u001b[0;36m_find_and_load\u001b[1;34m(name, import_)\u001b[0m\n",
      "File \u001b[1;32m<frozen importlib._bootstrap>:1140\u001b[0m, in \u001b[0;36m_find_and_load_unlocked\u001b[1;34m(name, import_)\u001b[0m\n",
      "\u001b[1;31mModuleNotFoundError\u001b[0m: No module named 'mimuse'"
     ]
    }
   ],
   "source": [
    "import django\n",
    "# In case that we need it later\n",
    "# from django.conf import settings\n",
    "os.environ.setdefault('DJANGO_SETTINGS_MODULE',\n",
    "'mimuse.settings')\n",
    "# This is for async, in case we will see it later (maybe)\n",
    "os.environ[\"DJANGO_ALLOW_ASYNC_UNSAFE\"] = \"true\"\n",
    "django.setup()"
   ]
  },
  {
   "cell_type": "code",
   "execution_count": 4,
   "metadata": {},
   "outputs": [],
   "source": [
    "import json\n",
    "import http.client"
   ]
  },
  {
   "cell_type": "code",
   "execution_count": 5,
   "metadata": {},
   "outputs": [
    {
     "name": "stdout",
     "output_type": "stream",
     "text": [
      "{\"albums\":[{\"album_type\":\"album\",\"artists\":[{\"external_urls\":{\"spotify\":\"https:\\/\\/open.spotify.com\\/artist\\/51DevdOxIJin6DB1FXJpD1\"},\"id\":\"51DevdOxIJin6DB1FXJpD1\",\"name\":\"UZI\",\"type\":\"artist\",\"uri\":\"spotify:artist:51DevdOxIJin6DB1FXJpD1\"}],\"copyrights\":[{\"text\":\"2021 M.O.B Entertainment Associated Label Of Govinet\",\"type\":\"C\"},{\"text\":\"2021 M.O.B Entertainment Associated Label Of Govinet\",\"type\":\"P\"}],\"external_ids\":{\"upc\":\"3616553578384\"},\"external_urls\":{\"spotify\":\"https:\\/\\/open.spotify.com\\/album\\/3IBcauSj5M2A6lTeffJzdv\"},\"genres\":[],\"id\":\"3IBcauSj5M2A6lTeffJzdv\",\"images\":[{\"height\":640,\"url\":\"https:\\/\\/i.scdn.co\\/image\\/ab67616d0000b27367c738a703dc979f5c3c52ef\",\"width\":640},{\"height\":300,\"url\":\"https:\\/\\/i.scdn.co\\/image\\/ab67616d00001e0267c738a703dc979f5c3c52ef\",\"width\":300},{\"height\":64,\"url\":\"https:\\/\\/i.scdn.co\\/image\\/ab67616d0000485167c738a703dc979f5c3c52ef\",\"width\":64}],\"is_playable\":true,\"label\":\"M.O.B. Entertainment\",\"name\":\"Kan\",\"popularity\":73,\"release_date\":\"2021-03-19\",\"release_date_precision\":\"day\",\"total_tracks\":10,\"tracks\":{\"items\":[{\"artists\":[{\"external_urls\":{\"spotify\":\"https:\\/\\/open.spotify.com\\/artist\\/51DevdOxIJin6DB1FXJpD1\"},\"id\":\"51DevdOxIJin6DB1FXJpD1\",\"name\":\"UZI\",\"type\":\"artist\",\"uri\":\"spotify:artist:51DevdOxIJin6DB1FXJpD1\"}],\"disc_number\":1,\"duration_ms\":211016,\"explicit\":true,\"external_urls\":{\"spotify\":\"https:\\/\\/open.spotify.com\\/track\\/5jvhTc0g18kwYQNUJM5C4e\"},\"id\":\"5jvhTc0g18kwYQNUJM5C4e\",\"is_local\":false,\"is_playable\":true,\"name\":\"Makina\",\"preview_url\":\"https:\\/\\/p.scdn.co\\/mp3-preview\\/27ab6f738e8bbb6be4225f2e10886883ef760381?cid=d8a5ed958d274c2e8ee717e6a4b0971d\",\"track_number\":1,\"type\":\"track\",\"uri\":\"spotify:track:5jvhTc0g18kwYQNUJM5C4e\"},{\"artists\":[{\"external_urls\":{\"spotify\":\"https:\\/\\/open.spotify.com\\/artist\\/51DevdOxIJin6DB1FXJpD1\"},\"id\":\"51DevdOxIJin6DB1FXJpD1\",\"name\":\"UZI\",\"type\":\"artist\",\"uri\":\"spotify:artist:51DevdOxIJin6DB1FXJpD1\"}],\"disc_number\":1,\"duration_ms\":185458,\"explicit\":true,\"external_urls\":{\"spotify\":\"https:\\/\\/open.spotify.com\\/track\\/72t3CRd8YEFrlc3x0OVaob\"},\"id\":\"72t3CRd8YEFrlc3x0OVaob\",\"is_local\":false,\"is_playable\":true,\"name\":\"Umrumda De\\u011fil\",\"preview_url\":\"https:\\/\\/p.scdn.co\\/mp3-preview\\/ca2df079cdae1386e8b2899951cadf93c335018c?cid=d8a5ed958d274c2e8ee717e6a4b0971d\",\"track_number\":2,\"type\":\"track\",\"uri\":\"spotify:track:72t3CRd8YEFrlc3x0OVaob\"},{\"artists\":[{\"external_urls\":{\"spotify\":\"https:\\/\\/open.spotify.com\\/artist\\/51DevdOxIJin6DB1FXJpD1\"},\"id\":\"51DevdOxIJin6DB1FXJpD1\",\"name\":\"UZI\",\"type\":\"artist\",\"uri\":\"spotify:artist:51DevdOxIJin6DB1FXJpD1\"},{\"external_urls\":{\"spotify\":\"https:\\/\\/open.spotify.com\\/artist\\/3BVPc9s4JXzM6O1InlLxED\"},\"id\":\"3BVPc9s4JXzM6O1InlLxED\",\"name\":\"Mavi\",\"type\":\"artist\",\"uri\":\"spotify:artist:3BVPc9s4JXzM6O1InlLxED\"}],\"disc_number\":1,\"duration_ms\":200000,\"explicit\":false,\"external_urls\":{\"spotify\":\"https:\\/\\/open.spotify.com\\/track\\/5TkQatzJqKafPgHQerZ0dL\"},\"id\":\"5TkQatzJqKafPgHQerZ0dL\",\"is_local\":false,\"is_playable\":true,\"name\":\"Gecenin I\\u00e7ine Gir\",\"preview_url\":\"https:\\/\\/p.scdn.co\\/mp3-preview\\/dad0bc5179800da1fe3d5a7c8ca5d9c8563b786b?cid=d8a5ed958d274c2e8ee717e6a4b0971d\",\"track_number\":3,\"type\":\"track\",\"uri\":\"spotify:track:5TkQatzJqKafPgHQerZ0dL\"},{\"artists\":[{\"external_urls\":{\"spotify\":\"https:\\/\\/open.spotify.com\\/artist\\/51DevdOxIJin6DB1FXJpD1\"},\"id\":\"51DevdOxIJin6DB1FXJpD1\",\"name\":\"UZI\",\"type\":\"artist\",\"uri\":\"spotify:artist:51DevdOxIJin6DB1FXJpD1\"}],\"disc_number\":1,\"duration_ms\":243205,\"explicit\":true,\"external_urls\":{\"spotify\":\"https:\\/\\/open.spotify.com\\/track\\/6IW5ocUH5DRWagxkLTlbUS\"},\"id\":\"6IW5ocUH5DRWagxkLTlbUS\",\"is_local\":false,\"is_playable\":true,\"name\":\"Nedenini Sorma\",\"preview_url\":\"https:\\/\\/p.scdn.co\\/mp3-preview\\/3b60dc4dd3c57960b5e5309f069709034d5e6888?cid=d8a5ed958d274c2e8ee717e6a4b0971d\",\"track_number\":4,\"type\":\"track\",\"uri\":\"spotify:track:6IW5ocUH5DRWagxkLTlbUS\"},{\"artists\":[{\"external_urls\":{\"spotify\":\"https:\\/\\/open.spotify.com\\/artist\\/51DevdOxIJin6DB1FXJpD1\"},\"id\":\"51DevdOxIJin6DB1FXJpD1\",\"name\":\"UZI\",\"type\":\"artist\",\"uri\":\"spotify:artist:51DevdOxIJin6DB1FXJpD1\"},{\"external_urls\":{\"spotify\":\"https:\\/\\/open.spotify.com\\/artist\\/7GaMopkesD4KK9dNbgyO5D\"},\"id\":\"7GaMopkesD4KK9dNbgyO5D\",\"name\":\"Eko Fresh\",\"type\":\"artist\",\"uri\":\"spotify:artist:7GaMopkesD4KK9dNbgyO5D\"}],\"disc_number\":1,\"duration_ms\":152301,\"explicit\":true,\"external_urls\":{\"spotify\":\"https:\\/\\/open.spotify.com\\/track\\/1ijjjMFlM3Pe8t3ykXBzxk\"},\"id\":\"1ijjjMFlM3Pe8t3ykXBzxk\",\"is_local\":false,\"is_playable\":true,\"name\":\"Mahalle\",\"preview_url\":\"https:\\/\\/p.scdn.co\\/mp3-preview\\/355ebff1c469cda6bc280f59cf4546c4a8c0e13a?cid=d8a5ed958d274c2e8ee717e6a4b0971d\",\"track_number\":5,\"type\":\"track\",\"uri\":\"spotify:track:1ijjjMFlM3Pe8t3ykXBzxk\"},{\"artists\":[{\"external_urls\":{\"spotify\":\"https:\\/\\/open.spotify.com\\/artist\\/51DevdOxIJin6DB1FXJpD1\"},\"id\":\"51DevdOxIJin6DB1FXJpD1\",\"name\":\"UZI\",\"type\":\"artist\",\"uri\":\"spotify:artist:51DevdOxIJin6DB1FXJpD1\"}],\"disc_number\":1,\"duration_ms\":171880,\"explicit\":true,\"external_urls\":{\"spotify\":\"https:\\/\\/open.spotify.com\\/track\\/4a1WLOoydq7u011UG9jjC9\"},\"id\":\"4a1WLOoydq7u011UG9jjC9\",\"is_local\":false,\"is_playable\":true,\"name\":\"Krvn\",\"preview_url\":\"https:\\/\\/p.scdn.co\\/mp3-preview\\/c595da41713f76fe3935b4314acda5b4b54a82c2?cid=d8a5ed958d274c2e8ee717e6a4b0971d\",\"track_number\":6,\"type\":\"track\",\"uri\":\"spotify:track:4a1WLOoydq7u011UG9jjC9\"},{\"artists\":[{\"external_urls\":{\"spotify\":\"https:\\/\\/open.spotify.com\\/artist\\/51DevdOxIJin6DB1FXJpD1\"},\"id\":\"51DevdOxIJin6DB1FXJpD1\",\"name\":\"UZI\",\"type\":\"artist\",\"uri\":\"spotify:artist:51DevdOxIJin6DB1FXJpD1\"}],\"disc_number\":1,\"duration_ms\":155010,\"explicit\":true,\"external_urls\":{\"spotify\":\"https:\\/\\/open.spotify.com\\/track\\/4hy4nY2PiYWx8qVXjpky3P\"},\"id\":\"4hy4nY2PiYWx8qVXjpky3P\",\"is_local\":false,\"is_playable\":true,\"name\":\"Vur\",\"preview_url\":\"https:\\/\\/p.scdn.co\\/mp3-preview\\/5b57e9e80e8dc443ad508fa794686e731a3e92ef?cid=d8a5ed958d274c2e8ee717e6a4b0971d\",\"track_number\":7,\"type\":\"track\",\"uri\":\"spotify:track:4hy4nY2PiYWx8qVXjpky3P\"},{\"artists\":[{\"external_urls\":{\"spotify\":\"https:\\/\\/open.spotify.com\\/artist\\/51DevdOxIJin6DB1FXJpD1\"},\"id\":\"51DevdOxIJin6DB1FXJpD1\",\"name\":\"UZI\",\"type\":\"artist\",\"uri\":\"spotify:artist:51DevdOxIJin6DB1FXJpD1\"},{\"external_urls\":{\"spotify\":\"https:\\/\\/open.spotify.com\\/artist\\/6dOAGo4z0syiCjbnlh4VSO\"},\"id\":\"6dOAGo4z0syiCjbnlh4VSO\",\"name\":\"Critical\",\"type\":\"artist\",\"uri\":\"spotify:artist:6dOAGo4z0syiCjbnlh4VSO\"}],\"disc_number\":1,\"duration_ms\":223608,\"explicit\":true,\"external_urls\":{\"spotify\":\"https:\\/\\/open.spotify.com\\/track\\/4PpYi6USHlY7OhOcDASnD3\"},\"id\":\"4PpYi6USHlY7OhOcDASnD3\",\"is_local\":false,\"is_playable\":true,\"name\":\"Davetiye\",\"preview_url\":\"https:\\/\\/p.scdn.co\\/mp3-preview\\/f162cdd28694f1289d689294a35937d51255e333?cid=d8a5ed958d274c2e8ee717e6a4b0971d\",\"track_number\":8,\"type\":\"track\",\"uri\":\"spotify:track:4PpYi6USHlY7OhOcDASnD3\"},{\"artists\":[{\"external_urls\":{\"spotify\":\"https:\\/\\/open.spotify.com\\/artist\\/51DevdOxIJin6DB1FXJpD1\"},\"id\":\"51DevdOxIJin6DB1FXJpD1\",\"name\":\"UZI\",\"type\":\"artist\",\"uri\":\"spotify:artist:51DevdOxIJin6DB1FXJpD1\"},{\"external_urls\":{\"spotify\":\"https:\\/\\/open.spotify.com\\/artist\\/3R27mVPp04i87RNmvysZfY\"},\"id\":\"3R27mVPp04i87RNmvysZfY\",\"name\":\"Stap\",\"type\":\"artist\",\"uri\":\"spotify:artist:3R27mVPp04i87RNmvysZfY\"}],\"disc_number\":1,\"duration_ms\":196682,\"explicit\":true,\"external_urls\":{\"spotify\":\"https:\\/\\/open.spotify.com\\/track\\/5gx3dMxQGJ1JDw5qHarRqp\"},\"id\":\"5gx3dMxQGJ1JDw5qHarRqp\",\"is_local\":false,\"is_playable\":true,\"name\":\"Elhamdulillah\",\"preview_url\":\"https:\\/\\/p.scdn.co\\/mp3-preview\\/4b926e5459e68e85007155518bd13dc42eff3b46?cid=d8a5ed958d274c2e8ee717e6a4b0971d\",\"track_number\":9,\"type\":\"track\",\"uri\":\"spotify:track:5gx3dMxQGJ1JDw5qHarRqp\"},{\"artists\":[{\"external_urls\":{\"spotify\":\"https:\\/\\/open.spotify.com\\/artist\\/51DevdOxIJin6DB1FXJpD1\"},\"id\":\"51DevdOxIJin6DB1FXJpD1\",\"name\":\"UZI\",\"type\":\"artist\",\"uri\":\"spotify:artist:51DevdOxIJin6DB1FXJpD1\"}],\"disc_number\":1,\"duration_ms\":192694,\"explicit\":false,\"external_urls\":{\"spotify\":\"https:\\/\\/open.spotify.com\\/track\\/4PUniKS3Cywu23xjdtoji5\"},\"id\":\"4PUniKS3Cywu23xjdtoji5\",\"is_local\":false,\"is_playable\":true,\"name\":\"Outro\",\"preview_url\":\"https:\\/\\/p.scdn.co\\/mp3-preview\\/daa66ec952bed822128228eb026861b970dc4b8f?cid=d8a5ed958d274c2e8ee717e6a4b0971d\",\"track_number\":10,\"type\":\"track\",\"uri\":\"spotify:track:4PUniKS3Cywu23xjdtoji5\"}],\"limit\":50,\"next\":null,\"offset\":0,\"previous\":null,\"total\":10},\"type\":\"album\",\"uri\":\"spotify:album:3IBcauSj5M2A6lTeffJzdv\"}]}\n"
     ]
    }
   ],
   "source": [
    "conn = http.client.HTTPSConnection(\"spotify23.p.rapidapi.com\")\n",
    "\n",
    "headers = {\n",
    "    'X-RapidAPI-Key': '6e75800c20msh1e3b52b20821a7dp1194edjsn5afc9a2de8d4',\n",
    "    'X-RapidAPI-Host': 'spotify23.p.rapidapi.com'\n",
    "}\n",
    "\n",
    "conn.request(\"GET\", \"/albums/?ids=3IBcauSj5M2A6lTeffJzdv\", headers=headers)\n",
    "\n",
    "res = conn.getresponse()\n",
    "data = res.read()\n",
    "\n",
    "print(data.decode(\"utf-8\"))"
   ]
  },
  {
   "cell_type": "code",
   "execution_count": 7,
   "metadata": {},
   "outputs": [
    {
     "name": "stdout",
     "output_type": "stream",
     "text": [
      "Kan\n"
     ]
    }
   ],
   "source": [
    "dico_data = json.loads(data.decode('utf-8'))\n",
    "album_name = dico_data['albums'][0][\"name\"]\n",
    "print(album_name)"
   ]
  }
 ],
 "metadata": {
  "kernelspec": {
   "display_name": "env_3.11.5",
   "language": "python",
   "name": "python3"
  },
  "language_info": {
   "codemirror_mode": {
    "name": "ipython",
    "version": 3
   },
   "file_extension": ".py",
   "mimetype": "text/x-python",
   "name": "python",
   "nbconvert_exporter": "python",
   "pygments_lexer": "ipython3",
   "version": "3.9.6"
  }
 },
 "nbformat": 4,
 "nbformat_minor": 2
}
