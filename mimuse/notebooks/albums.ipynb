{
 "cells": [
  {
   "cell_type": "code",
   "execution_count": null,
   "metadata": {},
   "outputs": [],
   "source": [
    "import os\n",
    "os.chdir(\"...\")"
   ]
  },
  {
   "cell_type": "code",
   "execution_count": null,
   "metadata": {},
   "outputs": [],
   "source": [
    "import django\n",
    "# from django.conf import settings\n",
    "os.environ.setdefault('DJANGO_SETTINGS_MODULE', 'mimuse.settings')\n",
    "os.environ[\"DJANGO_ALLOW_ASYNC_UNSAFE\"] = \"true\"\n",
    "django.setup()"
   ]
  },
  {
   "cell_type": "code",
   "execution_count": 2,
   "metadata": {},
   "outputs": [],
   "source": [
    "import json\n",
    "import http.client"
   ]
  },
  {
   "cell_type": "code",
   "execution_count": 7,
   "metadata": {},
   "outputs": [
    {
     "name": "stdout",
     "output_type": "stream",
     "text": [
      "{\"albums\":[{\"album_type\":\"album\",\"artists\":[{\"external_urls\":{\"spotify\":\"https:\\/\\/open.spotify.com\\/artist\\/51DevdOxIJin6DB1FXJpD1\"},\"id\":\"51DevdOxIJin6DB1FXJpD1\",\"name\":\"UZI\",\"type\":\"artist\",\"uri\":\"spotify:artist:51DevdOxIJin6DB1FXJpD1\"}],\"copyrights\":[{\"text\":\"2021 M.O.B Entertainment Associated Label Of Govinet\",\"type\":\"C\"},{\"text\":\"2021 M.O.B Entertainment Associated Label Of Govinet\",\"type\":\"P\"}],\"external_ids\":{\"upc\":\"3616553578384\"},\"external_urls\":{\"spotify\":\"https:\\/\\/open.spotify.com\\/album\\/3IBcauSj5M2A6lTeffJzdv\"},\"genres\":[],\"id\":\"3IBcauSj5M2A6lTeffJzdv\",\"images\":[{\"height\":640,\"url\":\"https:\\/\\/i.scdn.co\\/image\\/ab67616d0000b27367c738a703dc979f5c3c52ef\",\"width\":640},{\"height\":300,\"url\":\"https:\\/\\/i.scdn.co\\/image\\/ab67616d00001e0267c738a703dc979f5c3c52ef\",\"width\":300},{\"height\":64,\"url\":\"https:\\/\\/i.scdn.co\\/image\\/ab67616d0000485167c738a703dc979f5c3c52ef\",\"width\":64}],\"is_playable\":true,\"label\":\"M.O.B. Entertainment\",\"name\":\"Kan\",\"popularity\":73,\"release_date\":\"2021-03-19\",\"release_date_precision\":\"day\",\"total_tracks\":10,\"tracks\":{\"items\":[{\"artists\":[{\"external_urls\":{\"spotify\":\"https:\\/\\/open.spotify.com\\/artist\\/51DevdOxIJin6DB1FXJpD1\"},\"id\":\"51DevdOxIJin6DB1FXJpD1\",\"name\":\"UZI\",\"type\":\"artist\",\"uri\":\"spotify:artist:51DevdOxIJin6DB1FXJpD1\"}],\"disc_number\":1,\"duration_ms\":211016,\"explicit\":true,\"external_urls\":{\"spotify\":\"https:\\/\\/open.spotify.com\\/track\\/5jvhTc0g18kwYQNUJM5C4e\"},\"id\":\"5jvhTc0g18kwYQNUJM5C4e\",\"is_local\":false,\"is_playable\":true,\"name\":\"Makina\",\"preview_url\":\"https:\\/\\/p.scdn.co\\/mp3-preview\\/27ab6f738e8bbb6be4225f2e10886883ef760381?cid=d8a5ed958d274c2e8ee717e6a4b0971d\",\"track_number\":1,\"type\":\"track\",\"uri\":\"spotify:track:5jvhTc0g18kwYQNUJM5C4e\"},{\"artists\":[{\"external_urls\":{\"spotify\":\"https:\\/\\/open.spotify.com\\/artist\\/51DevdOxIJin6DB1FXJpD1\"},\"id\":\"51DevdOxIJin6DB1FXJpD1\",\"name\":\"UZI\",\"type\":\"artist\",\"uri\":\"spotify:artist:51DevdOxIJin6DB1FXJpD1\"}],\"disc_number\":1,\"duration_ms\":185458,\"explicit\":true,\"external_urls\":{\"spotify\":\"https:\\/\\/open.spotify.com\\/track\\/72t3CRd8YEFrlc3x0OVaob\"},\"id\":\"72t3CRd8YEFrlc3x0OVaob\",\"is_local\":false,\"is_playable\":true,\"name\":\"Umrumda De\\u011fil\",\"preview_url\":\"https:\\/\\/p.scdn.co\\/mp3-preview\\/ca2df079cdae1386e8b2899951cadf93c335018c?cid=d8a5ed958d274c2e8ee717e6a4b0971d\",\"track_number\":2,\"type\":\"track\",\"uri\":\"spotify:track:72t3CRd8YEFrlc3x0OVaob\"},{\"artists\":[{\"external_urls\":{\"spotify\":\"https:\\/\\/open.spotify.com\\/artist\\/51DevdOxIJin6DB1FXJpD1\"},\"id\":\"51DevdOxIJin6DB1FXJpD1\",\"name\":\"UZI\",\"type\":\"artist\",\"uri\":\"spotify:artist:51DevdOxIJin6DB1FXJpD1\"},{\"external_urls\":{\"spotify\":\"https:\\/\\/open.spotify.com\\/artist\\/3BVPc9s4JXzM6O1InlLxED\"},\"id\":\"3BVPc9s4JXzM6O1InlLxED\",\"name\":\"Mavi\",\"type\":\"artist\",\"uri\":\"spotify:artist:3BVPc9s4JXzM6O1InlLxED\"}],\"disc_number\":1,\"duration_ms\":200000,\"explicit\":false,\"external_urls\":{\"spotify\":\"https:\\/\\/open.spotify.com\\/track\\/5TkQatzJqKafPgHQerZ0dL\"},\"id\":\"5TkQatzJqKafPgHQerZ0dL\",\"is_local\":false,\"is_playable\":true,\"name\":\"Gecenin I\\u00e7ine Gir\",\"preview_url\":\"https:\\/\\/p.scdn.co\\/mp3-preview\\/dad0bc5179800da1fe3d5a7c8ca5d9c8563b786b?cid=d8a5ed958d274c2e8ee717e6a4b0971d\",\"track_number\":3,\"type\":\"track\",\"uri\":\"spotify:track:5TkQatzJqKafPgHQerZ0dL\"},{\"artists\":[{\"external_urls\":{\"spotify\":\"https:\\/\\/open.spotify.com\\/artist\\/51DevdOxIJin6DB1FXJpD1\"},\"id\":\"51DevdOxIJin6DB1FXJpD1\",\"name\":\"UZI\",\"type\":\"artist\",\"uri\":\"spotify:artist:51DevdOxIJin6DB1FXJpD1\"}],\"disc_number\":1,\"duration_ms\":243205,\"explicit\":true,\"external_urls\":{\"spotify\":\"https:\\/\\/open.spotify.com\\/track\\/6IW5ocUH5DRWagxkLTlbUS\"},\"id\":\"6IW5ocUH5DRWagxkLTlbUS\",\"is_local\":false,\"is_playable\":true,\"name\":\"Nedenini Sorma\",\"preview_url\":\"https:\\/\\/p.scdn.co\\/mp3-preview\\/3b60dc4dd3c57960b5e5309f069709034d5e6888?cid=d8a5ed958d274c2e8ee717e6a4b0971d\",\"track_number\":4,\"type\":\"track\",\"uri\":\"spotify:track:6IW5ocUH5DRWagxkLTlbUS\"},{\"artists\":[{\"external_urls\":{\"spotify\":\"https:\\/\\/open.spotify.com\\/artist\\/51DevdOxIJin6DB1FXJpD1\"},\"id\":\"51DevdOxIJin6DB1FXJpD1\",\"name\":\"UZI\",\"type\":\"artist\",\"uri\":\"spotify:artist:51DevdOxIJin6DB1FXJpD1\"},{\"external_urls\":{\"spotify\":\"https:\\/\\/open.spotify.com\\/artist\\/7GaMopkesD4KK9dNbgyO5D\"},\"id\":\"7GaMopkesD4KK9dNbgyO5D\",\"name\":\"Eko Fresh\",\"type\":\"artist\",\"uri\":\"spotify:artist:7GaMopkesD4KK9dNbgyO5D\"}],\"disc_number\":1,\"duration_ms\":152301,\"explicit\":true,\"external_urls\":{\"spotify\":\"https:\\/\\/open.spotify.com\\/track\\/1ijjjMFlM3Pe8t3ykXBzxk\"},\"id\":\"1ijjjMFlM3Pe8t3ykXBzxk\",\"is_local\":false,\"is_playable\":true,\"name\":\"Mahalle\",\"preview_url\":\"https:\\/\\/p.scdn.co\\/mp3-preview\\/355ebff1c469cda6bc280f59cf4546c4a8c0e13a?cid=d8a5ed958d274c2e8ee717e6a4b0971d\",\"track_number\":5,\"type\":\"track\",\"uri\":\"spotify:track:1ijjjMFlM3Pe8t3ykXBzxk\"},{\"artists\":[{\"external_urls\":{\"spotify\":\"https:\\/\\/open.spotify.com\\/artist\\/51DevdOxIJin6DB1FXJpD1\"},\"id\":\"51DevdOxIJin6DB1FXJpD1\",\"name\":\"UZI\",\"type\":\"artist\",\"uri\":\"spotify:artist:51DevdOxIJin6DB1FXJpD1\"}],\"disc_number\":1,\"duration_ms\":171880,\"explicit\":true,\"external_urls\":{\"spotify\":\"https:\\/\\/open.spotify.com\\/track\\/4a1WLOoydq7u011UG9jjC9\"},\"id\":\"4a1WLOoydq7u011UG9jjC9\",\"is_local\":false,\"is_playable\":true,\"name\":\"Krvn\",\"preview_url\":\"https:\\/\\/p.scdn.co\\/mp3-preview\\/c595da41713f76fe3935b4314acda5b4b54a82c2?cid=d8a5ed958d274c2e8ee717e6a4b0971d\",\"track_number\":6,\"type\":\"track\",\"uri\":\"spotify:track:4a1WLOoydq7u011UG9jjC9\"},{\"artists\":[{\"external_urls\":{\"spotify\":\"https:\\/\\/open.spotify.com\\/artist\\/51DevdOxIJin6DB1FXJpD1\"},\"id\":\"51DevdOxIJin6DB1FXJpD1\",\"name\":\"UZI\",\"type\":\"artist\",\"uri\":\"spotify:artist:51DevdOxIJin6DB1FXJpD1\"}],\"disc_number\":1,\"duration_ms\":155010,\"explicit\":true,\"external_urls\":{\"spotify\":\"https:\\/\\/open.spotify.com\\/track\\/4hy4nY2PiYWx8qVXjpky3P\"},\"id\":\"4hy4nY2PiYWx8qVXjpky3P\",\"is_local\":false,\"is_playable\":true,\"name\":\"Vur\",\"preview_url\":\"https:\\/\\/p.scdn.co\\/mp3-preview\\/5b57e9e80e8dc443ad508fa794686e731a3e92ef?cid=d8a5ed958d274c2e8ee717e6a4b0971d\",\"track_number\":7,\"type\":\"track\",\"uri\":\"spotify:track:4hy4nY2PiYWx8qVXjpky3P\"},{\"artists\":[{\"external_urls\":{\"spotify\":\"https:\\/\\/open.spotify.com\\/artist\\/51DevdOxIJin6DB1FXJpD1\"},\"id\":\"51DevdOxIJin6DB1FXJpD1\",\"name\":\"UZI\",\"type\":\"artist\",\"uri\":\"spotify:artist:51DevdOxIJin6DB1FXJpD1\"},{\"external_urls\":{\"spotify\":\"https:\\/\\/open.spotify.com\\/artist\\/6dOAGo4z0syiCjbnlh4VSO\"},\"id\":\"6dOAGo4z0syiCjbnlh4VSO\",\"name\":\"Critical\",\"type\":\"artist\",\"uri\":\"spotify:artist:6dOAGo4z0syiCjbnlh4VSO\"}],\"disc_number\":1,\"duration_ms\":223608,\"explicit\":true,\"external_urls\":{\"spotify\":\"https:\\/\\/open.spotify.com\\/track\\/4PpYi6USHlY7OhOcDASnD3\"},\"id\":\"4PpYi6USHlY7OhOcDASnD3\",\"is_local\":false,\"is_playable\":true,\"name\":\"Davetiye\",\"preview_url\":\"https:\\/\\/p.scdn.co\\/mp3-preview\\/f162cdd28694f1289d689294a35937d51255e333?cid=d8a5ed958d274c2e8ee717e6a4b0971d\",\"track_number\":8,\"type\":\"track\",\"uri\":\"spotify:track:4PpYi6USHlY7OhOcDASnD3\"},{\"artists\":[{\"external_urls\":{\"spotify\":\"https:\\/\\/open.spotify.com\\/artist\\/51DevdOxIJin6DB1FXJpD1\"},\"id\":\"51DevdOxIJin6DB1FXJpD1\",\"name\":\"UZI\",\"type\":\"artist\",\"uri\":\"spotify:artist:51DevdOxIJin6DB1FXJpD1\"},{\"external_urls\":{\"spotify\":\"https:\\/\\/open.spotify.com\\/artist\\/3R27mVPp04i87RNmvysZfY\"},\"id\":\"3R27mVPp04i87RNmvysZfY\",\"name\":\"Stap\",\"type\":\"artist\",\"uri\":\"spotify:artist:3R27mVPp04i87RNmvysZfY\"}],\"disc_number\":1,\"duration_ms\":196682,\"explicit\":true,\"external_urls\":{\"spotify\":\"https:\\/\\/open.spotify.com\\/track\\/5gx3dMxQGJ1JDw5qHarRqp\"},\"id\":\"5gx3dMxQGJ1JDw5qHarRqp\",\"is_local\":false,\"is_playable\":true,\"name\":\"Elhamdulillah\",\"preview_url\":\"https:\\/\\/p.scdn.co\\/mp3-preview\\/4b926e5459e68e85007155518bd13dc42eff3b46?cid=d8a5ed958d274c2e8ee717e6a4b0971d\",\"track_number\":9,\"type\":\"track\",\"uri\":\"spotify:track:5gx3dMxQGJ1JDw5qHarRqp\"},{\"artists\":[{\"external_urls\":{\"spotify\":\"https:\\/\\/open.spotify.com\\/artist\\/51DevdOxIJin6DB1FXJpD1\"},\"id\":\"51DevdOxIJin6DB1FXJpD1\",\"name\":\"UZI\",\"type\":\"artist\",\"uri\":\"spotify:artist:51DevdOxIJin6DB1FXJpD1\"}],\"disc_number\":1,\"duration_ms\":192694,\"explicit\":false,\"external_urls\":{\"spotify\":\"https:\\/\\/open.spotify.com\\/track\\/4PUniKS3Cywu23xjdtoji5\"},\"id\":\"4PUniKS3Cywu23xjdtoji5\",\"is_local\":false,\"is_playable\":true,\"name\":\"Outro\",\"preview_url\":\"https:\\/\\/p.scdn.co\\/mp3-preview\\/daa66ec952bed822128228eb026861b970dc4b8f?cid=d8a5ed958d274c2e8ee717e6a4b0971d\",\"track_number\":10,\"type\":\"track\",\"uri\":\"spotify:track:4PUniKS3Cywu23xjdtoji5\"}],\"limit\":50,\"next\":null,\"offset\":0,\"previous\":null,\"total\":10},\"type\":\"album\",\"uri\":\"spotify:album:3IBcauSj5M2A6lTeffJzdv\"}]}\n"
     ]
    }
   ],
   "source": [
    "conn = http.client.HTTPSConnection(\"spotify23.p.rapidapi.com\")\n",
    "\n",
    "headers = {\n",
    "    'X-RapidAPI-Key': '6e75800c20msh1e3b52b20821a7dp1194edjsn5afc9a2de8d4',\n",
    "    'X-RapidAPI-Host': 'spotify23.p.rapidapi.com'\n",
    "}\n",
    "\n",
    "conn.request(\"GET\", \"/albums/?ids=3IBcauSj5M2A6lTeffJzdv\", headers=headers)\n",
    "\n",
    "res = conn.getresponse()\n",
    "data = res.read()\n",
    "\n",
    "print(data.decode(\"utf-8\"))"
   ]
  },
  {
   "cell_type": "code",
   "execution_count": 14,
   "metadata": {},
   "outputs": [
    {
     "ename": "KeyError",
     "evalue": "0",
     "output_type": "error",
     "traceback": [
      "\u001b[0;31m---------------------------------------------------------------------------\u001b[0m",
      "\u001b[0;31mKeyError\u001b[0m                                  Traceback (most recent call last)",
      "Cell \u001b[0;32mIn[14], line 2\u001b[0m\n\u001b[1;32m      1\u001b[0m dico_data \u001b[38;5;241m=\u001b[39m json\u001b[38;5;241m.\u001b[39mloads(data\u001b[38;5;241m.\u001b[39mdecode(\u001b[38;5;124m'\u001b[39m\u001b[38;5;124mutf-8\u001b[39m\u001b[38;5;124m'\u001b[39m))\n\u001b[0;32m----> 2\u001b[0m album_name \u001b[38;5;241m=\u001b[39m \u001b[43mdico_data\u001b[49m\u001b[43m[\u001b[49m\u001b[38;5;241;43m0\u001b[39;49m\u001b[43m]\u001b[49m[\u001b[38;5;124m\"\u001b[39m\u001b[38;5;124mname\u001b[39m\u001b[38;5;124m\"\u001b[39m]\n\u001b[1;32m      3\u001b[0m \u001b[38;5;28mprint\u001b[39m(album_name)\n",
      "\u001b[0;31mKeyError\u001b[0m: 0"
     ]
    }
   ],
   "source": [
    "dico_data = json.loads(data.decode('utf-8'))\n",
    "album_name = dico_data[0][\"name\"]\n",
    "print(album_name)"
   ]
  }
 ],
 "metadata": {
  "kernelspec": {
   "display_name": "env_3.11.5",
   "language": "python",
   "name": "python3"
  },
  "language_info": {
   "codemirror_mode": {
    "name": "ipython",
    "version": 3
   },
   "file_extension": ".py",
   "mimetype": "text/x-python",
   "name": "python",
   "nbconvert_exporter": "python",
   "pygments_lexer": "ipython3",
   "version": "3.9.6"
  }
 },
 "nbformat": 4,
 "nbformat_minor": 2
}
