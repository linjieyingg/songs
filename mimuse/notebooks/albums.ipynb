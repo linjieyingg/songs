{
 "cells": [
  {
   "cell_type": "markdown",
   "metadata": {},
   "source": [
    "run once to fill database with albums"
   ]
  },
  {
   "cell_type": "code",
   "execution_count": 1,
   "metadata": {},
   "outputs": [],
   "source": [
    "import os\n",
    "os.chdir(\"..\")"
   ]
  },
  {
   "cell_type": "code",
   "execution_count": 2,
   "metadata": {},
   "outputs": [],
   "source": [
    "import django\n",
    "# In case that we need it later\n",
    "from django.conf import settings\n",
    "os.environ.setdefault('DJANGO_SETTINGS_MODULE',\n",
    "'mimuse.settings')\n",
    "# This is for async, in case we will see it later (maybe)\n",
    "os.environ[\"DJANGO_ALLOW_ASYNC_UNSAFE\"] = \"true\"\n",
    "django.setup()\n"
   ]
  },
  {
   "cell_type": "code",
   "execution_count": 4,
   "metadata": {},
   "outputs": [],
   "source": [
    "import json\n",
    "import http.client\n",
    "from songs.models import Song, Album\n",
    "from datetime import datetime"
   ]
  },
  {
   "cell_type": "code",
   "execution_count": 5,
   "metadata": {},
   "outputs": [],
   "source": [
    "conn = http.client.HTTPSConnection(\"spotify23.p.rapidapi.com\")\n",
    "\n",
    "headers = {\n",
    "    'X-RapidAPI-Key': '6e75800c20msh1e3b52b20821a7dp1194edjsn5afc9a2de8d4',\n",
    "    'X-RapidAPI-Host': 'spotify23.p.rapidapi.com'\n",
    "}\n",
    "\n",
    "conn.request(\"GET\", \"/albums/?ids=3IBcauSj5M2A6lTeffJzdv\", headers=headers)\n",
    "\n",
    "res = conn.getresponse()\n",
    "data = data = json.loads(res.read().decode('utf-8'))"
   ]
  },
  {
   "cell_type": "code",
   "execution_count": 6,
   "metadata": {},
   "outputs": [
    {
     "name": "stdout",
     "output_type": "stream",
     "text": [
      "{'albums': [{'album_type': 'album', 'artists': [{'external_urls': {'spotify': 'https://open.spotify.com/artist/51DevdOxIJin6DB1FXJpD1'}, 'id': '51DevdOxIJin6DB1FXJpD1', 'name': 'UZI', 'type': 'artist', 'uri': 'spotify:artist:51DevdOxIJin6DB1FXJpD1'}], 'copyrights': [{'text': '2021 M.O.B Entertainment Associated Label Of Govinet', 'type': 'C'}, {'text': '2021 M.O.B Entertainment Associated Label Of Govinet', 'type': 'P'}], 'external_ids': {'upc': '3616553578384'}, 'external_urls': {'spotify': 'https://open.spotify.com/album/3IBcauSj5M2A6lTeffJzdv'}, 'genres': [], 'id': '3IBcauSj5M2A6lTeffJzdv', 'images': [{'height': 640, 'url': 'https://i.scdn.co/image/ab67616d0000b27367c738a703dc979f5c3c52ef', 'width': 640}, {'height': 300, 'url': 'https://i.scdn.co/image/ab67616d00001e0267c738a703dc979f5c3c52ef', 'width': 300}, {'height': 64, 'url': 'https://i.scdn.co/image/ab67616d0000485167c738a703dc979f5c3c52ef', 'width': 64}], 'is_playable': True, 'label': 'M.O.B. Entertainment', 'name': 'Kan', 'popularity': 73, 'release_date': '2021-03-19', 'release_date_precision': 'day', 'total_tracks': 10, 'tracks': {'items': [{'artists': [{'external_urls': {'spotify': 'https://open.spotify.com/artist/51DevdOxIJin6DB1FXJpD1'}, 'id': '51DevdOxIJin6DB1FXJpD1', 'name': 'UZI', 'type': 'artist', 'uri': 'spotify:artist:51DevdOxIJin6DB1FXJpD1'}], 'disc_number': 1, 'duration_ms': 211016, 'explicit': True, 'external_urls': {'spotify': 'https://open.spotify.com/track/5jvhTc0g18kwYQNUJM5C4e'}, 'id': '5jvhTc0g18kwYQNUJM5C4e', 'is_local': False, 'is_playable': True, 'name': 'Makina', 'preview_url': 'https://p.scdn.co/mp3-preview/27ab6f738e8bbb6be4225f2e10886883ef760381?cid=d8a5ed958d274c2e8ee717e6a4b0971d', 'track_number': 1, 'type': 'track', 'uri': 'spotify:track:5jvhTc0g18kwYQNUJM5C4e'}, {'artists': [{'external_urls': {'spotify': 'https://open.spotify.com/artist/51DevdOxIJin6DB1FXJpD1'}, 'id': '51DevdOxIJin6DB1FXJpD1', 'name': 'UZI', 'type': 'artist', 'uri': 'spotify:artist:51DevdOxIJin6DB1FXJpD1'}], 'disc_number': 1, 'duration_ms': 185458, 'explicit': True, 'external_urls': {'spotify': 'https://open.spotify.com/track/72t3CRd8YEFrlc3x0OVaob'}, 'id': '72t3CRd8YEFrlc3x0OVaob', 'is_local': False, 'is_playable': True, 'name': 'Umrumda Değil', 'preview_url': 'https://p.scdn.co/mp3-preview/ca2df079cdae1386e8b2899951cadf93c335018c?cid=d8a5ed958d274c2e8ee717e6a4b0971d', 'track_number': 2, 'type': 'track', 'uri': 'spotify:track:72t3CRd8YEFrlc3x0OVaob'}, {'artists': [{'external_urls': {'spotify': 'https://open.spotify.com/artist/51DevdOxIJin6DB1FXJpD1'}, 'id': '51DevdOxIJin6DB1FXJpD1', 'name': 'UZI', 'type': 'artist', 'uri': 'spotify:artist:51DevdOxIJin6DB1FXJpD1'}, {'external_urls': {'spotify': 'https://open.spotify.com/artist/3BVPc9s4JXzM6O1InlLxED'}, 'id': '3BVPc9s4JXzM6O1InlLxED', 'name': 'Mavi', 'type': 'artist', 'uri': 'spotify:artist:3BVPc9s4JXzM6O1InlLxED'}], 'disc_number': 1, 'duration_ms': 200000, 'explicit': False, 'external_urls': {'spotify': 'https://open.spotify.com/track/5TkQatzJqKafPgHQerZ0dL'}, 'id': '5TkQatzJqKafPgHQerZ0dL', 'is_local': False, 'is_playable': True, 'name': 'Gecenin Içine Gir', 'preview_url': 'https://p.scdn.co/mp3-preview/dad0bc5179800da1fe3d5a7c8ca5d9c8563b786b?cid=d8a5ed958d274c2e8ee717e6a4b0971d', 'track_number': 3, 'type': 'track', 'uri': 'spotify:track:5TkQatzJqKafPgHQerZ0dL'}, {'artists': [{'external_urls': {'spotify': 'https://open.spotify.com/artist/51DevdOxIJin6DB1FXJpD1'}, 'id': '51DevdOxIJin6DB1FXJpD1', 'name': 'UZI', 'type': 'artist', 'uri': 'spotify:artist:51DevdOxIJin6DB1FXJpD1'}], 'disc_number': 1, 'duration_ms': 243205, 'explicit': True, 'external_urls': {'spotify': 'https://open.spotify.com/track/6IW5ocUH5DRWagxkLTlbUS'}, 'id': '6IW5ocUH5DRWagxkLTlbUS', 'is_local': False, 'is_playable': True, 'name': 'Nedenini Sorma', 'preview_url': 'https://p.scdn.co/mp3-preview/3b60dc4dd3c57960b5e5309f069709034d5e6888?cid=d8a5ed958d274c2e8ee717e6a4b0971d', 'track_number': 4, 'type': 'track', 'uri': 'spotify:track:6IW5ocUH5DRWagxkLTlbUS'}, {'artists': [{'external_urls': {'spotify': 'https://open.spotify.com/artist/51DevdOxIJin6DB1FXJpD1'}, 'id': '51DevdOxIJin6DB1FXJpD1', 'name': 'UZI', 'type': 'artist', 'uri': 'spotify:artist:51DevdOxIJin6DB1FXJpD1'}, {'external_urls': {'spotify': 'https://open.spotify.com/artist/7GaMopkesD4KK9dNbgyO5D'}, 'id': '7GaMopkesD4KK9dNbgyO5D', 'name': 'Eko Fresh', 'type': 'artist', 'uri': 'spotify:artist:7GaMopkesD4KK9dNbgyO5D'}], 'disc_number': 1, 'duration_ms': 152301, 'explicit': True, 'external_urls': {'spotify': 'https://open.spotify.com/track/1ijjjMFlM3Pe8t3ykXBzxk'}, 'id': '1ijjjMFlM3Pe8t3ykXBzxk', 'is_local': False, 'is_playable': True, 'name': 'Mahalle', 'preview_url': 'https://p.scdn.co/mp3-preview/355ebff1c469cda6bc280f59cf4546c4a8c0e13a?cid=d8a5ed958d274c2e8ee717e6a4b0971d', 'track_number': 5, 'type': 'track', 'uri': 'spotify:track:1ijjjMFlM3Pe8t3ykXBzxk'}, {'artists': [{'external_urls': {'spotify': 'https://open.spotify.com/artist/51DevdOxIJin6DB1FXJpD1'}, 'id': '51DevdOxIJin6DB1FXJpD1', 'name': 'UZI', 'type': 'artist', 'uri': 'spotify:artist:51DevdOxIJin6DB1FXJpD1'}], 'disc_number': 1, 'duration_ms': 171880, 'explicit': True, 'external_urls': {'spotify': 'https://open.spotify.com/track/4a1WLOoydq7u011UG9jjC9'}, 'id': '4a1WLOoydq7u011UG9jjC9', 'is_local': False, 'is_playable': True, 'name': 'Krvn', 'preview_url': 'https://p.scdn.co/mp3-preview/c595da41713f76fe3935b4314acda5b4b54a82c2?cid=d8a5ed958d274c2e8ee717e6a4b0971d', 'track_number': 6, 'type': 'track', 'uri': 'spotify:track:4a1WLOoydq7u011UG9jjC9'}, {'artists': [{'external_urls': {'spotify': 'https://open.spotify.com/artist/51DevdOxIJin6DB1FXJpD1'}, 'id': '51DevdOxIJin6DB1FXJpD1', 'name': 'UZI', 'type': 'artist', 'uri': 'spotify:artist:51DevdOxIJin6DB1FXJpD1'}], 'disc_number': 1, 'duration_ms': 155010, 'explicit': True, 'external_urls': {'spotify': 'https://open.spotify.com/track/4hy4nY2PiYWx8qVXjpky3P'}, 'id': '4hy4nY2PiYWx8qVXjpky3P', 'is_local': False, 'is_playable': True, 'name': 'Vur', 'preview_url': 'https://p.scdn.co/mp3-preview/5b57e9e80e8dc443ad508fa794686e731a3e92ef?cid=d8a5ed958d274c2e8ee717e6a4b0971d', 'track_number': 7, 'type': 'track', 'uri': 'spotify:track:4hy4nY2PiYWx8qVXjpky3P'}, {'artists': [{'external_urls': {'spotify': 'https://open.spotify.com/artist/51DevdOxIJin6DB1FXJpD1'}, 'id': '51DevdOxIJin6DB1FXJpD1', 'name': 'UZI', 'type': 'artist', 'uri': 'spotify:artist:51DevdOxIJin6DB1FXJpD1'}, {'external_urls': {'spotify': 'https://open.spotify.com/artist/6dOAGo4z0syiCjbnlh4VSO'}, 'id': '6dOAGo4z0syiCjbnlh4VSO', 'name': 'Critical', 'type': 'artist', 'uri': 'spotify:artist:6dOAGo4z0syiCjbnlh4VSO'}], 'disc_number': 1, 'duration_ms': 223608, 'explicit': True, 'external_urls': {'spotify': 'https://open.spotify.com/track/4PpYi6USHlY7OhOcDASnD3'}, 'id': '4PpYi6USHlY7OhOcDASnD3', 'is_local': False, 'is_playable': True, 'name': 'Davetiye', 'preview_url': 'https://p.scdn.co/mp3-preview/f162cdd28694f1289d689294a35937d51255e333?cid=d8a5ed958d274c2e8ee717e6a4b0971d', 'track_number': 8, 'type': 'track', 'uri': 'spotify:track:4PpYi6USHlY7OhOcDASnD3'}, {'artists': [{'external_urls': {'spotify': 'https://open.spotify.com/artist/51DevdOxIJin6DB1FXJpD1'}, 'id': '51DevdOxIJin6DB1FXJpD1', 'name': 'UZI', 'type': 'artist', 'uri': 'spotify:artist:51DevdOxIJin6DB1FXJpD1'}, {'external_urls': {'spotify': 'https://open.spotify.com/artist/3R27mVPp04i87RNmvysZfY'}, 'id': '3R27mVPp04i87RNmvysZfY', 'name': 'Stap', 'type': 'artist', 'uri': 'spotify:artist:3R27mVPp04i87RNmvysZfY'}], 'disc_number': 1, 'duration_ms': 196682, 'explicit': True, 'external_urls': {'spotify': 'https://open.spotify.com/track/5gx3dMxQGJ1JDw5qHarRqp'}, 'id': '5gx3dMxQGJ1JDw5qHarRqp', 'is_local': False, 'is_playable': True, 'name': 'Elhamdulillah', 'preview_url': 'https://p.scdn.co/mp3-preview/4b926e5459e68e85007155518bd13dc42eff3b46?cid=d8a5ed958d274c2e8ee717e6a4b0971d', 'track_number': 9, 'type': 'track', 'uri': 'spotify:track:5gx3dMxQGJ1JDw5qHarRqp'}, {'artists': [{'external_urls': {'spotify': 'https://open.spotify.com/artist/51DevdOxIJin6DB1FXJpD1'}, 'id': '51DevdOxIJin6DB1FXJpD1', 'name': 'UZI', 'type': 'artist', 'uri': 'spotify:artist:51DevdOxIJin6DB1FXJpD1'}], 'disc_number': 1, 'duration_ms': 192694, 'explicit': False, 'external_urls': {'spotify': 'https://open.spotify.com/track/4PUniKS3Cywu23xjdtoji5'}, 'id': '4PUniKS3Cywu23xjdtoji5', 'is_local': False, 'is_playable': True, 'name': 'Outro', 'preview_url': 'https://p.scdn.co/mp3-preview/daa66ec952bed822128228eb026861b970dc4b8f?cid=d8a5ed958d274c2e8ee717e6a4b0971d', 'track_number': 10, 'type': 'track', 'uri': 'spotify:track:4PUniKS3Cywu23xjdtoji5'}], 'limit': 50, 'next': None, 'offset': 0, 'previous': None, 'total': 10}, 'type': 'album', 'uri': 'spotify:album:3IBcauSj5M2A6lTeffJzdv'}]}\n"
     ]
    }
   ],
   "source": [
    "print(data)"
   ]
  },
  {
   "cell_type": "code",
   "execution_count": 7,
   "metadata": {},
   "outputs": [],
   "source": [
    "\n",
    "# reference = Album(api_id=data['id'], title=data['name'], artist=album['artists'][0]['name'], release_date=album['release_date'], cover_image=album['images'][0]['url'] ))\n",
    "# reference.save()\n",
    "# print(reference)"
   ]
  },
  {
   "cell_type": "code",
   "execution_count": 8,
   "metadata": {},
   "outputs": [
    {
     "ename": "JSONDecodeError",
     "evalue": "Expecting value: line 1 column 1 (char 0)",
     "output_type": "error",
     "traceback": [
      "\u001b[0;31m---------------------------------------------------------------------------\u001b[0m",
      "\u001b[0;31mJSONDecodeError\u001b[0m                           Traceback (most recent call last)",
      "Cell \u001b[0;32mIn[8], line 11\u001b[0m\n\u001b[1;32m      8\u001b[0m conn\u001b[38;5;241m.\u001b[39mrequest(\u001b[38;5;124m\"\u001b[39m\u001b[38;5;124mGET\u001b[39m\u001b[38;5;124m\"\u001b[39m, \u001b[38;5;124m\"\u001b[39m\u001b[38;5;124malbum_metadata/?id=3IBcauSj5M2A6lTeffJzdv\u001b[39m\u001b[38;5;124m\"\u001b[39m, headers\u001b[38;5;241m=\u001b[39mheaders)\n\u001b[1;32m     10\u001b[0m res \u001b[38;5;241m=\u001b[39m conn\u001b[38;5;241m.\u001b[39mgetresponse()\n\u001b[0;32m---> 11\u001b[0m data \u001b[38;5;241m=\u001b[39m \u001b[43mjson\u001b[49m\u001b[38;5;241;43m.\u001b[39;49m\u001b[43mloads\u001b[49m\u001b[43m(\u001b[49m\u001b[43mres\u001b[49m\u001b[38;5;241;43m.\u001b[39;49m\u001b[43mread\u001b[49m\u001b[43m(\u001b[49m\u001b[43m)\u001b[49m\u001b[38;5;241;43m.\u001b[39;49m\u001b[43mdecode\u001b[49m\u001b[43m(\u001b[49m\u001b[38;5;124;43m'\u001b[39;49m\u001b[38;5;124;43mutf-8\u001b[39;49m\u001b[38;5;124;43m'\u001b[39;49m\u001b[43m)\u001b[49m\u001b[43m)\u001b[49m\n",
      "File \u001b[0;32m/Library/Developer/CommandLineTools/Library/Frameworks/Python3.framework/Versions/3.9/lib/python3.9/json/__init__.py:346\u001b[0m, in \u001b[0;36mloads\u001b[0;34m(s, cls, object_hook, parse_float, parse_int, parse_constant, object_pairs_hook, **kw)\u001b[0m\n\u001b[1;32m    341\u001b[0m     s \u001b[38;5;241m=\u001b[39m s\u001b[38;5;241m.\u001b[39mdecode(detect_encoding(s), \u001b[38;5;124m'\u001b[39m\u001b[38;5;124msurrogatepass\u001b[39m\u001b[38;5;124m'\u001b[39m)\n\u001b[1;32m    343\u001b[0m \u001b[38;5;28;01mif\u001b[39;00m (\u001b[38;5;28mcls\u001b[39m \u001b[38;5;129;01mis\u001b[39;00m \u001b[38;5;28;01mNone\u001b[39;00m \u001b[38;5;129;01mand\u001b[39;00m object_hook \u001b[38;5;129;01mis\u001b[39;00m \u001b[38;5;28;01mNone\u001b[39;00m \u001b[38;5;129;01mand\u001b[39;00m\n\u001b[1;32m    344\u001b[0m         parse_int \u001b[38;5;129;01mis\u001b[39;00m \u001b[38;5;28;01mNone\u001b[39;00m \u001b[38;5;129;01mand\u001b[39;00m parse_float \u001b[38;5;129;01mis\u001b[39;00m \u001b[38;5;28;01mNone\u001b[39;00m \u001b[38;5;129;01mand\u001b[39;00m\n\u001b[1;32m    345\u001b[0m         parse_constant \u001b[38;5;129;01mis\u001b[39;00m \u001b[38;5;28;01mNone\u001b[39;00m \u001b[38;5;129;01mand\u001b[39;00m object_pairs_hook \u001b[38;5;129;01mis\u001b[39;00m \u001b[38;5;28;01mNone\u001b[39;00m \u001b[38;5;129;01mand\u001b[39;00m \u001b[38;5;129;01mnot\u001b[39;00m kw):\n\u001b[0;32m--> 346\u001b[0m     \u001b[38;5;28;01mreturn\u001b[39;00m \u001b[43m_default_decoder\u001b[49m\u001b[38;5;241;43m.\u001b[39;49m\u001b[43mdecode\u001b[49m\u001b[43m(\u001b[49m\u001b[43ms\u001b[49m\u001b[43m)\u001b[49m\n\u001b[1;32m    347\u001b[0m \u001b[38;5;28;01mif\u001b[39;00m \u001b[38;5;28mcls\u001b[39m \u001b[38;5;129;01mis\u001b[39;00m \u001b[38;5;28;01mNone\u001b[39;00m:\n\u001b[1;32m    348\u001b[0m     \u001b[38;5;28mcls\u001b[39m \u001b[38;5;241m=\u001b[39m JSONDecoder\n",
      "File \u001b[0;32m/Library/Developer/CommandLineTools/Library/Frameworks/Python3.framework/Versions/3.9/lib/python3.9/json/decoder.py:337\u001b[0m, in \u001b[0;36mJSONDecoder.decode\u001b[0;34m(self, s, _w)\u001b[0m\n\u001b[1;32m    332\u001b[0m \u001b[38;5;28;01mdef\u001b[39;00m \u001b[38;5;21mdecode\u001b[39m(\u001b[38;5;28mself\u001b[39m, s, _w\u001b[38;5;241m=\u001b[39mWHITESPACE\u001b[38;5;241m.\u001b[39mmatch):\n\u001b[1;32m    333\u001b[0m \u001b[38;5;250m    \u001b[39m\u001b[38;5;124;03m\"\"\"Return the Python representation of ``s`` (a ``str`` instance\u001b[39;00m\n\u001b[1;32m    334\u001b[0m \u001b[38;5;124;03m    containing a JSON document).\u001b[39;00m\n\u001b[1;32m    335\u001b[0m \n\u001b[1;32m    336\u001b[0m \u001b[38;5;124;03m    \"\"\"\u001b[39;00m\n\u001b[0;32m--> 337\u001b[0m     obj, end \u001b[38;5;241m=\u001b[39m \u001b[38;5;28;43mself\u001b[39;49m\u001b[38;5;241;43m.\u001b[39;49m\u001b[43mraw_decode\u001b[49m\u001b[43m(\u001b[49m\u001b[43ms\u001b[49m\u001b[43m,\u001b[49m\u001b[43m \u001b[49m\u001b[43midx\u001b[49m\u001b[38;5;241;43m=\u001b[39;49m\u001b[43m_w\u001b[49m\u001b[43m(\u001b[49m\u001b[43ms\u001b[49m\u001b[43m,\u001b[49m\u001b[43m \u001b[49m\u001b[38;5;241;43m0\u001b[39;49m\u001b[43m)\u001b[49m\u001b[38;5;241;43m.\u001b[39;49m\u001b[43mend\u001b[49m\u001b[43m(\u001b[49m\u001b[43m)\u001b[49m\u001b[43m)\u001b[49m\n\u001b[1;32m    338\u001b[0m     end \u001b[38;5;241m=\u001b[39m _w(s, end)\u001b[38;5;241m.\u001b[39mend()\n\u001b[1;32m    339\u001b[0m     \u001b[38;5;28;01mif\u001b[39;00m end \u001b[38;5;241m!=\u001b[39m \u001b[38;5;28mlen\u001b[39m(s):\n",
      "File \u001b[0;32m/Library/Developer/CommandLineTools/Library/Frameworks/Python3.framework/Versions/3.9/lib/python3.9/json/decoder.py:355\u001b[0m, in \u001b[0;36mJSONDecoder.raw_decode\u001b[0;34m(self, s, idx)\u001b[0m\n\u001b[1;32m    353\u001b[0m     obj, end \u001b[38;5;241m=\u001b[39m \u001b[38;5;28mself\u001b[39m\u001b[38;5;241m.\u001b[39mscan_once(s, idx)\n\u001b[1;32m    354\u001b[0m \u001b[38;5;28;01mexcept\u001b[39;00m \u001b[38;5;167;01mStopIteration\u001b[39;00m \u001b[38;5;28;01mas\u001b[39;00m err:\n\u001b[0;32m--> 355\u001b[0m     \u001b[38;5;28;01mraise\u001b[39;00m JSONDecodeError(\u001b[38;5;124m\"\u001b[39m\u001b[38;5;124mExpecting value\u001b[39m\u001b[38;5;124m\"\u001b[39m, s, err\u001b[38;5;241m.\u001b[39mvalue) \u001b[38;5;28;01mfrom\u001b[39;00m \u001b[38;5;28;01mNone\u001b[39;00m\n\u001b[1;32m    356\u001b[0m \u001b[38;5;28;01mreturn\u001b[39;00m obj, end\n",
      "\u001b[0;31mJSONDecodeError\u001b[0m: Expecting value: line 1 column 1 (char 0)"
     ]
    }
   ],
   "source": [
    "conn = http.client.HTTPSConnection(\"spotify23.p.rapidapi.com\")\n",
    "\n",
    "headers = {\n",
    "    'X-RapidAPI-Key': \"2173464f0bmsh087f6a414d24270p11a1f5jsn1ae2008c92ce\",\n",
    "    'X-RapidAPI-Host': \"spotify23.p.rapidapi.com\"\n",
    "}\n",
    "\n",
    "conn.request(\"GET\", \"album_metadata/?id=3IBcauSj5M2A6lTeffJzdv\", headers=headers)\n",
    "\n",
    "res = conn.getresponse()\n",
    "data = json.loads(res.read().decode('utf-8'))\n"
   ]
  },
  {
   "cell_type": "code",
   "execution_count": 9,
   "metadata": {},
   "outputs": [
    {
     "name": "stdout",
     "output_type": "stream",
     "text": [
      "{'albums': [{'album_type': 'album', 'artists': [{'external_urls': {'spotify': 'https://open.spotify.com/artist/51DevdOxIJin6DB1FXJpD1'}, 'id': '51DevdOxIJin6DB1FXJpD1', 'name': 'UZI', 'type': 'artist', 'uri': 'spotify:artist:51DevdOxIJin6DB1FXJpD1'}], 'copyrights': [{'text': '2021 M.O.B Entertainment Associated Label Of Govinet', 'type': 'C'}, {'text': '2021 M.O.B Entertainment Associated Label Of Govinet', 'type': 'P'}], 'external_ids': {'upc': '3616553578384'}, 'external_urls': {'spotify': 'https://open.spotify.com/album/3IBcauSj5M2A6lTeffJzdv'}, 'genres': [], 'id': '3IBcauSj5M2A6lTeffJzdv', 'images': [{'height': 640, 'url': 'https://i.scdn.co/image/ab67616d0000b27367c738a703dc979f5c3c52ef', 'width': 640}, {'height': 300, 'url': 'https://i.scdn.co/image/ab67616d00001e0267c738a703dc979f5c3c52ef', 'width': 300}, {'height': 64, 'url': 'https://i.scdn.co/image/ab67616d0000485167c738a703dc979f5c3c52ef', 'width': 64}], 'is_playable': True, 'label': 'M.O.B. Entertainment', 'name': 'Kan', 'popularity': 73, 'release_date': '2021-03-19', 'release_date_precision': 'day', 'total_tracks': 10, 'tracks': {'items': [{'artists': [{'external_urls': {'spotify': 'https://open.spotify.com/artist/51DevdOxIJin6DB1FXJpD1'}, 'id': '51DevdOxIJin6DB1FXJpD1', 'name': 'UZI', 'type': 'artist', 'uri': 'spotify:artist:51DevdOxIJin6DB1FXJpD1'}], 'disc_number': 1, 'duration_ms': 211016, 'explicit': True, 'external_urls': {'spotify': 'https://open.spotify.com/track/5jvhTc0g18kwYQNUJM5C4e'}, 'id': '5jvhTc0g18kwYQNUJM5C4e', 'is_local': False, 'is_playable': True, 'name': 'Makina', 'preview_url': 'https://p.scdn.co/mp3-preview/27ab6f738e8bbb6be4225f2e10886883ef760381?cid=d8a5ed958d274c2e8ee717e6a4b0971d', 'track_number': 1, 'type': 'track', 'uri': 'spotify:track:5jvhTc0g18kwYQNUJM5C4e'}, {'artists': [{'external_urls': {'spotify': 'https://open.spotify.com/artist/51DevdOxIJin6DB1FXJpD1'}, 'id': '51DevdOxIJin6DB1FXJpD1', 'name': 'UZI', 'type': 'artist', 'uri': 'spotify:artist:51DevdOxIJin6DB1FXJpD1'}], 'disc_number': 1, 'duration_ms': 185458, 'explicit': True, 'external_urls': {'spotify': 'https://open.spotify.com/track/72t3CRd8YEFrlc3x0OVaob'}, 'id': '72t3CRd8YEFrlc3x0OVaob', 'is_local': False, 'is_playable': True, 'name': 'Umrumda Değil', 'preview_url': 'https://p.scdn.co/mp3-preview/ca2df079cdae1386e8b2899951cadf93c335018c?cid=d8a5ed958d274c2e8ee717e6a4b0971d', 'track_number': 2, 'type': 'track', 'uri': 'spotify:track:72t3CRd8YEFrlc3x0OVaob'}, {'artists': [{'external_urls': {'spotify': 'https://open.spotify.com/artist/51DevdOxIJin6DB1FXJpD1'}, 'id': '51DevdOxIJin6DB1FXJpD1', 'name': 'UZI', 'type': 'artist', 'uri': 'spotify:artist:51DevdOxIJin6DB1FXJpD1'}, {'external_urls': {'spotify': 'https://open.spotify.com/artist/3BVPc9s4JXzM6O1InlLxED'}, 'id': '3BVPc9s4JXzM6O1InlLxED', 'name': 'Mavi', 'type': 'artist', 'uri': 'spotify:artist:3BVPc9s4JXzM6O1InlLxED'}], 'disc_number': 1, 'duration_ms': 200000, 'explicit': False, 'external_urls': {'spotify': 'https://open.spotify.com/track/5TkQatzJqKafPgHQerZ0dL'}, 'id': '5TkQatzJqKafPgHQerZ0dL', 'is_local': False, 'is_playable': True, 'name': 'Gecenin Içine Gir', 'preview_url': 'https://p.scdn.co/mp3-preview/dad0bc5179800da1fe3d5a7c8ca5d9c8563b786b?cid=d8a5ed958d274c2e8ee717e6a4b0971d', 'track_number': 3, 'type': 'track', 'uri': 'spotify:track:5TkQatzJqKafPgHQerZ0dL'}, {'artists': [{'external_urls': {'spotify': 'https://open.spotify.com/artist/51DevdOxIJin6DB1FXJpD1'}, 'id': '51DevdOxIJin6DB1FXJpD1', 'name': 'UZI', 'type': 'artist', 'uri': 'spotify:artist:51DevdOxIJin6DB1FXJpD1'}], 'disc_number': 1, 'duration_ms': 243205, 'explicit': True, 'external_urls': {'spotify': 'https://open.spotify.com/track/6IW5ocUH5DRWagxkLTlbUS'}, 'id': '6IW5ocUH5DRWagxkLTlbUS', 'is_local': False, 'is_playable': True, 'name': 'Nedenini Sorma', 'preview_url': 'https://p.scdn.co/mp3-preview/3b60dc4dd3c57960b5e5309f069709034d5e6888?cid=d8a5ed958d274c2e8ee717e6a4b0971d', 'track_number': 4, 'type': 'track', 'uri': 'spotify:track:6IW5ocUH5DRWagxkLTlbUS'}, {'artists': [{'external_urls': {'spotify': 'https://open.spotify.com/artist/51DevdOxIJin6DB1FXJpD1'}, 'id': '51DevdOxIJin6DB1FXJpD1', 'name': 'UZI', 'type': 'artist', 'uri': 'spotify:artist:51DevdOxIJin6DB1FXJpD1'}, {'external_urls': {'spotify': 'https://open.spotify.com/artist/7GaMopkesD4KK9dNbgyO5D'}, 'id': '7GaMopkesD4KK9dNbgyO5D', 'name': 'Eko Fresh', 'type': 'artist', 'uri': 'spotify:artist:7GaMopkesD4KK9dNbgyO5D'}], 'disc_number': 1, 'duration_ms': 152301, 'explicit': True, 'external_urls': {'spotify': 'https://open.spotify.com/track/1ijjjMFlM3Pe8t3ykXBzxk'}, 'id': '1ijjjMFlM3Pe8t3ykXBzxk', 'is_local': False, 'is_playable': True, 'name': 'Mahalle', 'preview_url': 'https://p.scdn.co/mp3-preview/355ebff1c469cda6bc280f59cf4546c4a8c0e13a?cid=d8a5ed958d274c2e8ee717e6a4b0971d', 'track_number': 5, 'type': 'track', 'uri': 'spotify:track:1ijjjMFlM3Pe8t3ykXBzxk'}, {'artists': [{'external_urls': {'spotify': 'https://open.spotify.com/artist/51DevdOxIJin6DB1FXJpD1'}, 'id': '51DevdOxIJin6DB1FXJpD1', 'name': 'UZI', 'type': 'artist', 'uri': 'spotify:artist:51DevdOxIJin6DB1FXJpD1'}], 'disc_number': 1, 'duration_ms': 171880, 'explicit': True, 'external_urls': {'spotify': 'https://open.spotify.com/track/4a1WLOoydq7u011UG9jjC9'}, 'id': '4a1WLOoydq7u011UG9jjC9', 'is_local': False, 'is_playable': True, 'name': 'Krvn', 'preview_url': 'https://p.scdn.co/mp3-preview/c595da41713f76fe3935b4314acda5b4b54a82c2?cid=d8a5ed958d274c2e8ee717e6a4b0971d', 'track_number': 6, 'type': 'track', 'uri': 'spotify:track:4a1WLOoydq7u011UG9jjC9'}, {'artists': [{'external_urls': {'spotify': 'https://open.spotify.com/artist/51DevdOxIJin6DB1FXJpD1'}, 'id': '51DevdOxIJin6DB1FXJpD1', 'name': 'UZI', 'type': 'artist', 'uri': 'spotify:artist:51DevdOxIJin6DB1FXJpD1'}], 'disc_number': 1, 'duration_ms': 155010, 'explicit': True, 'external_urls': {'spotify': 'https://open.spotify.com/track/4hy4nY2PiYWx8qVXjpky3P'}, 'id': '4hy4nY2PiYWx8qVXjpky3P', 'is_local': False, 'is_playable': True, 'name': 'Vur', 'preview_url': 'https://p.scdn.co/mp3-preview/5b57e9e80e8dc443ad508fa794686e731a3e92ef?cid=d8a5ed958d274c2e8ee717e6a4b0971d', 'track_number': 7, 'type': 'track', 'uri': 'spotify:track:4hy4nY2PiYWx8qVXjpky3P'}, {'artists': [{'external_urls': {'spotify': 'https://open.spotify.com/artist/51DevdOxIJin6DB1FXJpD1'}, 'id': '51DevdOxIJin6DB1FXJpD1', 'name': 'UZI', 'type': 'artist', 'uri': 'spotify:artist:51DevdOxIJin6DB1FXJpD1'}, {'external_urls': {'spotify': 'https://open.spotify.com/artist/6dOAGo4z0syiCjbnlh4VSO'}, 'id': '6dOAGo4z0syiCjbnlh4VSO', 'name': 'Critical', 'type': 'artist', 'uri': 'spotify:artist:6dOAGo4z0syiCjbnlh4VSO'}], 'disc_number': 1, 'duration_ms': 223608, 'explicit': True, 'external_urls': {'spotify': 'https://open.spotify.com/track/4PpYi6USHlY7OhOcDASnD3'}, 'id': '4PpYi6USHlY7OhOcDASnD3', 'is_local': False, 'is_playable': True, 'name': 'Davetiye', 'preview_url': 'https://p.scdn.co/mp3-preview/f162cdd28694f1289d689294a35937d51255e333?cid=d8a5ed958d274c2e8ee717e6a4b0971d', 'track_number': 8, 'type': 'track', 'uri': 'spotify:track:4PpYi6USHlY7OhOcDASnD3'}, {'artists': [{'external_urls': {'spotify': 'https://open.spotify.com/artist/51DevdOxIJin6DB1FXJpD1'}, 'id': '51DevdOxIJin6DB1FXJpD1', 'name': 'UZI', 'type': 'artist', 'uri': 'spotify:artist:51DevdOxIJin6DB1FXJpD1'}, {'external_urls': {'spotify': 'https://open.spotify.com/artist/3R27mVPp04i87RNmvysZfY'}, 'id': '3R27mVPp04i87RNmvysZfY', 'name': 'Stap', 'type': 'artist', 'uri': 'spotify:artist:3R27mVPp04i87RNmvysZfY'}], 'disc_number': 1, 'duration_ms': 196682, 'explicit': True, 'external_urls': {'spotify': 'https://open.spotify.com/track/5gx3dMxQGJ1JDw5qHarRqp'}, 'id': '5gx3dMxQGJ1JDw5qHarRqp', 'is_local': False, 'is_playable': True, 'name': 'Elhamdulillah', 'preview_url': 'https://p.scdn.co/mp3-preview/4b926e5459e68e85007155518bd13dc42eff3b46?cid=d8a5ed958d274c2e8ee717e6a4b0971d', 'track_number': 9, 'type': 'track', 'uri': 'spotify:track:5gx3dMxQGJ1JDw5qHarRqp'}, {'artists': [{'external_urls': {'spotify': 'https://open.spotify.com/artist/51DevdOxIJin6DB1FXJpD1'}, 'id': '51DevdOxIJin6DB1FXJpD1', 'name': 'UZI', 'type': 'artist', 'uri': 'spotify:artist:51DevdOxIJin6DB1FXJpD1'}], 'disc_number': 1, 'duration_ms': 192694, 'explicit': False, 'external_urls': {'spotify': 'https://open.spotify.com/track/4PUniKS3Cywu23xjdtoji5'}, 'id': '4PUniKS3Cywu23xjdtoji5', 'is_local': False, 'is_playable': True, 'name': 'Outro', 'preview_url': 'https://p.scdn.co/mp3-preview/daa66ec952bed822128228eb026861b970dc4b8f?cid=d8a5ed958d274c2e8ee717e6a4b0971d', 'track_number': 10, 'type': 'track', 'uri': 'spotify:track:4PUniKS3Cywu23xjdtoji5'}], 'limit': 50, 'next': None, 'offset': 0, 'previous': None, 'total': 10}, 'type': 'album', 'uri': 'spotify:album:3IBcauSj5M2A6lTeffJzdv'}]}\n",
      "[<Album: Album object (None)>]\n"
     ]
    }
   ],
   "source": [
    "print(data)\n",
    "bulk_list = []\n",
    "for album in data['albums']:\n",
    "    if Album.objects.filter(api_id=album['id']).exists():\n",
    "        print(\"id already exists\")\n",
    "    else :   \n",
    "        bulk_list.append(Album(api_id=album['id'], title=album['name'], artist=album['artists'][0]['name'], release_date=album['release_date'], cover_image=album['images'][0]['url'] ))\n",
    "        \n",
    "print(bulk_list)"
   ]
  },
  {
   "cell_type": "code",
   "execution_count": 10,
   "metadata": {},
   "outputs": [],
   "source": [
    "bulk = Album.objects.bulk_create(bulk_list)"
   ]
  },
  {
   "cell_type": "code",
   "execution_count": 11,
   "metadata": {},
   "outputs": [
    {
     "name": "stdout",
     "output_type": "stream",
     "text": [
      "<class 'django.db.models.query.QuerySet'>\n"
     ]
    }
   ],
   "source": [
    "## loop through artist records and get artist descriptions\n",
    "data = Album.objects.all()\n",
    "print(type(data))\n",
    "import http.client\n",
    "conn = http.client.HTTPSConnection(\"spotify23.p.rapidapi.com\")\n",
    "\n",
    "headers = {\n",
    "    'X-RapidAPI-Key': \"82ce6fe0f2msh1b1cfd285dbcc80p1b3260jsn6c515c923b86\",\n",
    "    'X-RapidAPI-Host': \"spotify23.p.rapidapi.com\"\n",
    "}\n"
   ]
  },
  {
   "cell_type": "code",
   "execution_count": 12,
   "metadata": {},
   "outputs": [
    {
     "name": "stdout",
     "output_type": "stream",
     "text": [
      "Album object (1)\n",
      "<class 'str'>\n"
     ]
    }
   ],
   "source": [
    "id = str(data[0])\n",
    "print(id)\n",
    "print(type(id))"
   ]
  },
  {
   "cell_type": "code",
   "execution_count": 13,
   "metadata": {},
   "outputs": [],
   "source": [
    "import html\n",
    "import xml.dom.minidom"
   ]
  },
  {
   "cell_type": "code",
   "execution_count": 14,
   "metadata": {},
   "outputs": [],
   "source": [
    "import bs4 \n",
    "\n",
    "#... your code\n",
    "\n",
    "def remove_tags(message):\n",
    "    parsed = bs4.BeautifulSoup(message, \"html.parser\").text\n",
    "    print(parsed)\n",
    "    return bs4.BeautifulSoup(message, \"html.parser\").text\n",
    "\n",
    "# message_list = []\n",
    "# for item in range(message_length):\n",
    "#     message_list.append(remove_tags(text))\n",
    "\n",
    "# for w in range(message_length):\n",
    "#     writer.writerow([user_id_list[w], message_list[w]])"
   ]
  },
  {
   "cell_type": "code",
   "execution_count": 15,
   "metadata": {},
   "outputs": [],
   "source": [
    "if Album.objects.filter(api_id='test123').exists():\n",
    "        print(\"id already exists\")\n",
    "else :   \n",
    "    new = Album(api_id='test123', title='test', artist='tester', release_date='0001-02-03')\n",
    "    new.save()"
   ]
  },
  {
   "cell_type": "code",
   "execution_count": 16,
   "metadata": {},
   "outputs": [
    {
     "data": {
      "text/plain": [
       "(2, {'songs.Album': 2})"
      ]
     },
     "execution_count": 16,
     "metadata": {},
     "output_type": "execute_result"
    }
   ],
   "source": [
    "Album.objects.all().delete()"
   ]
  }
 ],
 "metadata": {
  "kernelspec": {
   "display_name": "Python 3",
   "language": "python",
   "name": "python3"
  },
  "language_info": {
   "codemirror_mode": {
    "name": "ipython",
    "version": 3
   },
   "file_extension": ".py",
   "mimetype": "text/x-python",
   "name": "python",
   "nbconvert_exporter": "python",
   "pygments_lexer": "ipython3",
   "version": "3.9.6"
  }
 },
 "nbformat": 4,
 "nbformat_minor": 2
}
